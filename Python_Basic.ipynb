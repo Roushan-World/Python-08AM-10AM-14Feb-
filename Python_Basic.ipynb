{
 "cells": [
  {
   "cell_type": "markdown",
   "id": "90d6308f-3772-4f88-ac7e-7eda52566b82",
   "metadata": {},
   "source": [
    "# Python Basic\n"
   ]
  },
  {
   "cell_type": "code",
   "execution_count": 1,
   "id": "b7c745af-448c-4a5c-bbce-5b8b295a8103",
   "metadata": {},
   "outputs": [
    {
     "name": "stdout",
     "output_type": "stream",
     "text": [
      "Pyal Chavan\n"
     ]
    }
   ],
   "source": [
    "print(\"Pyal Chavan\")"
   ]
  },
  {
   "cell_type": "code",
   "execution_count": 3,
   "id": "61caf2ec-c7cd-449b-a8a5-a863cb821c80",
   "metadata": {},
   "outputs": [
    {
     "name": "stdout",
     "output_type": "stream",
     "text": [
      "Hello world\n"
     ]
    }
   ],
   "source": [
    "# print: it display the output\n",
    "\n",
    "print(\"Hello world\")"
   ]
  },
  {
   "cell_type": "code",
   "execution_count": 1,
   "id": "2d1fb3ef-cb63-4205-9d3b-79bdc7963044",
   "metadata": {},
   "outputs": [
    {
     "name": "stdout",
     "output_type": "stream",
     "text": [
      "Hello world\n"
     ]
    }
   ],
   "source": [
    "# Comment \n",
    "\n",
    "\n",
    "print('Hello world')"
   ]
  },
  {
   "cell_type": "code",
   "execution_count": 2,
   "id": "7e65d013-6a2a-4a1e-922d-b416ce6e5354",
   "metadata": {},
   "outputs": [
    {
     "name": "stdout",
     "output_type": "stream",
     "text": [
      "Hello World\n"
     ]
    }
   ],
   "source": [
    "print(\"Hello World\")"
   ]
  },
  {
   "cell_type": "code",
   "execution_count": 3,
   "id": "40764aef-278e-48d3-a0a5-1652d6240589",
   "metadata": {},
   "outputs": [
    {
     "name": "stdout",
     "output_type": "stream",
     "text": [
      "516496165165\n"
     ]
    }
   ],
   "source": [
    "print(\"516496165165\")"
   ]
  },
  {
   "cell_type": "code",
   "execution_count": 4,
   "id": "bac6d468-506b-4a32-83ae-df38a0efb26a",
   "metadata": {},
   "outputs": [],
   "source": [
    "# find the information about your python version\n",
    "\n",
    "import sys"
   ]
  },
  {
   "cell_type": "code",
   "execution_count": 5,
   "id": "e6bf1441-03d9-4c16-8aa6-230e6c8bf417",
   "metadata": {},
   "outputs": [
    {
     "name": "stdout",
     "output_type": "stream",
     "text": [
      "3.11.4 (tags/v3.11.4:d2340ef, Jun  7 2023, 05:45:37) [MSC v.1934 64 bit (AMD64)]\n"
     ]
    }
   ],
   "source": [
    "print(sys.version)"
   ]
  },
  {
   "cell_type": "code",
   "execution_count": 6,
   "id": "1afb732b-aa4c-4d2c-af22-b238626c2de4",
   "metadata": {},
   "outputs": [
    {
     "name": "stdout",
     "output_type": "stream",
     "text": [
      "Payal\n",
      "Chavan\n",
      "Hello world\n"
     ]
    },
    {
     "ename": "NameError",
     "evalue": "name 'frint' is not defined",
     "output_type": "error",
     "traceback": [
      "\u001b[1;31m---------------------------------------------------------------------------\u001b[0m",
      "\u001b[1;31mNameError\u001b[0m                                 Traceback (most recent call last)",
      "Cell \u001b[1;32mIn[6], line 4\u001b[0m\n\u001b[0;32m      2\u001b[0m \u001b[38;5;28mprint\u001b[39m(\u001b[38;5;124m\"\u001b[39m\u001b[38;5;124mChavan\u001b[39m\u001b[38;5;124m\"\u001b[39m)\n\u001b[0;32m      3\u001b[0m \u001b[38;5;28mprint\u001b[39m(\u001b[38;5;124m\"\u001b[39m\u001b[38;5;124mHello world\u001b[39m\u001b[38;5;124m\"\u001b[39m)\n\u001b[1;32m----> 4\u001b[0m \u001b[43mfrint\u001b[49m(\u001b[38;5;124m'\u001b[39m\u001b[38;5;124mHello Python\u001b[39m\u001b[38;5;124m'\u001b[39m)\n\u001b[0;32m      5\u001b[0m \u001b[38;5;28mprint\u001b[39m(\u001b[38;5;124m'\u001b[39m\u001b[38;5;124mC,C++\u001b[39m\u001b[38;5;124m'\u001b[39m)\n",
      "\u001b[1;31mNameError\u001b[0m: name 'frint' is not defined"
     ]
    }
   ],
   "source": [
    "print(\"Payal\")\n",
    "print(\"Chavan\")\n",
    "print(\"Hello world\")\n",
    "frint('Hello Python')\n",
    "print('C,C++')"
   ]
  },
  {
   "cell_type": "code",
   "execution_count": 7,
   "id": "cf70cac9-49cc-48d5-a384-e6e90993ca8c",
   "metadata": {},
   "outputs": [
    {
     "name": "stdout",
     "output_type": "stream",
     "text": [
      "Payal\n",
      "Chavan\n",
      "Hello world\n",
      "Hello Python\n",
      "C,C++\n"
     ]
    }
   ],
   "source": [
    "print(\"Payal\")\n",
    "print(\"Chavan\")\n",
    "print(\"Hello world\")\n",
    "print('Hello Python')\n",
    "print('C,C++')"
   ]
  },
  {
   "cell_type": "markdown",
   "id": "9cd940b8-ce5d-4b17-85f2-b7f2772b57b7",
   "metadata": {},
   "source": [
    "# Python Data Types"
   ]
  },
  {
   "cell_type": "markdown",
   "id": "0905ef74-7f44-468f-b7f9-48b739ef15ed",
   "metadata": {},
   "source": [
    " __1. Number__  \n",
    " * __(i). Integer__\n",
    " * __(ii). Float__\n",
    " * __(iii). Complex Number__\n",
    "\n",
    "__2. Dictionary__\n",
    "\n",
    "__3.Sets__\n",
    " * __(i). Union__\n",
    " * __(ii). Intersection__\n",
    " * __(iii). Difference__\n",
    " * __(iv). Symmetric Difference__\n",
    "\n",
    "__4. Boolean__\n",
    " * __(i). True__\n",
    " * __(ii). False__\n",
    "\n",
    "__5. Sequence__\n",
    " * __(i). List__\n",
    " * __(ii). Tuple__\n",
    " * __(iii). String__"
   ]
  },
  {
   "cell_type": "code",
   "execution_count": 19,
   "id": "914ae445-483f-4fe1-a518-6ec2da7f626c",
   "metadata": {},
   "outputs": [
    {
     "name": "stdout",
     "output_type": "stream",
     "text": [
      "Hello world\n",
      "Hello Pyal\n",
      "6151616\n",
      "!@#$%\n",
      "1658\n",
      "1000\n",
      "100.23\n",
      "123.0\n",
      "True\n",
      "False\n"
     ]
    }
   ],
   "source": [
    "# Python Data types\n",
    "\n",
    "# 1. String\n",
    "\n",
    "print('Hello world')\n",
    "print(\"Hello Pyal\")\n",
    "print(\"6151616\")\n",
    "print('!@#$%')\n",
    "\n",
    "# 2. Number\n",
    "\n",
    "# integer\n",
    "print(1658)\n",
    "print(1000)\n",
    "\n",
    "# Float\n",
    "print(100.23)\n",
    "print(123.00)\n",
    "\n",
    "# 3. Boolen\n",
    "\n",
    "print(True)\n",
    "print(False)"
   ]
  },
  {
   "cell_type": "markdown",
   "id": "10ea3371-ffd6-4a77-920f-d9bb6dc5ffc0",
   "metadata": {},
   "source": [
    "# type() funtion"
   ]
  },
  {
   "cell_type": "code",
   "execution_count": 33,
   "id": "68a9ccb0-39f0-4e03-97d8-3ce4cd2c5fd3",
   "metadata": {},
   "outputs": [
    {
     "name": "stdout",
     "output_type": "stream",
     "text": [
      "Hello world\n",
      "<class 'str'>\n",
      "Hello Payal\n",
      "<class 'str'>\n",
      "6151616\n",
      "<class 'str'>\n",
      "!@#$%\n",
      "<class 'str'>\n",
      "1658\n",
      "<class 'int'>\n",
      "1000\n",
      "<class 'int'>\n",
      "100.23\n",
      "<class 'float'>\n",
      "123.0\n",
      "<class 'float'>\n",
      "True\n",
      "<class 'bool'>\n",
      "False\n",
      "<class 'bool'>\n"
     ]
    }
   ],
   "source": [
    "# Python Data types\n",
    "\n",
    "# 1. String\n",
    "\n",
    "print('Hello world')\n",
    "print(type('Hello world'))\n",
    "print(\"Hello Payal\")\n",
    "print(type(\"Hello Payal\"))\n",
    "print(\"6151616\")\n",
    "print(type(\"6151616\"))\n",
    "print('!@#$%')\n",
    "print(type('!@#$%'))\n",
    "\n",
    "# 2. Number\n",
    "\n",
    "# integer\n",
    "print(1658)\n",
    "print(type(1658))\n",
    "print(1000)\n",
    "print(type(1000))\n",
    "\n",
    "# Float\n",
    "print(100.23)\n",
    "print(type(100.23))\n",
    "print(123.00)\n",
    "print(type(123.00))\n",
    "\n",
    "# 3. Boolen\n",
    "\n",
    "print(True)\n",
    "print(type(True))\n",
    "print(False)\n",
    "print(type(False))"
   ]
  },
  {
   "cell_type": "code",
   "execution_count": 47,
   "id": "de2c5322-b81d-4571-b696-a839951095ba",
   "metadata": {},
   "outputs": [
    {
     "name": "stdout",
     "output_type": "stream",
     "text": [
      "100\n",
      "<class 'int'>\n",
      "100.0\n",
      "<class 'float'>\n",
      "100\n",
      "<class 'str'>\n"
     ]
    }
   ],
   "source": [
    "x=100\n",
    "print(x)\n",
    "print(type(x))\n",
    "# conversion integer into float\n",
    "print(float(x))\n",
    "print(type(float(x)))\n",
    "\n",
    "# conversion data integer into string\n",
    "print(str(x))\n",
    "print(type(str(x)))"
   ]
  },
  {
   "cell_type": "code",
   "execution_count": 48,
   "id": "8177316c-d62c-4146-9cdc-71740a1662d5",
   "metadata": {},
   "outputs": [
    {
     "name": "stdout",
     "output_type": "stream",
     "text": [
      "123.25\n",
      "<class 'float'>\n"
     ]
    }
   ],
   "source": [
    "number1=123.25\n",
    "print(number1)\n",
    "print(type(number1))"
   ]
  },
  {
   "cell_type": "code",
   "execution_count": 49,
   "id": "6f168a8a-8b08-434c-a1f6-29739b2f3a2b",
   "metadata": {},
   "outputs": [],
   "source": [
    "# Boolean\n",
    "\n",
    "bool_1=True   # string=True, # integer=1, # float=1.0"
   ]
  },
  {
   "cell_type": "markdown",
   "id": "3e662a5c-aff1-4a4b-8cbe-682f07d8f6fb",
   "metadata": {},
   "source": [
    "# Expression and Variable"
   ]
  },
  {
   "cell_type": "code",
   "execution_count": 52,
   "id": "6009bae6-1984-4e0b-aad5-549915f5856a",
   "metadata": {},
   "outputs": [
    {
     "data": {
      "text/plain": [
       "6089"
      ]
     },
     "execution_count": 52,
     "metadata": {},
     "output_type": "execute_result"
    }
   ],
   "source": [
    "x=16+79*78-89   # x --> x is a variable and 16+79*78-89 this is expression\n",
    "x"
   ]
  },
  {
   "cell_type": "code",
   "execution_count": 53,
   "id": "b82a2ad9-f9fb-483f-a806-409ffe104719",
   "metadata": {},
   "outputs": [
    {
     "data": {
      "text/plain": [
       "297"
      ]
     },
     "execution_count": 53,
     "metadata": {},
     "output_type": "execute_result"
    }
   ],
   "source": [
    "# Addition\n",
    "\n",
    "x1=45+154+98\n",
    "x1"
   ]
  },
  {
   "cell_type": "code",
   "execution_count": 54,
   "id": "40e9eb1f-0c3d-4a95-bc4e-d35f54c6b9d9",
   "metadata": {},
   "outputs": [
    {
     "data": {
      "text/plain": [
       "-111"
      ]
     },
     "execution_count": 54,
     "metadata": {},
     "output_type": "execute_result"
    }
   ],
   "source": [
    "# Substraction\n",
    "\n",
    "x2=78-89-100\n",
    "x2"
   ]
  },
  {
   "cell_type": "code",
   "execution_count": 55,
   "id": "a3a09ca1-d1d4-49d1-9be0-0548a2dca974",
   "metadata": {},
   "outputs": [
    {
     "data": {
      "text/plain": [
       "336960"
      ]
     },
     "execution_count": 55,
     "metadata": {},
     "output_type": "execute_result"
    }
   ],
   "source": [
    "# Multiplication\n",
    "\n",
    "x3= 45*78*96\n",
    "x3"
   ]
  },
  {
   "cell_type": "code",
   "execution_count": 56,
   "id": "ae2f6b21-a612-44e5-b451-e1195121bb66",
   "metadata": {},
   "outputs": [
    {
     "data": {
      "text/plain": [
       "31.25"
      ]
     },
     "execution_count": 56,
     "metadata": {},
     "output_type": "execute_result"
    }
   ],
   "source": [
    "# division\n",
    "\n",
    "# 1. float division\n",
    "\n",
    "x3=125/4\n",
    "x3"
   ]
  },
  {
   "cell_type": "code",
   "execution_count": 58,
   "id": "2c65ae5e-9989-4e2f-b788-13df63870b42",
   "metadata": {},
   "outputs": [
    {
     "data": {
      "text/plain": [
       "31"
      ]
     },
     "execution_count": 58,
     "metadata": {},
     "output_type": "execute_result"
    }
   ],
   "source": [
    "# Floor value \n",
    "\n",
    "x4=125//4  # int division\n",
    "x4"
   ]
  },
  {
   "cell_type": "code",
   "execution_count": 60,
   "id": "8aed2623-eae8-4a18-97fa-530b1e1c14b3",
   "metadata": {},
   "outputs": [
    {
     "data": {
      "text/plain": [
       "64"
      ]
     },
     "execution_count": 60,
     "metadata": {},
     "output_type": "execute_result"
    }
   ],
   "source": [
    "# Exponent\n",
    "\n",
    "x5=4**3\n",
    "x5"
   ]
  },
  {
   "cell_type": "code",
   "execution_count": 61,
   "id": "b8c3e6f4-7cc3-45e1-9401-361e80a1a281",
   "metadata": {},
   "outputs": [
    {
     "data": {
      "text/plain": [
       "30517578125"
      ]
     },
     "execution_count": 61,
     "metadata": {},
     "output_type": "execute_result"
    }
   ],
   "source": [
    "x6=125**5\n",
    "x6"
   ]
  },
  {
   "cell_type": "code",
   "execution_count": 63,
   "id": "9fccce78-4d51-4c13-b542-b99f721d7c56",
   "metadata": {},
   "outputs": [
    {
     "data": {
      "text/plain": [
       "1"
      ]
     },
     "execution_count": 63,
     "metadata": {},
     "output_type": "execute_result"
    }
   ],
   "source": [
    "# Modulus\n",
    "\n",
    "x7=125%4\n",
    "x7"
   ]
  },
  {
   "cell_type": "code",
   "execution_count": 64,
   "id": "3d0be135-eaee-4da3-a884-5df18626286a",
   "metadata": {},
   "outputs": [
    {
     "data": {
      "text/plain": [
       "1"
      ]
     },
     "execution_count": 64,
     "metadata": {},
     "output_type": "execute_result"
    }
   ],
   "source": [
    "x8= 3%2\n",
    "x8"
   ]
  },
  {
   "cell_type": "code",
   "execution_count": 65,
   "id": "336f7005-e8c0-49db-8a01-4ae536eeb529",
   "metadata": {},
   "outputs": [
    {
     "data": {
      "text/plain": [
       "0"
      ]
     },
     "execution_count": 65,
     "metadata": {},
     "output_type": "execute_result"
    }
   ],
   "source": [
    "x9=10%2\n",
    "x9"
   ]
  },
  {
   "cell_type": "code",
   "execution_count": 69,
   "id": "51b3b550-2145-4f2c-bec4-46e3ecdca0cc",
   "metadata": {},
   "outputs": [
    {
     "name": "stdout",
     "output_type": "stream",
     "text": [
      "Total minutes are there in 60hrs: 3600 Minutes\n"
     ]
    }
   ],
   "source": [
    "# Let's find: How many minutes are there in 60 hrs.\n",
    "\n",
    "one_hour=60  # minutes\n",
    "hours= 60\n",
    "\n",
    "total_minutes=one_hour*hours\n",
    "print('Total minutes are there in 60hrs:',total_minutes,'Minutes')"
   ]
  },
  {
   "cell_type": "code",
   "execution_count": null,
   "id": "8443ef9f-e89c-41d5-9e9f-816c139c0ca2",
   "metadata": {},
   "outputs": [],
   "source": [
    "# Let's find: How many hours are there in 7890 minutes."
   ]
  }
 ],
 "metadata": {
  "kernelspec": {
   "display_name": "Python 3 (ipykernel)",
   "language": "python",
   "name": "python3"
  },
  "language_info": {
   "codemirror_mode": {
    "name": "ipython",
    "version": 3
   },
   "file_extension": ".py",
   "mimetype": "text/x-python",
   "name": "python",
   "nbconvert_exporter": "python",
   "pygments_lexer": "ipython3",
   "version": "3.11.4"
  }
 },
 "nbformat": 4,
 "nbformat_minor": 5
}
