{
 "cells": [
  {
   "cell_type": "markdown",
   "id": "90d6308f-3772-4f88-ac7e-7eda52566b82",
   "metadata": {},
   "source": [
    "# Python Basic\n"
   ]
  },
  {
   "cell_type": "code",
   "execution_count": 1,
   "id": "b7c745af-448c-4a5c-bbce-5b8b295a8103",
   "metadata": {},
   "outputs": [
    {
     "name": "stdout",
     "output_type": "stream",
     "text": [
      "Pyal Chavan\n"
     ]
    }
   ],
   "source": [
    "print(\"Pyal Chavan\")"
   ]
  },
  {
   "cell_type": "code",
   "execution_count": 3,
   "id": "61caf2ec-c7cd-449b-a8a5-a863cb821c80",
   "metadata": {},
   "outputs": [
    {
     "name": "stdout",
     "output_type": "stream",
     "text": [
      "Hello world\n"
     ]
    }
   ],
   "source": [
    "# print: it display the output\n",
    "\n",
    "print(\"Hello world\")"
   ]
  },
  {
   "cell_type": "code",
   "execution_count": 1,
   "id": "2d1fb3ef-cb63-4205-9d3b-79bdc7963044",
   "metadata": {},
   "outputs": [
    {
     "name": "stdout",
     "output_type": "stream",
     "text": [
      "Hello world\n"
     ]
    }
   ],
   "source": [
    "# Comment \n",
    "\n",
    "\n",
    "print('Hello world')"
   ]
  },
  {
   "cell_type": "code",
   "execution_count": 2,
   "id": "7e65d013-6a2a-4a1e-922d-b416ce6e5354",
   "metadata": {},
   "outputs": [
    {
     "name": "stdout",
     "output_type": "stream",
     "text": [
      "Hello World\n"
     ]
    }
   ],
   "source": [
    "print(\"Hello World\")"
   ]
  },
  {
   "cell_type": "code",
   "execution_count": 3,
   "id": "40764aef-278e-48d3-a0a5-1652d6240589",
   "metadata": {},
   "outputs": [
    {
     "name": "stdout",
     "output_type": "stream",
     "text": [
      "516496165165\n"
     ]
    }
   ],
   "source": [
    "print(\"516496165165\")"
   ]
  },
  {
   "cell_type": "code",
   "execution_count": 4,
   "id": "bac6d468-506b-4a32-83ae-df38a0efb26a",
   "metadata": {},
   "outputs": [],
   "source": [
    "# find the information about your python version\n",
    "\n",
    "import sys"
   ]
  },
  {
   "cell_type": "code",
   "execution_count": 5,
   "id": "e6bf1441-03d9-4c16-8aa6-230e6c8bf417",
   "metadata": {},
   "outputs": [
    {
     "name": "stdout",
     "output_type": "stream",
     "text": [
      "3.11.4 (tags/v3.11.4:d2340ef, Jun  7 2023, 05:45:37) [MSC v.1934 64 bit (AMD64)]\n"
     ]
    }
   ],
   "source": [
    "print(sys.version)"
   ]
  },
  {
   "cell_type": "code",
   "execution_count": 6,
   "id": "1afb732b-aa4c-4d2c-af22-b238626c2de4",
   "metadata": {},
   "outputs": [
    {
     "name": "stdout",
     "output_type": "stream",
     "text": [
      "Payal\n",
      "Chavan\n",
      "Hello world\n"
     ]
    },
    {
     "ename": "NameError",
     "evalue": "name 'frint' is not defined",
     "output_type": "error",
     "traceback": [
      "\u001b[1;31m---------------------------------------------------------------------------\u001b[0m",
      "\u001b[1;31mNameError\u001b[0m                                 Traceback (most recent call last)",
      "Cell \u001b[1;32mIn[6], line 4\u001b[0m\n\u001b[0;32m      2\u001b[0m \u001b[38;5;28mprint\u001b[39m(\u001b[38;5;124m\"\u001b[39m\u001b[38;5;124mChavan\u001b[39m\u001b[38;5;124m\"\u001b[39m)\n\u001b[0;32m      3\u001b[0m \u001b[38;5;28mprint\u001b[39m(\u001b[38;5;124m\"\u001b[39m\u001b[38;5;124mHello world\u001b[39m\u001b[38;5;124m\"\u001b[39m)\n\u001b[1;32m----> 4\u001b[0m \u001b[43mfrint\u001b[49m(\u001b[38;5;124m'\u001b[39m\u001b[38;5;124mHello Python\u001b[39m\u001b[38;5;124m'\u001b[39m)\n\u001b[0;32m      5\u001b[0m \u001b[38;5;28mprint\u001b[39m(\u001b[38;5;124m'\u001b[39m\u001b[38;5;124mC,C++\u001b[39m\u001b[38;5;124m'\u001b[39m)\n",
      "\u001b[1;31mNameError\u001b[0m: name 'frint' is not defined"
     ]
    }
   ],
   "source": [
    "print(\"Payal\")\n",
    "print(\"Chavan\")\n",
    "print(\"Hello world\")\n",
    "frint('Hello Python')\n",
    "print('C,C++')"
   ]
  },
  {
   "cell_type": "code",
   "execution_count": 7,
   "id": "cf70cac9-49cc-48d5-a384-e6e90993ca8c",
   "metadata": {},
   "outputs": [
    {
     "name": "stdout",
     "output_type": "stream",
     "text": [
      "Payal\n",
      "Chavan\n",
      "Hello world\n",
      "Hello Python\n",
      "C,C++\n"
     ]
    }
   ],
   "source": [
    "print(\"Payal\")\n",
    "print(\"Chavan\")\n",
    "print(\"Hello world\")\n",
    "print('Hello Python')\n",
    "print('C,C++')"
   ]
  },
  {
   "cell_type": "markdown",
   "id": "9cd940b8-ce5d-4b17-85f2-b7f2772b57b7",
   "metadata": {},
   "source": [
    "# Python Data Types"
   ]
  },
  {
   "cell_type": "markdown",
   "id": "0905ef74-7f44-468f-b7f9-48b739ef15ed",
   "metadata": {},
   "source": [
    " __1. Number__  \n",
    " * __(i). Integer__\n",
    " * __(ii). Float__\n",
    " * __(iii). Complex Number__\n",
    "\n",
    "__2. Dictionary__\n",
    "\n",
    "__3.Sets__\n",
    " * __(i). Union__\n",
    " * __(ii). Intersection__\n",
    " * __(iii). Difference__\n",
    " * __(iv). Symmetric Difference__\n",
    "\n",
    "__4. Boolean__\n",
    " * __(i). True__\n",
    " * __(ii). False__\n",
    "\n",
    "__5. Sequence__\n",
    " * __(i). List__\n",
    " * __(ii). Tuple__\n",
    " * __(iii). String__"
   ]
  },
  {
   "cell_type": "code",
   "execution_count": 19,
   "id": "914ae445-483f-4fe1-a518-6ec2da7f626c",
   "metadata": {},
   "outputs": [
    {
     "name": "stdout",
     "output_type": "stream",
     "text": [
      "Hello world\n",
      "Hello Pyal\n",
      "6151616\n",
      "!@#$%\n",
      "1658\n",
      "1000\n",
      "100.23\n",
      "123.0\n",
      "True\n",
      "False\n"
     ]
    }
   ],
   "source": [
    "# Python Data types\n",
    "\n",
    "# 1. String\n",
    "\n",
    "print('Hello world')\n",
    "print(\"Hello Pyal\")\n",
    "print(\"6151616\")\n",
    "print('!@#$%')\n",
    "\n",
    "# 2. Number\n",
    "\n",
    "# integer\n",
    "print(1658)\n",
    "print(1000)\n",
    "\n",
    "# Float\n",
    "print(100.23)\n",
    "print(123.00)\n",
    "\n",
    "# 3. Boolen\n",
    "\n",
    "print(True)\n",
    "print(False)"
   ]
  },
  {
   "cell_type": "markdown",
   "id": "10ea3371-ffd6-4a77-920f-d9bb6dc5ffc0",
   "metadata": {},
   "source": [
    "# type() funtion"
   ]
  },
  {
   "cell_type": "code",
   "execution_count": 33,
   "id": "68a9ccb0-39f0-4e03-97d8-3ce4cd2c5fd3",
   "metadata": {},
   "outputs": [
    {
     "name": "stdout",
     "output_type": "stream",
     "text": [
      "Hello world\n",
      "<class 'str'>\n",
      "Hello Payal\n",
      "<class 'str'>\n",
      "6151616\n",
      "<class 'str'>\n",
      "!@#$%\n",
      "<class 'str'>\n",
      "1658\n",
      "<class 'int'>\n",
      "1000\n",
      "<class 'int'>\n",
      "100.23\n",
      "<class 'float'>\n",
      "123.0\n",
      "<class 'float'>\n",
      "True\n",
      "<class 'bool'>\n",
      "False\n",
      "<class 'bool'>\n"
     ]
    }
   ],
   "source": [
    "# Python Data types\n",
    "\n",
    "# 1. String\n",
    "\n",
    "print('Hello world')\n",
    "print(type('Hello world'))\n",
    "print(\"Hello Payal\")\n",
    "print(type(\"Hello Payal\"))\n",
    "print(\"6151616\")\n",
    "print(type(\"6151616\"))\n",
    "print('!@#$%')\n",
    "print(type('!@#$%'))\n",
    "\n",
    "# 2. Number\n",
    "\n",
    "# integer\n",
    "print(1658)\n",
    "print(type(1658))\n",
    "print(1000)\n",
    "print(type(1000))\n",
    "\n",
    "# Float\n",
    "print(100.23)\n",
    "print(type(100.23))\n",
    "print(123.00)\n",
    "print(type(123.00))\n",
    "\n",
    "# 3. Boolen\n",
    "\n",
    "print(True)\n",
    "print(type(True))\n",
    "print(False)\n",
    "print(type(False))"
   ]
  },
  {
   "cell_type": "code",
   "execution_count": 47,
   "id": "de2c5322-b81d-4571-b696-a839951095ba",
   "metadata": {},
   "outputs": [
    {
     "name": "stdout",
     "output_type": "stream",
     "text": [
      "100\n",
      "<class 'int'>\n",
      "100.0\n",
      "<class 'float'>\n",
      "100\n",
      "<class 'str'>\n"
     ]
    }
   ],
   "source": [
    "x=100\n",
    "print(x)\n",
    "print(type(x))\n",
    "# conversion integer into float\n",
    "print(float(x))\n",
    "print(type(float(x)))\n",
    "\n",
    "# conversion data integer into string\n",
    "print(str(x))\n",
    "print(type(str(x)))"
   ]
  },
  {
   "cell_type": "code",
   "execution_count": 48,
   "id": "8177316c-d62c-4146-9cdc-71740a1662d5",
   "metadata": {},
   "outputs": [
    {
     "name": "stdout",
     "output_type": "stream",
     "text": [
      "123.25\n",
      "<class 'float'>\n"
     ]
    }
   ],
   "source": [
    "number1=123.25\n",
    "print(number1)\n",
    "print(type(number1))"
   ]
  },
  {
   "cell_type": "code",
   "execution_count": 49,
   "id": "6f168a8a-8b08-434c-a1f6-29739b2f3a2b",
   "metadata": {},
   "outputs": [],
   "source": [
    "# Boolean\n",
    "\n",
    "bool_1=True   # string=True, # integer=1, # float=1.0"
   ]
  },
  {
   "cell_type": "markdown",
   "id": "3e662a5c-aff1-4a4b-8cbe-682f07d8f6fb",
   "metadata": {},
   "source": [
    "# Expression and Variable"
   ]
  },
  {
   "cell_type": "code",
   "execution_count": 52,
   "id": "6009bae6-1984-4e0b-aad5-549915f5856a",
   "metadata": {},
   "outputs": [
    {
     "data": {
      "text/plain": [
       "6089"
      ]
     },
     "execution_count": 52,
     "metadata": {},
     "output_type": "execute_result"
    }
   ],
   "source": [
    "x=16+79*78-89   # x --> x is a variable and 16+79*78-89 this is expression\n",
    "x"
   ]
  },
  {
   "cell_type": "code",
   "execution_count": 53,
   "id": "b82a2ad9-f9fb-483f-a806-409ffe104719",
   "metadata": {},
   "outputs": [
    {
     "data": {
      "text/plain": [
       "297"
      ]
     },
     "execution_count": 53,
     "metadata": {},
     "output_type": "execute_result"
    }
   ],
   "source": [
    "# Addition\n",
    "\n",
    "x1=45+154+98\n",
    "x1"
   ]
  },
  {
   "cell_type": "code",
   "execution_count": 54,
   "id": "40e9eb1f-0c3d-4a95-bc4e-d35f54c6b9d9",
   "metadata": {},
   "outputs": [
    {
     "data": {
      "text/plain": [
       "-111"
      ]
     },
     "execution_count": 54,
     "metadata": {},
     "output_type": "execute_result"
    }
   ],
   "source": [
    "# Substraction\n",
    "\n",
    "x2=78-89-100\n",
    "x2"
   ]
  },
  {
   "cell_type": "code",
   "execution_count": 55,
   "id": "a3a09ca1-d1d4-49d1-9be0-0548a2dca974",
   "metadata": {},
   "outputs": [
    {
     "data": {
      "text/plain": [
       "336960"
      ]
     },
     "execution_count": 55,
     "metadata": {},
     "output_type": "execute_result"
    }
   ],
   "source": [
    "# Multiplication\n",
    "\n",
    "x3= 45*78*96\n",
    "x3"
   ]
  },
  {
   "cell_type": "code",
   "execution_count": 56,
   "id": "ae2f6b21-a612-44e5-b451-e1195121bb66",
   "metadata": {},
   "outputs": [
    {
     "data": {
      "text/plain": [
       "31.25"
      ]
     },
     "execution_count": 56,
     "metadata": {},
     "output_type": "execute_result"
    }
   ],
   "source": [
    "# division\n",
    "\n",
    "# 1. float division\n",
    "\n",
    "x3=125/4\n",
    "x3"
   ]
  },
  {
   "cell_type": "code",
   "execution_count": 58,
   "id": "2c65ae5e-9989-4e2f-b788-13df63870b42",
   "metadata": {},
   "outputs": [
    {
     "data": {
      "text/plain": [
       "31"
      ]
     },
     "execution_count": 58,
     "metadata": {},
     "output_type": "execute_result"
    }
   ],
   "source": [
    "# Floor value \n",
    "\n",
    "x4=125//4  # int division\n",
    "x4"
   ]
  },
  {
   "cell_type": "code",
   "execution_count": 60,
   "id": "8aed2623-eae8-4a18-97fa-530b1e1c14b3",
   "metadata": {},
   "outputs": [
    {
     "data": {
      "text/plain": [
       "64"
      ]
     },
     "execution_count": 60,
     "metadata": {},
     "output_type": "execute_result"
    }
   ],
   "source": [
    "# Exponent\n",
    "\n",
    "x5=4**3\n",
    "x5"
   ]
  },
  {
   "cell_type": "code",
   "execution_count": 61,
   "id": "b8c3e6f4-7cc3-45e1-9401-361e80a1a281",
   "metadata": {},
   "outputs": [
    {
     "data": {
      "text/plain": [
       "30517578125"
      ]
     },
     "execution_count": 61,
     "metadata": {},
     "output_type": "execute_result"
    }
   ],
   "source": [
    "x6=125**5\n",
    "x6"
   ]
  },
  {
   "cell_type": "code",
   "execution_count": 63,
   "id": "9fccce78-4d51-4c13-b542-b99f721d7c56",
   "metadata": {},
   "outputs": [
    {
     "data": {
      "text/plain": [
       "1"
      ]
     },
     "execution_count": 63,
     "metadata": {},
     "output_type": "execute_result"
    }
   ],
   "source": [
    "# Modulus\n",
    "\n",
    "x7=125%4\n",
    "x7"
   ]
  },
  {
   "cell_type": "code",
   "execution_count": 64,
   "id": "3d0be135-eaee-4da3-a884-5df18626286a",
   "metadata": {},
   "outputs": [
    {
     "data": {
      "text/plain": [
       "1"
      ]
     },
     "execution_count": 64,
     "metadata": {},
     "output_type": "execute_result"
    }
   ],
   "source": [
    "x8= 3%2\n",
    "x8"
   ]
  },
  {
   "cell_type": "code",
   "execution_count": 65,
   "id": "336f7005-e8c0-49db-8a01-4ae536eeb529",
   "metadata": {},
   "outputs": [
    {
     "data": {
      "text/plain": [
       "0"
      ]
     },
     "execution_count": 65,
     "metadata": {},
     "output_type": "execute_result"
    }
   ],
   "source": [
    "x9=10%2\n",
    "x9"
   ]
  },
  {
   "cell_type": "code",
   "execution_count": 69,
   "id": "51b3b550-2145-4f2c-bec4-46e3ecdca0cc",
   "metadata": {},
   "outputs": [
    {
     "name": "stdout",
     "output_type": "stream",
     "text": [
      "Total minutes are there in 60hrs: 3600 Minutes\n"
     ]
    }
   ],
   "source": [
    "# Let's find: How many minutes are there in 60 hrs.\n",
    "\n",
    "one_hour=60  # minutes\n",
    "hours= 60\n",
    "\n",
    "total_minutes=one_hour*hours\n",
    "print('Total minutes are there in 60hrs:',total_minutes,'Minutes')"
   ]
  },
  {
   "cell_type": "code",
   "execution_count": 1,
   "id": "8443ef9f-e89c-41d5-9e9f-816c139c0ca2",
   "metadata": {},
   "outputs": [],
   "source": [
    "# Let's find: How many hours are there in 7890 minutes."
   ]
  },
  {
   "cell_type": "markdown",
   "id": "ccc7261a-effc-4f27-87fe-0b48e4930823",
   "metadata": {},
   "source": [
    "# String"
   ]
  },
  {
   "cell_type": "code",
   "execution_count": 2,
   "id": "7b610a05-486f-455e-9412-4d7008a8ef33",
   "metadata": {},
   "outputs": [
    {
     "data": {
      "text/plain": [
       "'Hello world'"
      ]
     },
     "execution_count": 2,
     "metadata": {},
     "output_type": "execute_result"
    }
   ],
   "source": [
    "\"Hello world\""
   ]
  },
  {
   "cell_type": "code",
   "execution_count": 3,
   "id": "65010dc9-24df-4445-9de5-541db7398f23",
   "metadata": {},
   "outputs": [
    {
     "data": {
      "text/plain": [
       "'Hi, Python'"
      ]
     },
     "execution_count": 3,
     "metadata": {},
     "output_type": "execute_result"
    }
   ],
   "source": [
    "'Hi, Python'"
   ]
  },
  {
   "cell_type": "code",
   "execution_count": 4,
   "id": "a98b26cc-4309-4b8c-a57b-76e0878db94e",
   "metadata": {},
   "outputs": [
    {
     "data": {
      "text/plain": [
       "'6516116'"
      ]
     },
     "execution_count": 4,
     "metadata": {},
     "output_type": "execute_result"
    }
   ],
   "source": [
    "'6516116'"
   ]
  },
  {
   "cell_type": "code",
   "execution_count": 7,
   "id": "6ab199c0-2f6b-4105-a751-6d701cb1e462",
   "metadata": {},
   "outputs": [
    {
     "name": "stdout",
     "output_type": "stream",
     "text": [
      "Payal\n",
      "!@#$%^&\n"
     ]
    }
   ],
   "source": [
    "print(\"Payal\")\n",
    "print('!@#$%^&')"
   ]
  },
  {
   "cell_type": "code",
   "execution_count": 8,
   "id": "b7ab9028-85d8-4af4-947d-a0650f82750a",
   "metadata": {},
   "outputs": [
    {
     "name": "stdout",
     "output_type": "stream",
     "text": [
      "Payal\n"
     ]
    }
   ],
   "source": [
    "message=\"Payal\"\n",
    "print(message)"
   ]
  },
  {
   "cell_type": "code",
   "execution_count": 9,
   "id": "2305d274-c76e-437a-b34a-485d219d4ffc",
   "metadata": {},
   "outputs": [
    {
     "data": {
      "text/plain": [
       "str"
      ]
     },
     "execution_count": 9,
     "metadata": {},
     "output_type": "execute_result"
    }
   ],
   "source": [
    "type(message)"
   ]
  },
  {
   "cell_type": "markdown",
   "id": "6bea9788-0468-463d-8829-91be445d22a6",
   "metadata": {},
   "source": [
    "# Indexing of a string"
   ]
  },
  {
   "cell_type": "code",
   "execution_count": 10,
   "id": "54e9a05a-98c1-4502-9805-8819b295e0cc",
   "metadata": {},
   "outputs": [
    {
     "data": {
      "text/plain": [
       "'Payal Chavan'"
      ]
     },
     "execution_count": 10,
     "metadata": {},
     "output_type": "execute_result"
    }
   ],
   "source": [
    "x=\"Payal Chavan\"\n",
    "x"
   ]
  },
  {
   "cell_type": "markdown",
   "id": "a7f86d52-5e2e-452c-9dee-c85772d6ebe5",
   "metadata": {},
   "source": [
    "# Positive indexing"
   ]
  },
  {
   "cell_type": "code",
   "execution_count": 19,
   "id": "b453c177-cf5a-4bc8-9fed-d143eb4bb9f1",
   "metadata": {},
   "outputs": [
    {
     "name": "stdout",
     "output_type": "stream",
     "text": [
      "P\n",
      "a\n",
      "y\n",
      "a\n",
      "l\n",
      " \n",
      "C\n",
      "h\n",
      "a\n",
      "v\n",
      "a\n",
      "n\n"
     ]
    }
   ],
   "source": [
    "print(x[0])\n",
    "print(x[1])\n",
    "print(x[2])\n",
    "print(x[3])\n",
    "print(x[4])\n",
    "print(x[5])\n",
    "print(x[6])\n",
    "print(x[7])\n",
    "print(x[8])\n",
    "print(x[9])\n",
    "print(x[10])\n",
    "print(x[11])\n",
    "#print(x[12])"
   ]
  },
  {
   "cell_type": "markdown",
   "id": "890c35d8-6f53-4649-a87e-5777bba9b14b",
   "metadata": {},
   "source": [
    "# Slicing of string"
   ]
  },
  {
   "cell_type": "code",
   "execution_count": 20,
   "id": "53e5912f-0a8a-465d-a8e8-5605d8ac52d3",
   "metadata": {},
   "outputs": [
    {
     "name": "stdout",
     "output_type": "stream",
     "text": [
      "Payal Chavan\n"
     ]
    }
   ],
   "source": [
    "x= \"Payal Chavan\"\n",
    "print(x)"
   ]
  },
  {
   "cell_type": "code",
   "execution_count": 25,
   "id": "00f0a3cf-54ad-45cd-ad58-6e3568b02edb",
   "metadata": {},
   "outputs": [
    {
     "data": {
      "text/plain": [
       "'Payal'"
      ]
     },
     "execution_count": 25,
     "metadata": {},
     "output_type": "execute_result"
    }
   ],
   "source": [
    "x[0:5]"
   ]
  },
  {
   "cell_type": "markdown",
   "id": "60ccc2da-3b2f-4b98-9381-aa6d3a6e5c5b",
   "metadata": {},
   "source": [
    "# Striding of string"
   ]
  },
  {
   "cell_type": "code",
   "execution_count": 30,
   "id": "6036cf7a-8d16-4909-b274-655c3ae308a8",
   "metadata": {},
   "outputs": [
    {
     "data": {
      "text/plain": [
       "'PylCaa'"
      ]
     },
     "execution_count": 30,
     "metadata": {},
     "output_type": "execute_result"
    }
   ],
   "source": [
    "x=\"Payal Chavan\"\n",
    "\n",
    "x[0::2]"
   ]
  },
  {
   "cell_type": "code",
   "execution_count": 35,
   "id": "3699fcf4-d26c-4553-bcda-7c2ebee23d1d",
   "metadata": {},
   "outputs": [
    {
     "data": {
      "text/plain": [
       "'HlWl'"
      ]
     },
     "execution_count": 35,
     "metadata": {},
     "output_type": "execute_result"
    }
   ],
   "source": [
    "x2=\"Hello World\"\n",
    "x2[::3]"
   ]
  },
  {
   "cell_type": "markdown",
   "id": "9ab4fb8e-788c-4ed3-bdd5-27dbf1289ec2",
   "metadata": {},
   "source": [
    "# Concatenation of string"
   ]
  },
  {
   "cell_type": "code",
   "execution_count": 40,
   "id": "a5ddf351-9606-41ec-828e-fa8b747ea0b6",
   "metadata": {},
   "outputs": [
    {
     "name": "stdout",
     "output_type": "stream",
     "text": [
      "Payal Bharat Chavan\n"
     ]
    }
   ],
   "source": [
    "first_name=\"Payal \"\n",
    "middle_name=\"Bharat \"\n",
    "last_name=\"Chavan\"\n",
    "\n",
    "# Concatenation\n",
    "\n",
    "full_name=first_name+middle_name+last_name\n",
    "print(full_name)\n",
    "\n",
    "#print(first_name,middle_name,last_name)"
   ]
  },
  {
   "cell_type": "code",
   "execution_count": 45,
   "id": "56e31608-78a7-47e3-9272-182d716345e5",
   "metadata": {},
   "outputs": [
    {
     "data": {
      "text/plain": [
       "'Hello payal'"
      ]
     },
     "execution_count": 45,
     "metadata": {},
     "output_type": "execute_result"
    }
   ],
   "source": [
    "'Hello '+'payal'"
   ]
  },
  {
   "cell_type": "markdown",
   "id": "6661c2e2-5b02-407f-8ebc-863667ebb3f7",
   "metadata": {},
   "source": [
    "# Escape sequence"
   ]
  },
  {
   "cell_type": "code",
   "execution_count": 47,
   "id": "177f0ead-d3d2-454e-9d68-e8338af6d9e2",
   "metadata": {},
   "outputs": [
    {
     "data": {
      "text/plain": [
       "'//'"
      ]
     },
     "execution_count": 47,
     "metadata": {},
     "output_type": "execute_result"
    }
   ],
   "source": [
    "'//'"
   ]
  },
  {
   "cell_type": "code",
   "execution_count": 54,
   "id": "340c7deb-886b-4835-bd3a-080a299bf6c5",
   "metadata": {},
   "outputs": [
    {
     "name": "stdout",
     "output_type": "stream",
     "text": [
      "\\\\\\\n"
     ]
    }
   ],
   "source": [
    "print('\\\\\\\\\\\\')"
   ]
  },
  {
   "cell_type": "code",
   "execution_count": 61,
   "id": "fe8d313f-21db-4993-81c2-1d5620afd9ba",
   "metadata": {},
   "outputs": [
    {
     "name": "stdout",
     "output_type": "stream",
     "text": [
      "Hello world!\n",
      "How many people are living on the earth?\n"
     ]
    }
   ],
   "source": [
    "print(\"Hello world!\\nHow many people are living on the earth?\")  # \\n ------------> New line"
   ]
  },
  {
   "cell_type": "code",
   "execution_count": 64,
   "id": "e44b9560-d4b2-4735-ba04-cb00080b34de",
   "metadata": {},
   "outputs": [
    {
     "name": "stdout",
     "output_type": "stream",
     "text": [
      "Hello world!\tHow many people are living on the earth?\n"
     ]
    }
   ],
   "source": [
    "print(\"Hello world!\\tHow many people are living on the earth?\")"
   ]
  },
  {
   "cell_type": "markdown",
   "id": "6c3b5f41-d22f-40f4-9731-c0ebc3e3fbbf",
   "metadata": {},
   "source": [
    "# String method"
   ]
  },
  {
   "cell_type": "code",
   "execution_count": 65,
   "id": "78af11bf-b997-4adb-b84d-1182c7705c8c",
   "metadata": {},
   "outputs": [
    {
     "data": {
      "text/plain": [
       "'HELLO WORLD'"
      ]
     },
     "execution_count": 65,
     "metadata": {},
     "output_type": "execute_result"
    }
   ],
   "source": [
    "x='hello world'\n",
    "\n",
    "# Upper case\n",
    "\n",
    "x.upper()"
   ]
  },
  {
   "cell_type": "code",
   "execution_count": 67,
   "id": "be671a5a-d943-42e0-9082-964e28a05143",
   "metadata": {},
   "outputs": [
    {
     "data": {
      "text/plain": [
       "'hello world'"
      ]
     },
     "execution_count": 67,
     "metadata": {},
     "output_type": "execute_result"
    }
   ],
   "source": [
    "# lower case\n",
    "x.lower()"
   ]
  },
  {
   "cell_type": "code",
   "execution_count": 68,
   "id": "fb4b06f3-0eec-46b3-bab2-e02022ec2915",
   "metadata": {},
   "outputs": [
    {
     "data": {
      "text/plain": [
       "'Hello world'"
      ]
     },
     "execution_count": 68,
     "metadata": {},
     "output_type": "execute_result"
    }
   ],
   "source": [
    "# Capitalize\n",
    "x.capitalize()"
   ]
  },
  {
   "cell_type": "code",
   "execution_count": 69,
   "id": "3b66e121-b7fa-4615-b54b-f3611f2afe5d",
   "metadata": {},
   "outputs": [
    {
     "data": {
      "text/plain": [
       "'Hello World'"
      ]
     },
     "execution_count": 69,
     "metadata": {},
     "output_type": "execute_result"
    }
   ],
   "source": [
    "# Title\n",
    "\n",
    "x.title()"
   ]
  },
  {
   "cell_type": "code",
   "execution_count": 74,
   "id": "52fb43ea-6dfe-47d1-aa2d-97f32bfdfccb",
   "metadata": {},
   "outputs": [
    {
     "data": {
      "text/plain": [
       "1"
      ]
     },
     "execution_count": 74,
     "metadata": {},
     "output_type": "execute_result"
    }
   ],
   "source": [
    "x='Payal Chavan'\n",
    "\n",
    "# count\n",
    "\n",
    "x.count('y')"
   ]
  },
  {
   "cell_type": "code",
   "execution_count": 77,
   "id": "ba710d1d-20a3-4c56-99bf-f1843f809d5e",
   "metadata": {},
   "outputs": [
    {
     "data": {
      "text/plain": [
       "2"
      ]
     },
     "execution_count": 77,
     "metadata": {},
     "output_type": "execute_result"
    }
   ],
   "source": [
    "# index\n",
    "\n",
    "x.index('y')"
   ]
  },
  {
   "cell_type": "code",
   "execution_count": 79,
   "id": "9d7faf77-2882-4c98-bc74-ada15fbcb9bf",
   "metadata": {},
   "outputs": [
    {
     "data": {
      "text/plain": [
       "'14/02/2024'"
      ]
     },
     "execution_count": 79,
     "metadata": {},
     "output_type": "execute_result"
    }
   ],
   "source": [
    "# replace\n",
    "\n",
    "date='14-02-2024'\n",
    "date.replace('-',\"/\")"
   ]
  },
  {
   "cell_type": "code",
   "execution_count": 80,
   "id": "39b9dd9f-26b4-419b-9edf-039e90c22e0a",
   "metadata": {},
   "outputs": [
    {
     "data": {
      "text/plain": [
       "'14-02-2024'"
      ]
     },
     "execution_count": 80,
     "metadata": {},
     "output_type": "execute_result"
    }
   ],
   "source": [
    "date"
   ]
  },
  {
   "cell_type": "code",
   "execution_count": 81,
   "id": "5cdb4ee3-db90-4f3f-b17e-8a7a0e4a2934",
   "metadata": {},
   "outputs": [
    {
     "data": {
      "text/plain": [
       "['14', '02', '2024']"
      ]
     },
     "execution_count": 81,
     "metadata": {},
     "output_type": "execute_result"
    }
   ],
   "source": [
    "date.split('-')"
   ]
  },
  {
   "cell_type": "code",
   "execution_count": 82,
   "id": "5a83649f-30e7-455b-83c3-f68a1464008e",
   "metadata": {},
   "outputs": [
    {
     "data": {
      "text/plain": [
       "'Payal Chavan'"
      ]
     },
     "execution_count": 82,
     "metadata": {},
     "output_type": "execute_result"
    }
   ],
   "source": [
    "x4=\"Payal Chavan\"\n",
    "x4"
   ]
  },
  {
   "cell_type": "code",
   "execution_count": 83,
   "id": "a43b22fb-3e67-4d03-abda-6fe54f54976c",
   "metadata": {},
   "outputs": [
    {
     "data": {
      "text/plain": [
       "['Payal', 'Chavan']"
      ]
     },
     "execution_count": 83,
     "metadata": {},
     "output_type": "execute_result"
    }
   ],
   "source": [
    "x4.split(' ')"
   ]
  },
  {
   "cell_type": "code",
   "execution_count": 85,
   "id": "8dbe9455-d265-47a5-b728-8f6d699d34d3",
   "metadata": {},
   "outputs": [
    {
     "data": {
      "text/plain": [
       "True"
      ]
     },
     "execution_count": 85,
     "metadata": {},
     "output_type": "execute_result"
    }
   ],
   "source": [
    "# isalnum < ----------- alphabet or numuric\n",
    "\n",
    "x4='abc123'\n",
    "x4.isalnum()"
   ]
  },
  {
   "cell_type": "code",
   "execution_count": 86,
   "id": "7632b7ff-1c5c-4fd3-b5f5-a1b4c20a5d2e",
   "metadata": {},
   "outputs": [
    {
     "data": {
      "text/plain": [
       "True"
      ]
     },
     "execution_count": 86,
     "metadata": {},
     "output_type": "execute_result"
    }
   ],
   "source": [
    "x5='abc'\n",
    "x5.isalnum()"
   ]
  },
  {
   "cell_type": "code",
   "execution_count": 87,
   "id": "97d4ec3b-c92c-4158-bed0-4091e6058354",
   "metadata": {},
   "outputs": [
    {
     "data": {
      "text/plain": [
       "True"
      ]
     },
     "execution_count": 87,
     "metadata": {},
     "output_type": "execute_result"
    }
   ],
   "source": [
    "x6='123456'\n",
    "x6.isalnum()"
   ]
  },
  {
   "cell_type": "code",
   "execution_count": 88,
   "id": "aeb84bb3-07f6-4695-94d3-eaa061a79f4e",
   "metadata": {},
   "outputs": [
    {
     "data": {
      "text/plain": [
       "True"
      ]
     },
     "execution_count": 88,
     "metadata": {},
     "output_type": "execute_result"
    }
   ],
   "source": [
    "x6.isnumeric()"
   ]
  },
  {
   "cell_type": "code",
   "execution_count": 89,
   "id": "38f56dea-4d3e-4acc-b45a-aa72baedf6b0",
   "metadata": {},
   "outputs": [
    {
     "data": {
      "text/plain": [
       "False"
      ]
     },
     "execution_count": 89,
     "metadata": {},
     "output_type": "execute_result"
    }
   ],
   "source": [
    "x4.isnumeric()"
   ]
  },
  {
   "cell_type": "code",
   "execution_count": null,
   "id": "ca96f040-f282-40a7-9c5e-66d270eac8d6",
   "metadata": {},
   "outputs": [],
   "source": []
  }
 ],
 "metadata": {
  "kernelspec": {
   "display_name": "Python 3 (ipykernel)",
   "language": "python",
   "name": "python3"
  },
  "language_info": {
   "codemirror_mode": {
    "name": "ipython",
    "version": 3
   },
   "file_extension": ".py",
   "mimetype": "text/x-python",
   "name": "python",
   "nbconvert_exporter": "python",
   "pygments_lexer": "ipython3",
   "version": "3.11.4"
  }
 },
 "nbformat": 4,
 "nbformat_minor": 5
}
