{
 "cells": [
  {
   "cell_type": "markdown",
   "id": "4c5b1dc3-b295-4286-853f-4414b627e43f",
   "metadata": {},
   "source": [
    "# 12. Classes and Objects in Python\n",
    "\n",
    " * __Python is an object-oriented programming language.__\n",
    " * __Unlike procedure-oriented where the main emphasis is on functions, object-oriented programming stresses on objects.__\n",
    " * __An object is simply a collection of data (variables) and methods (functions) that act on those data.__\n",
    " * __Similarly, a class is a blueprint for that object.__\n",
    " * __Like function definitions begain with the def keyword in Python, class definitions begin with a class keyword.__\n",
    " * __The first string inside the class is called docstring and has a brief discription of the class.__\n",
    " * __Althogh not mandatory. this is highly recommended.__\n"
   ]
  },
  {
   "cell_type": "code",
   "execution_count": 26,
   "id": "c0fda9df-1bdf-4d2c-b9e4-590dcfd6b74e",
   "metadata": {},
   "outputs": [
    {
     "name": "stdout",
     "output_type": "stream",
     "text": [
      "Hello\n",
      "14\n"
     ]
    }
   ],
   "source": [
    "class student:    # <------class\n",
    "    school_name='ABC School' # <----------Class Variable\n",
    "\n",
    "    def __init__(self,name,age): # <----Constructor to initialize instance variable\n",
    "        self.name=name\n",
    "        self.age=age\n",
    "    @classmethod\n",
    "    def change_school(cls,name):  # <--------cls refer to the class\n",
    "        print(student.school_name)  # <---------Access the class variable\n",
    "        student.school_name = name  # <---------- Modify class variables\n",
    "\n",
    "x=student('Hello',14)\n",
    "print(x.name)\n",
    "print(x.age)\n",
    "student.change_school=('XYZ School')  # Call class method"
   ]
  },
  {
   "cell_type": "code",
   "execution_count": 24,
   "id": "6ce5edf7-c1c5-431a-8cf2-0abada18c5a8",
   "metadata": {},
   "outputs": [
    {
     "data": {
      "text/plain": [
       "'ABC School'"
      ]
     },
     "execution_count": 24,
     "metadata": {},
     "output_type": "execute_result"
    }
   ],
   "source": [
    "student.school_name"
   ]
  },
  {
   "cell_type": "code",
   "execution_count": 31,
   "id": "a1f36cc5-b641-4f92-a24b-21ee9d7856b9",
   "metadata": {},
   "outputs": [
    {
     "name": "stdout",
     "output_type": "stream",
     "text": [
      "Payal Chavan\n",
      "20\n"
     ]
    }
   ],
   "source": [
    "x=student('Payal Chavan',20)\n",
    "print(x.name)\n",
    "print(x.age)"
   ]
  },
  {
   "cell_type": "code",
   "execution_count": 34,
   "id": "687ba6a4-bbd3-4a09-bebe-9aa93e3fe293",
   "metadata": {},
   "outputs": [
    {
     "name": "stdout",
     "output_type": "stream",
     "text": [
      "Shubham\n",
      "21\n"
     ]
    }
   ],
   "source": [
    "y=student(\"Shubham\",21)\n",
    "print(y.name)\n",
    "print(y.age)\n"
   ]
  },
  {
   "cell_type": "code",
   "execution_count": 38,
   "id": "a1d68bbb-e5a0-4deb-9c24-676effb93870",
   "metadata": {},
   "outputs": [
    {
     "name": "stdin",
     "output_type": "stream",
     "text": [
      "Enter your name: Payal\n",
      "Enter your age: 45\n",
      "Enter your email: payal@122gamil.com\n",
      "Enter your phone: 15616516\n",
      "Enter your address here: pune\n",
      "Enter your college name: xyz\n"
     ]
    },
    {
     "name": "stdout",
     "output_type": "stream",
     "text": [
      "Payal\n",
      "45\n",
      "payal@122gamil.com\n",
      "15616516\n",
      "pune\n",
      "xyz\n"
     ]
    }
   ],
   "source": [
    "# create a class name,age,email,phone,address,college\n",
    "\n",
    "class student:\n",
    "    def __init__(self,name,age,email,phone,address,college):\n",
    "        self.name=name\n",
    "        self.age=age\n",
    "        self.email=email\n",
    "        self.phone=phone\n",
    "        self.address=address\n",
    "        self.college=college\n",
    "\n",
    "name1=input('Enter your name:')\n",
    "age1=int(input('Enter your age:'))\n",
    "email1=input('Enter your email:')\n",
    "phone1=int(input('Enter your phone:'))\n",
    "address1=input('Enter your address here:')\n",
    "college1=input('Enter your college name:')\n",
    "x1=student(name1,age1,email1,phone1,address1,college1)\n",
    "print(x1.name)\n",
    "print(x1.age)\n",
    "print(x1.email)\n",
    "print(x1.phone)\n",
    "print(x1.address)\n",
    "print(x1.college)"
   ]
  },
  {
   "cell_type": "code",
   "execution_count": 4,
   "id": "42df21a5-7a31-4009-ab34-e96cfb6c3159",
   "metadata": {},
   "outputs": [
    {
     "name": "stdout",
     "output_type": "stream",
     "text": [
      "My name is Payal Chavan.\n",
      "I am 25 years old.\n",
      "My email address is xyz@gmail.com.\n",
      "You can contact me on 789456123.\n",
      "My address is pune.\n",
      "I am Graduated from abc College.\n"
     ]
    }
   ],
   "source": [
    "# create a class name,age,email,phone,address,college\n",
    "\n",
    "class student:\n",
    "    def __init__(self,name,age,email,phone,address,college):\n",
    "        self.name=name\n",
    "        self.age=age\n",
    "        self.email=email\n",
    "        self.phone=phone\n",
    "        self.address=address\n",
    "        self.college=college\n",
    "    def details(self):\n",
    "        print(f'My name is {self.name}.')\n",
    "        print(f'I am {self.age} years old.')\n",
    "        print(f'My email address is {self.email}.')\n",
    "        print(f'You can contact me on {self.phone}.')\n",
    "        print(f'My address is {self.address}.')\n",
    "        print(f'I am Graduated from {self.college}.')\n",
    "x=student('Payal Chavan',25,'xyz@gmail.com',789456123,'pune','abc College')\n",
    "x.details()"
   ]
  },
  {
   "cell_type": "code",
   "execution_count": 5,
   "id": "f84ae9e6-6f82-4ad7-883c-81e8d3cdde24",
   "metadata": {},
   "outputs": [
    {
     "data": {
      "text/plain": [
       "'Payal Chavan'"
      ]
     },
     "execution_count": 5,
     "metadata": {},
     "output_type": "execute_result"
    }
   ],
   "source": [
    "x.name"
   ]
  },
  {
   "cell_type": "code",
   "execution_count": 6,
   "id": "2b48298b-bbf0-4c89-a75f-0a1201daf777",
   "metadata": {},
   "outputs": [
    {
     "data": {
      "text/plain": [
       "25"
      ]
     },
     "execution_count": 6,
     "metadata": {},
     "output_type": "execute_result"
    }
   ],
   "source": [
    "x.age"
   ]
  },
  {
   "cell_type": "code",
   "execution_count": 7,
   "id": "3394c010-7019-434d-8f74-c4a97d861cca",
   "metadata": {},
   "outputs": [
    {
     "data": {
      "text/plain": [
       "'xyz@gmail.com'"
      ]
     },
     "execution_count": 7,
     "metadata": {},
     "output_type": "execute_result"
    }
   ],
   "source": [
    "x.email"
   ]
  },
  {
   "cell_type": "code",
   "execution_count": 8,
   "id": "11fa0c7b-2374-4ff6-8cdb-4c2687fb6de6",
   "metadata": {},
   "outputs": [
    {
     "data": {
      "text/plain": [
       "789456123"
      ]
     },
     "execution_count": 8,
     "metadata": {},
     "output_type": "execute_result"
    }
   ],
   "source": [
    "x.phone"
   ]
  },
  {
   "cell_type": "code",
   "execution_count": 9,
   "id": "44c62a27-1b38-40f9-a3e5-b22b6ef0dc3a",
   "metadata": {},
   "outputs": [
    {
     "data": {
      "text/plain": [
       "'pune'"
      ]
     },
     "execution_count": 9,
     "metadata": {},
     "output_type": "execute_result"
    }
   ],
   "source": [
    "x.address"
   ]
  },
  {
   "cell_type": "code",
   "execution_count": 10,
   "id": "be316bbb-abe8-4a77-895c-00419394ecad",
   "metadata": {},
   "outputs": [
    {
     "name": "stdout",
     "output_type": "stream",
     "text": [
      "My name is Rupali Gurav.\n",
      "I am 23 years old.\n",
      "My email address is Rupali@gmail.com.\n",
      "You can contact me on 789456123.\n",
      "My address is Ahmedabad.\n",
      "I am Graduated from Central College.\n"
     ]
    }
   ],
   "source": [
    "x=student('Rupali Gurav',23,'Rupali@gmail.com',789456123,'Ahmedabad','Central College')\n",
    "x.details()"
   ]
  },
  {
   "cell_type": "markdown",
   "id": "7c3b39c7-ff1e-4479-a6cd-0bbf146fc538",
   "metadata": {},
   "source": [
    "# Inheritance\n",
    "\n",
    " * __Single(simple) Inheritance: Parent class and Child class__\n",
    " * __Mutileve Inheritance: Parent/Child-----> Child__\n",
    " * __Multiple Inheritance: Parent class/Parent Class---Child class__\n",
    " * __Hierarchical Inheritance: Parent Class----Child/Child/child__"
   ]
  },
  {
   "cell_type": "code",
   "execution_count": 21,
   "id": "1d72fc17-ef26-4832-94b5-4a9f078f1c9e",
   "metadata": {},
   "outputs": [
    {
     "name": "stdout",
     "output_type": "stream",
     "text": [
      "Amazon is an Online Commerceial Store.\n",
      "Flipkart is an Online Commerceial Store.\n",
      "Olx is an Online Commerceial Store.\n",
      "Amazon is an Online store.\n",
      "Flipkart is an Online store.\n",
      "Olx is an Online store.\n",
      "Amazon is an Buy and Sell product.\n",
      "Flipkart is an Buy and Sell product.\n",
      "Olx is an Buy and Sell product.\n"
     ]
    }
   ],
   "source": [
    "# Single Inheritance:\n",
    "\n",
    "class Brands:\n",
    "    brand_name_1=\"Amazon\"\n",
    "    brand_name_2=\"Flipkart\"\n",
    "    brand_name_3=\"Olx\"\n",
    "\n",
    "class product(Brands):\n",
    "    prod_1=\"Online Commerceial Store.\"\n",
    "    prod_2=\"Online store.\"\n",
    "    prod_3=\"Buy and Sell product.\"\n",
    "\n",
    "obj_1=product()\n",
    "print(obj_1.brand_name_1+' is an '+obj_1.prod_1)\n",
    "print(obj_1.brand_name_2+' is an '+obj_1.prod_1)\n",
    "print(obj_1.brand_name_3+' is an '+obj_1.prod_1)\n",
    "print(obj_1.brand_name_1+' is an '+obj_1.prod_2)\n",
    "print(obj_1.brand_name_2+' is an '+obj_1.prod_2)\n",
    "print(obj_1.brand_name_3+' is an '+obj_1.prod_2)\n",
    "print(obj_1.brand_name_1+' is an '+obj_1.prod_3)\n",
    "print(obj_1.brand_name_2+' is an '+obj_1.prod_3)\n",
    "print(obj_1.brand_name_3+' is an '+obj_1.prod_3)"
   ]
  },
  {
   "cell_type": "code",
   "execution_count": 26,
   "id": "7069a2e5-884d-4337-9537-9dfbafaaba7a",
   "metadata": {},
   "outputs": [
    {
     "name": "stdout",
     "output_type": "stream",
     "text": [
      "Amazon is an Online Commerceial Store. and its popularity is 100\n"
     ]
    }
   ],
   "source": [
    "# Mutileve Inheritance: Parent/Child-----> Child\n",
    "\n",
    "class Brands:\n",
    "    brand_name_1=\"Amazon\"\n",
    "    brand_name_2=\"Flipkart\"\n",
    "    brand_name_3=\"Olx\"\n",
    "\n",
    "class product(Brands):\n",
    "    prod_1=\"Online Commerceial Store.\"\n",
    "    prod_2=\"Online store.\"\n",
    "    prod_3=\"Buy and Sell product.\"\n",
    "\n",
    "class popularity(product):\n",
    "    popularity_1='100'\n",
    "    popularity_2='200'\n",
    "    popularity_3='300'\n",
    "    \n",
    "obj_1=popularity()\n",
    "\n",
    "print(obj_1.brand_name_1+' is an '+obj_1.prod_1+' and its popularity is '+obj_1.popularity_1)    "
   ]
  },
  {
   "cell_type": "code",
   "execution_count": 40,
   "id": "f93b0dce-3198-446a-a1a4-cd1dbfefab4b",
   "metadata": {},
   "outputs": [
    {
     "name": "stdout",
     "output_type": "stream",
     "text": [
      "Amazon is an Online Commerceial Store and its popularity is 100\n",
      "Flipkart is an Online Commerceial Store and its popularity is 100\n",
      "Olx is an Online Commerceial Store and its popularity is 100\n",
      "Amazon is an Online store and its popularity is 100\n",
      "Flipkart is an Online store and its popularity is 100\n",
      "Olx is an Online store and its popularity is 100\n",
      "Amazon is an Buy and Sell product and its popularity is 100\n",
      "Flipkart is an Buy and Sell product and its popularity is 100\n",
      "Olx is an Buy and Sell product and its popularity is 100\n",
      "Amazon is an Online Commerceial Store and its popularity is 200\n",
      "Flipkart is an Online Commerceial Store and its popularity is 200\n",
      "Olx is an Online Commerceial Store and its popularity is 200\n",
      "Amazon is an Online store and its popularity is 200\n",
      "Flipkart is an Online store and its popularity is 200\n",
      "Olx is an Online store and its popularity is 200\n",
      "Amazon is an Buy and Sell product and its popularity is 200\n",
      "Flipkart is an Buy and Sell product and its popularity is 200\n",
      "Olx is an Buy and Sell product and its popularity is 200\n",
      "Amazon is an Online Commerceial Store and its popularity is 300\n",
      "Flipkart is an Online Commerceial Store and its popularity is 300\n",
      "Olx is an Online Commerceial Store and its popularity is 300\n",
      "Amazon is an Online store and its popularity is 300\n",
      "Flipkart is an Online store and its popularity is 300\n",
      "Olx is an Online store and its popularity is 300\n",
      "Amazon is an Buy and Sell product and its popularity is 300\n",
      "Flipkart is an Buy and Sell product and its popularity is 300\n",
      "Olx is an Buy and Sell product and its popularity is 300\n"
     ]
    }
   ],
   "source": [
    "# Multiple Inheritance: Parent class/Parent Class---Child class\n",
    "\n",
    "class Brands:\n",
    "    brand_name_1=\"Amazon\"\n",
    "    brand_name_2=\"Flipkart\"\n",
    "    brand_name_3=\"Olx\"\n",
    "\n",
    "class product:\n",
    "    prod_1=\"Online Commerceial Store\"\n",
    "    prod_2=\"Online store\"\n",
    "    prod_3=\"Buy and Sell product\"\n",
    "\n",
    "class popularity(Brands,product):\n",
    "    popularity_1='100'\n",
    "    popularity_2='200'\n",
    "    popularity_3='300'\n",
    "\n",
    "obj_1=popularity()\n",
    "\n",
    "print(obj_1.brand_name_1+' is an '+obj_1.prod_1+\" and its popularity is \"+obj_1.popularity_1)\n",
    "print(obj_1.brand_name_2+' is an '+obj_1.prod_1+\" and its popularity is \"+obj_1.popularity_1)\n",
    "print(obj_1.brand_name_3+' is an '+obj_1.prod_1+\" and its popularity is \"+obj_1.popularity_1)\n",
    "print(obj_1.brand_name_1+' is an '+obj_1.prod_2+\" and its popularity is \"+obj_1.popularity_1)\n",
    "print(obj_1.brand_name_2+' is an '+obj_1.prod_2+\" and its popularity is \"+obj_1.popularity_1)\n",
    "print(obj_1.brand_name_3+' is an '+obj_1.prod_2+\" and its popularity is \"+obj_1.popularity_1)\n",
    "print(obj_1.brand_name_1+' is an '+obj_1.prod_3+\" and its popularity is \"+obj_1.popularity_1)\n",
    "print(obj_1.brand_name_2+' is an '+obj_1.prod_3+\" and its popularity is \"+obj_1.popularity_1)\n",
    "print(obj_1.brand_name_3+' is an '+obj_1.prod_3+\" and its popularity is \"+obj_1.popularity_1)\n",
    "\n",
    "\n",
    "\n",
    "print(obj_1.brand_name_1+' is an '+obj_1.prod_1+\" and its popularity is \"+obj_1.popularity_2)\n",
    "print(obj_1.brand_name_2+' is an '+obj_1.prod_1+\" and its popularity is \"+obj_1.popularity_2)\n",
    "print(obj_1.brand_name_3+' is an '+obj_1.prod_1+\" and its popularity is \"+obj_1.popularity_2)\n",
    "print(obj_1.brand_name_1+' is an '+obj_1.prod_2+\" and its popularity is \"+obj_1.popularity_2)\n",
    "print(obj_1.brand_name_2+' is an '+obj_1.prod_2+\" and its popularity is \"+obj_1.popularity_2)\n",
    "print(obj_1.brand_name_3+' is an '+obj_1.prod_2+\" and its popularity is \"+obj_1.popularity_2)\n",
    "print(obj_1.brand_name_1+' is an '+obj_1.prod_3+\" and its popularity is \"+obj_1.popularity_2)\n",
    "print(obj_1.brand_name_2+' is an '+obj_1.prod_3+\" and its popularity is \"+obj_1.popularity_2)\n",
    "print(obj_1.brand_name_3+' is an '+obj_1.prod_3+\" and its popularity is \"+obj_1.popularity_2)\n",
    "\n",
    "\n",
    "print(obj_1.brand_name_1+' is an '+obj_1.prod_1+\" and its popularity is \"+obj_1.popularity_3)\n",
    "print(obj_1.brand_name_2+' is an '+obj_1.prod_1+\" and its popularity is \"+obj_1.popularity_3)\n",
    "print(obj_1.brand_name_3+' is an '+obj_1.prod_1+\" and its popularity is \"+obj_1.popularity_3)\n",
    "print(obj_1.brand_name_1+' is an '+obj_1.prod_2+\" and its popularity is \"+obj_1.popularity_3)\n",
    "print(obj_1.brand_name_2+' is an '+obj_1.prod_2+\" and its popularity is \"+obj_1.popularity_3)\n",
    "print(obj_1.brand_name_3+' is an '+obj_1.prod_2+\" and its popularity is \"+obj_1.popularity_3)\n",
    "print(obj_1.brand_name_1+' is an '+obj_1.prod_3+\" and its popularity is \"+obj_1.popularity_3)\n",
    "print(obj_1.brand_name_2+' is an '+obj_1.prod_3+\" and its popularity is \"+obj_1.popularity_3)\n",
    "print(obj_1.brand_name_3+' is an '+obj_1.prod_3+\" and its popularity is \"+obj_1.popularity_3)"
   ]
  },
  {
   "cell_type": "code",
   "execution_count": 45,
   "id": "2f6fc55b-418a-4888-8ef0-a4b89277eef8",
   "metadata": {},
   "outputs": [
    {
     "name": "stdout",
     "output_type": "stream",
     "text": [
      "Amazon is an Online Commerceial Store and its popularity is 100 and its value is Best Value\n"
     ]
    }
   ],
   "source": [
    "# Hierarchical Inheritance: Parent Class----Child/Child/child\n",
    "\n",
    "\n",
    "class Brands:\n",
    "    brand_name_1=\"Amazon\"\n",
    "    brand_name_2=\"Flipkart\"\n",
    "    brand_name_3=\"Olx\"\n",
    "\n",
    "class product(Brands):\n",
    "    prod_1=\"Online Commerceial Store\"\n",
    "    prod_2=\"Online store\"\n",
    "    prod_3=\"Buy and Sell product\"\n",
    "\n",
    "class popularity(Brands):\n",
    "    popularity_1='100'\n",
    "    popularity_2='200'\n",
    "    popularity_3='300'\n",
    "\n",
    "class value(Brands):\n",
    "    prod_value_1=\"Best Value\"\n",
    "    prod_value_2=\"Better value\"\n",
    "    prod_value_3=\"Good Value.\"\n",
    "\n",
    "obj_1=product()\n",
    "obj_2=popularity()\n",
    "obj_3=value()\n",
    "\n",
    "print(obj_1.brand_name_1+' is an '+obj_1.prod_1+' and its popularity is '+obj_2.popularity_1+' and its value is '+obj_3.prod_value_1)\n"
   ]
  },
  {
   "cell_type": "markdown",
   "id": "5ae25d0e-4626-49f2-bb61-5638f07a09c8",
   "metadata": {},
   "source": [
    "# 4 Methods of oops concept:\n",
    "\n",
    " * __1.Inheritance__\n",
    " * __2.Polymorphism__\n",
    " * __3.Encapsulation__\n",
    " * __4.Abstraction__\n",
    "\n",
    " * __1.Inheritance (Mom and Daughter): Some property of mom inherits by her daughter.__\n",
    " * __2.Polymorphism: Ex: In School behave like a student, In home behave like a son or daughter, In Bus behave like a passenger, In shop behave like a Customer, In hospital behave like a patients.__\n",
    " * __3.Encapulation: School bag can keep book,pencil,pen, sharpner,eraser etc.__\n",
    " * __4.Abstraction: ATM, check balance, deposite cash, withdraw cash, print statement.__\n",
    " * __Object: Instance of class.__\n",
    " * __class: Blueprint of object.__\n",
    " * __encapsulation: protection our data.__\n",
    " * __polymorphism: Different behaviour of different instance.__\n",
    " * __abstractiion: Hiding our irrelevant data.__ "
   ]
  },
  {
   "cell_type": "markdown",
   "id": "96024547-fd08-4209-a79d-ebd46fff3a2c",
   "metadata": {},
   "source": [
    "# Inheritance"
   ]
  },
  {
   "cell_type": "code",
   "execution_count": 58,
   "id": "530b9d52-f5a3-4d93-b5f7-92b88781b7d3",
   "metadata": {},
   "outputs": [
    {
     "name": "stdout",
     "output_type": "stream",
     "text": [
      "Buddy Say Woof! It's color is White\n",
      "Kitty Say Meow!\n"
     ]
    }
   ],
   "source": [
    "# Inheritance\n",
    "\n",
    "class Animal:\n",
    "    def __init__(self,name):\n",
    "        self.name=name\n",
    "    def speak(self):\n",
    "        pass\n",
    "    def color(self):\n",
    "        pass\n",
    "\n",
    "class Dog(Animal):\n",
    "    def speak(self):\n",
    "        return \"Woof!\"\n",
    "    def color(self):\n",
    "        return \"White\"\n",
    "\n",
    "class Cat(Animal):\n",
    "    def speak(self):\n",
    "        return \"Meow!\"\n",
    "\n",
    "dog=Dog('Buddy')\n",
    "cat=Cat('Kitty')\n",
    "print(dog.name+' Say '+ dog.speak()+\" It's color is \"+dog.color())\n",
    "print(cat.name+' Say '+ cat.speak())"
   ]
  },
  {
   "cell_type": "markdown",
   "id": "f7787291-50fa-4808-9025-ea6c8ea425e6",
   "metadata": {},
   "source": [
    "# Encapsulation"
   ]
  },
  {
   "cell_type": "code",
   "execution_count": 59,
   "id": "003ab7bb-e131-4280-9153-47bbe7438414",
   "metadata": {},
   "outputs": [
    {
     "ename": "AttributeError",
     "evalue": "'Encapsulation' object has no attribute '__private__variable'",
     "output_type": "error",
     "traceback": [
      "\u001b[1;31m---------------------------------------------------------------------------\u001b[0m",
      "\u001b[1;31mAttributeError\u001b[0m                            Traceback (most recent call last)",
      "Cell \u001b[1;32mIn[59], line 17\u001b[0m\n\u001b[0;32m     14\u001b[0m obj\u001b[38;5;241m=\u001b[39mEncapsulation(\u001b[38;5;241m10\u001b[39m)\n\u001b[0;32m     16\u001b[0m \u001b[38;5;66;03m# Trying to access private variable directly will result in an error\u001b[39;00m\n\u001b[1;32m---> 17\u001b[0m \u001b[38;5;28mprint\u001b[39m(\u001b[43mobj\u001b[49m\u001b[38;5;241;43m.\u001b[39;49m\u001b[43m__private__variable\u001b[49m)\n",
      "\u001b[1;31mAttributeError\u001b[0m: 'Encapsulation' object has no attribute '__private__variable'"
     ]
    }
   ],
   "source": [
    "# Encapsultion\n",
    "\n",
    "class Encapsulation:\n",
    "    def __init__(self,value):\n",
    "        self.__private__variable=value\n",
    "\n",
    "    def get__private__variable(self):\n",
    "        return self.__private__variable\n",
    "    def set_private__variable(self,new_value):\n",
    "        #if self.__private__variable==user1_value:\n",
    "            \n",
    "        self.__private__variable=new_value\n",
    "# Create an object of Encapsultaion\n",
    "obj=Encapsulation(10)\n",
    "\n",
    "# Trying to access private variable directly will result in an error\n",
    "print(obj.__private__variable)"
   ]
  },
  {
   "cell_type": "code",
   "execution_count": 16,
   "id": "242bc344-391a-45a5-8ec6-079666bdc27a",
   "metadata": {},
   "outputs": [
    {
     "name": "stdout",
     "output_type": "stream",
     "text": [
      "10\n"
     ]
    }
   ],
   "source": [
    "print(obj.get__private__variable())"
   ]
  },
  {
   "cell_type": "code",
   "execution_count": 20,
   "id": "97368ed6-688b-4838-8732-e89200567d5c",
   "metadata": {},
   "outputs": [
    {
     "name": "stdout",
     "output_type": "stream",
     "text": [
      "None\n"
     ]
    }
   ],
   "source": [
    "# Modifying private varibale using setter method.\n",
    "print(obj.set_private__variable(20))"
   ]
  },
  {
   "cell_type": "code",
   "execution_count": 21,
   "id": "99ce9b85-c78f-4b7f-bb9a-b00b0ce6db69",
   "metadata": {},
   "outputs": [
    {
     "data": {
      "text/plain": [
       "20"
      ]
     },
     "execution_count": 21,
     "metadata": {},
     "output_type": "execute_result"
    }
   ],
   "source": [
    "# Calling new object.\n",
    "obj.get__private__variable()"
   ]
  },
  {
   "cell_type": "markdown",
   "id": "bd78c878-5aac-4a46-b58c-562ad92573d1",
   "metadata": {},
   "source": [
    "# Polymorphism"
   ]
  },
  {
   "cell_type": "code",
   "execution_count": 60,
   "id": "77b3aca5-919c-4bcd-a4da-4a410d268ac3",
   "metadata": {},
   "outputs": [
    {
     "name": "stdout",
     "output_type": "stream",
     "text": [
      "Dog Barks\n",
      "Cat Meows\n"
     ]
    }
   ],
   "source": [
    "# Polymorphism\n",
    "class Animal:\n",
    "    def speak(self):\n",
    "        print('Animal Speak')\n",
    "class Dog(Animal):\n",
    "    def speak(self):\n",
    "        print('Dog Barks')\n",
    "\n",
    "class Cat(Animal):\n",
    "    def speak(self):\n",
    "        print('Cat Meows')\n",
    "# objects.\n",
    "animals=[Dog(),Cat()]\n",
    "\n",
    "for i in animals:\n",
    "    i.speak()"
   ]
  },
  {
   "cell_type": "code",
   "execution_count": null,
   "id": "bfeb9d6c-6c3c-4040-a712-88436639df78",
   "metadata": {},
   "outputs": [],
   "source": []
  },
  {
   "cell_type": "markdown",
   "id": "8705118e-9021-4a09-b046-ab6272289457",
   "metadata": {},
   "source": [
    "# Abstraction"
   ]
  },
  {
   "cell_type": "code",
   "execution_count": 54,
   "id": "2ed8b15d-fc85-4b62-a326-4f4ecf4f96d9",
   "metadata": {},
   "outputs": [
    {
     "name": "stdout",
     "output_type": "stream",
     "text": [
      "Area of circle: 78.5\n",
      "Area of rectangle: 24\n"
     ]
    }
   ],
   "source": [
    "from abc import ABC, abstractmethod\n",
    "\n",
    "# Abstract class\n",
    "class Shape(ABC):\n",
    "    @abstractmethod\n",
    "    def area(self):\n",
    "        pass\n",
    "\n",
    "# Concrete classes\n",
    "class Circle(Shape):\n",
    "    def __init__(self, radius):\n",
    "        self.radius = radius\n",
    "\n",
    "    def area(self):\n",
    "        return 3.14 * self.radius * self.radius\n",
    "\n",
    "class Rectangle(Shape):\n",
    "    def __init__(self, length, width):\n",
    "        self.length = length\n",
    "        self.width = width\n",
    "\n",
    "    def area(self):\n",
    "        return self.length * self.width\n",
    "\n",
    "# Using the classes\n",
    "circle = Circle(5)\n",
    "rectangle = Rectangle(4, 6)\n",
    "\n",
    "print(\"Area of circle:\", circle.area())       # Output: Area of circle: 78.5\n",
    "print(\"Area of rectangle:\", rectangle.area()) # Output: Area of rectangle: 24"
   ]
  },
  {
   "cell_type": "code",
   "execution_count": 55,
   "id": "56899ecf-6c21-49a7-94db-969d74d176b8",
   "metadata": {},
   "outputs": [
    {
     "name": "stdout",
     "output_type": "stream",
     "text": [
      "Bark\n",
      "Meow\n"
     ]
    }
   ],
   "source": [
    "from abc import ABC, abstractmethod\n",
    "class Animal(ABC):\n",
    "    @abstractmethod\n",
    "    def make_sound(self):\n",
    "        pass\n",
    "\n",
    "class Dog(Animal):\n",
    "    def make_sound(self):\n",
    "        print('Bark')\n",
    "\n",
    "class Cat(Animal):\n",
    "    def make_sound(self):\n",
    "        print('Meow')\n",
    "\n",
    "\n",
    "dog=Dog()\n",
    "cat=Cat()\n",
    "dog.make_sound()\n",
    "cat.make_sound()"
   ]
  },
  {
   "cell_type": "markdown",
   "id": "f94ee7e7-fa5e-4f88-bc51-70a96f4c570d",
   "metadata": {},
   "source": [
    "Practice Questions (Object-Oriented Programming)(OOPS)\n",
    "-----------------------------------------------------------------\n",
    "* 1.Create a class to represent a basic calculator with add, subtract, multiply, and divide and exponent method.\n",
    "\n",
    "* 2.Create a class to represent a book with attributes like title, author, and publication year.\n",
    "\n",
    "* 3.Define a class for a circle with methods to calculate its area and circumference.\n",
    "\n",
    "* 4.Create a class to represent a Student with attributes like name, age, and grades.\n",
    "\n",
    "* 5.Implement a program that simulates a basic bank account using BankAccount Class.\n",
    "\n",
    "* 6.Write a Python program that uses a Rectangle class to calculate the area and perimeter of a rectangle.\n",
    "\n",
    "* 7.Create a class to represent a Car with attributes like Car type, model, and year.\n",
    "\n",
    "* 8.Write a program that uses a Person class to keep track of person's name, age, and address.\n",
    "\n",
    "* 9.Create a class to represent a Movie with attributes like title, director, and IMDB rating of the movie.\n",
    "\n",
    "* 10.Define a class for a square with methods to calculate its area and perimeter of square."
   ]
  },
  {
   "cell_type": "code",
   "execution_count": null,
   "id": "6edef99b-dcbc-4024-8c18-595e5d23ffca",
   "metadata": {},
   "outputs": [],
   "source": []
  }
 ],
 "metadata": {
  "kernelspec": {
   "display_name": "Python 3 (ipykernel)",
   "language": "python",
   "name": "python3"
  },
  "language_info": {
   "codemirror_mode": {
    "name": "ipython",
    "version": 3
   },
   "file_extension": ".py",
   "mimetype": "text/x-python",
   "name": "python",
   "nbconvert_exporter": "python",
   "pygments_lexer": "ipython3",
   "version": "3.11.4"
  }
 },
 "nbformat": 4,
 "nbformat_minor": 5
}
