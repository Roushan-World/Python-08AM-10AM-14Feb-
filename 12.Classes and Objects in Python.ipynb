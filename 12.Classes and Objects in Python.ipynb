{
 "cells": [
  {
   "cell_type": "markdown",
   "id": "4c5b1dc3-b295-4286-853f-4414b627e43f",
   "metadata": {},
   "source": [
    "# 12. Classes and Objects in Python\n",
    "\n",
    " * __Python is an object-oriented programming language.__\n",
    " * __Unlike procedure-oriented where the main emphasis is on functions, object-oriented programming stresses on objects.__\n",
    " * __An object is simply a collection of data (variables) and methods (functions) that act on those data.__\n",
    " * __Similarly, a class is a blueprint for that object.__\n",
    " * __Like function definitions begain with the def keyword in Python, class definitions begin with a class keyword.__\n",
    " * __The first string inside the class is called docstring and has a brief discription of the class.__\n",
    " * __Althogh not mandatory. this is highly recommended.__\n"
   ]
  },
  {
   "cell_type": "code",
   "execution_count": 26,
   "id": "c0fda9df-1bdf-4d2c-b9e4-590dcfd6b74e",
   "metadata": {},
   "outputs": [
    {
     "name": "stdout",
     "output_type": "stream",
     "text": [
      "Hello\n",
      "14\n"
     ]
    }
   ],
   "source": [
    "class student:    # <------class\n",
    "    school_name='ABC School' # <----------Class Variable\n",
    "\n",
    "    def __init__(self,name,age): # <----Constructor to initialize instance variable\n",
    "        self.name=name\n",
    "        self.age=age\n",
    "    @classmethod\n",
    "    def change_school(cls,name):  # <--------cls refer to the class\n",
    "        print(student.school_name)  # <---------Access the class variable\n",
    "        student.school_name = name  # <---------- Modify class variables\n",
    "\n",
    "x=student('Hello',14)\n",
    "print(x.name)\n",
    "print(x.age)\n",
    "student.change_school=('XYZ School')  # Call class method"
   ]
  },
  {
   "cell_type": "code",
   "execution_count": 24,
   "id": "6ce5edf7-c1c5-431a-8cf2-0abada18c5a8",
   "metadata": {},
   "outputs": [
    {
     "data": {
      "text/plain": [
       "'ABC School'"
      ]
     },
     "execution_count": 24,
     "metadata": {},
     "output_type": "execute_result"
    }
   ],
   "source": [
    "student.school_name"
   ]
  },
  {
   "cell_type": "code",
   "execution_count": 31,
   "id": "a1f36cc5-b641-4f92-a24b-21ee9d7856b9",
   "metadata": {},
   "outputs": [
    {
     "name": "stdout",
     "output_type": "stream",
     "text": [
      "Payal Chavan\n",
      "20\n"
     ]
    }
   ],
   "source": [
    "x=student('Payal Chavan',20)\n",
    "print(x.name)\n",
    "print(x.age)"
   ]
  },
  {
   "cell_type": "code",
   "execution_count": 34,
   "id": "687ba6a4-bbd3-4a09-bebe-9aa93e3fe293",
   "metadata": {},
   "outputs": [
    {
     "name": "stdout",
     "output_type": "stream",
     "text": [
      "Shubham\n",
      "21\n"
     ]
    }
   ],
   "source": [
    "y=student(\"Shubham\",21)\n",
    "print(y.name)\n",
    "print(y.age)\n"
   ]
  },
  {
   "cell_type": "code",
   "execution_count": 38,
   "id": "a1d68bbb-e5a0-4deb-9c24-676effb93870",
   "metadata": {},
   "outputs": [
    {
     "name": "stdin",
     "output_type": "stream",
     "text": [
      "Enter your name: Payal\n",
      "Enter your age: 45\n",
      "Enter your email: payal@122gamil.com\n",
      "Enter your phone: 15616516\n",
      "Enter your address here: pune\n",
      "Enter your college name: xyz\n"
     ]
    },
    {
     "name": "stdout",
     "output_type": "stream",
     "text": [
      "Payal\n",
      "45\n",
      "payal@122gamil.com\n",
      "15616516\n",
      "pune\n",
      "xyz\n"
     ]
    }
   ],
   "source": [
    "# create a class name,age,email,phone,address,college\n",
    "\n",
    "class student:\n",
    "    def __init__(self,name,age,email,phone,address,college):\n",
    "        self.name=name\n",
    "        self.age=age\n",
    "        self.email=email\n",
    "        self.phone=phone\n",
    "        self.address=address\n",
    "        self.college=college\n",
    "\n",
    "name1=input('Enter your name:')\n",
    "age1=int(input('Enter your age:'))\n",
    "email1=input('Enter your email:')\n",
    "phone1=int(input('Enter your phone:'))\n",
    "address1=input('Enter your address here:')\n",
    "college1=input('Enter your college name:')\n",
    "x1=student(name1,age1,email1,phone1,address1,college1)\n",
    "print(x1.name)\n",
    "print(x1.age)\n",
    "print(x1.email)\n",
    "print(x1.phone)\n",
    "print(x1.address)\n",
    "print(x1.college)"
   ]
  },
  {
   "cell_type": "code",
   "execution_count": null,
   "id": "42df21a5-7a31-4009-ab34-e96cfb6c3159",
   "metadata": {},
   "outputs": [],
   "source": []
  }
 ],
 "metadata": {
  "kernelspec": {
   "display_name": "Python 3 (ipykernel)",
   "language": "python",
   "name": "python3"
  },
  "language_info": {
   "codemirror_mode": {
    "name": "ipython",
    "version": 3
   },
   "file_extension": ".py",
   "mimetype": "text/x-python",
   "name": "python",
   "nbconvert_exporter": "python",
   "pygments_lexer": "ipython3",
   "version": "3.11.4"
  }
 },
 "nbformat": 4,
 "nbformat_minor": 5
}
