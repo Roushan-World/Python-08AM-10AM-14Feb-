{
 "cells": [
  {
   "cell_type": "markdown",
   "id": "ac40bb8d-e7f3-4a16-9166-db9f217f7c9f",
   "metadata": {},
   "source": [
    "# 9. Functions in Python\n",
    "\n",
    " * __In Python, a function is a group of related statemnents that performs a specific task.__\n",
    " * __Functions help break our program into smaller and modular chunks. * As our program grows larger and larger, functions make it more organized and manageable.__\n",
    " * __Furhtermore, it avoid repetition and makes the code reusable.__\n",
    " * __There are two types of functions:__\n",
    " * __Pre-defined functions.__\n",
    " * __User-defined functions.__\n",
    " * __In Python a function is defined using the def keyword followed by the function name and parentheses().__\n",
    " * __Keyword def that marks the start of the function header.__\n",
    " * __A function name to uniquely identify the function.__\n",
    " * __Function naming follows the same rules of writing identifiers in Python.__\n",
    " * __Parameters(arguments) through which we pass values to the function. They are optional__\n",
    " * __A colon(:) to mark the end of the function header.__\n",
    " * __Optional documentation string(docstring) to describe what the function does.__\n",
    " * __One or more valid python statements that make up the function body.__\n",
    " * __Statements must have the same identation level(usually 4 spaces).__\n",
    " * __An optional return statement to return a value from the function.__"
   ]
  },
  {
   "cell_type": "code",
   "execution_count": 1,
   "id": "94ce789d-b2a9-452f-b21f-544ce4606eea",
   "metadata": {},
   "outputs": [
    {
     "data": {
      "text/plain": [
       "(30, 10, 200, 2.0, 400)"
      ]
     },
     "execution_count": 1,
     "metadata": {},
     "output_type": "execute_result"
    }
   ],
   "source": [
    "# Take a sample function\n",
    "\n",
    "def process(x):\n",
    "    y1=x+10\n",
    "    y2=x-10\n",
    "    y3=x*10\n",
    "    y4=x/10\n",
    "    y5=x**2\n",
    "    return y1,y2,y3,y4,y5\n",
    "\n",
    "process(20)"
   ]
  },
  {
   "cell_type": "code",
   "execution_count": 3,
   "id": "07fc3d69-f6ce-49ee-9441-4bcfcae71ebf",
   "metadata": {},
   "outputs": [
    {
     "data": {
      "text/plain": [
       "'Congratulation! Payal'"
      ]
     },
     "execution_count": 3,
     "metadata": {},
     "output_type": "execute_result"
    }
   ],
   "source": [
    "def greet_msg(y):\n",
    "    z1=\"Congratulation! \"+y\n",
    "    return z1\n",
    "\n",
    "greet_msg(\"Payal\")"
   ]
  },
  {
   "cell_type": "code",
   "execution_count": 6,
   "id": "47427d2a-d8f7-4b2b-a775-3651225d26bb",
   "metadata": {},
   "outputs": [
    {
     "name": "stdin",
     "output_type": "stream",
     "text": [
      "Enter your name:\n",
      " Shyam\n"
     ]
    },
    {
     "data": {
      "text/plain": [
       "'Congratulation! Shyam'"
      ]
     },
     "execution_count": 6,
     "metadata": {},
     "output_type": "execute_result"
    }
   ],
   "source": [
    "def greet_msg(y):\n",
    "    z1=\"Congratulation! \"+y\n",
    "    return z1\n",
    "\n",
    "name=input(\"Enter your name:\\n\")\n",
    "greet_msg(name)"
   ]
  },
  {
   "cell_type": "code",
   "execution_count": 1,
   "id": "9a2d708f-1d20-420a-8455-f2ec3c69dfee",
   "metadata": {},
   "outputs": [],
   "source": [
    "# Wap to create function from user input addition of two numbers."
   ]
  },
  {
   "cell_type": "code",
   "execution_count": null,
   "id": "2b977afa-b444-4f9b-8f4c-3871770470b1",
   "metadata": {},
   "outputs": [],
   "source": [
    "# Write a function to print the weeks name if user press 1 displya sunday, 2 display = Monday and so on.\n",
    "\n",
    "\n",
    "# Write a program to take the user input of movie rating and and dispaly the criteria:\n",
    "# movie_rating is not more than 10 and movie_rating is between 10 and 8 display (You can watch movie in the theater) \n",
    "# or movie rating is more than 5 or less than 8 display(You can watch movie at your home) and movie_rating is below 5 display\n",
    "# (You can't watch this movie.)\n",
    "\n",
    "# Write a function to display the percentage and grade if user input between 90 to 100 : A, 80-90: B, 70-80: C, 60-70:D, \n",
    "# 50-60:E, Below 50: Fail\n",
    "\n",
    "# write a table from user input using function."
   ]
  },
  {
   "cell_type": "code",
   "execution_count": 8,
   "id": "4ffa3a70-355d-4179-a5db-51bd94357959",
   "metadata": {},
   "outputs": [
    {
     "name": "stdin",
     "output_type": "stream",
     "text": [
      "Enter any number: 10\n"
     ]
    },
    {
     "name": "stdout",
     "output_type": "stream",
     "text": [
      "1 X 10 = 10\n",
      "2 X 10 = 20\n",
      "3 X 10 = 30\n",
      "4 X 10 = 40\n",
      "5 X 10 = 50\n",
      "6 X 10 = 60\n",
      "7 X 10 = 70\n",
      "8 X 10 = 80\n",
      "9 X 10 = 90\n"
     ]
    }
   ],
   "source": [
    "def table(x):\n",
    "    for i in range(1,10):\n",
    "        z=x*i\n",
    "        print(i,\"X\",x,\"=\",z)\n",
    "y=int(input('Enter any number:'))\n",
    "table(y)"
   ]
  },
  {
   "cell_type": "code",
   "execution_count": null,
   "id": "5f5ec8d4-ca0f-4f1d-8770-5739773ed56b",
   "metadata": {},
   "outputs": [],
   "source": [
    "# write a program to take input from user print number is divisible by 3,5 and 7"
   ]
  }
 ],
 "metadata": {
  "kernelspec": {
   "display_name": "Python 3 (ipykernel)",
   "language": "python",
   "name": "python3"
  },
  "language_info": {
   "codemirror_mode": {
    "name": "ipython",
    "version": 3
   },
   "file_extension": ".py",
   "mimetype": "text/x-python",
   "name": "python",
   "nbconvert_exporter": "python",
   "pygments_lexer": "ipython3",
   "version": "3.11.4"
  }
 },
 "nbformat": 4,
 "nbformat_minor": 5
}
