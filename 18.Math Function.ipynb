{
 "cells": [
  {
   "cell_type": "markdown",
   "id": "42f766e0-4544-4bb1-a3bf-bc9a6bebdaa6",
   "metadata": {},
   "source": [
    "# 18. Math Module Function in Python\n",
    "\n",
    " * __Python math module is defined as the most famous mathematical functions, which includes trigonometric functions, representation functins, logarithmic functions etc.__\n",
    " * __Furthermore, it also defines two mathematical constants, i.e. Pie and Euler number, etc.__\n",
    " * __Pie(n): It is a well-known mathematical constant and defined as the ratio of circumstance to the diameter of circle. Its value is 3.141592653589793.__\n",
    " * __Euler's number(e): It is defined as the base of the natural logarithmic, and its value is 2.718281828459045.__\n",
    " * __The math module has a set of method and constants.__"
   ]
  },
  {
   "cell_type": "code",
   "execution_count": 3,
   "id": "3f57d551-e387-4edc-8e76-87cacfae5f1b",
   "metadata": {},
   "outputs": [],
   "source": [
    "import math"
   ]
  },
  {
   "cell_type": "code",
   "execution_count": 4,
   "id": "b4cb4289-a5bc-4b57-bc46-864ea3499281",
   "metadata": {},
   "outputs": [],
   "source": [
    "from math import *"
   ]
  },
  {
   "cell_type": "code",
   "execution_count": 5,
   "id": "1e073f5b-5781-4a05-987e-543c2fe59afd",
   "metadata": {},
   "outputs": [
    {
     "name": "stdout",
     "output_type": "stream",
     "text": [
      "Help on built-in module math:\n",
      "\n",
      "NAME\n",
      "    math\n",
      "\n",
      "DESCRIPTION\n",
      "    This module provides access to the mathematical functions\n",
      "    defined by the C standard.\n",
      "\n",
      "FUNCTIONS\n",
      "    acos(x, /)\n",
      "        Return the arc cosine (measured in radians) of x.\n",
      "\n",
      "        The result is between 0 and pi.\n",
      "\n",
      "    acosh(x, /)\n",
      "        Return the inverse hyperbolic cosine of x.\n",
      "\n",
      "    asin(x, /)\n",
      "        Return the arc sine (measured in radians) of x.\n",
      "\n",
      "        The result is between -pi/2 and pi/2.\n",
      "\n",
      "    asinh(x, /)\n",
      "        Return the inverse hyperbolic sine of x.\n",
      "\n",
      "    atan(x, /)\n",
      "        Return the arc tangent (measured in radians) of x.\n",
      "\n",
      "        The result is between -pi/2 and pi/2.\n",
      "\n",
      "    atan2(y, x, /)\n",
      "        Return the arc tangent (measured in radians) of y/x.\n",
      "\n",
      "        Unlike atan(y/x), the signs of both x and y are considered.\n",
      "\n",
      "    atanh(x, /)\n",
      "        Return the inverse hyperbolic tangent of x.\n",
      "\n",
      "    cbrt(x, /)\n",
      "        Return the cube root of x.\n",
      "\n",
      "    ceil(x, /)\n",
      "        Return the ceiling of x as an Integral.\n",
      "\n",
      "        This is the smallest integer >= x.\n",
      "\n",
      "    comb(n, k, /)\n",
      "        Number of ways to choose k items from n items without repetition and without order.\n",
      "\n",
      "        Evaluates to n! / (k! * (n - k)!) when k <= n and evaluates\n",
      "        to zero when k > n.\n",
      "\n",
      "        Also called the binomial coefficient because it is equivalent\n",
      "        to the coefficient of k-th term in polynomial expansion of the\n",
      "        expression (1 + x)**n.\n",
      "\n",
      "        Raises TypeError if either of the arguments are not integers.\n",
      "        Raises ValueError if either of the arguments are negative.\n",
      "\n",
      "    copysign(x, y, /)\n",
      "        Return a float with the magnitude (absolute value) of x but the sign of y.\n",
      "\n",
      "        On platforms that support signed zeros, copysign(1.0, -0.0)\n",
      "        returns -1.0.\n",
      "\n",
      "    cos(x, /)\n",
      "        Return the cosine of x (measured in radians).\n",
      "\n",
      "    cosh(x, /)\n",
      "        Return the hyperbolic cosine of x.\n",
      "\n",
      "    degrees(x, /)\n",
      "        Convert angle x from radians to degrees.\n",
      "\n",
      "    dist(p, q, /)\n",
      "        Return the Euclidean distance between two points p and q.\n",
      "\n",
      "        The points should be specified as sequences (or iterables) of\n",
      "        coordinates.  Both inputs must have the same dimension.\n",
      "\n",
      "        Roughly equivalent to:\n",
      "            sqrt(sum((px - qx) ** 2.0 for px, qx in zip(p, q)))\n",
      "\n",
      "    erf(x, /)\n",
      "        Error function at x.\n",
      "\n",
      "    erfc(x, /)\n",
      "        Complementary error function at x.\n",
      "\n",
      "    exp(x, /)\n",
      "        Return e raised to the power of x.\n",
      "\n",
      "    exp2(x, /)\n",
      "        Return 2 raised to the power of x.\n",
      "\n",
      "    expm1(x, /)\n",
      "        Return exp(x)-1.\n",
      "\n",
      "        This function avoids the loss of precision involved in the direct evaluation of exp(x)-1 for small x.\n",
      "\n",
      "    fabs(x, /)\n",
      "        Return the absolute value of the float x.\n",
      "\n",
      "    factorial(n, /)\n",
      "        Find n!.\n",
      "\n",
      "        Raise a ValueError if x is negative or non-integral.\n",
      "\n",
      "    floor(x, /)\n",
      "        Return the floor of x as an Integral.\n",
      "\n",
      "        This is the largest integer <= x.\n",
      "\n",
      "    fmod(x, y, /)\n",
      "        Return fmod(x, y), according to platform C.\n",
      "\n",
      "        x % y may differ.\n",
      "\n",
      "    frexp(x, /)\n",
      "        Return the mantissa and exponent of x, as pair (m, e).\n",
      "\n",
      "        m is a float and e is an int, such that x = m * 2.**e.\n",
      "        If x is 0, m and e are both 0.  Else 0.5 <= abs(m) < 1.0.\n",
      "\n",
      "    fsum(seq, /)\n",
      "        Return an accurate floating point sum of values in the iterable seq.\n",
      "\n",
      "        Assumes IEEE-754 floating point arithmetic.\n",
      "\n",
      "    gamma(x, /)\n",
      "        Gamma function at x.\n",
      "\n",
      "    gcd(*integers)\n",
      "        Greatest Common Divisor.\n",
      "\n",
      "    hypot(...)\n",
      "        hypot(*coordinates) -> value\n",
      "\n",
      "        Multidimensional Euclidean distance from the origin to a point.\n",
      "\n",
      "        Roughly equivalent to:\n",
      "            sqrt(sum(x**2 for x in coordinates))\n",
      "\n",
      "        For a two dimensional point (x, y), gives the hypotenuse\n",
      "        using the Pythagorean theorem:  sqrt(x*x + y*y).\n",
      "\n",
      "        For example, the hypotenuse of a 3/4/5 right triangle is:\n",
      "\n",
      "            >>> hypot(3.0, 4.0)\n",
      "            5.0\n",
      "\n",
      "    isclose(a, b, *, rel_tol=1e-09, abs_tol=0.0)\n",
      "        Determine whether two floating point numbers are close in value.\n",
      "\n",
      "          rel_tol\n",
      "            maximum difference for being considered \"close\", relative to the\n",
      "            magnitude of the input values\n",
      "          abs_tol\n",
      "            maximum difference for being considered \"close\", regardless of the\n",
      "            magnitude of the input values\n",
      "\n",
      "        Return True if a is close in value to b, and False otherwise.\n",
      "\n",
      "        For the values to be considered close, the difference between them\n",
      "        must be smaller than at least one of the tolerances.\n",
      "\n",
      "        -inf, inf and NaN behave similarly to the IEEE 754 Standard.  That\n",
      "        is, NaN is not close to anything, even itself.  inf and -inf are\n",
      "        only close to themselves.\n",
      "\n",
      "    isfinite(x, /)\n",
      "        Return True if x is neither an infinity nor a NaN, and False otherwise.\n",
      "\n",
      "    isinf(x, /)\n",
      "        Return True if x is a positive or negative infinity, and False otherwise.\n",
      "\n",
      "    isnan(x, /)\n",
      "        Return True if x is a NaN (not a number), and False otherwise.\n",
      "\n",
      "    isqrt(n, /)\n",
      "        Return the integer part of the square root of the input.\n",
      "\n",
      "    lcm(*integers)\n",
      "        Least Common Multiple.\n",
      "\n",
      "    ldexp(x, i, /)\n",
      "        Return x * (2**i).\n",
      "\n",
      "        This is essentially the inverse of frexp().\n",
      "\n",
      "    lgamma(x, /)\n",
      "        Natural logarithm of absolute value of Gamma function at x.\n",
      "\n",
      "    log(...)\n",
      "        log(x, [base=math.e])\n",
      "        Return the logarithm of x to the given base.\n",
      "\n",
      "        If the base is not specified, returns the natural logarithm (base e) of x.\n",
      "\n",
      "    log10(x, /)\n",
      "        Return the base 10 logarithm of x.\n",
      "\n",
      "    log1p(x, /)\n",
      "        Return the natural logarithm of 1+x (base e).\n",
      "\n",
      "        The result is computed in a way which is accurate for x near zero.\n",
      "\n",
      "    log2(x, /)\n",
      "        Return the base 2 logarithm of x.\n",
      "\n",
      "    modf(x, /)\n",
      "        Return the fractional and integer parts of x.\n",
      "\n",
      "        Both results carry the sign of x and are floats.\n",
      "\n",
      "    nextafter(x, y, /, *, steps=None)\n",
      "        Return the floating-point value the given number of steps after x towards y.\n",
      "\n",
      "        If steps is not specified or is None, it defaults to 1.\n",
      "\n",
      "        Raises a TypeError, if x or y is not a double, or if steps is not an integer.\n",
      "        Raises ValueError if steps is negative.\n",
      "\n",
      "    perm(n, k=None, /)\n",
      "        Number of ways to choose k items from n items without repetition and with order.\n",
      "\n",
      "        Evaluates to n! / (n - k)! when k <= n and evaluates\n",
      "        to zero when k > n.\n",
      "\n",
      "        If k is not specified or is None, then k defaults to n\n",
      "        and the function returns n!.\n",
      "\n",
      "        Raises TypeError if either of the arguments are not integers.\n",
      "        Raises ValueError if either of the arguments are negative.\n",
      "\n",
      "    pow(x, y, /)\n",
      "        Return x**y (x to the power of y).\n",
      "\n",
      "    prod(iterable, /, *, start=1)\n",
      "        Calculate the product of all the elements in the input iterable.\n",
      "\n",
      "        The default start value for the product is 1.\n",
      "\n",
      "        When the iterable is empty, return the start value.  This function is\n",
      "        intended specifically for use with numeric values and may reject\n",
      "        non-numeric types.\n",
      "\n",
      "    radians(x, /)\n",
      "        Convert angle x from degrees to radians.\n",
      "\n",
      "    remainder(x, y, /)\n",
      "        Difference between x and the closest integer multiple of y.\n",
      "\n",
      "        Return x - n*y where n*y is the closest integer multiple of y.\n",
      "        In the case where x is exactly halfway between two multiples of\n",
      "        y, the nearest even value of n is used. The result is always exact.\n",
      "\n",
      "    sin(x, /)\n",
      "        Return the sine of x (measured in radians).\n",
      "\n",
      "    sinh(x, /)\n",
      "        Return the hyperbolic sine of x.\n",
      "\n",
      "    sqrt(x, /)\n",
      "        Return the square root of x.\n",
      "\n",
      "    sumprod(p, q, /)\n",
      "        Return the sum of products of values from two iterables p and q.\n",
      "\n",
      "        Roughly equivalent to:\n",
      "\n",
      "            sum(itertools.starmap(operator.mul, zip(p, q, strict=True)))\n",
      "\n",
      "        For float and mixed int/float inputs, the intermediate products\n",
      "        and sums are computed with extended precision.\n",
      "\n",
      "    tan(x, /)\n",
      "        Return the tangent of x (measured in radians).\n",
      "\n",
      "    tanh(x, /)\n",
      "        Return the hyperbolic tangent of x.\n",
      "\n",
      "    trunc(x, /)\n",
      "        Truncates the Real x to the nearest Integral toward 0.\n",
      "\n",
      "        Uses the __trunc__ magic method.\n",
      "\n",
      "    ulp(x, /)\n",
      "        Return the value of the least significant bit of the float x.\n",
      "\n",
      "DATA\n",
      "    e = 2.718281828459045\n",
      "    inf = inf\n",
      "    nan = nan\n",
      "    pi = 3.141592653589793\n",
      "    tau = 6.283185307179586\n",
      "\n",
      "FILE\n",
      "    (built-in)\n",
      "\n",
      "\n"
     ]
    }
   ],
   "source": [
    "help(math)"
   ]
  },
  {
   "cell_type": "markdown",
   "id": "82729bd8-1064-4f71-8559-84ff5ae540e3",
   "metadata": {},
   "source": [
    "# Ceil() funciton\n",
    "\n",
    " * __Rounds a number up to the nearest integer.__\n",
    " * __Returns the smalles integer greater than or equal to variable.__"
   ]
  },
  {
   "cell_type": "code",
   "execution_count": 8,
   "id": "afca4638-79bd-499e-8db1-f2a769efd435",
   "metadata": {},
   "outputs": [
    {
     "name": "stdout",
     "output_type": "stream",
     "text": [
      "3.141592653589793\n",
      "The nearest integer greater than pi number is 4\n"
     ]
    }
   ],
   "source": [
    "pi_number= math.pi\n",
    "print(pi_number)\n",
    "print(f'The nearest integer greater than pi number is {math.ceil(pi_number)}')"
   ]
  },
  {
   "cell_type": "code",
   "execution_count": 10,
   "id": "5a79231e-76b9-4331-8d49-6fc292550a83",
   "metadata": {},
   "outputs": [
    {
     "data": {
      "text/plain": [
       "10"
      ]
     },
     "execution_count": 10,
     "metadata": {},
     "output_type": "execute_result"
    }
   ],
   "source": [
    "math.ceil(9.9)"
   ]
  },
  {
   "cell_type": "markdown",
   "id": "06d49962-af31-4be3-9a98-21607536cdde",
   "metadata": {},
   "source": [
    "# copysign() function\n",
    "\n",
    " * __Returns a float consisting of the value of the first parameter and the sign of the second parameter.__"
   ]
  },
  {
   "cell_type": "code",
   "execution_count": 13,
   "id": "9acf0174-4e43-4d0d-bd37-76c9bf14b394",
   "metadata": {},
   "outputs": [
    {
     "name": "stdout",
     "output_type": "stream",
     "text": [
      "The copysign of these two numebrs -3.14 and 2.718 is: 3.14\n",
      "The copysign of these two numebrs -10 and 20 is: 10.0\n"
     ]
    }
   ],
   "source": [
    "print(f'The copysign of these two numebrs -3.14 and 2.718 is: {math.copysign(-3.14,2.718)}')\n",
    "print(f'The copysign of these two numebrs -10 and 20 is: {math.copysign(-10,20)}')"
   ]
  },
  {
   "cell_type": "markdown",
   "id": "9f322ae8-5406-47d7-bcd6-da2c11a61e6d",
   "metadata": {},
   "source": [
    "# cos() function\n",
    "\n",
    " * __Return the cosine of x (measured in radians)__\n",
    "\n"
   ]
  },
  {
   "cell_type": "code",
   "execution_count": 19,
   "id": "cf22869c-6e9e-48a5-b417-2e3a2a219ba5",
   "metadata": {},
   "outputs": [
    {
     "name": "stdout",
     "output_type": "stream",
     "text": [
      "1.0\n",
      "0.40808206181339196\n",
      "0.5403023058681398\n",
      "0.40808206181339196\n",
      "-0.4480736161291701\n"
     ]
    }
   ],
   "source": [
    "print(math.cos(0))\n",
    "print(math.cos(20))\n",
    "print(math.cos(-1))\n",
    "print(math.cos(-20))\n",
    "print(math.cos(90))"
   ]
  },
  {
   "cell_type": "markdown",
   "id": "d46db0d4-bf43-4dc1-9c8b-f3ca9dda9502",
   "metadata": {},
   "source": [
    "# dist() function\n",
    "\n",
    " * __Returns the Euclidean distance between two points p and q.__\n",
    " * __The Points should be specified as sequences (or iterables) of coordinates.__\n",
    " * __Both inputs must have the same dimension.__\n",
    " * __Rouqhly equivalent to: sqrt(sum((px-qx))**2.0 for px, qx in zip(p,z)))__"
   ]
  },
  {
   "cell_type": "code",
   "execution_count": 21,
   "id": "ff51e396-2a77-4afb-9496-2e82f95be929",
   "metadata": {},
   "outputs": [
    {
     "data": {
      "text/plain": [
       "2.0"
      ]
     },
     "execution_count": 21,
     "metadata": {},
     "output_type": "execute_result"
    }
   ],
   "source": [
    "math.dist([4],[6])"
   ]
  },
  {
   "cell_type": "code",
   "execution_count": 24,
   "id": "8e278066-2953-4873-b6ac-d85036a8143b",
   "metadata": {},
   "outputs": [
    {
     "data": {
      "text/plain": [
       "5.656854249492381"
      ]
     },
     "execution_count": 24,
     "metadata": {},
     "output_type": "execute_result"
    }
   ],
   "source": [
    "x=[4,6]\n",
    "y=[8,2]\n",
    "\n",
    "math.dist(x,y)"
   ]
  },
  {
   "cell_type": "code",
   "execution_count": 25,
   "id": "bc9efa59-0cea-4704-be05-0a7185f5026a",
   "metadata": {},
   "outputs": [
    {
     "data": {
      "text/plain": [
       "5.656854249492381"
      ]
     },
     "execution_count": 25,
     "metadata": {},
     "output_type": "execute_result"
    }
   ],
   "source": [
    "x=[4,6]\n",
    "y=[8,10]\n",
    "\n",
    "math.dist(x,y)"
   ]
  },
  {
   "cell_type": "code",
   "execution_count": 26,
   "id": "6b31b79d-1086-4f15-817a-14abe331cd9e",
   "metadata": {},
   "outputs": [
    {
     "data": {
      "text/plain": [
       "58.215118311311535"
      ]
     },
     "execution_count": 26,
     "metadata": {},
     "output_type": "execute_result"
    }
   ],
   "source": [
    "math.dist([10,20],[15,78])"
   ]
  },
  {
   "cell_type": "markdown",
   "id": "84365ea7-0f65-48d6-b615-91161420538d",
   "metadata": {},
   "source": [
    "# Factorial() function\n"
   ]
  },
  {
   "cell_type": "code",
   "execution_count": 27,
   "id": "be005957-9f1b-4d7c-aca8-1605eb1c5db2",
   "metadata": {},
   "outputs": [
    {
     "data": {
      "text/plain": [
       "6"
      ]
     },
     "execution_count": 27,
     "metadata": {},
     "output_type": "execute_result"
    }
   ],
   "source": [
    "math.factorial(3)"
   ]
  },
  {
   "cell_type": "code",
   "execution_count": 28,
   "id": "5a893e6d-14d3-47c4-9d64-5dcc4886113a",
   "metadata": {},
   "outputs": [
    {
     "data": {
      "text/plain": [
       "3628800"
      ]
     },
     "execution_count": 28,
     "metadata": {},
     "output_type": "execute_result"
    }
   ],
   "source": [
    "math.factorial(10)"
   ]
  },
  {
   "cell_type": "code",
   "execution_count": 29,
   "id": "799d348d-c00b-4ca6-b111-b1a361836507",
   "metadata": {},
   "outputs": [
    {
     "data": {
      "text/plain": [
       "120"
      ]
     },
     "execution_count": 29,
     "metadata": {},
     "output_type": "execute_result"
    }
   ],
   "source": [
    "math.factorial(5)"
   ]
  },
  {
   "cell_type": "code",
   "execution_count": 30,
   "id": "0bb84c18-c2e3-4720-b7f0-def650ca7395",
   "metadata": {},
   "outputs": [
    {
     "data": {
      "text/plain": [
       "5040"
      ]
     },
     "execution_count": 30,
     "metadata": {},
     "output_type": "execute_result"
    }
   ],
   "source": [
    "math.factorial(7)"
   ]
  },
  {
   "cell_type": "markdown",
   "id": "e69e9689-a3d7-4769-b137-4285ea0ed5b6",
   "metadata": {},
   "source": [
    "# floor() function"
   ]
  },
  {
   "cell_type": "code",
   "execution_count": 32,
   "id": "8f91c331-be87-45ec-a58d-6f8b7a3a8d19",
   "metadata": {},
   "outputs": [
    {
     "data": {
      "text/plain": [
       "9"
      ]
     },
     "execution_count": 32,
     "metadata": {},
     "output_type": "execute_result"
    }
   ],
   "source": [
    "math.floor(9.9)"
   ]
  },
  {
   "cell_type": "code",
   "execution_count": 33,
   "id": "9bf87d23-aa45-4a9a-aee1-1c8572fe49fc",
   "metadata": {},
   "outputs": [
    {
     "data": {
      "text/plain": [
       "10"
      ]
     },
     "execution_count": 33,
     "metadata": {},
     "output_type": "execute_result"
    }
   ],
   "source": [
    "math.ceil(9.9)"
   ]
  },
  {
   "cell_type": "code",
   "execution_count": 34,
   "id": "e0043c7a-63a0-4a24-93f7-54bcf219bcb9",
   "metadata": {},
   "outputs": [
    {
     "data": {
      "text/plain": [
       "1.0"
      ]
     },
     "execution_count": 34,
     "metadata": {},
     "output_type": "execute_result"
    }
   ],
   "source": [
    "math.fmod(36,5)"
   ]
  },
  {
   "cell_type": "code",
   "execution_count": 35,
   "id": "8838272f-c479-4028-8c38-7b477a6a774a",
   "metadata": {},
   "outputs": [
    {
     "data": {
      "text/plain": [
       "1.0"
      ]
     },
     "execution_count": 35,
     "metadata": {},
     "output_type": "execute_result"
    }
   ],
   "source": [
    "math.fmod(4,3)"
   ]
  },
  {
   "cell_type": "code",
   "execution_count": 36,
   "id": "ee6d8842-de21-49a3-a904-99f2988ae7c8",
   "metadata": {},
   "outputs": [
    {
     "data": {
      "text/plain": [
       "15.319000000000003"
      ]
     },
     "execution_count": 36,
     "metadata": {},
     "output_type": "execute_result"
    }
   ],
   "source": [
    "math.fmod(85.569,70.25)"
   ]
  },
  {
   "cell_type": "markdown",
   "id": "813ef3c9-70ce-4927-8d1a-d62fc320a0c9",
   "metadata": {},
   "source": [
    "# isqrt() functions"
   ]
  },
  {
   "cell_type": "code",
   "execution_count": 39,
   "id": "5275ebac-4532-4cc9-b908-88e20fe3a473",
   "metadata": {},
   "outputs": [
    {
     "name": "stdout",
     "output_type": "stream",
     "text": [
      "47\n",
      "12\n",
      "46\n",
      "58\n",
      "78\n",
      "45\n"
     ]
    }
   ],
   "source": [
    "print(math.isqrt(2255))\n",
    "print(math.isqrt(144))\n",
    "print(math.isqrt(2116))\n",
    "print(math.isqrt(3364))\n",
    "print(math.isqrt(6084))\n",
    "print(math.isqrt(2025))"
   ]
  },
  {
   "cell_type": "markdown",
   "id": "0a15f912-c7ac-481d-881f-f75a8f6f9bcb",
   "metadata": {},
   "source": [
    "# sqrt() functions"
   ]
  },
  {
   "cell_type": "code",
   "execution_count": 40,
   "id": "04b50c4f-05aa-4400-8a80-de56d09434a0",
   "metadata": {},
   "outputs": [
    {
     "name": "stdout",
     "output_type": "stream",
     "text": [
      "47.486840282335066\n",
      "12.0\n",
      "46.0\n",
      "58.0\n",
      "78.0\n",
      "45.0\n"
     ]
    }
   ],
   "source": [
    "print(math.sqrt(2255))\n",
    "print(math.sqrt(144))\n",
    "print(math.sqrt(2116))\n",
    "print(math.sqrt(3364))\n",
    "print(math.sqrt(6084))\n",
    "print(math.sqrt(2025))"
   ]
  },
  {
   "cell_type": "code",
   "execution_count": null,
   "id": "7872e5ab-9100-4fc2-9c83-e31218206171",
   "metadata": {},
   "outputs": [],
   "source": []
  }
 ],
 "metadata": {
  "kernelspec": {
   "display_name": "Python 3 (ipykernel)",
   "language": "python",
   "name": "python3"
  },
  "language_info": {
   "codemirror_mode": {
    "name": "ipython",
    "version": 3
   },
   "file_extension": ".py",
   "mimetype": "text/x-python",
   "name": "python",
   "nbconvert_exporter": "python",
   "pygments_lexer": "ipython3",
   "version": "3.12.2"
  }
 },
 "nbformat": 4,
 "nbformat_minor": 5
}
