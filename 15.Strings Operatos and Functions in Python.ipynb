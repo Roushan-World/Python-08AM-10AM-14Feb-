{
 "cells": [
  {
   "cell_type": "markdown",
   "id": "0dbd4bfd-38cd-4cf8-93e0-9344b4db2652",
   "metadata": {},
   "source": [
    "# 15. Strings Operators and Functions in Python\n",
    "\n",
    " * __Indexing:-__ __* Positive Indexing helps in accessing the string from the beginning. * Negative subscript helps in accessing the string from the end.__\n",
    "\n",
    " * __Slicing:-__ __* The Slice[start:stop] operators extracts sub string from the strings. * A Segment of a string is called slice.__\n",
    "\n",
    " * __Concatenation:-__ __* The + operators joins the text on both sides of the operator.__\n",
    "\n",
    " * __Repetitions:-__ __* The * operator repeats the string on the left hand side times the value on right hand side.__\n",
    "\n",
    " * __Membership:-__ __* Using membership operators to check a particular character is in string or not. Returns true if present.__"
   ]
  },
  {
   "cell_type": "markdown",
   "id": "0d73e69a-c349-4c41-9420-26807036ae68",
   "metadata": {},
   "source": [
    "# Strings are Unchangeable"
   ]
  },
  {
   "cell_type": "code",
   "execution_count": 5,
   "id": "df0939ed-eb44-423e-bf92-62cea1ecd0bc",
   "metadata": {},
   "outputs": [
    {
     "name": "stdout",
     "output_type": "stream",
     "text": [
      "Hello\n",
      "Python\n"
     ]
    }
   ],
   "source": [
    "string_hello='Hello'\n",
    "string_python='Python'\n",
    "\n",
    "print(string_hello)\n",
    "print(string_python)\n"
   ]
  },
  {
   "cell_type": "code",
   "execution_count": 9,
   "id": "9a9258e6-1e18-48d1-90c0-56fe0ab0e823",
   "metadata": {},
   "outputs": [
    {
     "name": "stdout",
     "output_type": "stream",
     "text": [
      "Python is a programming language.\n"
     ]
    },
    {
     "ename": "TypeError",
     "evalue": "'str' object doesn't support item deletion",
     "output_type": "error",
     "traceback": [
      "\u001b[1;31m---------------------------------------------------------------------------\u001b[0m",
      "\u001b[1;31mTypeError\u001b[0m                                 Traceback (most recent call last)",
      "Cell \u001b[1;32mIn[9], line 5\u001b[0m\n\u001b[0;32m      1\u001b[0m text\u001b[38;5;241m=\u001b[39m\u001b[38;5;124m'\u001b[39m\u001b[38;5;124mPython is a programming language.\u001b[39m\u001b[38;5;124m'\u001b[39m\n\u001b[0;32m      3\u001b[0m \u001b[38;5;28mprint\u001b[39m(text)\n\u001b[1;32m----> 5\u001b[0m \u001b[38;5;28;01mdel\u001b[39;00m(\u001b[43mtext\u001b[49m\u001b[43m[\u001b[49m\u001b[38;5;241;43m1\u001b[39;49m\u001b[43m]\u001b[49m)\n\u001b[0;32m      6\u001b[0m \u001b[38;5;28mprint\u001b[39m(text)\n",
      "\u001b[1;31mTypeError\u001b[0m: 'str' object doesn't support item deletion"
     ]
    }
   ],
   "source": [
    "text='Python is a programming language.'\n",
    "\n",
    "print(text)\n",
    "\n",
    "del(text[1])\n",
    "print(text)"
   ]
  },
  {
   "cell_type": "code",
   "execution_count": 11,
   "id": "092e64a2-d07b-4eca-8729-0c0cf25e9d2a",
   "metadata": {},
   "outputs": [
    {
     "name": "stdout",
     "output_type": "stream",
     "text": [
      "Python is a programming language.\n"
     ]
    },
    {
     "ename": "NameError",
     "evalue": "name 'text' is not defined",
     "output_type": "error",
     "traceback": [
      "\u001b[1;31m---------------------------------------------------------------------------\u001b[0m",
      "\u001b[1;31mNameError\u001b[0m                                 Traceback (most recent call last)",
      "Cell \u001b[1;32mIn[11], line 5\u001b[0m\n\u001b[0;32m      1\u001b[0m \u001b[38;5;28mprint\u001b[39m(text)\n\u001b[0;32m      3\u001b[0m \u001b[38;5;28;01mdel\u001b[39;00m text\n\u001b[1;32m----> 5\u001b[0m \u001b[38;5;28mprint\u001b[39m(\u001b[43mtext\u001b[49m)\n",
      "\u001b[1;31mNameError\u001b[0m: name 'text' is not defined"
     ]
    }
   ],
   "source": [
    "print(text)\n",
    "\n",
    "del text\n",
    "\n",
    "print(text)"
   ]
  },
  {
   "cell_type": "code",
   "execution_count": 13,
   "id": "5cde4497-fa7d-434c-af6f-e3974b354908",
   "metadata": {},
   "outputs": [
    {
     "name": "stdout",
     "output_type": "stream",
     "text": [
      "Hello Python\n"
     ]
    }
   ],
   "source": [
    "# Concatenation of the string\n",
    "\n",
    "text1='Hello'\n",
    "text2=' Python'\n",
    "\n",
    "new_text=text1+text2\n",
    "print(new_text)"
   ]
  },
  {
   "cell_type": "code",
   "execution_count": 14,
   "id": "4f36678f-9ab9-496d-a42c-c2938ff8c90d",
   "metadata": {},
   "outputs": [
    {
     "name": "stdout",
     "output_type": "stream",
     "text": [
      "Hello Python!\n"
     ]
    }
   ],
   "source": [
    "# Append (+=) adds a new string to the end of the current string\n",
    "\n",
    "text1='Hello'\n",
    "text2=' Python!'\n",
    "\n",
    "text1+=text2\n",
    "print(text1)"
   ]
  },
  {
   "cell_type": "code",
   "execution_count": 23,
   "id": "c3bac4e2-9edf-4c1f-8191-6dc073a22a91",
   "metadata": {},
   "outputs": [
    {
     "data": {
      "text/plain": [
       "' Python!Hello Python!Hello Python!Hello Python!Hello Python!Hello Python!Hello Python!Hello Python!'"
      ]
     },
     "execution_count": 23,
     "metadata": {},
     "output_type": "execute_result"
    }
   ],
   "source": [
    "text2+=text1\n",
    "text2"
   ]
  },
  {
   "cell_type": "markdown",
   "id": "04c51dd1-f008-496d-a616-35039f901b6b",
   "metadata": {},
   "source": [
    "# To Repetation of a string"
   ]
  },
  {
   "cell_type": "code",
   "execution_count": 25,
   "id": "bb645c22-8fdb-43a5-92da-43a4bb34e285",
   "metadata": {},
   "outputs": [
    {
     "name": "stdout",
     "output_type": "stream",
     "text": [
      "Hello world-Hello world-Hello world-Hello world-\n"
     ]
    }
   ],
   "source": [
    "text='Hello world-'\n",
    "\n",
    "print(text*4)"
   ]
  },
  {
   "cell_type": "markdown",
   "id": "3b4738a1-a863-4622-99ff-632731603581",
   "metadata": {},
   "source": [
    "# Accessing the item by indexing"
   ]
  },
  {
   "cell_type": "code",
   "execution_count": 42,
   "id": "1fa62b1a-19bc-4f32-aa68-88836a7603b3",
   "metadata": {},
   "outputs": [
    {
     "name": "stdout",
     "output_type": "stream",
     "text": [
      "Hello\n",
      "o\n",
      "H\n",
      "Hello world\n"
     ]
    }
   ],
   "source": [
    "text='Hello world'\n",
    "\n",
    "print(text[0:5])   # slicing string by indexing\n",
    "print(text[4])  # accessing item by indexing.\n",
    "print(text[-11])  # Negative indexing \n",
    "print(text[-11:]) # Slicing index by negative indexing.\n",
    "\n"
   ]
  },
  {
   "cell_type": "code",
   "execution_count": 48,
   "id": "67e5aba7-f1f1-4e33-be81-22aa80be11ca",
   "metadata": {},
   "outputs": [
    {
     "name": "stdout",
     "output_type": "stream",
     "text": [
      "11\n",
      "Hello world\n",
      "Hlowrd\n",
      "Hlowrd\n",
      "Hlwl\n"
     ]
    }
   ],
   "source": [
    "# Striding in slicing.\n",
    "\n",
    "text='Hello world'\n",
    "\n",
    "print(len(text))\n",
    "print(text[:100])\n",
    "print(text[::2])\n",
    "print(text[0:100:2])\n",
    "print(text[0:100:3])"
   ]
  },
  {
   "cell_type": "code",
   "execution_count": 49,
   "id": "095fefb0-f612-4f54-9e3f-0a702707bdf1",
   "metadata": {},
   "outputs": [
    {
     "name": "stdout",
     "output_type": "stream",
     "text": [
      "navahC layaP\n"
     ]
    }
   ],
   "source": [
    "# Reverse the string\n",
    "name='Payal Chavan'\n",
    "print(name[::-1])"
   ]
  },
  {
   "cell_type": "markdown",
   "id": "dbd30e32-e7ce-43f5-af29-290b3a8a0e8b",
   "metadata": {},
   "source": [
    "# in and not in\n",
    "\n",
    " * __in returns True When the character or word is in the given string, otherwise False.__\n",
    " * __not in return False when the character or word is in the given string, otherwise True.__"
   ]
  },
  {
   "cell_type": "code",
   "execution_count": 55,
   "id": "d451d53d-5d20-4563-9ae6-76240ead1fca",
   "metadata": {},
   "outputs": [
    {
     "name": "stdout",
     "output_type": "stream",
     "text": [
      "True\n",
      "False\n",
      "False\n",
      "True\n"
     ]
    }
   ],
   "source": [
    "text= 'Hello, Python!'\n",
    "print('H' in text)\n",
    "print('H' not in text)\n",
    "print('c' in text)\n",
    "print('c' not in text)"
   ]
  },
  {
   "cell_type": "markdown",
   "id": "dfcdaa9a-590d-4aa6-a574-f2a45f4f3b09",
   "metadata": {},
   "source": [
    "# String Functions in Python\n",
    " * __you can find some useful function given below:-__\n",
    " * __Capitalize: Capitalize first letter of the string.__\n",
    " * __find(str,beg=0 end=len(string)): Determine if str occurs in string or in a substring of string if starting index beg and ending index end are given returns index if found and -1 otherwise.__\n",
    " * __isalnum(): Returns true if string has at lest 1 character and all characters are alphanumeric and false otherwise.__\n",
    " * __isalpha(): Returns true if string has at lease 1 characters are alphabetic and false otherwise.__\n",
    " * __isdigit(): Returns true if string contains only digits and false otherwise.__\n",
    " * __islower(): Returns true if string has at least 1 cased character and all cased characters are in lower case and false otherwise.__\n",
    " * __isnumeric(): Returns true if a unicode string contains only numeric characters and false otherwise.__\n",
    " * __isspace(): Returns ture if string contains only whitespace characters and false otherwise.__\n",
    " * __istitle(): Returns true if string is properly 'titlecased' and false otherwise.__\n",
    " * __isupper(): Return ture if string has at lease one cased character and all cased characters are in uppercase and false otherwise.__\n",
    " * __join(seq): Merges (cpmcatemates) the string representations of elements in sequence seq into a string, with separator string.__\n",
    " * __len(string): Returns the length of the string.__\n",
    " * __lower(): Converts all upercase letters in string to lowercase.__\n",
    " * __max(str): Returns the max alphabetical character from the string str.__\n",
    " * __min(str): Return the min alphabetical character from the string str.__\n",
    " * __replace(old,new,[,max]): Replaces all occurrences of old in string with new or most max occurrences if max given.__\n",
    " * __split(str=\"\", new=string.count(str)): Splits string according to delimiter str(space if not provided) and returns list of substrings; split into at most num substrings if given.__\n",
    " * __splitlines(num=string.count('\\n')): Splits string at all(or num) NEWLINES and returns a list of each line with NEWLINEs removed.__\n",
    " * __startswith(string.count('\\n')): Determines if string or a substring of string (if starting index beg and ending index end are given) starts with substring str; return true if so and false otherwise.__\n",
    " * __strip([chars]): Performs both | Strip() and rstrip() on string.__\n",
    " * __swapcase(): Invers case for all letters in string.__\n",
    " * __title(): Returns 'titlecased' version of string, that is, all words begin with uppercase and the rest are lowercase.__\n",
    " * __upper(): Converts lowercase letters in string to uppercase.__\n",
    " * __isdecimal(): Returns true if a unicode string contains only decimal characters and false otherwise.__"
   ]
  },
  {
   "cell_type": "markdown",
   "id": "25eb870c-3e43-4b35-a130-ad30c15489c6",
   "metadata": {},
   "source": [
    "# capitalize() function"
   ]
  },
  {
   "cell_type": "code",
   "execution_count": 60,
   "id": "d994baf4-f95e-496b-93bc-aeeccc8d828b",
   "metadata": {},
   "outputs": [
    {
     "name": "stdout",
     "output_type": "stream",
     "text": [
      "Before Capitalize: hello world\n",
      "After Capitalize: Hello world\n"
     ]
    }
   ],
   "source": [
    "text='hello world'\n",
    "print('Before Capitalize:',text)\n",
    "text1= text.capitalize()\n",
    "print('After Capitalize:',text1)"
   ]
  },
  {
   "cell_type": "markdown",
   "id": "5911629c-1bbc-4edc-b73a-993e9523ae52",
   "metadata": {},
   "source": [
    "# casefold() funciton"
   ]
  },
  {
   "cell_type": "code",
   "execution_count": 61,
   "id": "cf8e2721-5840-474e-92d0-2b2068adc485",
   "metadata": {},
   "outputs": [
    {
     "name": "stdout",
     "output_type": "stream",
     "text": [
      "Before Casefold: Hello World\n",
      "After Casefold: hello world\n"
     ]
    }
   ],
   "source": [
    "text='Hello World'\n",
    "print('Before Casefold:',text)\n",
    "text1=text.casefold()\n",
    "print('After Casefold:',text1)"
   ]
  },
  {
   "cell_type": "markdown",
   "id": "5b1f9bef-2f8d-4da1-96ac-9cf0d65d6e70",
   "metadata": {},
   "source": [
    "# center() function\n"
   ]
  },
  {
   "cell_type": "code",
   "execution_count": 63,
   "id": "9147e371-0f7d-4231-849d-eff51b8d170d",
   "metadata": {},
   "outputs": [
    {
     "name": "stdout",
     "output_type": "stream",
     "text": [
      "Before center: Hello world\n",
      "After center:                    Hello world                    \n",
      "Before center: Hello Payal!\n",
      "After center: -------------------Hello Payal!-------------------\n"
     ]
    }
   ],
   "source": [
    "text='Hello world'\n",
    "print('Before center:',text)\n",
    "text1=text.center(50)\n",
    "print('After center:',text1)\n",
    "new_text='Hello Payal!'\n",
    "print('Before center:',new_text)\n",
    "new_text=new_text.center(50,'-')\n",
    "print('After center:',new_text)"
   ]
  },
  {
   "cell_type": "markdown",
   "id": "56a26ed1-a70c-4829-acf5-211556b043b5",
   "metadata": {},
   "source": [
    "# count() function"
   ]
  },
  {
   "cell_type": "code",
   "execution_count": 65,
   "id": "c70c802e-aeca-4525-8659-641aeabca938",
   "metadata": {},
   "outputs": [
    {
     "name": "stdout",
     "output_type": "stream",
     "text": [
      "The number of the characters 'o' in the string is : 2\n"
     ]
    }
   ],
   "source": [
    "text='Hello world'\n",
    "print(\"The number of the characters 'o' in the string is :\",text.count('o'))"
   ]
  },
  {
   "cell_type": "markdown",
   "id": "8d621521-85fa-4a72-a8b9-263675002e17",
   "metadata": {},
   "source": [
    "# endswith() function"
   ]
  },
  {
   "cell_type": "code",
   "execution_count": 69,
   "id": "21119cdc-a054-40b4-8561-1a331ca27212",
   "metadata": {},
   "outputs": [
    {
     "name": "stdout",
     "output_type": "stream",
     "text": [
      "True\n",
      "False\n"
     ]
    }
   ],
   "source": [
    "text='Hello World'\n",
    "\n",
    "text=text.endswith('World')\n",
    "print(text)\n",
    "new_text='Hi, Payal'\n",
    "new_text=new_text.endswith('World')\n",
    "print(new_text)"
   ]
  },
  {
   "cell_type": "code",
   "execution_count": null,
   "id": "a30dd491-20bb-464a-8ff5-422c56ad48c6",
   "metadata": {},
   "outputs": [],
   "source": []
  }
 ],
 "metadata": {
  "kernelspec": {
   "display_name": "Python 3 (ipykernel)",
   "language": "python",
   "name": "python3"
  },
  "language_info": {
   "codemirror_mode": {
    "name": "ipython",
    "version": 3
   },
   "file_extension": ".py",
   "mimetype": "text/x-python",
   "name": "python",
   "nbconvert_exporter": "python",
   "pygments_lexer": "ipython3",
   "version": "3.11.4"
  }
 },
 "nbformat": 4,
 "nbformat_minor": 5
}
