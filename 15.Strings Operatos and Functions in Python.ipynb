{
 "cells": [
  {
   "cell_type": "markdown",
   "id": "0dbd4bfd-38cd-4cf8-93e0-9344b4db2652",
   "metadata": {},
   "source": [
    "# 15. Strings Operators and Functions in Python\n",
    "\n",
    " * __Indexing:-__ __* Positive Indexing helps in accessing the string from the beginning. * Negative subscript helps in accessing the string from the end.__\n",
    "\n",
    " * __Slicing:-__ __* The Slice[start:stop] operators extracts sub string from the strings. * A Segment of a string is called slice.__\n",
    "\n",
    " * __Concatenation:-__ __* The + operators joins the text on both sides of the operator.__\n",
    "\n",
    " * __Repetitions:-__ __* The * operator repeats the string on the left hand side times the value on right hand side.__\n",
    "\n",
    " * __Membership:-__ __* Using membership operators to check a particular character is in string or not. Returns true if present.__"
   ]
  },
  {
   "cell_type": "markdown",
   "id": "0d73e69a-c349-4c41-9420-26807036ae68",
   "metadata": {},
   "source": [
    "# Strings are Unchangeable"
   ]
  },
  {
   "cell_type": "code",
   "execution_count": 5,
   "id": "df0939ed-eb44-423e-bf92-62cea1ecd0bc",
   "metadata": {},
   "outputs": [
    {
     "name": "stdout",
     "output_type": "stream",
     "text": [
      "Hello\n",
      "Python\n"
     ]
    }
   ],
   "source": [
    "string_hello='Hello'\n",
    "string_python='Python'\n",
    "\n",
    "print(string_hello)\n",
    "print(string_python)\n"
   ]
  },
  {
   "cell_type": "code",
   "execution_count": 9,
   "id": "9a9258e6-1e18-48d1-90c0-56fe0ab0e823",
   "metadata": {},
   "outputs": [
    {
     "name": "stdout",
     "output_type": "stream",
     "text": [
      "Python is a programming language.\n"
     ]
    },
    {
     "ename": "TypeError",
     "evalue": "'str' object doesn't support item deletion",
     "output_type": "error",
     "traceback": [
      "\u001b[1;31m---------------------------------------------------------------------------\u001b[0m",
      "\u001b[1;31mTypeError\u001b[0m                                 Traceback (most recent call last)",
      "Cell \u001b[1;32mIn[9], line 5\u001b[0m\n\u001b[0;32m      1\u001b[0m text\u001b[38;5;241m=\u001b[39m\u001b[38;5;124m'\u001b[39m\u001b[38;5;124mPython is a programming language.\u001b[39m\u001b[38;5;124m'\u001b[39m\n\u001b[0;32m      3\u001b[0m \u001b[38;5;28mprint\u001b[39m(text)\n\u001b[1;32m----> 5\u001b[0m \u001b[38;5;28;01mdel\u001b[39;00m(\u001b[43mtext\u001b[49m\u001b[43m[\u001b[49m\u001b[38;5;241;43m1\u001b[39;49m\u001b[43m]\u001b[49m)\n\u001b[0;32m      6\u001b[0m \u001b[38;5;28mprint\u001b[39m(text)\n",
      "\u001b[1;31mTypeError\u001b[0m: 'str' object doesn't support item deletion"
     ]
    }
   ],
   "source": [
    "text='Python is a programming language.'\n",
    "\n",
    "print(text)\n",
    "\n",
    "del(text[1])\n",
    "print(text)"
   ]
  },
  {
   "cell_type": "code",
   "execution_count": 11,
   "id": "092e64a2-d07b-4eca-8729-0c0cf25e9d2a",
   "metadata": {},
   "outputs": [
    {
     "name": "stdout",
     "output_type": "stream",
     "text": [
      "Python is a programming language.\n"
     ]
    },
    {
     "ename": "NameError",
     "evalue": "name 'text' is not defined",
     "output_type": "error",
     "traceback": [
      "\u001b[1;31m---------------------------------------------------------------------------\u001b[0m",
      "\u001b[1;31mNameError\u001b[0m                                 Traceback (most recent call last)",
      "Cell \u001b[1;32mIn[11], line 5\u001b[0m\n\u001b[0;32m      1\u001b[0m \u001b[38;5;28mprint\u001b[39m(text)\n\u001b[0;32m      3\u001b[0m \u001b[38;5;28;01mdel\u001b[39;00m text\n\u001b[1;32m----> 5\u001b[0m \u001b[38;5;28mprint\u001b[39m(\u001b[43mtext\u001b[49m)\n",
      "\u001b[1;31mNameError\u001b[0m: name 'text' is not defined"
     ]
    }
   ],
   "source": [
    "print(text)\n",
    "\n",
    "del text\n",
    "\n",
    "print(text)"
   ]
  },
  {
   "cell_type": "code",
   "execution_count": 13,
   "id": "5cde4497-fa7d-434c-af6f-e3974b354908",
   "metadata": {},
   "outputs": [
    {
     "name": "stdout",
     "output_type": "stream",
     "text": [
      "Hello Python\n"
     ]
    }
   ],
   "source": [
    "# Concatenation of the string\n",
    "\n",
    "text1='Hello'\n",
    "text2=' Python'\n",
    "\n",
    "new_text=text1+text2\n",
    "print(new_text)"
   ]
  },
  {
   "cell_type": "code",
   "execution_count": 14,
   "id": "4f36678f-9ab9-496d-a42c-c2938ff8c90d",
   "metadata": {},
   "outputs": [
    {
     "name": "stdout",
     "output_type": "stream",
     "text": [
      "Hello Python!\n"
     ]
    }
   ],
   "source": [
    "# Append (+=) adds a new string to the end of the current string\n",
    "\n",
    "text1='Hello'\n",
    "text2=' Python!'\n",
    "\n",
    "text1+=text2\n",
    "print(text1)"
   ]
  },
  {
   "cell_type": "code",
   "execution_count": 23,
   "id": "c3bac4e2-9edf-4c1f-8191-6dc073a22a91",
   "metadata": {},
   "outputs": [
    {
     "data": {
      "text/plain": [
       "' Python!Hello Python!Hello Python!Hello Python!Hello Python!Hello Python!Hello Python!Hello Python!'"
      ]
     },
     "execution_count": 23,
     "metadata": {},
     "output_type": "execute_result"
    }
   ],
   "source": [
    "text2+=text1\n",
    "text2"
   ]
  },
  {
   "cell_type": "markdown",
   "id": "04c51dd1-f008-496d-a616-35039f901b6b",
   "metadata": {},
   "source": [
    "# To Repetation of a string"
   ]
  },
  {
   "cell_type": "code",
   "execution_count": 25,
   "id": "bb645c22-8fdb-43a5-92da-43a4bb34e285",
   "metadata": {},
   "outputs": [
    {
     "name": "stdout",
     "output_type": "stream",
     "text": [
      "Hello world-Hello world-Hello world-Hello world-\n"
     ]
    }
   ],
   "source": [
    "text='Hello world-'\n",
    "\n",
    "print(text*4)"
   ]
  },
  {
   "cell_type": "markdown",
   "id": "3b4738a1-a863-4622-99ff-632731603581",
   "metadata": {},
   "source": [
    "# Accessing the item by indexing"
   ]
  },
  {
   "cell_type": "code",
   "execution_count": 42,
   "id": "1fa62b1a-19bc-4f32-aa68-88836a7603b3",
   "metadata": {},
   "outputs": [
    {
     "name": "stdout",
     "output_type": "stream",
     "text": [
      "Hello\n",
      "o\n",
      "H\n",
      "Hello world\n"
     ]
    }
   ],
   "source": [
    "text='Hello world'\n",
    "\n",
    "print(text[0:5])   # slicing string by indexing\n",
    "print(text[4])  # accessing item by indexing.\n",
    "print(text[-11])  # Negative indexing \n",
    "print(text[-11:]) # Slicing index by negative indexing.\n",
    "\n"
   ]
  },
  {
   "cell_type": "code",
   "execution_count": 48,
   "id": "67e5aba7-f1f1-4e33-be81-22aa80be11ca",
   "metadata": {},
   "outputs": [
    {
     "name": "stdout",
     "output_type": "stream",
     "text": [
      "11\n",
      "Hello world\n",
      "Hlowrd\n",
      "Hlowrd\n",
      "Hlwl\n"
     ]
    }
   ],
   "source": [
    "# Striding in slicing.\n",
    "\n",
    "text='Hello world'\n",
    "\n",
    "print(len(text))\n",
    "print(text[:100])\n",
    "print(text[::2])\n",
    "print(text[0:100:2])\n",
    "print(text[0:100:3])"
   ]
  },
  {
   "cell_type": "code",
   "execution_count": 49,
   "id": "095fefb0-f612-4f54-9e3f-0a702707bdf1",
   "metadata": {},
   "outputs": [
    {
     "name": "stdout",
     "output_type": "stream",
     "text": [
      "navahC layaP\n"
     ]
    }
   ],
   "source": [
    "# Reverse the string\n",
    "name='Payal Chavan'\n",
    "print(name[::-1])"
   ]
  },
  {
   "cell_type": "markdown",
   "id": "dbd30e32-e7ce-43f5-af29-290b3a8a0e8b",
   "metadata": {},
   "source": [
    "# in and not in\n",
    "\n",
    " * __in returns True When the character or word is in the given string, otherwise False.__\n",
    " * __not in return False when the character or word is in the given string, otherwise True.__"
   ]
  },
  {
   "cell_type": "code",
   "execution_count": 55,
   "id": "d451d53d-5d20-4563-9ae6-76240ead1fca",
   "metadata": {},
   "outputs": [
    {
     "name": "stdout",
     "output_type": "stream",
     "text": [
      "True\n",
      "False\n",
      "False\n",
      "True\n"
     ]
    }
   ],
   "source": [
    "text= 'Hello, Python!'\n",
    "print('H' in text)\n",
    "print('H' not in text)\n",
    "print('c' in text)\n",
    "print('c' not in text)"
   ]
  },
  {
   "cell_type": "markdown",
   "id": "dfcdaa9a-590d-4aa6-a574-f2a45f4f3b09",
   "metadata": {},
   "source": [
    "# String Functions in Python\n",
    " * __you can find some useful function given below:-__\n",
    " * __Capitalize: Capitalize first letter of the string.__\n",
    " * __find(str,beg=0 end=len(string)): Determine if str occurs in string or in a substring of string if starting index beg and ending index end are given returns index if found and -1 otherwise.__\n",
    " * __isalnum(): Returns true if string has at lest 1 character and all characters are alphanumeric and false otherwise.__\n",
    " * __isalpha(): Returns true if string has at lease 1 characters are alphabetic and false otherwise.__\n",
    " * __isdigit(): Returns true if string contains only digits and false otherwise.__\n",
    " * __islower(): Returns true if string has at least 1 cased character and all cased characters are in lower case and false otherwise.__\n",
    " * __isnumeric(): Returns true if a unicode string contains only numeric characters and false otherwise.__\n",
    " * __isspace(): Returns ture if string contains only whitespace characters and false otherwise.__\n",
    " * __istitle(): Returns true if string is properly 'titlecased' and false otherwise.__\n",
    " * __isupper(): Return ture if string has at lease one cased character and all cased characters are in uppercase and false otherwise.__\n",
    " * __join(seq): Merges (cpmcatemates) the string representations of elements in sequence seq into a string, with separator string.__\n",
    " * __len(string): Returns the length of the string.__\n",
    " * __lower(): Converts all upercase letters in string to lowercase.__\n",
    " * __max(str): Returns the max alphabetical character from the string str.__\n",
    " * __min(str): Return the min alphabetical character from the string str.__\n",
    " * __replace(old,new,[,max]): Replaces all occurrences of old in string with new or most max occurrences if max given.__\n",
    " * __split(str=\"\", new=string.count(str)): Splits string according to delimiter str(space if not provided) and returns list of substrings; split into at most num substrings if given.__\n",
    " * __splitlines(num=string.count('\\n')): Splits string at all(or num) NEWLINES and returns a list of each line with NEWLINEs removed.__\n",
    " * __startswith(string.count('\\n')): Determines if string or a substring of string (if starting index beg and ending index end are given) starts with substring str; return true if so and false otherwise.__\n",
    " * __strip([chars]): Performs both | Strip() and rstrip() on string.__\n",
    " * __swapcase(): Invers case for all letters in string.__\n",
    " * __title(): Returns 'titlecased' version of string, that is, all words begin with uppercase and the rest are lowercase.__\n",
    " * __upper(): Converts lowercase letters in string to uppercase.__\n",
    " * __isdecimal(): Returns true if a unicode string contains only decimal characters and false otherwise.__"
   ]
  },
  {
   "cell_type": "markdown",
   "id": "25eb870c-3e43-4b35-a130-ad30c15489c6",
   "metadata": {},
   "source": [
    "# capitalize() function"
   ]
  },
  {
   "cell_type": "code",
   "execution_count": 60,
   "id": "d994baf4-f95e-496b-93bc-aeeccc8d828b",
   "metadata": {},
   "outputs": [
    {
     "name": "stdout",
     "output_type": "stream",
     "text": [
      "Before Capitalize: hello world\n",
      "After Capitalize: Hello world\n"
     ]
    }
   ],
   "source": [
    "text='hello world'\n",
    "print('Before Capitalize:',text)\n",
    "text1= text.capitalize()\n",
    "print('After Capitalize:',text1)"
   ]
  },
  {
   "cell_type": "markdown",
   "id": "5911629c-1bbc-4edc-b73a-993e9523ae52",
   "metadata": {},
   "source": [
    "# casefold() funciton"
   ]
  },
  {
   "cell_type": "code",
   "execution_count": 61,
   "id": "cf8e2721-5840-474e-92d0-2b2068adc485",
   "metadata": {},
   "outputs": [
    {
     "name": "stdout",
     "output_type": "stream",
     "text": [
      "Before Casefold: Hello World\n",
      "After Casefold: hello world\n"
     ]
    }
   ],
   "source": [
    "text='Hello World'\n",
    "print('Before Casefold:',text)\n",
    "text1=text.casefold()\n",
    "print('After Casefold:',text1)"
   ]
  },
  {
   "cell_type": "markdown",
   "id": "5b1f9bef-2f8d-4da1-96ac-9cf0d65d6e70",
   "metadata": {},
   "source": [
    "# center() function\n"
   ]
  },
  {
   "cell_type": "code",
   "execution_count": 63,
   "id": "9147e371-0f7d-4231-849d-eff51b8d170d",
   "metadata": {},
   "outputs": [
    {
     "name": "stdout",
     "output_type": "stream",
     "text": [
      "Before center: Hello world\n",
      "After center:                    Hello world                    \n",
      "Before center: Hello Payal!\n",
      "After center: -------------------Hello Payal!-------------------\n"
     ]
    }
   ],
   "source": [
    "text='Hello world'\n",
    "print('Before center:',text)\n",
    "text1=text.center(50)\n",
    "print('After center:',text1)\n",
    "new_text='Hello Payal!'\n",
    "print('Before center:',new_text)\n",
    "new_text=new_text.center(50,'-')\n",
    "print('After center:',new_text)"
   ]
  },
  {
   "cell_type": "markdown",
   "id": "56a26ed1-a70c-4829-acf5-211556b043b5",
   "metadata": {},
   "source": [
    "# count() function"
   ]
  },
  {
   "cell_type": "code",
   "execution_count": 65,
   "id": "c70c802e-aeca-4525-8659-641aeabca938",
   "metadata": {},
   "outputs": [
    {
     "name": "stdout",
     "output_type": "stream",
     "text": [
      "The number of the characters 'o' in the string is : 2\n"
     ]
    }
   ],
   "source": [
    "text='Hello world'\n",
    "print(\"The number of the characters 'o' in the string is :\",text.count('o'))"
   ]
  },
  {
   "cell_type": "markdown",
   "id": "8d621521-85fa-4a72-a8b9-263675002e17",
   "metadata": {},
   "source": [
    "# endswith() function"
   ]
  },
  {
   "cell_type": "code",
   "execution_count": 69,
   "id": "21119cdc-a054-40b4-8561-1a331ca27212",
   "metadata": {},
   "outputs": [
    {
     "name": "stdout",
     "output_type": "stream",
     "text": [
      "True\n",
      "False\n"
     ]
    }
   ],
   "source": [
    "text='Hello World'\n",
    "\n",
    "text=text.endswith('World')\n",
    "print(text)\n",
    "new_text='Hi, Payal'\n",
    "new_text=new_text.endswith('World')\n",
    "print(new_text)"
   ]
  },
  {
   "cell_type": "markdown",
   "id": "37766f47-c905-44be-93b7-701ce6fa171a",
   "metadata": {},
   "source": [
    "# find() function"
   ]
  },
  {
   "cell_type": "code",
   "execution_count": 7,
   "id": "436feb18-c8f6-4dfc-8b48-f43188aba463",
   "metadata": {},
   "outputs": [
    {
     "name": "stdout",
     "output_type": "stream",
     "text": [
      "6\n",
      "-1\n"
     ]
    }
   ],
   "source": [
    "text='Hello World'\n",
    "print(text.find('World'))\n",
    "print(text.find('world'))   # it returns -1 if the value is not found"
   ]
  },
  {
   "cell_type": "markdown",
   "id": "612722ba-f887-487a-8186-278ea76105dd",
   "metadata": {},
   "source": [
    "# format() function\n",
    "\n",
    " * __It formats the specified value(s) and insert them inside the string's placeholder.__\n",
    " * __The Placeholder is defined using curly brackes.{}__"
   ]
  },
  {
   "cell_type": "code",
   "execution_count": 11,
   "id": "b0623020-4435-4c76-94b6-15eb4d117266",
   "metadata": {},
   "outputs": [
    {
     "name": "stdout",
     "output_type": "stream",
     "text": [
      "Hello World and Hi Python\n",
      "Hello World and Hi Python\n",
      "Hello Python and Hi World\n"
     ]
    }
   ],
   "source": [
    "text=\"Hello {} and Hi {}\".format('World','Python')\n",
    "print(text)\n",
    "text='Hello {world} and Hi {python}'.format(world='World',python='Python')\n",
    "print(text)\n",
    "text='Hello {1} and Hi {0}'.format('World','Python')\n",
    "print(text)"
   ]
  },
  {
   "cell_type": "markdown",
   "id": "7596e0a1-9cef-43f3-8e06-66f8000d12e3",
   "metadata": {},
   "source": [
    "# Index() function\n",
    "\n",
    " * __It examines the string for a certain value and returns the position of where it was found.__"
   ]
  },
  {
   "cell_type": "code",
   "execution_count": 14,
   "id": "739b95ad-a38b-4866-92ba-9085821e8d4d",
   "metadata": {},
   "outputs": [
    {
     "name": "stdout",
     "output_type": "stream",
     "text": [
      "6\n",
      "0\n"
     ]
    },
    {
     "ename": "ValueError",
     "evalue": "substring not found",
     "output_type": "error",
     "traceback": [
      "\u001b[1;31m---------------------------------------------------------------------------\u001b[0m",
      "\u001b[1;31mValueError\u001b[0m                                Traceback (most recent call last)",
      "Cell \u001b[1;32mIn[14], line 4\u001b[0m\n\u001b[0;32m      2\u001b[0m \u001b[38;5;28mprint\u001b[39m(text\u001b[38;5;241m.\u001b[39mindex(\u001b[38;5;124m'\u001b[39m\u001b[38;5;124mPython\u001b[39m\u001b[38;5;124m'\u001b[39m))\n\u001b[0;32m      3\u001b[0m \u001b[38;5;28mprint\u001b[39m(text\u001b[38;5;241m.\u001b[39mindex(\u001b[38;5;124m'\u001b[39m\u001b[38;5;124mHello\u001b[39m\u001b[38;5;124m'\u001b[39m))\n\u001b[1;32m----> 4\u001b[0m \u001b[38;5;28mprint\u001b[39m(\u001b[43mtext\u001b[49m\u001b[38;5;241;43m.\u001b[39;49m\u001b[43mindex\u001b[49m\u001b[43m(\u001b[49m\u001b[38;5;124;43m'\u001b[39;49m\u001b[38;5;124;43mHi\u001b[39;49m\u001b[38;5;124;43m'\u001b[39;49m\u001b[43m)\u001b[49m) \u001b[38;5;66;03m# If the value is not found, it return a 'ValueError.'\u001b[39;00m\n",
      "\u001b[1;31mValueError\u001b[0m: substring not found"
     ]
    }
   ],
   "source": [
    "text='Hello,Python'\n",
    "print(text.index('Python'))\n",
    "print(text.index('Hello'))\n",
    "print(text.index('Hi')) # If the value is not found, it return a 'ValueError.'"
   ]
  },
  {
   "cell_type": "markdown",
   "id": "df9abf1d-7bff-4346-9044-f14b4096f77c",
   "metadata": {},
   "source": [
    "# isalnum() function\n",
    " * __It returns True if all characters in the string are alphanumeric.__\n",
    "\n"
   ]
  },
  {
   "cell_type": "code",
   "execution_count": 16,
   "id": "5b069464-1385-4d0a-b6b6-7d933c4825e8",
   "metadata": {},
   "outputs": [
    {
     "name": "stdout",
     "output_type": "stream",
     "text": [
      "False\n",
      "True\n"
     ]
    }
   ],
   "source": [
    "text='Hello,Python'\n",
    "print(text.isalnum())\n",
    "msg='Hello123456'\n",
    "print(msg.isalnum())"
   ]
  },
  {
   "cell_type": "markdown",
   "id": "ea764e4f-a1da-479a-b38d-8834bf38e8d5",
   "metadata": {},
   "source": [
    "# isalpha() function\n",
    "\n",
    " * __It returns True if all characters in the string are alphabets.__\n",
    " * __White spaces are not considered as alphabets and thus it returns False.__"
   ]
  },
  {
   "cell_type": "code",
   "execution_count": 20,
   "id": "6b7e2866-84a2-4a8e-b471-4700f62c8af0",
   "metadata": {},
   "outputs": [
    {
     "name": "stdout",
     "output_type": "stream",
     "text": [
      "True\n",
      "False\n",
      "False\n"
     ]
    }
   ],
   "source": [
    "text='Hello'\n",
    "print(text.isalpha())\n",
    "text='Hello1234'   # The text constains numbers\n",
    "print(text.isalpha()) \n",
    "text=\"Hello Python\"  # The text contains a while spaces.\n",
    "print(text.isalpha())"
   ]
  },
  {
   "cell_type": "markdown",
   "id": "8249853d-a42c-4994-9453-861b39331405",
   "metadata": {},
   "source": [
    "# isdecimal() \n",
    "\n",
    " * __It returns True if all the characters in the given string are decimal numbers (0-9).__"
   ]
  },
  {
   "cell_type": "code",
   "execution_count": 22,
   "id": "d1139278-8923-41f6-ab65-ed48d36c9807",
   "metadata": {},
   "outputs": [
    {
     "name": "stdout",
     "output_type": "stream",
     "text": [
      "False\n",
      "True\n"
     ]
    }
   ],
   "source": [
    "text='Hello'\n",
    "print(text.isdecimal())\n",
    "num_text='0123456789'   # decimal contain value 0-9 not float\n",
    "print(num_text.isdecimal())"
   ]
  },
  {
   "cell_type": "markdown",
   "id": "6d91e7c4-216a-4d70-8523-4a038e198c22",
   "metadata": {},
   "source": [
    "# isdigit() function\n",
    "\n",
    " * __The function returns True if all the characters in the string and the Unicode characters are digit.__"
   ]
  },
  {
   "cell_type": "code",
   "execution_count": 23,
   "id": "9e0f5489-6467-4e26-b6ec-1ad79a6ba945",
   "metadata": {},
   "outputs": [
    {
     "name": "stdout",
     "output_type": "stream",
     "text": [
      "True\n"
     ]
    }
   ],
   "source": [
    "num_text='0123456789'\n",
    "print(num_text.isdigit())"
   ]
  },
  {
   "cell_type": "markdown",
   "id": "fa6b7c9f-e280-4283-8905-81cbe4697af2",
   "metadata": {},
   "source": [
    "# isidentifier() function\n",
    "\n",
    " * __It returns True if the string is a valid identifiers, on the contrary False.__"
   ]
  },
  {
   "cell_type": "code",
   "execution_count": 25,
   "id": "ca06c4fa-c9d3-499c-ad20-6fb5354298f2",
   "metadata": {},
   "outputs": [
    {
     "name": "stdout",
     "output_type": "stream",
     "text": [
      "False\n",
      "True\n"
     ]
    }
   ],
   "source": [
    "num_text='0123456789'\n",
    "print(num_text.isidentifier())\n",
    "variable='num_text'\n",
    "print(variable.isidentifier())"
   ]
  },
  {
   "cell_type": "markdown",
   "id": "c5e4317f-7cca-4177-a2ad-076f5342e636",
   "metadata": {},
   "source": [
    "# isprintable() function\n",
    " * __It returns True if all the characters in the string are printable featurs.__"
   ]
  },
  {
   "cell_type": "code",
   "execution_count": 34,
   "id": "a2978a58-91ec-4700-877e-61aa660cbcc3",
   "metadata": {},
   "outputs": [
    {
     "name": "stdout",
     "output_type": "stream",
     "text": [
      "True\n",
      "False\n",
      "True\n"
     ]
    }
   ],
   "source": [
    "text='Hello, Python'\n",
    "print(text.isprintable())\n",
    "new_text='Hello,\\nPython'\n",
    "print(new_text.isprintable())\n",
    "space=' '\n",
    "print(space.isprintable())"
   ]
  },
  {
   "cell_type": "markdown",
   "id": "fd050cce-53fa-49b8-aedb-bf941b428df9",
   "metadata": {},
   "source": [
    "# isspace() function\n",
    "\n",
    " * __It return True if all the characters in the string are whitespaces.__"
   ]
  },
  {
   "cell_type": "code",
   "execution_count": 36,
   "id": "069ec447-f69b-4058-b126-dc00d9ba11ec",
   "metadata": {},
   "outputs": [
    {
     "name": "stdout",
     "output_type": "stream",
     "text": [
      "False\n",
      "True\n"
     ]
    }
   ],
   "source": [
    "text='Hello,Python'\n",
    "print(text.isspace())\n",
    "space=' '\n",
    "print(space.isspace())"
   ]
  },
  {
   "cell_type": "markdown",
   "id": "b9d0ddee-ae3a-44ec-be6b-4254bdae7a0d",
   "metadata": {},
   "source": [
    "# islower() and lower() function\n",
    "\n",
    " * __The function islower() returns True if all the characters in the string are lower cae, on the contrary False.__\n",
    " * __The function lower() converts the certain string to lower case.__"
   ]
  },
  {
   "cell_type": "code",
   "execution_count": 38,
   "id": "65549057-f745-4f18-b26e-902a3114f77a",
   "metadata": {},
   "outputs": [
    {
     "name": "stdout",
     "output_type": "stream",
     "text": [
      "False\n",
      "True\n"
     ]
    }
   ],
   "source": [
    "text=\"Hello Python\"\n",
    "print(text.islower())\n",
    "text=text.lower()   # it converts to lower case all the characters in the string.\n",
    "print(text.islower()) # Now, it returns True."
   ]
  },
  {
   "cell_type": "markdown",
   "id": "cf7b4894-f403-4a30-bf99-adfdfdb13bf5",
   "metadata": {},
   "source": [
    "# isupper() and upper() function\n",
    "\n",
    " * __The function isupper() returns True if all the characters in the string are upper case, on the contrary False.__\n",
    " * __The function upper() converts the string into uppercase.__"
   ]
  },
  {
   "cell_type": "code",
   "execution_count": 41,
   "id": "6e00019e-3fe1-41d6-b138-cb60212a2d32",
   "metadata": {},
   "outputs": [
    {
     "name": "stdout",
     "output_type": "stream",
     "text": [
      "False\n",
      "True\n"
     ]
    }
   ],
   "source": [
    "text='Hello,Python'\n",
    "print(text.isupper())\n",
    "text=text.upper() # it converts to upper case all the characters in the string.\n",
    "print(text.isupper())  # Now, it returns True."
   ]
  },
  {
   "cell_type": "markdown",
   "id": "0328a9df-67d7-4f25-93f3-5118e8281d54",
   "metadata": {},
   "source": [
    "# join() function\n",
    "\n",
    " * __It takes all items in an iterable and joins them into one string.__\n",
    " * __A string must be specified as the separator.__"
   ]
  },
  {
   "cell_type": "code",
   "execution_count": 46,
   "id": "4357fe04-69e4-4cc4-9f65-e75e8747485a",
   "metadata": {},
   "outputs": [
    {
     "name": "stdout",
     "output_type": "stream",
     "text": [
      "Hello#World#Hi#Python\n",
      "Hello+World+Hi+Python\n",
      "Hello--World--Hi--Python\n",
      "Hello,World,Hi,Python\n",
      "val,val2,val3,val4\n"
     ]
    }
   ],
   "source": [
    "text_list=['Hello','World','Hi','Python']\n",
    "print('#'.join(text_list))\n",
    "text_list=['Hello','World','Hi','Python']\n",
    "print('+'.join(text_list))\n",
    "text_list=['Hello','World','Hi','Python']\n",
    "print('--'.join(text_list))\n",
    "text_list=['Hello','World','Hi','Python']\n",
    "print(','.join(text_list))\n",
    "text_list={'val':'Hello','val2':'World','val3':'Hi','val4':'Python'}\n",
    "print(','.join(text_list))"
   ]
  },
  {
   "cell_type": "markdown",
   "id": "7a0a858f-fe6a-4c5e-b209-a8478371fe43",
   "metadata": {},
   "source": [
    "# ljust() function\n",
    "\n",
    " * __It returns the left justified version of the certain string.__"
   ]
  },
  {
   "cell_type": "code",
   "execution_count": 52,
   "id": "4fee4790-495e-4851-bd26-d9f65d54720a",
   "metadata": {},
   "outputs": [
    {
     "name": "stdout",
     "output_type": "stream",
     "text": [
      "Python------------------------ is my favoriate programming language.\n"
     ]
    }
   ],
   "source": [
    "text='Python'\n",
    "text=text.ljust(30,'-')\n",
    "print(text,'is my favoriate programming language.')"
   ]
  },
  {
   "cell_type": "markdown",
   "id": "c6f9a1a3-d09f-44cd-9423-672f50165115",
   "metadata": {},
   "source": [
    "# rjust() function\n",
    " * __It returns the right justified version of the certain string.__"
   ]
  },
  {
   "cell_type": "code",
   "execution_count": 53,
   "id": "37fa75fd-c5e1-497c-bca2-46d5d1770d99",
   "metadata": {},
   "outputs": [
    {
     "name": "stdout",
     "output_type": "stream",
     "text": [
      "------------------------Python is my favoriate programming language.\n"
     ]
    }
   ],
   "source": [
    "text='Python'\n",
    "text=text.rjust(30,'-')\n",
    "print(text,'is my favoriate programming language.')"
   ]
  },
  {
   "cell_type": "markdown",
   "id": "567886f5-9da7-4c7d-8610-d91dee2400a1",
   "metadata": {},
   "source": [
    "# lstrip() function\n",
    " * __It removes characters from the left bassed on the argument(a string specifying the set of characters to be removed).__"
   ]
  },
  {
   "cell_type": "code",
   "execution_count": 56,
   "id": "70260b3b-9230-4c3f-acba-ce1096ff4ebd",
   "metadata": {},
   "outputs": [
    {
     "name": "stdout",
     "output_type": "stream",
     "text": [
      "Hello Python!     \n"
     ]
    }
   ],
   "source": [
    "text='               Hello Python!     '\n",
    "print(text.lstrip())  # it did not delete the white spaces int he right side."
   ]
  },
  {
   "cell_type": "markdown",
   "id": "857a89dd-27b3-46a7-aed9-40726cee6f30",
   "metadata": {},
   "source": [
    "# rstrip() function\n",
    " * __it removes characters from the right based on the argument(a string specifying the set of characters to be removed).__"
   ]
  },
  {
   "cell_type": "code",
   "execution_count": 57,
   "id": "27762407-bb0e-4c0f-83ae-7e104710b70e",
   "metadata": {},
   "outputs": [
    {
     "name": "stdout",
     "output_type": "stream",
     "text": [
      "          Hello Python!\n"
     ]
    }
   ],
   "source": [
    "text='          Hello Python!'\n",
    "print(text.rstrip()) # It did not delete the white spaces in the left side."
   ]
  },
  {
   "cell_type": "markdown",
   "id": "e22b6776-bc78-4c9f-8e79-03cc2184d528",
   "metadata": {},
   "source": [
    "# strip() function\n",
    " * __It removes or turncate the given characters from the beginning and end of the original string.__\n",
    " * __The default behavior of the stip() method is to removed the whitespaces from the beginning and at the end of the string.__"
   ]
  },
  {
   "cell_type": "code",
   "execution_count": 58,
   "id": "b8c638df-4e03-4dd9-9edc-4651ff643a14",
   "metadata": {},
   "outputs": [
    {
     "name": "stdout",
     "output_type": "stream",
     "text": [
      "Hello Python!\n"
     ]
    }
   ],
   "source": [
    "text='     Hello Python!    '\n",
    "print(text.strip())"
   ]
  },
  {
   "cell_type": "markdown",
   "id": "ca8071b4-e892-4029-8f92-cee7b6199bbb",
   "metadata": {},
   "source": [
    "# replace() function\n",
    "\n",
    " * __Replaces a specified phrase with another specified phrase.__"
   ]
  },
  {
   "cell_type": "code",
   "execution_count": 60,
   "id": "3473eb63-6783-457f-a77e-a7f9fc76d536",
   "metadata": {},
   "outputs": [
    {
     "name": "stdout",
     "output_type": "stream",
     "text": [
      "javaScript is a programming language.\n",
      "Python is a programming language.\n"
     ]
    }
   ],
   "source": [
    "text='javaScript is a programming language.'\n",
    "print(text)\n",
    "modified_text=text.replace('javaScript','Python')\n",
    "print(modified_text)"
   ]
  },
  {
   "cell_type": "markdown",
   "id": "dd21972e-d337-4adf-a001-bdd8ce895890",
   "metadata": {},
   "source": [
    "# partition() function\n",
    "\n",
    " * __It searches for a specified string, and splits the string into a tuple containing three elements.__\n",
    " * __The first element containts the part before the specified string.__\n",
    " * __The Second element contains the spefied string.__\n",
    " * __The third element contains the part after the string.__"
   ]
  },
  {
   "cell_type": "code",
   "execution_count": 61,
   "id": "d2d70536-480e-41c7-ad79-225d040a4415",
   "metadata": {},
   "outputs": [
    {
     "name": "stdout",
     "output_type": "stream",
     "text": [
      "('Hello World!,', 'Hi', ' Python!')\n"
     ]
    }
   ],
   "source": [
    "text='Hello World!,Hi Python!'\n",
    "print(text.partition('Hi'))\n"
   ]
  },
  {
   "cell_type": "markdown",
   "id": "f4686964-6e1a-420b-b989-a5506e6e9eb6",
   "metadata": {},
   "source": [
    "# rfind() function\n",
    " * __The rfind() method finds the last occurrence of the specified value.__\n",
    " * __The rfind() method return -1 if the value is not found.__\n",
    " * __The rfind() method is almost the same as the rindex() method.__"
   ]
  },
  {
   "cell_type": "code",
   "execution_count": 70,
   "id": "730accee-0807-4820-9fc1-9ed7c98ddac9",
   "metadata": {},
   "outputs": [
    {
     "name": "stdout",
     "output_type": "stream",
     "text": [
      "Python is in the position7\n",
      "'My' is in the position 17\n",
      "'close' is in the position -1\n"
     ]
    }
   ],
   "source": [
    "text='Hello, Python is my favorite programming language.'\n",
    "print(f\"Python is in the position{text.rfind('Python')}\")\n",
    "print(f\"'My' is in the position {text.rfind('my')}\")\n",
    "print(f\"'close' is in the position {text.rfind('close')}\")"
   ]
  },
  {
   "cell_type": "markdown",
   "id": "47ffe9dd-3243-4c44-8f15-a92b2596d6fc",
   "metadata": {},
   "source": [
    "# rindex() function\n",
    "\n",
    " * __The rindex() method finds the last occurrence of the specified value.__\n",
    " * __The rindex() method raises a ValueError exception if the value is not found.__\n",
    " * __The rindex() mehtod is almost the same as the rfind() mtheod.__ "
   ]
  },
  {
   "cell_type": "code",
   "execution_count": 73,
   "id": "1d7f0156-afaa-43c5-ac66-eeaf96c3165e",
   "metadata": {},
   "outputs": [
    {
     "name": "stdout",
     "output_type": "stream",
     "text": [
      "'Python' is in the position 6\n",
      "'my' is in the position 16\n"
     ]
    },
    {
     "ename": "ValueError",
     "evalue": "substring not found",
     "output_type": "error",
     "traceback": [
      "\u001b[1;31m---------------------------------------------------------------------------\u001b[0m",
      "\u001b[1;31mValueError\u001b[0m                                Traceback (most recent call last)",
      "Cell \u001b[1;32mIn[73], line 4\u001b[0m\n\u001b[0;32m      2\u001b[0m \u001b[38;5;28mprint\u001b[39m(\u001b[38;5;124mf\u001b[39m\u001b[38;5;124m\"\u001b[39m\u001b[38;5;124m'\u001b[39m\u001b[38;5;124mPython\u001b[39m\u001b[38;5;124m'\u001b[39m\u001b[38;5;124m is in the position \u001b[39m\u001b[38;5;132;01m{\u001b[39;00mtext\u001b[38;5;241m.\u001b[39mrindex(\u001b[38;5;124m'\u001b[39m\u001b[38;5;124mPython\u001b[39m\u001b[38;5;124m'\u001b[39m)\u001b[38;5;132;01m}\u001b[39;00m\u001b[38;5;124m\"\u001b[39m)\n\u001b[0;32m      3\u001b[0m \u001b[38;5;28mprint\u001b[39m(\u001b[38;5;124mf\u001b[39m\u001b[38;5;124m\"\u001b[39m\u001b[38;5;124m'\u001b[39m\u001b[38;5;124mmy\u001b[39m\u001b[38;5;124m'\u001b[39m\u001b[38;5;124m is in the position \u001b[39m\u001b[38;5;132;01m{\u001b[39;00mtext\u001b[38;5;241m.\u001b[39mrindex(\u001b[38;5;124m'\u001b[39m\u001b[38;5;124mmy\u001b[39m\u001b[38;5;124m'\u001b[39m)\u001b[38;5;132;01m}\u001b[39;00m\u001b[38;5;124m\"\u001b[39m)\n\u001b[1;32m----> 4\u001b[0m \u001b[38;5;28mprint\u001b[39m(\u001b[38;5;124mf\u001b[39m\u001b[38;5;124m\"\u001b[39m\u001b[38;5;124m'\u001b[39m\u001b[38;5;124mclose\u001b[39m\u001b[38;5;124m'\u001b[39m\u001b[38;5;124m is in the position \u001b[39m\u001b[38;5;132;01m{\u001b[39;00m\u001b[43mtext\u001b[49m\u001b[38;5;241;43m.\u001b[39;49m\u001b[43mrindex\u001b[49m\u001b[43m(\u001b[49m\u001b[38;5;124;43m'\u001b[39;49m\u001b[38;5;124;43mclose\u001b[39;49m\u001b[38;5;124;43m'\u001b[39;49m\u001b[43m)\u001b[49m\u001b[38;5;132;01m}\u001b[39;00m\u001b[38;5;124m\"\u001b[39m)\n",
      "\u001b[1;31mValueError\u001b[0m: substring not found"
     ]
    }
   ],
   "source": [
    "text='Hello,Python is my favorite programming language.'\n",
    "print(f\"'Python' is in the position {text.rindex('Python')}\")\n",
    "print(f\"'my' is in the position {text.rindex('my')}\")\n",
    "print(f\"'close' is in the position {text.rindex('close')}\")"
   ]
  },
  {
   "cell_type": "markdown",
   "id": "0152bd8a-2083-4e1b-a12a-859f39360596",
   "metadata": {},
   "source": [
    "# swapcase() function\n",
    "\n",
    " * __The function converts the uppercase characters into lowercase and vice versa.__"
   ]
  },
  {
   "cell_type": "code",
   "execution_count": 76,
   "id": "ea83f598-582f-4f52-b4b2-1fc4888d1685",
   "metadata": {},
   "outputs": [
    {
     "name": "stdout",
     "output_type": "stream",
     "text": [
      "hELLO pYTHON\n",
      "Hello Python\n"
     ]
    }
   ],
   "source": [
    "text='Hello Python'\n",
    "print(text.swapcase())\n",
    "text='hELLO pYTHON'\n",
    "print(text.swapcase())"
   ]
  },
  {
   "cell_type": "markdown",
   "id": "f0189024-8175-46ae-972d-a4be8574e0e2",
   "metadata": {},
   "source": [
    "# title() function\n",
    "\n",
    " * __This function converts the first characters in the given string into uppercase.__"
   ]
  },
  {
   "cell_type": "code",
   "execution_count": 77,
   "id": "2914412a-60f6-431c-b554-630383a1bce5",
   "metadata": {},
   "outputs": [
    {
     "name": "stdout",
     "output_type": "stream",
     "text": [
      "Hello World,Hi Python\n"
     ]
    }
   ],
   "source": [
    "text='hello world,hi python'\n",
    "print(text.title())"
   ]
  },
  {
   "cell_type": "code",
   "execution_count": null,
   "id": "8e9f976b-b3f5-489a-afb1-55cd5c1a706f",
   "metadata": {},
   "outputs": [],
   "source": []
  }
 ],
 "metadata": {
  "kernelspec": {
   "display_name": "Python 3 (ipykernel)",
   "language": "python",
   "name": "python3"
  },
  "language_info": {
   "codemirror_mode": {
    "name": "ipython",
    "version": 3
   },
   "file_extension": ".py",
   "mimetype": "text/x-python",
   "name": "python",
   "nbconvert_exporter": "python",
   "pygments_lexer": "ipython3",
   "version": "3.11.4"
  }
 },
 "nbformat": 4,
 "nbformat_minor": 5
}
