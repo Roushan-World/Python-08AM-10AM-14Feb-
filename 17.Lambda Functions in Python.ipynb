{
 "cells": [
  {
   "cell_type": "markdown",
   "id": "d6055d1c-06f3-4467-9979-2f4bc838d045",
   "metadata": {},
   "source": [
    "# 17. Lambda Functions in Python\n",
    "\n",
    " * __A Lambda function is small anonymous function.__\n",
    " * __A Lambda function can take any number of arguments, but can only have one expression.__\n",
    " * __The expression is evaluated and returned.__\n",
    " * __Lambda functions can be used wherever function objects are required.__\n",
    " * __Lambda expressions(or lambda functions) are essentially blocks of code that can be assigned to variables, passed as an argument, or returned from a function call, in languages that support high-order functions.__\n",
    " * __They have been part of programming languages for quire some time.__\n",
    " * __The main role of the lambda function is better in the scanarios when we employ them anonymously inside another function.__\n",
    " * __In Python, the lambda function can be utilized as an argument to the higher order functions as arguments.__\n",
    "\n",
    "# Lambda functions in Python\n",
    " * __Syntax__\n",
    "    * __Normal function__\n",
    "    * __Anonymous(lambda) funciton__\n",
    " * __Usage__\n",
    "    * __Lambda with filter()__\n",
    "    * __Lambda with map()__\n",
    "    * __Lambda with reduce()__\n",
    "    * __Lambda with sorted()__\n",
    "    * __Lambda with apply()__\n",
    " * __Common Error__\n",
    "    * __SyntaxError__\n",
    "    * __TypeError__"
   ]
  },
  {
   "cell_type": "code",
   "execution_count": 1,
   "id": "858ca8e0-b546-4241-bf45-f85911ee475a",
   "metadata": {},
   "outputs": [
    {
     "data": {
      "text/plain": [
       "26"
      ]
     },
     "execution_count": 1,
     "metadata": {},
     "output_type": "execute_result"
    }
   ],
   "source": [
    "def f(x):\n",
    "    return x+6\n",
    "f(20)"
   ]
  },
  {
   "cell_type": "code",
   "execution_count": 2,
   "id": "f04be8e2-88b5-4b54-9cc8-fd523944ab6d",
   "metadata": {},
   "outputs": [
    {
     "data": {
      "text/plain": [
       "26"
      ]
     },
     "execution_count": 2,
     "metadata": {},
     "output_type": "execute_result"
    }
   ],
   "source": [
    "(lambda x:x+6)(20)"
   ]
  },
  {
   "cell_type": "code",
   "execution_count": 16,
   "id": "8fb90598-0f1f-4b98-96b4-6f48e910b031",
   "metadata": {},
   "outputs": [
    {
     "name": "stdout",
     "output_type": "stream",
     "text": [
      "The Sum of two numbers is= 70\n"
     ]
    }
   ],
   "source": [
    "def sum1(x,y):\n",
    "    return x+y\n",
    "\n",
    "print('The Sum of two numbers is {} and {} ='.format(20,50),sum1(20,50))"
   ]
  },
  {
   "cell_type": "code",
   "execution_count": 18,
   "id": "dddc0e52-bf51-4747-86a7-e47e0821aa03",
   "metadata": {},
   "outputs": [
    {
     "name": "stdout",
     "output_type": "stream",
     "text": [
      "The Sum of two numbers is = 70\n"
     ]
    }
   ],
   "source": [
    "print(f'The Sum of two numbers is = {(lambda x,y:x+y)(20,50)}')"
   ]
  },
  {
   "cell_type": "code",
   "execution_count": 20,
   "id": "78764e89-964d-4f89-9eb2-6d2989a777e1",
   "metadata": {},
   "outputs": [
    {
     "name": "stdout",
     "output_type": "stream",
     "text": [
      "The cube of the number is: 1000\n"
     ]
    }
   ],
   "source": [
    "def cube(a):\n",
    "    return a**3\n",
    "\n",
    "print(f'The cube of the number is: {cube(10)}')"
   ]
  },
  {
   "cell_type": "code",
   "execution_count": 22,
   "id": "8385752d-b407-4347-929c-e21b805c55fd",
   "metadata": {},
   "outputs": [
    {
     "name": "stdout",
     "output_type": "stream",
     "text": [
      "The cube of the number is: 1000\n"
     ]
    }
   ],
   "source": [
    "print(f'The cube of the number is: {(lambda x:x*x*x)(10)}')"
   ]
  },
  {
   "cell_type": "code",
   "execution_count": 24,
   "id": "9ffa4e25-0689-42bd-965e-6882a2f26965",
   "metadata": {},
   "outputs": [
    {
     "name": "stdin",
     "output_type": "stream",
     "text": [
      "Enter any number: 10\n"
     ]
    },
    {
     "name": "stdout",
     "output_type": "stream",
     "text": [
      "10X1=10\n",
      "10X2=20\n",
      "10X3=30\n",
      "10X4=40\n",
      "10X5=50\n",
      "10X6=60\n",
      "10X7=70\n",
      "10X8=80\n",
      "10X9=90\n",
      "10X10=100\n"
     ]
    }
   ],
   "source": [
    "# waf to table of user input number\n",
    "\n",
    "def table():\n",
    "    n=int(input('Enter any number:'))\n",
    "    for i in range(1,11):\n",
    "        table=n*i\n",
    "        print(f'{n}X{i}={table}')\n",
    "\n",
    "table()"
   ]
  },
  {
   "cell_type": "code",
   "execution_count": 28,
   "id": "5af555ee-ce04-46bf-a2bf-be3ccdc76bff",
   "metadata": {},
   "outputs": [
    {
     "name": "stdin",
     "output_type": "stream",
     "text": [
      "Enter any number 23\n"
     ]
    },
    {
     "name": "stdout",
     "output_type": "stream",
     "text": [
      "23X1=23\n",
      "23X2=46\n",
      "23X3=69\n",
      "23X4=92\n",
      "23X5=115\n",
      "23X6=138\n",
      "23X7=161\n",
      "23X8=184\n",
      "23X9=207\n",
      "23X10=230\n"
     ]
    }
   ],
   "source": [
    "def table1(n):\n",
    "    return lambda x:x*n\n",
    "\n",
    "\n",
    "n=int(input('Enter any number'))\n",
    "y=table1(n)\n",
    "for i in range(1,11):\n",
    "    print('%dX%d=%d'%(n,i,y(i)))"
   ]
  },
  {
   "cell_type": "code",
   "execution_count": 32,
   "id": "b15e301c-5ba9-40ca-999d-912789ea4392",
   "metadata": {},
   "outputs": [
    {
     "name": "stdin",
     "output_type": "stream",
     "text": [
      "Enter any number: 5\n"
     ]
    },
    {
     "name": "stdout",
     "output_type": "stream",
     "text": [
      "5 is Odd number\n"
     ]
    }
   ],
   "source": [
    "def even():\n",
    "    x=int(input('Enter any number:'))\n",
    "\n",
    "    if x%2==0:\n",
    "        print(f'{x} is Even Number')\n",
    "    else:\n",
    "        print(f'{x} is Odd number')\n",
    "\n",
    "even()"
   ]
  },
  {
   "cell_type": "code",
   "execution_count": 39,
   "id": "06b17b03-96db-447d-a06f-19cbbf0791dd",
   "metadata": {},
   "outputs": [
    {
     "name": "stdin",
     "output_type": "stream",
     "text": [
      "Enter any number:  5\n"
     ]
    },
    {
     "name": "stdout",
     "output_type": "stream",
     "text": [
      "The number is even: False\n"
     ]
    }
   ],
   "source": [
    "x=int(input('Enter any number: '))\n",
    "print(f'The number is even: {(lambda x:(x%2==0))(x)}')"
   ]
  },
  {
   "cell_type": "markdown",
   "id": "26ff581a-f249-47af-a8e8-dd5c26c9d3e9",
   "metadata": {},
   "source": [
    "# filter()"
   ]
  },
  {
   "cell_type": "code",
   "execution_count": 38,
   "id": "0b7af564-ea55-4f37-bf9f-f16d1506e11c",
   "metadata": {},
   "outputs": [
    {
     "data": {
      "text/plain": [
       "[6, 28]"
      ]
     },
     "execution_count": 38,
     "metadata": {},
     "output_type": "execute_result"
    }
   ],
   "source": [
    "# This program returns a new list when the special numbers in the list are divided by 2 and the remainder is equal to 0.\n",
    "special_nums=[0.577,2.718,3.147,6,28,37,1729]\n",
    "list(filter(lambda x:(x%2==0),special_nums))"
   ]
  },
  {
   "cell_type": "code",
   "execution_count": 40,
   "id": "833e0946-2b48-4dd1-aaf5-388810f0d2cf",
   "metadata": {},
   "outputs": [
    {
     "data": {
      "text/plain": [
       "[15, 30, 45, 60]"
      ]
     },
     "execution_count": 40,
     "metadata": {},
     "output_type": "execute_result"
    }
   ],
   "source": [
    "numbers=[10,11,15,21,30,45,60]\n",
    "list(filter(lambda x:(x%3==0 and x%5==0),numbers))"
   ]
  },
  {
   "cell_type": "markdown",
   "id": "8e57fe99-009a-4210-bbe4-a44bb7b77e22",
   "metadata": {},
   "source": [
    "# map() function"
   ]
  },
  {
   "cell_type": "code",
   "execution_count": 43,
   "id": "a84e4ceb-ec91-43d2-92f8-92994b69f709",
   "metadata": {},
   "outputs": [
    {
     "name": "stdout",
     "output_type": "stream",
     "text": [
      "Non special numbers are[2.885, 8.09, 13.59, 15.700000000000001, 30, 140, 185, 8645]\n",
      "Non special numbers list is [0.332929, 2.6179240000000004, 7.387524, 9.8596, 36, 784, 1369, 2989441]\n"
     ]
    }
   ],
   "source": [
    "# This program will multiplicate each of the list with 5 and followed by power of 2.\n",
    "\n",
    "special_nums=[0.577,1.618,2.718,3.14,6,28,37,1729]\n",
    "\n",
    "print(f'Non special numbers are{list(map(lambda x:x*5,special_nums))}')\n",
    "print(f'Non special numbers list is {list(map(lambda x:pow(x,2),special_nums))}')"
   ]
  },
  {
   "cell_type": "markdown",
   "id": "1027dfc9-45c0-4525-8e2f-a6339df6b616",
   "metadata": {},
   "source": [
    "# List Comprehensions"
   ]
  },
  {
   "cell_type": "code",
   "execution_count": 2,
   "id": "a0fd4de0-3f1c-4e69-802e-e12914bbc4b4",
   "metadata": {},
   "outputs": [
    {
     "name": "stdout",
     "output_type": "stream",
     "text": [
      "[3.14, 4.140000000000001, 5.140000000000001, 6.140000000000001, 7.140000000000001]\n"
     ]
    }
   ],
   "source": [
    "nums=[lambda a=a:a+3.14 for a in range(5)]\n",
    "nlis=[]\n",
    "for num in nums:\n",
    "    nlis.append(num())\n",
    "print(nlis)"
   ]
  },
  {
   "cell_type": "markdown",
   "id": "56b6690d-78e9-45da-a805-343e9de7989d",
   "metadata": {},
   "source": [
    "# lambda function with if/else\n",
    "\n"
   ]
  },
  {
   "cell_type": "code",
   "execution_count": 4,
   "id": "d7821e44-66a4-4801-a890-42b4cebd4654",
   "metadata": {},
   "outputs": [
    {
     "name": "stdin",
     "output_type": "stream",
     "text": [
      "Enter an age: 45\n"
     ]
    },
    {
     "name": "stdout",
     "output_type": "stream",
     "text": [
      "Therefore your can use a vote.\n"
     ]
    }
   ],
   "source": [
    "age=int(input('Enter an age:'))\n",
    "(lambda age:print('Therefore your can use a vote.') if (age>=18) else print('Therefore you do not use a vote.'))(age)"
   ]
  },
  {
   "cell_type": "code",
   "execution_count": 5,
   "id": "dfdd6ab1-3cbf-4f48-8cc7-336c95edd4e2",
   "metadata": {},
   "outputs": [
    {
     "name": "stdin",
     "output_type": "stream",
     "text": [
      "Enter your string here: Python is a programming languages.\n"
     ]
    },
    {
     "name": "stdout",
     "output_type": "stream",
     "text": [
      "Python is a programming languages.\n"
     ]
    }
   ],
   "source": [
    "# print string using lambda function\n",
    "\n",
    "text=input('Enter your string here:')\n",
    "(lambda text:print(text))(text)"
   ]
  },
  {
   "cell_type": "code",
   "execution_count": null,
   "id": "39197709-93ba-4067-8d5d-32820709474a",
   "metadata": {},
   "outputs": [],
   "source": []
  }
 ],
 "metadata": {
  "kernelspec": {
   "display_name": "Python 3 (ipykernel)",
   "language": "python",
   "name": "python3"
  },
  "language_info": {
   "codemirror_mode": {
    "name": "ipython",
    "version": 3
   },
   "file_extension": ".py",
   "mimetype": "text/x-python",
   "name": "python",
   "nbconvert_exporter": "python",
   "pygments_lexer": "ipython3",
   "version": "3.12.2"
  }
 },
 "nbformat": 4,
 "nbformat_minor": 5
}
