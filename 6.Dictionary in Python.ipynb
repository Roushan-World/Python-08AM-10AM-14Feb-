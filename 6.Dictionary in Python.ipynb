{
 "cells": [
  {
   "cell_type": "markdown",
   "id": "16db757f-be46-4979-8785-c761bcb20c4e",
   "metadata": {},
   "source": [
    "# 6. Dictionary in Python\n",
    "\n",
    " * __Dictionary are used to store data values in key:value pairs.__\n",
    " * __A dictionary is a collection which is ordered, changeable or mutable and do not allow duplicate.__\n",
    " * __Dictionary itesm are presented in key:value pairs, and can be referred to by using the key name.__\n",
    " * __Dicitonaries are changeable, meaning that we can change, and or remove items after the dicionary has been created.__\n",
    " * __Dictionary cannot have two items with the same key.__\n",
    " * __Dicitionaries can nested and can contain another dictionary.___\n",
    "\n",
    "   \n",
    "   * __Keys__ -------------------__Values__\n",
    "   * __'name'__------------------__'Bob'__\n",
    "   * __'age'__-------------------__26__\n",
    "   * __'job'__-------------------__'Devops'__\n",
    "   * __'city'__------------------__'Texas'__\n",
    "   * __'email'__-----------------__'bob@web.com'__\n",
    "   "
   ]
  },
  {
   "cell_type": "code",
   "execution_count": 1,
   "id": "08676a19-56eb-4c1c-b47c-40923c93fc3f",
   "metadata": {},
   "outputs": [
    {
     "data": {
      "text/plain": [
       "{}"
      ]
     },
     "execution_count": 1,
     "metadata": {},
     "output_type": "execute_result"
    }
   ],
   "source": [
    "dict1={}  #empty dicitonary.\n",
    "dict1"
   ]
  },
  {
   "cell_type": "code",
   "execution_count": 2,
   "id": "eaca71c5-a154-4428-9b4d-85147474ff1a",
   "metadata": {},
   "outputs": [
    {
     "data": {
      "text/plain": [
       "dict"
      ]
     },
     "execution_count": 2,
     "metadata": {},
     "output_type": "execute_result"
    }
   ],
   "source": [
    "type(dict1)"
   ]
  },
  {
   "cell_type": "code",
   "execution_count": 3,
   "id": "45b29e5f-caed-490f-a284-fbca067d1fcf",
   "metadata": {},
   "outputs": [
    {
     "data": {
      "text/plain": [
       "{'key_1': 3.14,\n",
       " 'key_2': 2.718,\n",
       " 'key_3': True,\n",
       " 'key_4': False,\n",
       " 'key_5': 'Hello Python',\n",
       " 'key_6': 100,\n",
       " 'key_7': [10, 20]}"
      ]
     },
     "execution_count": 3,
     "metadata": {},
     "output_type": "execute_result"
    }
   ],
   "source": [
    "dict1={'key_1':3.14,'key_2':2.718,'key_3':True,\n",
    "      'key_4':False,'key_5':\"Hello Python\",\n",
    "      'key_6':100,'key_7':[10,20]}\n",
    "dict1"
   ]
  },
  {
   "cell_type": "code",
   "execution_count": 4,
   "id": "c2cd8b77-3a1e-4d4d-9b8c-27cf16f09244",
   "metadata": {},
   "outputs": [
    {
     "name": "stdout",
     "output_type": "stream",
     "text": [
      "<class 'dict'>\n"
     ]
    }
   ],
   "source": [
    "print(type(dict1))"
   ]
  },
  {
   "cell_type": "code",
   "execution_count": 10,
   "id": "a00e0285-de4e-498e-9c36-6109b5acf223",
   "metadata": {},
   "outputs": [
    {
     "name": "stdout",
     "output_type": "stream",
     "text": [
      "3.14\n",
      "2.718\n",
      "True\n",
      "False\n",
      "Hello Python\n",
      "100\n",
      "[10, 20]\n"
     ]
    }
   ],
   "source": [
    "# Accessing values by keys in dictionary.\n",
    "\n",
    "print(dict1['key_1'])\n",
    "print(dict1['key_2'])\n",
    "print(dict1['key_3'])\n",
    "print(dict1['key_4'])\n",
    "print(dict1['key_5'])\n",
    "print(dict1['key_6'])\n",
    "print(dict1['key_7'])"
   ]
  },
  {
   "cell_type": "code",
   "execution_count": 11,
   "id": "b0e152db-b14c-4e0f-808a-5a22c19524c7",
   "metadata": {},
   "outputs": [
    {
     "data": {
      "text/plain": [
       "dict_keys(['key_1', 'key_2', 'key_3', 'key_4', 'key_5', 'key_6', 'key_7'])"
      ]
     },
     "execution_count": 11,
     "metadata": {},
     "output_type": "execute_result"
    }
   ],
   "source": [
    "# keys function\n",
    "\n",
    "dict1.keys()"
   ]
  },
  {
   "cell_type": "code",
   "execution_count": 12,
   "id": "56673d6a-4de6-4e82-85d7-c93c265383e5",
   "metadata": {},
   "outputs": [
    {
     "data": {
      "text/plain": [
       "dict_values([3.14, 2.718, True, False, 'Hello Python', 100, [10, 20]])"
      ]
     },
     "execution_count": 12,
     "metadata": {},
     "output_type": "execute_result"
    }
   ],
   "source": [
    "# values function\n",
    "dict1.values()"
   ]
  },
  {
   "cell_type": "code",
   "execution_count": 13,
   "id": "92c0f3da-4785-4a80-9c3e-a7c89b91968b",
   "metadata": {},
   "outputs": [
    {
     "data": {
      "text/plain": [
       "{'name': 'Happy New year',\n",
       " 'age': 26,\n",
       " 'address': 'Pune',\n",
       " 'email': 'newyear@gmail.com',\n",
       " 'Phone': '7894561230'}"
      ]
     },
     "execution_count": 13,
     "metadata": {},
     "output_type": "execute_result"
    }
   ],
   "source": [
    "details={\"name\":\"Happy New year\",\"age\":26,\n",
    "        \"address\":\"Pune\",\"email\":\"newyear@gmail.com\",\n",
    "        \"Phone\":\"7894561230\"}\n",
    "details"
   ]
  },
  {
   "cell_type": "code",
   "execution_count": 15,
   "id": "b39ce64f-793f-4d5a-9bb4-1e3a4f1554b1",
   "metadata": {},
   "outputs": [
    {
     "data": {
      "text/plain": [
       "{'name': 'Payal',\n",
       " 'age': 26,\n",
       " 'address': 'Pune',\n",
       " 'email': 'newyear@gmail.com',\n",
       " 'Phone': '7894561230'}"
      ]
     },
     "execution_count": 15,
     "metadata": {},
     "output_type": "execute_result"
    }
   ],
   "source": [
    "# updating value in the dictionary.\n",
    "\n",
    "details['name']=\"Payal\"\n",
    "details"
   ]
  },
  {
   "cell_type": "code",
   "execution_count": 16,
   "id": "90a71cf0-f67b-4462-9ed5-56b49f5faf16",
   "metadata": {},
   "outputs": [
    {
     "data": {
      "text/plain": [
       "{'name': 'Payal',\n",
       " 'age': 26,\n",
       " 'address': 'Pune',\n",
       " 'email': 'newyear@gmail.com',\n",
       " 'Phone': '7894561230',\n",
       " 'Company_Name': 'Infosys Techonology'}"
      ]
     },
     "execution_count": 16,
     "metadata": {},
     "output_type": "execute_result"
    }
   ],
   "source": [
    "# Adding new keys and valus in the dicionary:\n",
    "\n",
    "details['Company_Name']=\"Infosys Techonology\"\n",
    "details"
   ]
  },
  {
   "cell_type": "code",
   "execution_count": 17,
   "id": "47c769bf-ebc9-4566-93be-0530675beeb2",
   "metadata": {},
   "outputs": [],
   "source": [
    "# Deleting an elements in dicitonary\n",
    "\n",
    "del(details['Company_Name'])"
   ]
  },
  {
   "cell_type": "code",
   "execution_count": 18,
   "id": "dd19d15e-36a2-418b-a83c-3327cc31cbea",
   "metadata": {},
   "outputs": [
    {
     "data": {
      "text/plain": [
       "{'name': 'Payal',\n",
       " 'age': 26,\n",
       " 'address': 'Pune',\n",
       " 'email': 'newyear@gmail.com',\n",
       " 'Phone': '7894561230'}"
      ]
     },
     "execution_count": 18,
     "metadata": {},
     "output_type": "execute_result"
    }
   ],
   "source": [
    "details"
   ]
  },
  {
   "cell_type": "code",
   "execution_count": 19,
   "id": "8eb630fd-bc97-4f50-818b-780f84f362ad",
   "metadata": {},
   "outputs": [
    {
     "data": {
      "text/plain": [
       "{'name': 'Payal',\n",
       " 'age': 26,\n",
       " 'address': 'Pune',\n",
       " 'email': 'newyear@gmail.com',\n",
       " 'Phone': '7894561230'}"
      ]
     },
     "execution_count": 19,
     "metadata": {},
     "output_type": "execute_result"
    }
   ],
   "source": [
    "# Verification in or not in in dictionary.\n",
    "\n",
    "details"
   ]
  },
  {
   "cell_type": "code",
   "execution_count": 24,
   "id": "68d1378b-d829-48ad-930d-b3193b850d6a",
   "metadata": {},
   "outputs": [
    {
     "name": "stdout",
     "output_type": "stream",
     "text": [
      "True\n",
      "True\n",
      "False\n",
      "True\n",
      "False\n"
     ]
    }
   ],
   "source": [
    "print('name' in details)\n",
    "print('age' in details)\n",
    "print('Comapny_name' in details)\n",
    "print('email' in details)\n",
    "print('Phone' not in details)"
   ]
  },
  {
   "cell_type": "code",
   "execution_count": 26,
   "id": "1324cbc7-29f1-42aa-83bb-4e718f1d0fab",
   "metadata": {},
   "outputs": [],
   "source": [
    "# Dict function\n",
    "\n",
    "dict_1=dict(name='new year',age=25,gender='Male',contact='7894562031',email='newyear25@gmail.com')"
   ]
  },
  {
   "cell_type": "code",
   "execution_count": 27,
   "id": "d19c492a-ed76-4668-9ffd-12a7063fd6e7",
   "metadata": {},
   "outputs": [
    {
     "data": {
      "text/plain": [
       "{'name': 'new year',\n",
       " 'age': 25,\n",
       " 'gender': 'Male',\n",
       " 'contact': '7894562031',\n",
       " 'email': 'newyear25@gmail.com'}"
      ]
     },
     "execution_count": 27,
     "metadata": {},
     "output_type": "execute_result"
    }
   ],
   "source": [
    "dict_1"
   ]
  },
  {
   "cell_type": "code",
   "execution_count": 28,
   "id": "98178015-e8d7-411b-83f9-a4dc22f66479",
   "metadata": {},
   "outputs": [
    {
     "data": {
      "text/plain": [
       "dict_keys(['name', 'age', 'gender', 'contact', 'email'])"
      ]
     },
     "execution_count": 28,
     "metadata": {},
     "output_type": "execute_result"
    }
   ],
   "source": [
    "dict_1.keys()"
   ]
  },
  {
   "cell_type": "code",
   "execution_count": 29,
   "id": "0d546860-a449-4b49-afc1-cd78ea156e96",
   "metadata": {},
   "outputs": [
    {
     "data": {
      "text/plain": [
       "dict_values(['new year', 25, 'Male', '7894562031', 'newyear25@gmail.com'])"
      ]
     },
     "execution_count": 29,
     "metadata": {},
     "output_type": "execute_result"
    }
   ],
   "source": [
    "dict_1.values()"
   ]
  },
  {
   "cell_type": "code",
   "execution_count": 30,
   "id": "1114de7a-c7b9-41d3-b989-a1f9a2efd3f1",
   "metadata": {},
   "outputs": [
    {
     "data": {
      "text/plain": [
       "{'name': 'new year',\n",
       " 'age': 25,\n",
       " 'gender': 'Male',\n",
       " 'contact': '7894562031',\n",
       " 'email': 'newyear25@gmail.com'}"
      ]
     },
     "execution_count": 30,
     "metadata": {},
     "output_type": "execute_result"
    }
   ],
   "source": [
    "# pop() function\n",
    "dict_1"
   ]
  },
  {
   "cell_type": "code",
   "execution_count": 33,
   "id": "427df706-2b17-4e4d-b112-dad7c5523153",
   "metadata": {},
   "outputs": [
    {
     "data": {
      "text/plain": [
       "'newyear25@gmail.com'"
      ]
     },
     "execution_count": 33,
     "metadata": {},
     "output_type": "execute_result"
    }
   ],
   "source": [
    "# Deleting an elements in dictioanry.\n",
    "\n",
    "dict_1.pop('email')"
   ]
  },
  {
   "cell_type": "code",
   "execution_count": 34,
   "id": "1996cbc0-b800-4762-b545-5ee2d6047fa9",
   "metadata": {},
   "outputs": [
    {
     "data": {
      "text/plain": [
       "{'name': 'new year', 'age': 25, 'gender': 'Male', 'contact': '7894562031'}"
      ]
     },
     "execution_count": 34,
     "metadata": {},
     "output_type": "execute_result"
    }
   ],
   "source": [
    "dict_1"
   ]
  },
  {
   "cell_type": "code",
   "execution_count": 36,
   "id": "24b0cee0-55c4-4ebc-968f-26ff1cbc46c9",
   "metadata": {},
   "outputs": [
    {
     "data": {
      "text/plain": [
       "('contact', '7894562031')"
      ]
     },
     "execution_count": 36,
     "metadata": {},
     "output_type": "execute_result"
    }
   ],
   "source": [
    "# popitem()\n",
    "dict_1.popitem()"
   ]
  },
  {
   "cell_type": "code",
   "execution_count": 37,
   "id": "715a7c07-79fb-4da0-a1a5-feb12cbe66a6",
   "metadata": {},
   "outputs": [
    {
     "data": {
      "text/plain": [
       "{'name': 'new year', 'age': 25, 'gender': 'Male'}"
      ]
     },
     "execution_count": 37,
     "metadata": {},
     "output_type": "execute_result"
    }
   ],
   "source": [
    "dict_1"
   ]
  },
  {
   "cell_type": "code",
   "execution_count": 38,
   "id": "315d05e1-0df0-48c9-ac7f-938cef8e33c4",
   "metadata": {},
   "outputs": [
    {
     "data": {
      "text/plain": [
       "{'name': 'new year', 'age': 25, 'gender': 'Male'}"
      ]
     },
     "execution_count": 38,
     "metadata": {},
     "output_type": "execute_result"
    }
   ],
   "source": [
    "# get() function\n",
    "\n",
    "dict_1"
   ]
  },
  {
   "cell_type": "code",
   "execution_count": 39,
   "id": "0963279a-a559-4683-8cb4-79d5d731636f",
   "metadata": {},
   "outputs": [
    {
     "data": {
      "text/plain": [
       "'new year'"
      ]
     },
     "execution_count": 39,
     "metadata": {},
     "output_type": "execute_result"
    }
   ],
   "source": [
    "dict_1.get('name')"
   ]
  },
  {
   "cell_type": "code",
   "execution_count": 40,
   "id": "a9458aae-050e-4a63-b718-bab54d860139",
   "metadata": {},
   "outputs": [
    {
     "data": {
      "text/plain": [
       "25"
      ]
     },
     "execution_count": 40,
     "metadata": {},
     "output_type": "execute_result"
    }
   ],
   "source": [
    "dict_1.get('age')"
   ]
  },
  {
   "cell_type": "code",
   "execution_count": 41,
   "id": "6c55d0ce-e12d-4cb9-94ed-873a2a7fc4a6",
   "metadata": {},
   "outputs": [
    {
     "data": {
      "text/plain": [
       "'Male'"
      ]
     },
     "execution_count": 41,
     "metadata": {},
     "output_type": "execute_result"
    }
   ],
   "source": [
    "dict_1.get('gender')"
   ]
  },
  {
   "cell_type": "code",
   "execution_count": 42,
   "id": "44d70a9e-9523-475e-93bf-74cfb2562586",
   "metadata": {},
   "outputs": [],
   "source": [
    "dict_1.get('Company Name')"
   ]
  },
  {
   "cell_type": "code",
   "execution_count": 43,
   "id": "0d0c88d1-bc78-404a-85e6-daec07767dd3",
   "metadata": {},
   "outputs": [
    {
     "data": {
      "text/plain": [
       "{'name': 'new year', 'age': 25, 'gender': 'Male'}"
      ]
     },
     "execution_count": 43,
     "metadata": {},
     "output_type": "execute_result"
    }
   ],
   "source": [
    "dict_1"
   ]
  },
  {
   "cell_type": "code",
   "execution_count": 49,
   "id": "05441ee7-ccf2-4a02-a0fa-a79daf177434",
   "metadata": {},
   "outputs": [
    {
     "name": "stdout",
     "output_type": "stream",
     "text": [
      "{'G', 'T', 'A', 'C'}\n",
      "<class 'set'>\n",
      "{'G': None, 'T': None, 'A': None, 'C': None}\n",
      "<class 'dict'>\n"
     ]
    }
   ],
   "source": [
    "# fromkeys() function\n",
    "\n",
    "keys={'A','T','C','G'}\n",
    "print(keys)\n",
    "print(type(keys))\n",
    "\n",
    "sequence=dict.fromkeys(keys)\n",
    "print(sequence)\n",
    "print(type(sequence))"
   ]
  },
  {
   "cell_type": "code",
   "execution_count": 50,
   "id": "a5529241-2df6-4ad6-9eca-269f1fe46f5a",
   "metadata": {},
   "outputs": [
    {
     "data": {
      "text/plain": [
       "{'G': None, 'T': None, 'A': 'Payal', 'C': None}"
      ]
     },
     "execution_count": 50,
     "metadata": {},
     "output_type": "execute_result"
    }
   ],
   "source": [
    "sequence['A']=\"Payal\"\n",
    "sequence"
   ]
  },
  {
   "cell_type": "code",
   "execution_count": 51,
   "id": "12434376-fcc9-4365-9cf5-4cb514721551",
   "metadata": {},
   "outputs": [
    {
     "data": {
      "text/plain": [
       "{'G': None, 'T': None, 'A': 'Payal', 'C': 'Pune'}"
      ]
     },
     "execution_count": 51,
     "metadata": {},
     "output_type": "execute_result"
    }
   ],
   "source": [
    "sequence['C']=\"Pune\"\n",
    "sequence"
   ]
  },
  {
   "cell_type": "code",
   "execution_count": 52,
   "id": "ab765b5c-3497-43a4-982a-7e286c4a9346",
   "metadata": {},
   "outputs": [],
   "source": [
    "del(sequence['C'])"
   ]
  },
  {
   "cell_type": "code",
   "execution_count": 53,
   "id": "c3661f44-2988-46c1-bbf0-b28ab5d398ec",
   "metadata": {},
   "outputs": [
    {
     "data": {
      "text/plain": [
       "{'G': None, 'T': None, 'A': 'Payal'}"
      ]
     },
     "execution_count": 53,
     "metadata": {},
     "output_type": "execute_result"
    }
   ],
   "source": [
    "sequence"
   ]
  },
  {
   "cell_type": "code",
   "execution_count": 54,
   "id": "7e0eb632-dfc5-4b5a-acf8-c2cc1529ee06",
   "metadata": {},
   "outputs": [
    {
     "data": {
      "text/plain": [
       "{'G': None, 'T': None, 'A': 'Payal'}"
      ]
     },
     "execution_count": 54,
     "metadata": {},
     "output_type": "execute_result"
    }
   ],
   "source": [
    "# clear all element in the dictionary\n",
    "\n",
    "sequence"
   ]
  },
  {
   "cell_type": "code",
   "execution_count": 55,
   "id": "fdb15dbb-8531-4353-b29f-434b6e0b87b6",
   "metadata": {},
   "outputs": [],
   "source": [
    "sequence.clear()"
   ]
  },
  {
   "cell_type": "code",
   "execution_count": 56,
   "id": "93686de4-358a-45c6-9c05-cd9a484b6dae",
   "metadata": {},
   "outputs": [
    {
     "data": {
      "text/plain": [
       "{}"
      ]
     },
     "execution_count": 56,
     "metadata": {},
     "output_type": "execute_result"
    }
   ],
   "source": [
    "sequence"
   ]
  },
  {
   "cell_type": "code",
   "execution_count": 59,
   "id": "e26a7585-11c6-45b7-b577-c612a0adac14",
   "metadata": {},
   "outputs": [
    {
     "data": {
      "text/plain": [
       "{'name': 'new year',\n",
       " 'age': 25,\n",
       " 'gender': 'Male',\n",
       " 'contact': '7894562031',\n",
       " 'email': 'newyear25@gmail.com'}"
      ]
     },
     "execution_count": 59,
     "metadata": {},
     "output_type": "execute_result"
    }
   ],
   "source": [
    "# Dict function\n",
    "\n",
    "dict_1=dict(name='new year',age=25,gender='Male',contact='7894562031',email='newyear25@gmail.com')\n",
    "\n",
    "dict_1.setdefault('name','Payal')\n",
    "dict_1"
   ]
  },
  {
   "cell_type": "code",
   "execution_count": null,
   "id": "c7d4e14a-83eb-4311-8fc3-63ad5d7f11fc",
   "metadata": {},
   "outputs": [],
   "source": []
  }
 ],
 "metadata": {
  "kernelspec": {
   "display_name": "Python 3 (ipykernel)",
   "language": "python",
   "name": "python3"
  },
  "language_info": {
   "codemirror_mode": {
    "name": "ipython",
    "version": 3
   },
   "file_extension": ".py",
   "mimetype": "text/x-python",
   "name": "python",
   "nbconvert_exporter": "python",
   "pygments_lexer": "ipython3",
   "version": "3.11.4"
  }
 },
 "nbformat": 4,
 "nbformat_minor": 5
}
