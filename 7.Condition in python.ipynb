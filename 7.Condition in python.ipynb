{
 "cells": [
  {
   "cell_type": "markdown",
   "id": "22c0d31d-c19e-4792-a98d-6123efe0d9f2",
   "metadata": {},
   "source": [
    "# 7. Condition in Python\n",
    "\n",
    " * __Comparison Operators__\n",
    "    * __Less than(<)__\n",
    "    * __Less than or equal to(<=)__\n",
    "    * __Greater than(>)__\n",
    "    * __Greater than or equal to(>=)__\n",
    "    * __Equal to(==)__\n",
    "    * __Not equal to(!=)__"
   ]
  },
  {
   "cell_type": "code",
   "execution_count": 7,
   "id": "a10d1918-81c3-4439-b621-a15308b8ed7e",
   "metadata": {},
   "outputs": [
    {
     "name": "stdout",
     "output_type": "stream",
     "text": [
      "True\n",
      "False\n",
      "False\n",
      "True\n",
      "True\n",
      "False\n"
     ]
    }
   ],
   "source": [
    "a=10\n",
    "b= 20\n",
    "\n",
    "print(a<b)  # it returns boolean data\n",
    "print(b<a)\n",
    "print(a==b)\n",
    "print(a!=b)\n",
    "print(a<=b)\n",
    "print(a>=b)"
   ]
  },
  {
   "cell_type": "markdown",
   "id": "a15c9c1b-bc50-497f-b3f1-793d0b6ab90b",
   "metadata": {},
   "source": [
    "# Branching (if, elif, else)\n",
    " * __Decision making is required when we want to execute a code only if a certain condition is satisfied.__\n",
    " * __The if/elif/else statement is used in Python for decision making.__\n",
    " * __An else statment can be combined with an if statment.__\n",
    " * __An else statement contains the block of code that excutes if the conditional expression in the if statement resolves to 0 or a False value.__\n",
    " * __The else statement is an optional statement and there could be at most only one else statment following if.__\n",
    " * __The elif statment allows you to check multiple expression for True and executes a block of code as soon as one of the conditions evaluates to True.__\n",
    " * __Similary, to the else, the elif statement is optional.__\n",
    " * __However, unlike else, for which there can be at most one statement, there can be an arbitrary number of elif statements following an if.__"
   ]
  },
  {
   "cell_type": "code",
   "execution_count": 11,
   "id": "161b0d93-3f3d-4df2-a901-7ec1e990bd3c",
   "metadata": {},
   "outputs": [
    {
     "name": "stdout",
     "output_type": "stream",
     "text": [
      "you are a baby\n"
     ]
    }
   ],
   "source": [
    "age=5\n",
    "\n",
    "if age>5:\n",
    "    print(\"you can go to primary school.\")\n",
    "else:\n",
    "    print('you are a baby')"
   ]
  },
  {
   "cell_type": "code",
   "execution_count": 12,
   "id": "82b80746-1f61-468d-8133-4fb26c1ecfb0",
   "metadata": {},
   "outputs": [
    {
     "name": "stdout",
     "output_type": "stream",
     "text": [
      "You can go to kindergarten.\n"
     ]
    }
   ],
   "source": [
    "age=5\n",
    "\n",
    "if age>5:\n",
    "    print(\"you can go to primary school.\")\n",
    "\n",
    "elif age==5:\n",
    "    print('You can go to kindergarten.')\n",
    "else:\n",
    "    print('you are a baby')"
   ]
  },
  {
   "cell_type": "code",
   "execution_count": null,
   "id": "1216a025-44b4-4592-9bb9-adb7c78badd1",
   "metadata": {},
   "outputs": [],
   "source": []
  }
 ],
 "metadata": {
  "kernelspec": {
   "display_name": "Python 3 (ipykernel)",
   "language": "python",
   "name": "python3"
  },
  "language_info": {
   "codemirror_mode": {
    "name": "ipython",
    "version": 3
   },
   "file_extension": ".py",
   "mimetype": "text/x-python",
   "name": "python",
   "nbconvert_exporter": "python",
   "pygments_lexer": "ipython3",
   "version": "3.11.4"
  }
 },
 "nbformat": 4,
 "nbformat_minor": 5
}
