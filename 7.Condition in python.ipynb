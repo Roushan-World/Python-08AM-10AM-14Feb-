{
 "cells": [
  {
   "cell_type": "markdown",
   "id": "22c0d31d-c19e-4792-a98d-6123efe0d9f2",
   "metadata": {},
   "source": [
    "# 7. Condition in Python\n",
    "\n",
    " * __Comparison Operators__\n",
    "    * __Less than(<)__\n",
    "    * __Less than or equal to(<=)__\n",
    "    * __Greater than(>)__\n",
    "    * __Greater than or equal to(>=)__\n",
    "    * __Equal to(==)__\n",
    "    * __Not equal to(!=)__"
   ]
  },
  {
   "cell_type": "code",
   "execution_count": 7,
   "id": "a10d1918-81c3-4439-b621-a15308b8ed7e",
   "metadata": {},
   "outputs": [
    {
     "name": "stdout",
     "output_type": "stream",
     "text": [
      "True\n",
      "False\n",
      "False\n",
      "True\n",
      "True\n",
      "False\n"
     ]
    }
   ],
   "source": [
    "a=10\n",
    "b= 20\n",
    "\n",
    "print(a<b)  # it returns boolean data\n",
    "print(b<a)\n",
    "print(a==b)\n",
    "print(a!=b)\n",
    "print(a<=b)\n",
    "print(a>=b)"
   ]
  },
  {
   "cell_type": "markdown",
   "id": "a15c9c1b-bc50-497f-b3f1-793d0b6ab90b",
   "metadata": {},
   "source": [
    "# Branching (if, elif, else)\n",
    " * __Decision making is required when we want to execute a code only if a certain condition is satisfied.__\n",
    " * __The if/elif/else statement is used in Python for decision making.__\n",
    " * __An else statment can be combined with an if statment.__\n",
    " * __An else statement contains the block of code that excutes if the conditional expression in the if statement resolves to 0 or a False value.__\n",
    " * __The else statement is an optional statement and there could be at most only one else statment following if.__\n",
    " * __The elif statment allows you to check multiple expression for True and executes a block of code as soon as one of the conditions evaluates to True.__\n",
    " * __Similary, to the else, the elif statement is optional.__\n",
    " * __However, unlike else, for which there can be at most one statement, there can be an arbitrary number of elif statements following an if.__"
   ]
  },
  {
   "cell_type": "code",
   "execution_count": 11,
   "id": "161b0d93-3f3d-4df2-a901-7ec1e990bd3c",
   "metadata": {},
   "outputs": [
    {
     "name": "stdout",
     "output_type": "stream",
     "text": [
      "you are a baby\n"
     ]
    }
   ],
   "source": [
    "age=5\n",
    "\n",
    "if age>5:\n",
    "    print(\"you can go to primary school.\")\n",
    "else:\n",
    "    print('you are a baby')"
   ]
  },
  {
   "cell_type": "code",
   "execution_count": 12,
   "id": "82b80746-1f61-468d-8133-4fb26c1ecfb0",
   "metadata": {},
   "outputs": [
    {
     "name": "stdout",
     "output_type": "stream",
     "text": [
      "You can go to kindergarten.\n"
     ]
    }
   ],
   "source": [
    "age=5\n",
    "\n",
    "if age>5:\n",
    "    print(\"you can go to primary school.\")\n",
    "\n",
    "elif age==5:\n",
    "    print('You can go to kindergarten.')\n",
    "else:\n",
    "    print('you are a baby')"
   ]
  },
  {
   "cell_type": "code",
   "execution_count": 4,
   "id": "1216a025-44b4-4592-9bb9-adb7c78badd1",
   "metadata": {},
   "outputs": [
    {
     "name": "stdin",
     "output_type": "stream",
     "text": [
      "Enter your baby age: 4\n"
     ]
    },
    {
     "name": "stdout",
     "output_type": "stream",
     "text": [
      "you are a baby.\n"
     ]
    }
   ],
   "source": [
    "age=int(input('Enter your baby age:'))\n",
    "\n",
    "if age>5:\n",
    "    print('you can go to primary school.')\n",
    "elif age==5:\n",
    "    print('you can go to kindergarten.')\n",
    "else:\n",
    "    print(\"you are a baby.\")"
   ]
  },
  {
   "cell_type": "code",
   "execution_count": 5,
   "id": "e41e64da-0615-41dd-a8ed-817a9afe7462",
   "metadata": {},
   "outputs": [],
   "source": [
    "# print week name if user press 1 then print \"Sunday\", If user press 2 then print \"monday\" and so on.."
   ]
  },
  {
   "cell_type": "code",
   "execution_count": 8,
   "id": "6b40d0e4-d013-402b-aea9-262e2d69308f",
   "metadata": {},
   "outputs": [
    {
     "name": "stdin",
     "output_type": "stream",
     "text": [
      "Enter any number: 65165116516516565651\n"
     ]
    },
    {
     "name": "stdout",
     "output_type": "stream",
     "text": [
      "Odd number\n"
     ]
    }
   ],
   "source": [
    "# Write a program to find the even or odd number using user input.\n",
    "\n",
    "x=int(input(\"Enter any number:\"))\n",
    "\n",
    "if x%2==0:\n",
    "    print('Even number')\n",
    "else:\n",
    "    print('Odd number')"
   ]
  },
  {
   "cell_type": "code",
   "execution_count": 9,
   "id": "2a9ce908-cc7d-4658-8aa0-dd03c43ada1c",
   "metadata": {},
   "outputs": [],
   "source": [
    "# Write a program to check whether a number is divisible by 7,8 or not."
   ]
  },
  {
   "cell_type": "code",
   "execution_count": 10,
   "id": "a77a137f-8c34-4268-a579-5447ffc03737",
   "metadata": {},
   "outputs": [],
   "source": [
    "# write a program to accept the percentage from the user and display the grade according to the user's percentage\n",
    "\n",
    "# percentage------------------------------> Grade\n",
    "\n",
    "# >90 ------------------------------------> \"A\"\n",
    "# >80 and <=90----------------------------> \"B\"\n",
    "# >60 and <=80 ---------------------------> \"C\"\n",
    "# Below 60 -------------------------------> \"D\""
   ]
  },
  {
   "cell_type": "code",
   "execution_count": 11,
   "id": "859f28fd-d465-4e2a-b404-dbd71c27dee2",
   "metadata": {},
   "outputs": [],
   "source": [
    "# write a program to find the greatest amoung two person."
   ]
  },
  {
   "cell_type": "code",
   "execution_count": null,
   "id": "95ab10f8-0158-4fb5-aef9-6b91cf129ed0",
   "metadata": {},
   "outputs": [],
   "source": [
    "# Print the types of triangle from three user input number."
   ]
  },
  {
   "cell_type": "code",
   "execution_count": null,
   "id": "7dbf12a7-7018-4276-9913-9b6c36b907ca",
   "metadata": {},
   "outputs": [],
   "source": []
  }
 ],
 "metadata": {
  "kernelspec": {
   "display_name": "Python 3 (ipykernel)",
   "language": "python",
   "name": "python3"
  },
  "language_info": {
   "codemirror_mode": {
    "name": "ipython",
    "version": 3
   },
   "file_extension": ".py",
   "mimetype": "text/x-python",
   "name": "python",
   "nbconvert_exporter": "python",
   "pygments_lexer": "ipython3",
   "version": "3.11.4"
  }
 },
 "nbformat": 4,
 "nbformat_minor": 5
}
