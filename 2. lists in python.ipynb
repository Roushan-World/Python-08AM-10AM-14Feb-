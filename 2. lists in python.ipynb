{
 "cells": [
  {
   "cell_type": "markdown",
   "id": "da98f49e-15c9-4b93-8703-dc6055681a6a",
   "metadata": {},
   "source": [
    "# 2. Lists in Python"
   ]
  },
  {
   "cell_type": "markdown",
   "id": "85101d74-4c18-4c66-840d-b16a3ef9da55",
   "metadata": {},
   "source": [
    " * __Lists are ordered.__\n",
    " * __Lists can contains any arbitrary objects.__\n",
    " * __List elements can be accessed by index.__\n",
    " * __Lists can be nested to any arbitrary depth.__\n",
    " * __Lists are mutable.__"
   ]
  },
  {
   "cell_type": "code",
   "execution_count": 1,
   "id": "59d6cfd1-1736-4e97-84d2-bee2fe1cf69a",
   "metadata": {},
   "outputs": [],
   "source": [
    "x=[]"
   ]
  },
  {
   "cell_type": "code",
   "execution_count": 2,
   "id": "abdb4bf4-df42-4693-aec6-b5031a6911c1",
   "metadata": {},
   "outputs": [
    {
     "data": {
      "text/plain": [
       "[]"
      ]
     },
     "execution_count": 2,
     "metadata": {},
     "output_type": "execute_result"
    }
   ],
   "source": [
    "x"
   ]
  },
  {
   "cell_type": "code",
   "execution_count": 3,
   "id": "26cd81bb-03eb-477f-9016-c8dc17abcd1c",
   "metadata": {},
   "outputs": [
    {
     "data": {
      "text/plain": [
       "list"
      ]
     },
     "execution_count": 3,
     "metadata": {},
     "output_type": "execute_result"
    }
   ],
   "source": [
    "type(x)"
   ]
  },
  {
   "cell_type": "code",
   "execution_count": 4,
   "id": "cb1105fc-f242-4045-ae6b-b1803a60e30a",
   "metadata": {},
   "outputs": [
    {
     "data": {
      "text/plain": [
       "['Hello world',\n",
       " True,\n",
       " False,\n",
       " 46,\n",
       " 100,\n",
       " ['Payal', 100],\n",
       " (100, 200),\n",
       " {1, 2, 3, 4, 5, 6},\n",
       " {'a': 'Payal'}]"
      ]
     },
     "execution_count": 4,
     "metadata": {},
     "output_type": "execute_result"
    }
   ],
   "source": [
    "x1=[\"Hello world\",True,False,46,100,['Payal',100],(100,200),{1,2,3,4,5,6,5,4,5},{'a':'Payal'}]\n",
    "x1"
   ]
  },
  {
   "cell_type": "code",
   "execution_count": 6,
   "id": "b26a91a1-c94d-4474-a5d4-67ed3a518cbf",
   "metadata": {},
   "outputs": [
    {
     "name": "stdout",
     "output_type": "stream",
     "text": [
      "<class 'list'>\n"
     ]
    }
   ],
   "source": [
    "print(type(x1))"
   ]
  },
  {
   "cell_type": "code",
   "execution_count": 10,
   "id": "50d8c98c-3c37-4ae8-903e-8a303d1e5585",
   "metadata": {},
   "outputs": [
    {
     "name": "stdout",
     "output_type": "stream",
     "text": [
      "Hello world\n",
      "<class 'str'>\n",
      "True\n",
      "<class 'bool'>\n"
     ]
    }
   ],
   "source": [
    "print(x1[0])\n",
    "print(type(x1[0]))\n",
    "print(x1[1])\n",
    "print(type(x1[1]))"
   ]
  },
  {
   "cell_type": "code",
   "execution_count": 11,
   "id": "dffc829a-cbb6-419b-b11c-26bf7783d018",
   "metadata": {},
   "outputs": [
    {
     "data": {
      "text/plain": [
       "{'a': 'Payal'}"
      ]
     },
     "execution_count": 11,
     "metadata": {},
     "output_type": "execute_result"
    }
   ],
   "source": [
    "x1[-1]"
   ]
  },
  {
   "cell_type": "code",
   "execution_count": 12,
   "id": "6304853c-55ab-42b0-a2ad-32f0f5f7ace5",
   "metadata": {},
   "outputs": [
    {
     "data": {
      "text/plain": [
       "{1, 2, 3, 4, 5, 6}"
      ]
     },
     "execution_count": 12,
     "metadata": {},
     "output_type": "execute_result"
    }
   ],
   "source": [
    "x1[-2]"
   ]
  },
  {
   "cell_type": "markdown",
   "id": "f5cea1a1-eb5c-44a0-a27b-c6240454b0a3",
   "metadata": {},
   "source": [
    "# What can content a list?\n",
    " * __String__\n",
    " * __Floats__\n",
    " * __Integer__\n",
    " * __Boolean__\n",
    " * __Nested list__\n",
    " * __Nested Tuple__\n",
    " * __Nested Dictonary__\n",
    " * __Other Data Structue__"
   ]
  },
  {
   "cell_type": "code",
   "execution_count": 13,
   "id": "f31bdc7c-cd7a-4355-9427-0678485b7fd3",
   "metadata": {},
   "outputs": [
    {
     "name": "stdout",
     "output_type": "stream",
     "text": [
      "['Hello world', True, False, 46, 100, ['Payal', 100], (100, 200), {1, 2, 3, 4, 5, 6}, {'a': 'Payal'}]\n"
     ]
    }
   ],
   "source": [
    "print(x1)"
   ]
  },
  {
   "cell_type": "code",
   "execution_count": 14,
   "id": "8cdaa990-7d8d-4ca0-b6ef-a71ada93897d",
   "metadata": {},
   "outputs": [
    {
     "data": {
      "text/plain": [
       "9"
      ]
     },
     "execution_count": 14,
     "metadata": {},
     "output_type": "execute_result"
    }
   ],
   "source": [
    "# Count the total length of the list:\n",
    "len(x1)"
   ]
  },
  {
   "cell_type": "markdown",
   "id": "e4becb15-bbb5-4668-b1ed-f3ede02c5f35",
   "metadata": {},
   "source": [
    "# Slicing of the list"
   ]
  },
  {
   "cell_type": "code",
   "execution_count": 18,
   "id": "2b261432-2f59-4444-9dbd-8d9f287fc925",
   "metadata": {},
   "outputs": [
    {
     "data": {
      "text/plain": [
       "['Hello world', True, False]"
      ]
     },
     "execution_count": 18,
     "metadata": {},
     "output_type": "execute_result"
    }
   ],
   "source": [
    "x1[0:3]"
   ]
  },
  {
   "cell_type": "code",
   "execution_count": 19,
   "id": "d0f69a9f-0160-4eb5-a011-4e2793d93f12",
   "metadata": {},
   "outputs": [
    {
     "data": {
      "text/plain": [
       "[True, False]"
      ]
     },
     "execution_count": 19,
     "metadata": {},
     "output_type": "execute_result"
    }
   ],
   "source": [
    "x1[1:3]"
   ]
  },
  {
   "cell_type": "code",
   "execution_count": 20,
   "id": "dfc9b78d-cae1-4e9b-ac63-cd0095e7ae03",
   "metadata": {},
   "outputs": [
    {
     "data": {
      "text/plain": [
       "[{1, 2, 3, 4, 5, 6}, {'a': 'Payal'}]"
      ]
     },
     "execution_count": 20,
     "metadata": {},
     "output_type": "execute_result"
    }
   ],
   "source": [
    "x1[7:9]"
   ]
  },
  {
   "cell_type": "code",
   "execution_count": 21,
   "id": "18f4fcce-87f3-4c89-b121-b4cb06fe3616",
   "metadata": {},
   "outputs": [
    {
     "data": {
      "text/plain": [
       "['Hello world',\n",
       " True,\n",
       " False,\n",
       " 46,\n",
       " 100,\n",
       " ['Payal', 100],\n",
       " (100, 200),\n",
       " {1, 2, 3, 4, 5, 6},\n",
       " {'a': 'Payal'}]"
      ]
     },
     "execution_count": 21,
     "metadata": {},
     "output_type": "execute_result"
    }
   ],
   "source": [
    "# Mutable : Addding, removing, deleting, updating\n",
    "\n",
    "x1"
   ]
  },
  {
   "cell_type": "code",
   "execution_count": 23,
   "id": "1d694b15-6152-4bf0-80f1-22608487567c",
   "metadata": {},
   "outputs": [],
   "source": [
    "# Adding in the list 1. append(), 2. Extend() 3. Insert()\n",
    "\n",
    "x1.append('Payal Chavan')   # append take only one argument at a time."
   ]
  },
  {
   "cell_type": "code",
   "execution_count": 24,
   "id": "79c332ad-fe6f-4288-a792-a886a32a87e4",
   "metadata": {},
   "outputs": [
    {
     "data": {
      "text/plain": [
       "['Hello world',\n",
       " True,\n",
       " False,\n",
       " 46,\n",
       " 100,\n",
       " ['Payal', 100],\n",
       " (100, 200),\n",
       " {1, 2, 3, 4, 5, 6},\n",
       " {'a': 'Payal'},\n",
       " 'Payal Chavan']"
      ]
     },
     "execution_count": 24,
     "metadata": {},
     "output_type": "execute_result"
    }
   ],
   "source": [
    "x1"
   ]
  },
  {
   "cell_type": "code",
   "execution_count": 26,
   "id": "b8eaac0d-03df-444d-af24-d5959b865fee",
   "metadata": {},
   "outputs": [],
   "source": [
    "# Extend()\n",
    "\n",
    "x1.extend([45.0,200,500,\"Python\"])"
   ]
  },
  {
   "cell_type": "code",
   "execution_count": 27,
   "id": "606f500d-69a2-4772-af34-e1ffec0ac1ca",
   "metadata": {},
   "outputs": [
    {
     "data": {
      "text/plain": [
       "['Hello world',\n",
       " True,\n",
       " False,\n",
       " 46,\n",
       " 100,\n",
       " ['Payal', 100],\n",
       " (100, 200),\n",
       " {1, 2, 3, 4, 5, 6},\n",
       " {'a': 'Payal'},\n",
       " 'Payal Chavan',\n",
       " 45.0,\n",
       " 200,\n",
       " 500,\n",
       " 'Python']"
      ]
     },
     "execution_count": 27,
     "metadata": {},
     "output_type": "execute_result"
    }
   ],
   "source": [
    "x1"
   ]
  },
  {
   "cell_type": "code",
   "execution_count": 28,
   "id": "5a0f07c9-415e-49e2-9cae-9225ca376693",
   "metadata": {},
   "outputs": [],
   "source": [
    "# insert() \n",
    "\n",
    "x1.insert(0,'c++')"
   ]
  },
  {
   "cell_type": "code",
   "execution_count": 29,
   "id": "b7d7142c-42db-43b0-b965-fde16282d168",
   "metadata": {},
   "outputs": [
    {
     "data": {
      "text/plain": [
       "['c++',\n",
       " 'Hello world',\n",
       " True,\n",
       " False,\n",
       " 46,\n",
       " 100,\n",
       " ['Payal', 100],\n",
       " (100, 200),\n",
       " {1, 2, 3, 4, 5, 6},\n",
       " {'a': 'Payal'},\n",
       " 'Payal Chavan',\n",
       " 45.0,\n",
       " 200,\n",
       " 500,\n",
       " 'Python']"
      ]
     },
     "execution_count": 29,
     "metadata": {},
     "output_type": "execute_result"
    }
   ],
   "source": [
    "x1"
   ]
  },
  {
   "cell_type": "code",
   "execution_count": 32,
   "id": "4b3f1c01-6b56-438b-ac7c-fe03a703b136",
   "metadata": {},
   "outputs": [
    {
     "data": {
      "text/plain": [
       "['Python',\n",
       " 'Hello world',\n",
       " True,\n",
       " False,\n",
       " 46,\n",
       " 100,\n",
       " ['Payal', 100],\n",
       " (100, 200),\n",
       " {1, 2, 3, 4, 5, 6},\n",
       " {'a': 'Payal'},\n",
       " 'Payal Chavan',\n",
       " 45.0,\n",
       " 200,\n",
       " 500,\n",
       " 'Python']"
      ]
     },
     "execution_count": 32,
     "metadata": {},
     "output_type": "execute_result"
    }
   ],
   "source": [
    "# updating the list\n",
    "\n",
    "x1[0]=\"Python\"\n",
    "x1"
   ]
  },
  {
   "cell_type": "code",
   "execution_count": 33,
   "id": "1f501a7d-1ecf-4a0a-9690-805ff49637a0",
   "metadata": {},
   "outputs": [
    {
     "data": {
      "text/plain": [
       "['Hello world',\n",
       " True,\n",
       " False,\n",
       " 46,\n",
       " 100,\n",
       " ['Payal', 100],\n",
       " (100, 200),\n",
       " {1, 2, 3, 4, 5, 6},\n",
       " {'a': 'Payal'},\n",
       " 'Payal Chavan',\n",
       " 45.0,\n",
       " 200,\n",
       " 500,\n",
       " 'Python']"
      ]
     },
     "execution_count": 33,
     "metadata": {},
     "output_type": "execute_result"
    }
   ],
   "source": [
    "# Deleting an element in the list\n",
    "del(x1[0])\n",
    "x1"
   ]
  },
  {
   "cell_type": "markdown",
   "id": "53f1a1cb-7394-4fef-9abe-4ea675458982",
   "metadata": {},
   "source": [
    "# Aggrigate function\n",
    "\n",
    "# len(),min(),max(),index(), sum() functions\n",
    "\n"
   ]
  },
  {
   "cell_type": "code",
   "execution_count": 39,
   "id": "7e948f83-4327-4c0b-b6d2-682f37949da9",
   "metadata": {},
   "outputs": [
    {
     "name": "stdout",
     "output_type": "stream",
     "text": [
      "9\n",
      "10\n",
      "60\n"
     ]
    }
   ],
   "source": [
    "y=[10,20,30,40,50,60,60,40,50]\n",
    "\n",
    "# length of the element\n",
    "print(len(y))\n",
    "\n",
    "# mininum of the list:\n",
    "print(min(y))\n",
    "\n",
    "# maximum number of the list:\n",
    "print(max(y))\n",
    "\n",
    "# index of the list\n"
   ]
  },
  {
   "cell_type": "code",
   "execution_count": 41,
   "id": "80646b02-c15a-40c6-9ea6-395b7850b477",
   "metadata": {},
   "outputs": [
    {
     "data": {
      "text/plain": [
       "1"
      ]
     },
     "execution_count": 41,
     "metadata": {},
     "output_type": "execute_result"
    }
   ],
   "source": [
    "y.index(20)"
   ]
  },
  {
   "cell_type": "code",
   "execution_count": 42,
   "id": "a309a6a5-5f00-4b97-ab8d-1310c1e51259",
   "metadata": {},
   "outputs": [
    {
     "data": {
      "text/plain": [
       "[10, 20, 30, 40, 50, 60, 60, 40, 50]"
      ]
     },
     "execution_count": 42,
     "metadata": {},
     "output_type": "execute_result"
    }
   ],
   "source": [
    "y"
   ]
  },
  {
   "cell_type": "code",
   "execution_count": 44,
   "id": "4dceaa81-cd91-47e8-8cf6-4e8101523a17",
   "metadata": {},
   "outputs": [
    {
     "data": {
      "text/plain": [
       "360"
      ]
     },
     "execution_count": 44,
     "metadata": {},
     "output_type": "execute_result"
    }
   ],
   "source": [
    "# sum of the list\n",
    "\n",
    "sum(y)"
   ]
  },
  {
   "cell_type": "code",
   "execution_count": 46,
   "id": "beb0447a-b23a-4f21-b5b2-39d6e93429fb",
   "metadata": {},
   "outputs": [
    {
     "data": {
      "text/plain": [
       "40.0"
      ]
     },
     "execution_count": 46,
     "metadata": {},
     "output_type": "execute_result"
    }
   ],
   "source": [
    "# Average of the list\n",
    "\n",
    "x=sum(y)/len(y)\n",
    "x"
   ]
  },
  {
   "cell_type": "markdown",
   "id": "51ea4fba-e1e0-4132-b11f-b9d1f8de7b55",
   "metadata": {},
   "source": [
    "# copy the list\n",
    "\n",
    "# 1. Deep copy  2. Swallow copy"
   ]
  },
  {
   "cell_type": "code",
   "execution_count": 49,
   "id": "9c1e6fa7-92f1-43da-af1b-b9b2322caed0",
   "metadata": {},
   "outputs": [
    {
     "name": "stdout",
     "output_type": "stream",
     "text": [
      "['Payal', 'hello world']\n",
      "['Payal', 'hello world', 'Python']\n"
     ]
    }
   ],
   "source": [
    "# 1. Deep copy\n",
    "\n",
    "x2=[\"Payal\",\"hello world\"]\n",
    "\n",
    "x3=x2\n",
    "print(x3)\n",
    "\n",
    "x2.append('Python')\n",
    "print(x3)"
   ]
  },
  {
   "cell_type": "code",
   "execution_count": 53,
   "id": "cd319315-18da-4507-a50b-5303a5239703",
   "metadata": {},
   "outputs": [
    {
     "name": "stdout",
     "output_type": "stream",
     "text": [
      "['Payal', 'hello world', 'Python', 'Good Morning!']\n",
      "['Payal', 'hello world', 'Python', 'Good Morning!']\n",
      "['Payal', 'hello world', 'Python', 'Good Morning!', 'Good Morning!']\n",
      "['Payal', 'hello world', 'Python', 'Good Morning!']\n"
     ]
    }
   ],
   "source": [
    "# Swallow copy\n",
    "\n",
    "print(x2)\n",
    "\n",
    "x4=x2.copy()\n",
    "print(x4)\n",
    "\n",
    "x2.append('Good Morning!')\n",
    "print(x2)\n",
    "\n",
    "print(x4)"
   ]
  },
  {
   "cell_type": "code",
   "execution_count": 54,
   "id": "efb52e95-40e1-45cc-9abe-f959421243d8",
   "metadata": {},
   "outputs": [
    {
     "name": "stdin",
     "output_type": "stream",
     "text": [
      " 45\n"
     ]
    }
   ],
   "source": [
    "# input() function\n",
    "\n",
    "x=input()"
   ]
  },
  {
   "cell_type": "code",
   "execution_count": 58,
   "id": "5acdbc6c-866c-4219-94ca-31602392a162",
   "metadata": {},
   "outputs": [
    {
     "name": "stdin",
     "output_type": "stream",
     "text": [
      "Enter any value 45\n"
     ]
    }
   ],
   "source": [
    "x1=int(input(\"Enter any value\"))"
   ]
  },
  {
   "cell_type": "code",
   "execution_count": 61,
   "id": "803b650d-26ec-4f66-8c40-a8b94c22d290",
   "metadata": {},
   "outputs": [
    {
     "name": "stdin",
     "output_type": "stream",
     "text": [
      "Enter first numebr:\n",
      " 45\n",
      "Enter second number:\n",
      " 23\n"
     ]
    },
    {
     "name": "stdout",
     "output_type": "stream",
     "text": [
      "Total sum of the two number is: 68 \n",
      "Average of the two number is: 34.0\n"
     ]
    }
   ],
   "source": [
    "# calculate the value input from the user.\n",
    "\n",
    "x=int(input('Enter first numebr:\\n'))\n",
    "y=int(input('Enter second number:\\n'))\n",
    "\n",
    "z=x+y\n",
    "print('Total sum of the two number is:',z,\"\\nAverage of the two number is:\",z/2)"
   ]
  },
  {
   "cell_type": "markdown",
   "id": "0f5552d6-0024-44a3-8d45-f7f81e0a8405",
   "metadata": {},
   "source": [
    "# eval() function"
   ]
  },
  {
   "cell_type": "code",
   "execution_count": 7,
   "id": "a513d3a2-7c45-4981-b262-cccebbf3fa2c",
   "metadata": {},
   "outputs": [
    {
     "name": "stdout",
     "output_type": "stream",
     "text": [
      "45\n",
      "<class 'str'>\n",
      "45\n",
      "<class 'int'>\n"
     ]
    }
   ],
   "source": [
    "x='45'\n",
    "print(x)\n",
    "print(type(x))\n",
    "\n",
    "# eval function convert the data string to integer.\n",
    "\n",
    "y=eval(x)\n",
    "print(y)\n",
    "print(type(y))"
   ]
  },
  {
   "cell_type": "code",
   "execution_count": 11,
   "id": "c01c875e-076b-45c1-af32-d1cf33b9980c",
   "metadata": {},
   "outputs": [
    {
     "data": {
      "text/plain": [
       "55"
      ]
     },
     "execution_count": 11,
     "metadata": {},
     "output_type": "execute_result"
    }
   ],
   "source": [
    "y+10"
   ]
  },
  {
   "cell_type": "markdown",
   "id": "1eeea1bf-794e-4d27-9c92-07073988b5ad",
   "metadata": {},
   "source": [
    "# format function"
   ]
  },
  {
   "cell_type": "code",
   "execution_count": 17,
   "id": "63cf82c5-80e1-414e-b18a-ed35646cb2c2",
   "metadata": {},
   "outputs": [
    {
     "name": "stdin",
     "output_type": "stream",
     "text": [
      "Enter any number: 45\n",
      "Enter second number: 45\n"
     ]
    },
    {
     "name": "stdout",
     "output_type": "stream",
     "text": [
      "The sum of two number is: 90\n",
      "The sum of two numbers is 45 and 45 is 90\n"
     ]
    }
   ],
   "source": [
    "x=int(input('Enter any number:'))\n",
    "y=int(input('Enter second number:'))\n",
    "\n",
    "z= x+y\n",
    "print(\"The sum of two number is:\",z)\n",
    "\n",
    "\n",
    "# format\n",
    "\n",
    "print('The sum of two numbers is {} and {} is {}'.format(x,y,z))"
   ]
  },
  {
   "cell_type": "markdown",
   "id": "a6647edb-a1fa-4b3b-8a49-94464749ce14",
   "metadata": {},
   "source": [
    "# Comparison operators \n",
    "\n",
    " * __There are six comparison operators in python: <,>,<=,>=,==,!= it returns True or False Statement__"
   ]
  },
  {
   "cell_type": "code",
   "execution_count": 24,
   "id": "31549fb3-9add-43c9-85ef-7153685955e7",
   "metadata": {},
   "outputs": [
    {
     "name": "stdout",
     "output_type": "stream",
     "text": [
      "False\n",
      "True\n",
      "True\n",
      "False\n",
      "True\n",
      "True\n"
     ]
    }
   ],
   "source": [
    "a=5\n",
    "b=10\n",
    "c=20\n",
    "d=5\n",
    "\n",
    "print(a>b)\n",
    "print(a<b)\n",
    "print(a==d)\n",
    "print(a>=b)\n",
    "print(a<=b)\n",
    "print(d<=a)"
   ]
  },
  {
   "cell_type": "markdown",
   "id": "23b8f369-3260-44cf-bfe9-0a26ecef1853",
   "metadata": {},
   "source": [
    "# Logic gates in Python (and, or, not)"
   ]
  },
  {
   "cell_type": "code",
   "execution_count": 30,
   "id": "7ef6e54d-f929-452f-b58a-be579eb4640a",
   "metadata": {},
   "outputs": [
    {
     "name": "stdout",
     "output_type": "stream",
     "text": [
      "False\n",
      "True\n",
      "True\n",
      "True\n",
      "True\n"
     ]
    }
   ],
   "source": [
    "a=5\n",
    "b=10\n",
    "c=20\n",
    "d=5\n",
    "\n",
    "print(a>b and b>a)\n",
    "print(a<b and b>a)\n",
    "print(a>b or b>a)\n",
    "\n",
    "print(a>=d or c>d)\n",
    "\n",
    "print(a==d and a!=c)"
   ]
  },
  {
   "cell_type": "markdown",
   "id": "4f3873b4-e77c-4713-b32f-3ba8aed515eb",
   "metadata": {},
   "source": [
    "# Assignment operators"
   ]
  },
  {
   "cell_type": "code",
   "execution_count": 33,
   "id": "7f4c9fcd-4b31-487b-9bb1-590258f555d3",
   "metadata": {},
   "outputs": [],
   "source": [
    "x=10\n",
    "\n",
    "x+=5"
   ]
  },
  {
   "cell_type": "code",
   "execution_count": 34,
   "id": "ae78ee2a-5403-4279-ad01-c55541e50991",
   "metadata": {},
   "outputs": [
    {
     "data": {
      "text/plain": [
       "15"
      ]
     },
     "execution_count": 34,
     "metadata": {},
     "output_type": "execute_result"
    }
   ],
   "source": [
    "x"
   ]
  },
  {
   "cell_type": "code",
   "execution_count": 35,
   "id": "673c08f0-18f8-4bc9-b7b5-1333c2f04f02",
   "metadata": {},
   "outputs": [
    {
     "data": {
      "text/plain": [
       "70"
      ]
     },
     "execution_count": 35,
     "metadata": {},
     "output_type": "execute_result"
    }
   ],
   "source": [
    "y=90\n",
    "\n",
    "y-=20\n",
    "y"
   ]
  },
  {
   "cell_type": "code",
   "execution_count": 36,
   "id": "43ab001f-c001-4814-927d-23ef4e02dcb6",
   "metadata": {},
   "outputs": [
    {
     "data": {
      "text/plain": [
       "500"
      ]
     },
     "execution_count": 36,
     "metadata": {},
     "output_type": "execute_result"
    }
   ],
   "source": [
    "y1= 100\n",
    "\n",
    "y1*=5\n",
    "y1"
   ]
  },
  {
   "cell_type": "code",
   "execution_count": 38,
   "id": "81f96b03-e091-469a-ae32-dbe42338cb9b",
   "metadata": {},
   "outputs": [
    {
     "data": {
      "text/plain": [
       "40.0"
      ]
     },
     "execution_count": 38,
     "metadata": {},
     "output_type": "execute_result"
    }
   ],
   "source": [
    "y2=200\n",
    "\n",
    "y2/=5\n",
    "y2"
   ]
  },
  {
   "cell_type": "code",
   "execution_count": 39,
   "id": "30b2634b-db39-4e6f-ae15-523b2665b2cd",
   "metadata": {},
   "outputs": [
    {
     "data": {
      "text/plain": [
       "100"
      ]
     },
     "execution_count": 39,
     "metadata": {},
     "output_type": "execute_result"
    }
   ],
   "source": [
    "y3=10\n",
    "\n",
    "y3**=2\n",
    "y3"
   ]
  },
  {
   "cell_type": "markdown",
   "id": "8a97bff5-3709-4836-88bb-da59bf44ea2e",
   "metadata": {},
   "source": [
    "# Membership Operators\n"
   ]
  },
  {
   "cell_type": "code",
   "execution_count": 50,
   "id": "691e6126-a1e9-4617-be88-ab0ffcb40a5d",
   "metadata": {},
   "outputs": [
    {
     "data": {
      "text/plain": [
       "[10, 20, 30, 40, 50, True, False, (100, 20, 30), {10, 'Hello world'}]"
      ]
     },
     "execution_count": 50,
     "metadata": {},
     "output_type": "execute_result"
    }
   ],
   "source": [
    "x= [10,20,30,40,50,True,False,(100,20,30),{'Hello world',10}]\n",
    "x"
   ]
  },
  {
   "cell_type": "code",
   "execution_count": 51,
   "id": "ec69a7d3-153e-4edf-91a5-8a20e1abf7e2",
   "metadata": {},
   "outputs": [
    {
     "name": "stdout",
     "output_type": "stream",
     "text": [
      "False\n",
      "True\n",
      "False\n"
     ]
    }
   ],
   "source": [
    "print(100 in x)\n",
    "print((100,20,30) in x)\n",
    "print('Hello world' in x)"
   ]
  },
  {
   "cell_type": "code",
   "execution_count": 52,
   "id": "812b810c-ac61-4898-8c22-c068c6f7ada1",
   "metadata": {},
   "outputs": [
    {
     "name": "stdout",
     "output_type": "stream",
     "text": [
      "False\n"
     ]
    }
   ],
   "source": [
    "print(20 not in x)"
   ]
  },
  {
   "cell_type": "code",
   "execution_count": null,
   "id": "d59659cd-fb75-4a4d-8088-b1a537a8b05f",
   "metadata": {},
   "outputs": [],
   "source": []
  }
 ],
 "metadata": {
  "kernelspec": {
   "display_name": "Python 3 (ipykernel)",
   "language": "python",
   "name": "python3"
  },
  "language_info": {
   "codemirror_mode": {
    "name": "ipython",
    "version": 3
   },
   "file_extension": ".py",
   "mimetype": "text/x-python",
   "name": "python",
   "nbconvert_exporter": "python",
   "pygments_lexer": "ipython3",
   "version": "3.11.4"
  }
 },
 "nbformat": 4,
 "nbformat_minor": 5
}
