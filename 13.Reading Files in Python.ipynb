{
 "cells": [
  {
   "cell_type": "markdown",
   "id": "776f41f2-a8db-4950-91ba-782317a5a95b",
   "metadata": {},
   "source": [
    "# 13. Reading Files in Python\n",
    "\n",
    " * __To read a text file in Python, you follow these steps:__\n",
    " * __First, open a text file for reading by using the open() function.__\n",
    " * __Second, read text from the text file using the file read(), readline(), or readlines() method of the file object.__\n",
    " * __Third, close the file using the file close() method.This frees up resources and ensures consistency across different python versions.__\n",
    "\n",
    "# File Method and Description\n",
    "\n",
    " * __Mehtod__ : __Description__\n",
    " * __writeable()__:__Returns whether the file can be written to or not.__\n",
    " * __readable()__:__Returns whether the file stream can be read or not.__\n",
    " * __read()__:__Returns the file content.__\n",
    " * __readlines()__:__Returns a list of lines from the file.__\n",
    " * __write()__:__Writes the specified string to the file.__\n",
    " * __writelines()__:__Writes a list of strings to the file.__\n",
    " * __close()__:__Closes the file.__\n",
    " * __flush()__:__Flushes the internal buffer.__\n",
    " * __seek()__:__change the file position.__\n",
    " * __tell()__:__Return the current file.__\n",
    " * __truncate()__:__Resize the file to a specified.__"
   ]
  },
  {
   "cell_type": "code",
   "execution_count": 7,
   "id": "0008b46b-04b6-442e-a869-5ce4c9a79dfe",
   "metadata": {},
   "outputs": [
    {
     "data": {
      "text/plain": [
       "'Chandra Shekhar Azad\\n was born on 23 July 1906 in Jujhautiya Brahmins family of Pandit SitaramTiwar i and Jagrani Devi in the bhabara (of jhabua District)|madhy Pradesh. He spent his childhood inthe village Bhabhra when his father was serving in the erstwhile estate of Alirajpur \\nHe got\\n the natural training of a hardy and rough life along with the Bhils who inhabited the wildregion. From his Bhil friends, early in life, be learnt wrestling and swimming. He also became moreskilled with the bow and arrow. He learnt to throw the Bhala or Javelin, to shoot straight, to ride anduse the sword, in all of which he became proficient.\\nFrom\\n his childhood, he remained a devotee of\\nHanuman\\n throughout his life, and had a very strongPehelwan(wrestler)-like body.\\nHe was even called\\n Bhimsen or Bhim Dada later. After the early education in Jhabua, he was sentto theSanskrit Pathashala at Varanasi, where a near relative of the family, probably maternal unclewas then living. He returned home after a few months and he was admitted in the local school at Alirajpur. Again his father sent him to Benares for the boy exhibited a strange waywardness.\\nThis time\\n he remained there and studied properly. On the whole, he was an average student.Political Initiation From the very outset, he had a deep aversion for study which was of no real but tosimply churn out quill drivers or babus for the use of the British Raj in India. His stay at Benareshowever had a salutary effect upon his life, for he came in contact with many young men and ideas.\\nThe atmosphere\\n was such that he got the opportunity of studying many things, especially the unhappy events which were then happeningin the country. Bit by bit, his mind was being drawn to the political situation of the country. Young Chandra Shekhar was f ascinated by anddrawn to the great national upsurge of the non-violent, non-cooperation movement of 1920-21 under the leadership of Mahatma Gandhi.I\\nt is during\\n this time, when the\\nJallianwala Baag massacre\\n by British Army took place in Amritsar where hunderds (at least 2000) unarmed,peaceful and unwarned civilians were fired upon. This event had a profound effect on Indian national movement and inspired several youngIndians, like Azad, into political movement for liberation. The young mind of Chandrashekhar was wax to receive and marble to retain.\\nFrom Chandrashekhar Tewari to Chandrashekhar â€˜Azadâ€™\\nTo protest the massacre and demanding the liberation, various popular activities sprouted up throughout the country. While participating in oneof these movements, Chandra Shekhar was arrested when he was just 16 years of age.He was brought to court. The Magistrate asked him, â€œWhat is your name?\\ngoing to become very famous. He gave his name as â€˜\\nAzadâ€™,\\n his fatherâ€™s name asâ€˜Swatantraâ€™ and his place of dwelling as â€˜prison cellâ€™. Astonished was the Magistrate atthese straight and bold answers. Azad was sentenced to fifteen canes. He wasbeaten very severely. At every beat, his body turned blue and red and blood oozed outfreely. Azad was highly honored by the citizens and profusely garlanded when hecame out from jail. His photos appeared in the Press with streamlined captions.\\nFromhere on, he would be known far and wide as â€˜Azadâ€™, forever.\\n After this incident, Shri Provesh, the chief organiser of the Revolutionary Party in India,sought him and persuaded him to join it. Azad proved to be a restless worker. He issuedsecretly and silently, many leaflets and bulletins to drive away the misconceptionsentertained by the people of the country. He proved a master propagandist. In physicalstrength, none equaled him and he was called Bhim Dada. Other eminent members of the party working along with Azad were Shri Yogesh Chatterji, Shri Sachin Sanyal andShri Rabindranath Kar. Men in the party learned all the arts of modern warfare. The mainproblem was finance. Finances! From where could the money be had? This was themajor issue before the party. To ask openly was impossible and to obtain it secretly was amuch more difficult task.'"
      ]
     },
     "execution_count": 7,
     "metadata": {},
     "output_type": "execute_result"
    }
   ],
   "source": [
    "file_name=r\"C:\\Users\\Admin\\Downloads\\Chandra_Shekhar_Azad.txt\"\n",
    "file=open(file_name,'r')\n",
    "content=file.read()\n",
    "content"
   ]
  },
  {
   "cell_type": "code",
   "execution_count": 6,
   "id": "3c2877a7-6550-43d4-bc3d-6f7566932329",
   "metadata": {},
   "outputs": [
    {
     "data": {
      "text/plain": [
       "'Chandra Shekhar Azad\\n was born on 23 July 1906 in Jujhautiya Brahmins family of Pandit SitaramTiwar i and Jagrani Devi in the bhabara (of jhabua District)|madhy Pradesh. He spent his childhood inthe village Bhabhra when his father was serving in the erstwhile estate of Alirajpur \\nHe got\\n the natural training of a hardy and rough life along with the Bhils who inhabited the wildregion. From his Bhil friends, early in life, be learnt wrestling and swimming. He also became moreskilled with the bow and arrow. He learnt to throw the Bhala or Javelin, to shoot straight, to ride anduse the sword, in all of which he became proficient.\\nFrom\\n his childhood, he remained a devotee of\\nHanuman\\n throughout his life, and had a very strongPehelwan(wrestler)-like body.\\nHe was even called\\n Bhimsen or Bhim Dada later. After the early education in Jhabua, he was sentto theSanskrit Pathashala at Varanasi, where a near relative of the family, probably maternal unclewas then living. He returned home after a few months and he was admitted in the local school at Alirajpur. Again his father sent him to Benares for the boy exhibited a strange waywardness.\\nThis time\\n he remained there and studied properly. On the whole, he was an average student.Political Initiation From the very outset, he had a deep aversion for study which was of no real but tosimply churn out quill drivers or babus for the use of the British Raj in India. His stay at Benareshowever had a salutary effect upon his life, for he came in contact with many young men and ideas.\\nThe atmosphere\\n was such that he got the opportunity of studying many things, especially the unhappy events which were then happeningin the country. Bit by bit, his mind was being drawn to the political situation of the country. Young Chandra Shekhar was f ascinated by anddrawn to the great national upsurge of the non-violent, non-cooperation movement of 1920-21 under the leadership of Mahatma Gandhi.I\\nt is during\\n this time, when the\\nJallianwala Baag massacre\\n by British Army took place in Amritsar where hunderds (at least 2000) unarmed,peaceful and unwarned civilians were fired upon. This event had a profound effect on Indian national movement and inspired several youngIndians, like Azad, into political movement for liberation. The young mind of Chandrashekhar was wax to receive and marble to retain.\\nFrom Chandrashekhar Tewari to Chandrashekhar â€˜Azadâ€™\\nTo protest the massacre and demanding the liberation, various popular activities sprouted up throughout the country. While participating in oneof these movements, Chandra Shekhar was arrested when he was just 16 years of age.He was brought to court. The Magistrate asked him, â€œWhat is your name?\\ngoing to become very famous. He gave his name as â€˜\\nAzadâ€™,\\n his fatherâ€™s name asâ€˜Swatantraâ€™ and his place of dwelling as â€˜prison cellâ€™. Astonished was the Magistrate atthese straight and bold answers. Azad was sentenced to fifteen canes. He wasbeaten very severely. At every beat, his body turned blue and red and blood oozed outfreely. Azad was highly honored by the citizens and profusely garlanded when hecame out from jail. His photos appeared in the Press with streamlined captions.\\nFromhere on, he would be known far and wide as â€˜Azadâ€™, forever.\\n After this incident, Shri Provesh, the chief organiser of the Revolutionary Party in India,sought him and persuaded him to join it. Azad proved to be a restless worker. He issuedsecretly and silently, many leaflets and bulletins to drive away the misconceptionsentertained by the people of the country. He proved a master propagandist. In physicalstrength, none equaled him and he was called Bhim Dada. Other eminent members of the party working along with Azad were Shri Yogesh Chatterji, Shri Sachin Sanyal andShri Rabindranath Kar. Men in the party learned all the arts of modern warfare. The mainproblem was finance. Finances! From where could the money be had? This was themajor issue before the party. To ask openly was impossible and to obtain it secretly was amuch more difficult task.'"
      ]
     },
     "execution_count": 6,
     "metadata": {},
     "output_type": "execute_result"
    }
   ],
   "source": [
    "file_name=\"Chandra_Shekhar_Azad.txt\"\n",
    "file=open(file_name,'r')\n",
    "content=file.read()\n",
    "content"
   ]
  },
  {
   "cell_type": "code",
   "execution_count": 12,
   "id": "95699f30-203a-4b34-8ee0-e6fe023e2e66",
   "metadata": {},
   "outputs": [
    {
     "name": "stdout",
     "output_type": "stream",
     "text": [
      "C:\\Users\\Admin\\Downloads\\Chandra_Shekhar_Azad.txt\n",
      "r\n",
      "Chandra Shekhar Azad\n",
      " was born on 23 July 1906 in Jujhautiya Brahmins family of Pandit SitaramTiwar i and Jagrani Devi in the bhabara (of jhabua District)|madhy Pradesh. He spent his childhood inthe village Bhabhra when his father was serving in the erstwhile estate of Alirajpur \n",
      "He got\n",
      " the natural training of a hardy and rough life along with the Bhils who inhabited the wildregion. From his Bhil friends, early in life, be learnt wrestling and swimming. He also became moreskilled with the bow and arrow. He learnt to throw the Bhala or Javelin, to shoot straight, to ride anduse the sword, in all of which he became proficient.\n",
      "From\n",
      " his childhood, he remained a devotee of\n",
      "Hanuman\n",
      " throughout his life, and had a very strongPehelwan(wrestler)-like body.\n",
      "He was even called\n",
      " Bhimsen or Bhim Dada later. After the early education in Jhabua, he was sentto theSanskrit Pathashala at Varanasi, where a near relative of the family, probably maternal unclewas then living. He returned home after a few months and he was admitted in the local school at Alirajpur. Again his father sent him to Benares for the boy exhibited a strange waywardness.\n",
      "This time\n",
      " he remained there and studied properly. On the whole, he was an average student.Political Initiation From the very outset, he had a deep aversion for study which was of no real but tosimply churn out quill drivers or babus for the use of the British Raj in India. His stay at Benareshowever had a salutary effect upon his life, for he came in contact with many young men and ideas.\n",
      "The atmosphere\n",
      " was such that he got the opportunity of studying many things, especially the unhappy events which were then happeningin the country. Bit by bit, his mind was being drawn to the political situation of the country. Young Chandra Shekhar was f ascinated by anddrawn to the great national upsurge of the non-violent, non-cooperation movement of 1920-21 under the leadership of Mahatma Gandhi.I\n",
      "t is during\n",
      " this time, when the\n",
      "Jallianwala Baag massacre\n",
      " by British Army took place in Amritsar where hunderds (at least 2000) unarmed,peaceful and unwarned civilians were fired upon. This event had a profound effect on Indian national movement and inspired several youngIndians, like Azad, into political movement for liberation. The young mind of Chandrashekhar was wax to receive and marble to retain.\n",
      "From Chandrashekhar Tewari to Chandrashekhar â€˜Azadâ€™\n",
      "To protest the massacre and demanding the liberation, various popular activities sprouted up throughout the country. While participating in oneof these movements, Chandra Shekhar was arrested when he was just 16 years of age.He was brought to court. The Magistrate asked him, â€œWhat is your name?\n",
      "going to become very famous. He gave his name as â€˜\n",
      "Azadâ€™,\n",
      " his fatherâ€™s name asâ€˜Swatantraâ€™ and his place of dwelling as â€˜prison cellâ€™. Astonished was the Magistrate atthese straight and bold answers. Azad was sentenced to fifteen canes. He wasbeaten very severely. At every beat, his body turned blue and red and blood oozed outfreely. Azad was highly honored by the citizens and profusely garlanded when hecame out from jail. His photos appeared in the Press with streamlined captions.\n",
      "Fromhere on, he would be known far and wide as â€˜Azadâ€™, forever.\n",
      " After this incident, Shri Provesh, the chief organiser of the Revolutionary Party in India,sought him and persuaded him to join it. Azad proved to be a restless worker. He issuedsecretly and silently, many leaflets and bulletins to drive away the misconceptionsentertained by the people of the country. He proved a master propagandist. In physicalstrength, none equaled him and he was called Bhim Dada. Other eminent members of the party working along with Azad were Shri Yogesh Chatterji, Shri Sachin Sanyal andShri Rabindranath Kar. Men in the party learned all the arts of modern warfare. The mainproblem was finance. Finances! From where could the money be had? This was themajor issue before the party. To ask openly was impossible and to obtain it secretly was amuch more difficult task.\n",
      "<class 'str'>\n"
     ]
    }
   ],
   "source": [
    "# printing the path of file\n",
    "\n",
    "print(file.name)\n",
    "\n",
    "# printing the mode of the file\n",
    "print(file.mode)\n",
    "\n",
    "# print the file without \"\\n\" as a new line\n",
    "print(content)\n",
    "\n",
    "# printing the type of file.\n",
    "\n",
    "print(type(content))"
   ]
  },
  {
   "cell_type": "code",
   "execution_count": 13,
   "id": "f9de708e-b480-4676-9e44-8e4c7ac2ec0b",
   "metadata": {},
   "outputs": [
    {
     "data": {
      "text/plain": [
       "False"
      ]
     },
     "execution_count": 13,
     "metadata": {},
     "output_type": "execute_result"
    }
   ],
   "source": [
    "# how to chekc file is open or not.?\n",
    "\n",
    "file.closed"
   ]
  },
  {
   "cell_type": "code",
   "execution_count": 14,
   "id": "fd407ed3-fc70-41b2-8c1e-6867ccb76d96",
   "metadata": {},
   "outputs": [],
   "source": [
    "# how to close the open file.\n",
    "\n",
    "file.close()"
   ]
  },
  {
   "cell_type": "code",
   "execution_count": 15,
   "id": "cc6bfa69-c270-457c-85c6-e0555b7a4629",
   "metadata": {},
   "outputs": [
    {
     "data": {
      "text/plain": [
       "True"
      ]
     },
     "execution_count": 15,
     "metadata": {},
     "output_type": "execute_result"
    }
   ],
   "source": [
    "# Verification of file closing or not.\n",
    "file.closed"
   ]
  },
  {
   "cell_type": "code",
   "execution_count": 17,
   "id": "45a26c45-b7ac-4afe-a1b0-88af22cafcac",
   "metadata": {},
   "outputs": [
    {
     "name": "stdout",
     "output_type": "stream",
     "text": [
      "Chandra Shekhar Azad\n",
      " was born on 23 July 1906 in Jujhautiya Brahmins family of Pandit SitaramTiwar i and Jagrani Devi in the bhabara (of jhabua District)|madhy Pradesh. He spent his childhood inthe village Bhabhra when his father was serving in the erstwhile estate of Alirajpur \n",
      "He got\n",
      " the natural training of a hardy and rough life along with the Bhils who inhabited the wildregion. From his Bhil friends, early in life, be learnt wrestling and swimming. He also became moreskilled with the bow and arrow. He learnt to throw the Bhala or Javelin, to shoot straight, to ride anduse the sword, in all of which he became proficient.\n",
      "From\n",
      " his childhood, he remained a devotee of\n",
      "Hanuman\n",
      " throughout his life, and had a very strongPehelwan(wrestler)-like body.\n",
      "He was even called\n",
      " Bhimsen or Bhim Dada later. After the early education in Jhabua, he was sentto theSanskrit Pathashala at Varanasi, where a near relative of the family, probably maternal unclewas then living. He returned home after a few months and he was admitted in the local school at Alirajpur. Again his father sent him to Benares for the boy exhibited a strange waywardness.\n",
      "This time\n",
      " he remained there and studied properly. On the whole, he was an average student.Political Initiation From the very outset, he had a deep aversion for study which was of no real but tosimply churn out quill drivers or babus for the use of the British Raj in India. His stay at Benareshowever had a salutary effect upon his life, for he came in contact with many young men and ideas.\n",
      "The atmosphere\n",
      " was such that he got the opportunity of studying many things, especially the unhappy events which were then happeningin the country. Bit by bit, his mind was being drawn to the political situation of the country. Young Chandra Shekhar was f ascinated by anddrawn to the great national upsurge of the non-violent, non-cooperation movement of 1920-21 under the leadership of Mahatma Gandhi.I\n",
      "t is during\n",
      " this time, when the\n",
      "Jallianwala Baag massacre\n",
      " by British Army took place in Amritsar where hunderds (at least 2000) unarmed,peaceful and unwarned civilians were fired upon. This event had a profound effect on Indian national movement and inspired several youngIndians, like Azad, into political movement for liberation. The young mind of Chandrashekhar was wax to receive and marble to retain.\n",
      "From Chandrashekhar Tewari to Chandrashekhar â€˜Azadâ€™\n",
      "To protest the massacre and demanding the liberation, various popular activities sprouted up throughout the country. While participating in oneof these movements, Chandra Shekhar was arrested when he was just 16 years of age.He was brought to court. The Magistrate asked him, â€œWhat is your name?\n",
      "going to become very famous. He gave his name as â€˜\n",
      "Azadâ€™,\n",
      " his fatherâ€™s name asâ€˜Swatantraâ€™ and his place of dwelling as â€˜prison cellâ€™. Astonished was the Magistrate atthese straight and bold answers. Azad was sentenced to fifteen canes. He wasbeaten very severely. At every beat, his body turned blue and red and blood oozed outfreely. Azad was highly honored by the citizens and profusely garlanded when hecame out from jail. His photos appeared in the Press with streamlined captions.\n",
      "Fromhere on, he would be known far and wide as â€˜Azadâ€™, forever.\n",
      " After this incident, Shri Provesh, the chief organiser of the Revolutionary Party in India,sought him and persuaded him to join it. Azad proved to be a restless worker. He issuedsecretly and silently, many leaflets and bulletins to drive away the misconceptionsentertained by the people of the country. He proved a master propagandist. In physicalstrength, none equaled him and he was called Bhim Dada. Other eminent members of the party working along with Azad were Shri Yogesh Chatterji, Shri Sachin Sanyal andShri Rabindranath Kar. Men in the party learned all the arts of modern warfare. The mainproblem was finance. Finances! From where could the money be had? This was themajor issue before the party. To ask openly was impossible and to obtain it secretly was amuch more difficult task.\n"
     ]
    }
   ],
   "source": [
    "# anoter method to open the file from dirve path.\n",
    "x_file=r\"C:\\Users\\Admin\\Downloads\\Chandra_Shekhar_Azad.txt\"\n",
    "\n",
    "with open(x_file,'r') as f:\n",
    "    x_content=f.read()\n",
    "    print(x_content)"
   ]
  },
  {
   "cell_type": "code",
   "execution_count": 22,
   "id": "2bcaa839-2df9-4887-a9aa-eb2830c11c8d",
   "metadata": {},
   "outputs": [
    {
     "name": "stdout",
     "output_type": "stream",
     "text": [
      "Chandra Shekhar Azad\n",
      "\n",
      " was born on 23 July 1906 in Jujhautiya Brahmins \n",
      "family of Pandit SitaramTiwar i and Jagrani Devi in the bhabara (of jhabua District)|madhy Pradesh. \n",
      "He spent his childhood inthe village Bhabhra when his father was serving in the erstwhile estate of Alirajpur \n",
      "He got\n",
      " the natural training of a hardy and rough life along with the Bhils who inhabited\n",
      " the wildregion. From his Bhil friends, early in life, be learnt wrestling and swimming. He also became moreskilled with the bow and arrow. He learnt to throw the Bhala or Javelin, to shoot straight, to ride anduse the sword, in all of which he became proficient.\n",
      "From\n",
      " his childhood, he remained a devotee of\n",
      "Hanuman\n",
      " throughout his life, and had a very strongPehelwan(wrestler)-like body.\n",
      "He was even called\n",
      " Bhimsen or Bhim Dada later. After the early education in Jhabua, he was sentto theSanskri\n"
     ]
    }
   ],
   "source": [
    "# Reading certain amount of characters in the file.\n",
    "\n",
    "with open(x_file,'r') as payal:\n",
    "    print(payal.read(20))\n",
    "    print(payal.read(50))\n",
    "    print(payal.read(100))\n",
    "    print(payal.read(200))\n",
    "    print(payal.read(500))"
   ]
  },
  {
   "cell_type": "code",
   "execution_count": 32,
   "id": "76c4fd2f-be78-496b-a9bf-69144a8a3e32",
   "metadata": {},
   "outputs": [
    {
     "name": "stdout",
     "output_type": "stream",
     "text": [
      "Chandra Shekhar Azad\n",
      "\n",
      " was born on 23 July 1906 in Jujhautiya Brahmins family of Pandit SitaramTiwar i and Jagrani Devi in the bhabara (of jhabua District)|madhy Pradesh. He spent his childhood inthe village Bhabhra when his father was serving in the erstwhile estate of Alirajpur \n",
      "\n",
      "He got\n",
      "\n",
      " the natural training of a hardy and rough life along with the Bhils who inhabited the wildregion. From his Bhil friends, early in life, be learnt wrestling and swimming. He also became moreskilled with the bow and arrow. He learnt to throw the Bhala or Javelin, to shoot straight, to ride anduse the sword, in all of which he became proficient.\n",
      "\n",
      "From\n",
      "\n"
     ]
    }
   ],
   "source": [
    "# Difference between read() and readline\n",
    "with open(x_file,'r') as payal:\n",
    "    print(payal.readline())  # it do not take parameter in readline() function it returns the default line by line.\n",
    "    print(payal.readline())\n",
    "    print(payal.readline())\n",
    "    print(payal.readline())\n",
    "    print(payal.readline())\n",
    "    # print(payal.read(50))\n",
    "    # print(payal.read(100))\n",
    "    # print(payal.read(200))\n",
    "    # print(payal.read(500))"
   ]
  },
  {
   "cell_type": "code",
   "execution_count": 42,
   "id": "cee7f528-ab4c-47a1-9dcf-72f5f871a4e7",
   "metadata": {},
   "outputs": [
    {
     "name": "stdout",
     "output_type": "stream",
     "text": [
      "['Chandra Shekhar Azad\\n', ' was born on 23 July 1906 in Jujhautiya Brahmins family of Pandit SitaramTiwar i and Jagrani Devi in the bhabara (of jhabua District)|madhy Pradesh. He spent his childhood inthe village Bhabhra when his father was serving in the erstwhile estate of Alirajpur \\n', 'He got\\n', ' the natural training of a hardy and rough life along with the Bhils who inhabited the wildregion. From his Bhil friends, early in life, be learnt wrestling and swimming. He also became moreskilled with the bow and arrow. He learnt to throw the Bhala or Javelin, to shoot straight, to ride anduse the sword, in all of which he became proficient.\\n']\n"
     ]
    }
   ],
   "source": [
    "# readlines():Returns a list of lines from the file.\n",
    "with open(x_file,'r') as payal:\n",
    "    print(payal.readlines(500))  # It takes 500 character as a argument. \n",
    "    #print(payal.readline(20))   # it do not returns any value\n",
    "    # print(payal.readline())\n",
    "    # print(payal.readline())\n",
    "    # print(payal.readline())\n",
    "    "
   ]
  },
  {
   "cell_type": "code",
   "execution_count": 43,
   "id": "22529e75-9e63-4a5d-8ff8-6eb6295e28bb",
   "metadata": {},
   "outputs": [
    {
     "name": "stdout",
     "output_type": "stream",
     "text": [
      "['Chandra Shekhar Azad\\n', ' was born on 23 July 1906 in Jujhautiya Brahmins family of Pandit SitaramTiwar i and Jagrani Devi in the bhabara (of jhabua District)|madhy Pradesh. He spent his childhood inthe village Bhabhra when his father was serving in the erstwhile estate of Alirajpur \\n', 'He got\\n', ' the natural training of a hardy and rough life along with the Bhils who inhabited the wildregion. From his Bhil friends, early in life, be learnt wrestling and swimming. He also became moreskilled with the bow and arrow. He learnt to throw the Bhala or Javelin, to shoot straight, to ride anduse the sword, in all of which he became proficient.\\n', 'From\\n', ' his childhood, he remained a devotee of\\n', 'Hanuman\\n', ' throughout his life, and had a very strongPehelwan(wrestler)-like body.\\n', 'He was even called\\n', ' Bhimsen or Bhim Dada later. After the early education in Jhabua, he was sentto theSanskrit Pathashala at Varanasi, where a near relative of the family, probably maternal unclewas then living. He returned home after a few months and he was admitted in the local school at Alirajpur. Again his father sent him to Benares for the boy exhibited a strange waywardness.\\n', 'This time\\n', ' he remained there and studied properly. On the whole, he was an average student.Political Initiation From the very outset, he had a deep aversion for study which was of no real but tosimply churn out quill drivers or babus for the use of the British Raj in India. His stay at Benareshowever had a salutary effect upon his life, for he came in contact with many young men and ideas.\\n', 'The atmosphere\\n', ' was such that he got the opportunity of studying many things, especially the unhappy events which were then happeningin the country. Bit by bit, his mind was being drawn to the political situation of the country. Young Chandra Shekhar was f ascinated by anddrawn to the great national upsurge of the non-violent, non-cooperation movement of 1920-21 under the leadership of Mahatma Gandhi.I\\n', 't is during\\n', ' this time, when the\\n', 'Jallianwala Baag massacre\\n', ' by British Army took place in Amritsar where hunderds (at least 2000) unarmed,peaceful and unwarned civilians were fired upon. This event had a profound effect on Indian national movement and inspired several youngIndians, like Azad, into political movement for liberation. The young mind of Chandrashekhar was wax to receive and marble to retain.\\n', 'From Chandrashekhar Tewari to Chandrashekhar â€˜Azadâ€™\\n', 'To protest the massacre and demanding the liberation, various popular activities sprouted up throughout the country. While participating in oneof these movements, Chandra Shekhar was arrested when he was just 16 years of age.He was brought to court. The Magistrate asked him, â€œWhat is your name?\\n', 'going to become very famous. He gave his name as â€˜\\n', 'Azadâ€™,\\n', ' his fatherâ€™s name asâ€˜Swatantraâ€™ and his place of dwelling as â€˜prison cellâ€™. Astonished was the Magistrate atthese straight and bold answers. Azad was sentenced to fifteen canes. He wasbeaten very severely. At every beat, his body turned blue and red and blood oozed outfreely. Azad was highly honored by the citizens and profusely garlanded when hecame out from jail. His photos appeared in the Press with streamlined captions.\\n', 'Fromhere on, he would be known far and wide as â€˜Azadâ€™, forever.\\n', ' After this incident, Shri Provesh, the chief organiser of the Revolutionary Party in India,sought him and persuaded him to join it. Azad proved to be a restless worker. He issuedsecretly and silently, many leaflets and bulletins to drive away the misconceptionsentertained by the people of the country. He proved a master propagandist. In physicalstrength, none equaled him and he was called Bhim Dada. Other eminent members of the party working along with Azad were Shri Yogesh Chatterji, Shri Sachin Sanyal andShri Rabindranath Kar. Men in the party learned all the arts of modern warfare. The mainproblem was finance. Finances! From where could the money be had? This was themajor issue before the party. To ask openly was impossible and to obtain it secretly was amuch more difficult task.']\n"
     ]
    }
   ],
   "source": [
    "# readlines():Returns a list of lines from the file.\n",
    "with open(x_file,'r') as payal:\n",
    "    print(payal.readlines())  # It returns whole content in the list. \n",
    "    #print(payal.readline(20))   \n",
    "    # print(payal.readline())\n",
    "    # print(payal.readline())\n",
    "    # print(payal.readline())"
   ]
  },
  {
   "cell_type": "code",
   "execution_count": 46,
   "id": "4055fa5f-4559-4d17-92cf-4673f42d6e1b",
   "metadata": {},
   "outputs": [
    {
     "name": "stdout",
     "output_type": "stream",
     "text": [
      "Line Number 1: Chandra Shekhar Azad\n",
      "\n",
      "Line Number 2:  was born on 23 July 1906 in Jujhautiya Brahmins family of Pandit SitaramTiwar i and Jagrani Devi in the bhabara (of jhabua District)|madhy Pradesh. He spent his childhood inthe village Bhabhra when his father was serving in the erstwhile estate of Alirajpur \n",
      "\n",
      "Line Number 3: He got\n",
      "\n",
      "Line Number 4:  the natural training of a hardy and rough life along with the Bhils who inhabited the wildregion. From his Bhil friends, early in life, be learnt wrestling and swimming. He also became moreskilled with the bow and arrow. He learnt to throw the Bhala or Javelin, to shoot straight, to ride anduse the sword, in all of which he became proficient.\n",
      "\n",
      "Line Number 5: From\n",
      "\n",
      "Line Number 6:  his childhood, he remained a devotee of\n",
      "\n",
      "Line Number 7: Hanuman\n",
      "\n",
      "Line Number 8:  throughout his life, and had a very strongPehelwan(wrestler)-like body.\n",
      "\n",
      "Line Number 9: He was even called\n",
      "\n",
      "Line Number 10:  Bhimsen or Bhim Dada later. After the early education in Jhabua, he was sentto theSanskrit Pathashala at Varanasi, where a near relative of the family, probably maternal unclewas then living. He returned home after a few months and he was admitted in the local school at Alirajpur. Again his father sent him to Benares for the boy exhibited a strange waywardness.\n",
      "\n",
      "Line Number 11: This time\n",
      "\n",
      "Line Number 12:  he remained there and studied properly. On the whole, he was an average student.Political Initiation From the very outset, he had a deep aversion for study which was of no real but tosimply churn out quill drivers or babus for the use of the British Raj in India. His stay at Benareshowever had a salutary effect upon his life, for he came in contact with many young men and ideas.\n",
      "\n",
      "Line Number 13: The atmosphere\n",
      "\n",
      "Line Number 14:  was such that he got the opportunity of studying many things, especially the unhappy events which were then happeningin the country. Bit by bit, his mind was being drawn to the political situation of the country. Young Chandra Shekhar was f ascinated by anddrawn to the great national upsurge of the non-violent, non-cooperation movement of 1920-21 under the leadership of Mahatma Gandhi.I\n",
      "\n",
      "Line Number 15: t is during\n",
      "\n",
      "Line Number 16:  this time, when the\n",
      "\n",
      "Line Number 17: Jallianwala Baag massacre\n",
      "\n",
      "Line Number 18:  by British Army took place in Amritsar where hunderds (at least 2000) unarmed,peaceful and unwarned civilians were fired upon. This event had a profound effect on Indian national movement and inspired several youngIndians, like Azad, into political movement for liberation. The young mind of Chandrashekhar was wax to receive and marble to retain.\n",
      "\n",
      "Line Number 19: From Chandrashekhar Tewari to Chandrashekhar â€˜Azadâ€™\n",
      "\n",
      "Line Number 20: To protest the massacre and demanding the liberation, various popular activities sprouted up throughout the country. While participating in oneof these movements, Chandra Shekhar was arrested when he was just 16 years of age.He was brought to court. The Magistrate asked him, â€œWhat is your name?\n",
      "\n",
      "Line Number 21: going to become very famous. He gave his name as â€˜\n",
      "\n",
      "Line Number 22: Azadâ€™,\n",
      "\n",
      "Line Number 23:  his fatherâ€™s name asâ€˜Swatantraâ€™ and his place of dwelling as â€˜prison cellâ€™. Astonished was the Magistrate atthese straight and bold answers. Azad was sentenced to fifteen canes. He wasbeaten very severely. At every beat, his body turned blue and red and blood oozed outfreely. Azad was highly honored by the citizens and profusely garlanded when hecame out from jail. His photos appeared in the Press with streamlined captions.\n",
      "\n",
      "Line Number 24: Fromhere on, he would be known far and wide as â€˜Azadâ€™, forever.\n",
      "\n",
      "Line Number 25:  After this incident, Shri Provesh, the chief organiser of the Revolutionary Party in India,sought him and persuaded him to join it. Azad proved to be a restless worker. He issuedsecretly and silently, many leaflets and bulletins to drive away the misconceptionsentertained by the people of the country. He proved a master propagandist. In physicalstrength, none equaled him and he was called Bhim Dada. Other eminent members of the party working along with Azad were Shri Yogesh Chatterji, Shri Sachin Sanyal andShri Rabindranath Kar. Men in the party learned all the arts of modern warfare. The mainproblem was finance. Finances! From where could the money be had? This was themajor issue before the party. To ask openly was impossible and to obtain it secretly was amuch more difficult task.\n"
     ]
    }
   ],
   "source": [
    "# file open using for loop\n",
    "\n",
    "with open(x_file,'r') as f:\n",
    "    line_number=1\n",
    "    for line in f:\n",
    "        print(f\"Line Number {line_number}: {line}\")\n",
    "        line_number+=1"
   ]
  },
  {
   "cell_type": "markdown",
   "id": "cbfdf7b1-9ddd-473b-b6fb-95368be431ca",
   "metadata": {},
   "source": [
    "# Methods\n",
    "\n",
    " * __read(n) function__\n",
    " * __Reads atmost n bytes from the file if n is specified, else reads the enitre file.__\n",
    " * __Returns the retrieved bytes in the form of a string.__"
   ]
  },
  {
   "cell_type": "code",
   "execution_count": 1,
   "id": "67644aee-0e67-4fa5-903a-4d2c5fe1f447",
   "metadata": {},
   "outputs": [
    {
     "name": "stdout",
     "output_type": "stream",
     "text": [
      "Chandra Shekhar Azad\n",
      " was born on 23 July 1906 in Jujhautiya Brahmins family of Pandit SitaramTiwar i and Jagrani Devi in the bhabara (of jhabua District)|madhy Pradesh. He spent his childhood inthe village Bhabhra when his father was serving in the erstwhile estate of Alirajpur \n",
      "He got\n",
      " the natural training of a hardy and rough life along with the Bhils who inhabited the wildregion. From his Bhil friends, early in life, be learnt wrestling and swimming. He also became moreskilled with the bow and arrow. He learnt to throw the Bhala or Javelin, to shoot straight, to ride anduse the sword, in all of which he became proficient.\n",
      "From\n",
      " his childhood, he remained a devotee of\n",
      "Hanuman\n",
      " throughout his life, and had a very strongPehelwan(wrestler)-like body.\n",
      "He was even called\n",
      " Bhimsen or Bhim Dada later. After the early education in Jhabua, he was sentto theSanskrit Pathashala at Varanasi, where a near relative of the family, probably maternal unclewas then living. He returned home after a few months and he was admitted in the local school at Alirajpur. Again his father sent him to Benares for the boy exhibited a strange waywardness.\n",
      "This time\n",
      " he remained there and studied properly. On the whole, he was an average student.Political Initiation From the very outset, he had a deep aversion for study which was of no real but tosimply churn out quill drivers or babus for the use of the British Raj in India. His stay at Benareshowever had a salutary effect upon his life, for he came in contact with many young men and ideas.\n",
      "The atmosphere\n",
      " was such that he got the opportunity of studying many things, especially the unhappy events which were then happeningin the country. Bit by bit, his mind was being drawn to the political situation of the country. Young Chandra Shekhar was f ascinated by anddrawn to the great national upsurge of the non-violent, non-cooperation movement of 1920-21 under the leadership of Mahatma Gandhi.I\n",
      "t is during\n",
      " this time, when the\n",
      "Jallianwala Baag massacre\n",
      " by British Army took place in Amritsar where hunderds (at least 2000) unarmed,peaceful and unwarned civilians were fired upon. This event had a profound effect on Indian national movement and inspired several youngIndians, like Azad, into political movement for liberation. The young mind of Chandrashekhar was wax to receive and marble to retain.\n",
      "From Chandrashekhar Tewari to Chandrashekhar â€˜Azadâ€™\n",
      "To protest the massacre and demanding the liberation, various popular activities sprouted up throughout the country. While participating in oneof these movements, Chandra Shekhar was arrested when he was just 16 years of age.He was brought to court. The Magistrate asked him, â€œWhat is your name?\n",
      "going to become very famous. He gave his name as â€˜\n",
      "Azadâ€™,\n",
      " his fatherâ€™s name asâ€˜Swatantraâ€™ and his place of dwelling as â€˜prison cellâ€™. Astonished was the Magistrate atthese straight and bold answers. Azad was sentenced to fifteen canes. He wasbeaten very severely. At every beat, his body turned blue and red and blood oozed outfreely. Azad was highly honored by the citizens and profusely garlanded when hecame out from jail. His photos appeared in the Press with streamlined captions.\n",
      "Fromhere on, he would be known far and wide as â€˜Azadâ€™, forever.\n",
      " After this incident, Shri Provesh, the chief organiser of the Revolutionary Party in India,sought him and persuaded him to join it. Azad proved to be a restless worker. He issuedsecretly and silently, many leaflets and bulletins to drive away the misconceptionsentertained by the people of the country. He proved a master propagandist. In physicalstrength, none equaled him and he was called Bhim Dada. Other eminent members of the party working along with Azad were Shri Yogesh Chatterji, Shri Sachin Sanyal andShri Rabindranath Kar. Men in the party learned all the arts of modern warfare. The mainproblem was finance. Finances! From where could the money be had? This was themajor issue before the party. To ask openly was impossible and to obtain it secretly was amuch more difficult task.\n"
     ]
    }
   ],
   "source": [
    "fname=r\"C:\\Users\\Admin\\Downloads\\Chandra_Shekhar_Azad.txt\"\n",
    "with open(fname,'r') as f:\n",
    "    print(f.read())"
   ]
  },
  {
   "cell_type": "code",
   "execution_count": 2,
   "id": "a4473768-d66e-4819-9e7c-d53401561b2a",
   "metadata": {},
   "outputs": [
    {
     "name": "stdout",
     "output_type": "stream",
     "text": [
      "Chandra Shekhar Azad\n",
      " was born on 23 July 1906 in Jujhautiya Brahmins family of Pandit SitaramTiwar \n"
     ]
    }
   ],
   "source": [
    "with open(fname,'r') as f:\n",
    "    print(f.read(100))"
   ]
  },
  {
   "cell_type": "code",
   "execution_count": 3,
   "id": "d74f9ae3-ff24-4c1d-b083-1d3576e7344e",
   "metadata": {},
   "outputs": [
    {
     "name": "stdout",
     "output_type": "stream",
     "text": [
      "Total Characters in the text is: 4069\n"
     ]
    }
   ],
   "source": [
    "# how to print total characters in the file.\n",
    "\n",
    "with open(fname,'r') as f:\n",
    "    str=''\n",
    "    for line in f:\n",
    "        str+=line\n",
    "    print(f'Total Characters in the text is: {len(str)}')"
   ]
  },
  {
   "cell_type": "code",
   "execution_count": 13,
   "id": "8893a010-85c0-4c3d-9d29-68f04dfe66cf",
   "metadata": {},
   "outputs": [
    {
     "name": "stdout",
     "output_type": "stream",
     "text": [
      "Total Length of your file is: 3420\n"
     ]
    }
   ],
   "source": [
    "# how to print total characters without spaces in the file.\n",
    "\n",
    "with open(fname,'r') as f:\n",
    "    content=f.read()\n",
    "    print('Total Length of your file is:',len(content.replace(' ','')))"
   ]
  },
  {
   "cell_type": "code",
   "execution_count": 21,
   "id": "a88d5965-1fc6-410e-b7df-b45b3af435a3",
   "metadata": {},
   "outputs": [
    {
     "name": "stdout",
     "output_type": "stream",
     "text": [
      "Total Length of your file is: 6665\n"
     ]
    }
   ],
   "source": [
    "with open(fname,'r') as f:\n",
    "    content=f.read()\n",
    "    print('Total Length of your file is:',len(content.replace(' ','Payal')))"
   ]
  },
  {
   "cell_type": "code",
   "execution_count": 25,
   "id": "f77fe050-0c19-4f8e-9e6d-059d3f77d8e9",
   "metadata": {},
   "outputs": [
    {
     "name": "stdout",
     "output_type": "stream",
     "text": [
      "Total Length of your file is: 4054\n"
     ]
    }
   ],
   "source": [
    "with open(fname,'r') as f:\n",
    "    payal=f.read()\n",
    "    print('Total Length of your file is:',len(payal.replace('Chandra Shekhar Azad','Payal')))"
   ]
  },
  {
   "cell_type": "code",
   "execution_count": 26,
   "id": "7d5780ae-fd3f-4fa0-92c6-692b03a8d6cc",
   "metadata": {},
   "outputs": [
    {
     "data": {
      "text/plain": [
       "'Chandra Shekhar Azad\\n was born on 23 July 1906 in Jujhautiya Brahmins family of Pandit SitaramTiwar i and Jagrani Devi in the bhabara (of jhabua District)|madhy Pradesh. He spent his childhood inthe village Bhabhra when his father was serving in the erstwhile estate of Alirajpur \\nHe got\\n the natural training of a hardy and rough life along with the Bhils who inhabited the wildregion. From his Bhil friends, early in life, be learnt wrestling and swimming. He also became moreskilled with the bow and arrow. He learnt to throw the Bhala or Javelin, to shoot straight, to ride anduse the sword, in all of which he became proficient.\\nFrom\\n his childhood, he remained a devotee of\\nHanuman\\n throughout his life, and had a very strongPehelwan(wrestler)-like body.\\nHe was even called\\n Bhimsen or Bhim Dada later. After the early education in Jhabua, he was sentto theSanskrit Pathashala at Varanasi, where a near relative of the family, probably maternal unclewas then living. He returned home after a few months and he was admitted in the local school at Alirajpur. Again his father sent him to Benares for the boy exhibited a strange waywardness.\\nThis time\\n he remained there and studied properly. On the whole, he was an average student.Political Initiation From the very outset, he had a deep aversion for study which was of no real but tosimply churn out quill drivers or babus for the use of the British Raj in India. His stay at Benareshowever had a salutary effect upon his life, for he came in contact with many young men and ideas.\\nThe atmosphere\\n was such that he got the opportunity of studying many things, especially the unhappy events which were then happeningin the country. Bit by bit, his mind was being drawn to the political situation of the country. Young Chandra Shekhar was f ascinated by anddrawn to the great national upsurge of the non-violent, non-cooperation movement of 1920-21 under the leadership of Mahatma Gandhi.I\\nt is during\\n this time, when the\\nJallianwala Baag massacre\\n by British Army took place in Amritsar where hunderds (at least 2000) unarmed,peaceful and unwarned civilians were fired upon. This event had a profound effect on Indian national movement and inspired several youngIndians, like Azad, into political movement for liberation. The young mind of Chandrashekhar was wax to receive and marble to retain.\\nFrom Chandrashekhar Tewari to Chandrashekhar â€˜Azadâ€™\\nTo protest the massacre and demanding the liberation, various popular activities sprouted up throughout the country. While participating in oneof these movements, Chandra Shekhar was arrested when he was just 16 years of age.He was brought to court. The Magistrate asked him, â€œWhat is your name?\\ngoing to become very famous. He gave his name as â€˜\\nAzadâ€™,\\n his fatherâ€™s name asâ€˜Swatantraâ€™ and his place of dwelling as â€˜prison cellâ€™. Astonished was the Magistrate atthese straight and bold answers. Azad was sentenced to fifteen canes. He wasbeaten very severely. At every beat, his body turned blue and red and blood oozed outfreely. Azad was highly honored by the citizens and profusely garlanded when hecame out from jail. His photos appeared in the Press with streamlined captions.\\nFromhere on, he would be known far and wide as â€˜Azadâ€™, forever.\\n After this incident, Shri Provesh, the chief organiser of the Revolutionary Party in India,sought him and persuaded him to join it. Azad proved to be a restless worker. He issuedsecretly and silently, many leaflets and bulletins to drive away the misconceptionsentertained by the people of the country. He proved a master propagandist. In physicalstrength, none equaled him and he was called Bhim Dada. Other eminent members of the party working along with Azad were Shri Yogesh Chatterji, Shri Sachin Sanyal andShri Rabindranath Kar. Men in the party learned all the arts of modern warfare. The mainproblem was finance. Finances! From where could the money be had? This was themajor issue before the party. To ask openly was impossible and to obtain it secretly was amuch more difficult task.'"
      ]
     },
     "execution_count": 26,
     "metadata": {},
     "output_type": "execute_result"
    }
   ],
   "source": [
    "payal"
   ]
  },
  {
   "cell_type": "code",
   "execution_count": null,
   "id": "4daaabd1-9e08-4ae1-875d-c39365655296",
   "metadata": {},
   "outputs": [],
   "source": []
  },
  {
   "cell_type": "code",
   "execution_count": 33,
   "id": "13127be1-0db5-4c3f-8014-337a1df2cb68",
   "metadata": {},
   "outputs": [
    {
     "data": {
      "text/plain": [
       "'Chandra Shekhar Azad\\n was born on 23 July 1906 in Jujhautiya Brahmins family of Pandit SitaramTiwar i and Jagrani Devi in the bhabara (of jhabua District)|madhy Pradesh. He spent his childhood inthe village Bhabhra when his father was serving in the erstwhile estate of Alirajpur \\nHe got\\n the natural training of a hardy and rough life along with the Bhils who inhabited the wildregion. From his Bhil friends, early in life, be learnt wrestling and swimming. He also became moreskilled with the bow and arrow. He learnt to throw the Bhala or Javelin, to shoot straight, to ride anduse the sword, in all of which he became proficient.\\nFrom\\n his childhood, he remained a devotee of\\nHanuman\\n throughout his life, and had a very strongPehelwan(wrestler)-like body.\\nHe was even called\\n Bhimsen or Bhim Dada later. After the early education in Jhabua, he was sentto theSanskrit Pathashala at Varanasi, where a near relative of the family, probably maternal unclewas then living. He returned home after a few months and he was admitted in the local school at Alirajpur. Again his father sent him to Benares for the boy exhibited a strange waywardness.\\nThis time\\n he remained there and studied properly. On the whole, he was an average student.Political Initiation From the very outset, he had a deep aversion for study which was of no real but tosimply churn out quill drivers or babus for the use of the British Raj in India. His stay at Benareshowever had a salutary effect upon his life, for he came in contact with many young men and ideas.\\nThe atmosphere\\n was such that he got the opportunity of studying many things, especially the unhappy events which were then happeningin the country. Bit by bit, his mind was being drawn to the political situation of the country. Young Chandra Shekhar was f ascinated by anddrawn to the great national upsurge of the non-violent, non-cooperation movement of 1920-21 under the leadership of Mahatma Gandhi.I\\nt is during\\n this time, when the\\nJallianwala Baag massacre\\n by British Army took place in Amritsar where hunderds (at least 2000) unarmed,peaceful and unwarned civilians were fired upon. This event had a profound effect on Indian national movement and inspired several youngIndians, like Azad, into political movement for liberation. The young mind of Chandrashekhar was wax to receive and marble to retain.\\nFrom Chandrashekhar Tewari to Chandrashekhar â€˜Azadâ€™\\nTo protest the massacre and demanding the liberation, various popular activities sprouted up throughout the country. While participating in oneof these movements, Chandra Shekhar was arrested when he was just 16 years of age.He was brought to court. The Magistrate asked him, â€œWhat is your name?\\ngoing to become very famous. He gave his name as â€˜\\nAzadâ€™,\\n his fatherâ€™s name asâ€˜Swatantraâ€™ and his place of dwelling as â€˜prison cellâ€™. Astonished was the Magistrate atthese straight and bold answers. Azad was sentenced to fifteen canes. He wasbeaten very severely. At every beat, his body turned blue and red and blood oozed outfreely. Azad was highly honored by the citizens and profusely garlanded when hecame out from jail. His photos appeared in the Press with streamlined captions.\\nFromhere on, he would be known far and wide as â€˜Azadâ€™, forever.\\n After this incident, Shri Provesh, the chief organiser of the Revolutionary Party in India,sought him and persuaded him to join it. Azad proved to be a restless worker. He issuedsecretly and silently, many leaflets and bulletins to drive away the misconceptionsentertained by the people of the country. He proved a master propagandist. In physicalstrength, none equaled him and he was called Bhim Dada. Other eminent members of the party working along with Azad were Shri Yogesh Chatterji, Shri Sachin Sanyal andShri Rabindranath Kar. Men in the party learned all the arts of modern warfare. The mainproblem was finance. Finances! From where could the money be had? This was themajor issue before the party. To ask openly was impossible and to obtain it secretly was amuch more difficult task.'"
      ]
     },
     "execution_count": 33,
     "metadata": {},
     "output_type": "execute_result"
    }
   ],
   "source": [
    "payal"
   ]
  },
  {
   "cell_type": "code",
   "execution_count": 35,
   "id": "abb2c931-ba9c-4979-9ca7-c34eb05e47b6",
   "metadata": {},
   "outputs": [
    {
     "name": "stdout",
     "output_type": "stream",
     "text": [
      "{Payal}\n",
      " was born on 23 July 1906 in Jujhautiya Brahmins family of Pandit SitaramTiwar i and Jagrani Devi in the bhabara (of jhabua District)|madhy Pradesh. He spent his childhood inthe village Bhabhra when his father was serving in the erstwhile estate of Alirajpur \n",
      "He got\n",
      " the natural training of a hardy and rough life along with the Bhils who inhabited the wildregion. From his Bhil friends, early in life, be learnt wrestling and swimming. He also became moreskilled with the bow and arrow. He learnt to throw the Bhala or Javelin, to shoot straight, to ride anduse the sword, in all of which he became proficient.\n",
      "From\n",
      " his childhood, he remained a devotee of\n",
      "Hanuman\n",
      " throughout his life, and had a very strongPehelwan(wrestler)-like body.\n",
      "He was even called\n",
      " Bhimsen or Bhim Dada later. After the early education in Jhabua, he was sentto theSanskrit Pathashala at Varanasi, where a near relative of the family, probably maternal unclewas then living. He returned home after a few months and he was admitted in the local school at Alirajpur. Again his father sent him to Benares for the boy exhibited a strange waywardness.\n",
      "This time\n",
      " he remained there and studied properly. On the whole, he was an average student.Political Initiation From the very outset, he had a deep aversion for study which was of no real but tosimply churn out quill drivers or babus for the use of the British Raj in India. His stay at Benareshowever had a salutary effect upon his life, for he came in contact with many young men and ideas.\n",
      "The atmosphere\n",
      " was such that he got the opportunity of studying many things, especially the unhappy events which were then happeningin the country. Bit by bit, his mind was being drawn to the political situation of the country. Young Chandra Shekhar was f ascinated by anddrawn to the great national upsurge of the non-violent, non-cooperation movement of 1920-21 under the leadership of Mahatma Gandhi.I\n",
      "t is during\n",
      " this time, when the\n",
      "Jallianwala Baag massacre\n",
      " by British Army took place in Amritsar where hunderds (at least 2000) unarmed,peaceful and unwarned civilians were fired upon. This event had a profound effect on Indian national movement and inspired several youngIndians, like Azad, into political movement for liberation. The young mind of Chandrashekhar was wax to receive and marble to retain.\n",
      "From Chandrashekhar Tewari to Chandrashekhar â€˜Azadâ€™\n",
      "To protest the massacre and demanding the liberation, various popular activities sprouted up throughout the country. While participating in oneof these movements, Chandra Shekhar was arrested when he was just 16 years of age.He was brought to court. The Magistrate asked him, â€œWhat is your name?\n",
      "going to become very famous. He gave his name as â€˜\n",
      "Azadâ€™,\n",
      " his fatherâ€™s name asâ€˜Swatantraâ€™ and his place of dwelling as â€˜prison cellâ€™. Astonished was the Magistrate atthese straight and bold answers. Azad was sentenced to fifteen canes. He wasbeaten very severely. At every beat, his body turned blue and red and blood oozed outfreely. Azad was highly honored by the citizens and profusely garlanded when hecame out from jail. His photos appeared in the Press with streamlined captions.\n",
      "Fromhere on, he would be known far and wide as â€˜Azadâ€™, forever.\n",
      " After this incident, Shri Provesh, the chief organiser of the Revolutionary Party in India,sought him and persuaded him to join it. Azad proved to be a restless worker. He issuedsecretly and silently, many leaflets and bulletins to drive away the misconceptionsentertained by the people of the country. He proved a master propagandist. In physicalstrength, none equaled him and he was called Bhim Dada. Other eminent members of the party working along with Azad were Shri Yogesh Chatterji, Shri Sachin Sanyal andShri Rabindranath Kar. Men in the party learned all the arts of modern warfare. The mainproblem was finance. Finances! From where could the money be had? This was themajor issue before the party. To ask openly was impossible and to obtain it secretly was amuch more difficult task.\n"
     ]
    }
   ],
   "source": [
    "file_name=\"Chandra_Shekhar_Azad.txt\"\n",
    "file=open(file_name,'r')\n",
    "content=file.read()\n",
    "x= content.replace('Chandra Shekhar Azad',\"Payal\")\n",
    "print(x)"
   ]
  },
  {
   "cell_type": "code",
   "execution_count": 39,
   "id": "d238d46d-9fc0-46ab-a035-d6998f882953",
   "metadata": {},
   "outputs": [
    {
     "name": "stdin",
     "output_type": "stream",
     "text": [
      "Enter your file payal\n"
     ]
    },
    {
     "ename": "FileNotFoundError",
     "evalue": "[Errno 2] No such file or directory: 'payal'",
     "output_type": "error",
     "traceback": [
      "\u001b[1;31m---------------------------------------------------------------------------\u001b[0m",
      "\u001b[1;31mFileNotFoundError\u001b[0m                         Traceback (most recent call last)",
      "Cell \u001b[1;32mIn[39], line 2\u001b[0m\n\u001b[0;32m      1\u001b[0m file_name\u001b[38;5;241m=\u001b[39m\u001b[38;5;28minput\u001b[39m(\u001b[38;5;124m'\u001b[39m\u001b[38;5;124mEnter your file\u001b[39m\u001b[38;5;124m'\u001b[39m)\n\u001b[1;32m----> 2\u001b[0m file\u001b[38;5;241m=\u001b[39m\u001b[38;5;28;43mopen\u001b[39;49m\u001b[43m(\u001b[49m\u001b[43mfile_name\u001b[49m\u001b[43m,\u001b[49m\u001b[38;5;124;43m'\u001b[39;49m\u001b[38;5;124;43mr\u001b[39;49m\u001b[38;5;124;43m'\u001b[39;49m\u001b[43m)\u001b[49m\n\u001b[0;32m      3\u001b[0m content\u001b[38;5;241m=\u001b[39mfile\u001b[38;5;241m.\u001b[39mread()\n\u001b[0;32m      4\u001b[0m content\n",
      "File \u001b[1;32mC:\\Python311\\Lib\\site-packages\\IPython\\core\\interactiveshell.py:286\u001b[0m, in \u001b[0;36m_modified_open\u001b[1;34m(file, *args, **kwargs)\u001b[0m\n\u001b[0;32m    279\u001b[0m \u001b[38;5;28;01mif\u001b[39;00m file \u001b[38;5;129;01min\u001b[39;00m {\u001b[38;5;241m0\u001b[39m, \u001b[38;5;241m1\u001b[39m, \u001b[38;5;241m2\u001b[39m}:\n\u001b[0;32m    280\u001b[0m     \u001b[38;5;28;01mraise\u001b[39;00m \u001b[38;5;167;01mValueError\u001b[39;00m(\n\u001b[0;32m    281\u001b[0m         \u001b[38;5;124mf\u001b[39m\u001b[38;5;124m\"\u001b[39m\u001b[38;5;124mIPython won\u001b[39m\u001b[38;5;124m'\u001b[39m\u001b[38;5;124mt let you open fd=\u001b[39m\u001b[38;5;132;01m{\u001b[39;00mfile\u001b[38;5;132;01m}\u001b[39;00m\u001b[38;5;124m by default \u001b[39m\u001b[38;5;124m\"\u001b[39m\n\u001b[0;32m    282\u001b[0m         \u001b[38;5;124m\"\u001b[39m\u001b[38;5;124mas it is likely to crash IPython. If you know what you are doing, \u001b[39m\u001b[38;5;124m\"\u001b[39m\n\u001b[0;32m    283\u001b[0m         \u001b[38;5;124m\"\u001b[39m\u001b[38;5;124myou can use builtins\u001b[39m\u001b[38;5;124m'\u001b[39m\u001b[38;5;124m open.\u001b[39m\u001b[38;5;124m\"\u001b[39m\n\u001b[0;32m    284\u001b[0m     )\n\u001b[1;32m--> 286\u001b[0m \u001b[38;5;28;01mreturn\u001b[39;00m \u001b[43mio_open\u001b[49m\u001b[43m(\u001b[49m\u001b[43mfile\u001b[49m\u001b[43m,\u001b[49m\u001b[43m \u001b[49m\u001b[38;5;241;43m*\u001b[39;49m\u001b[43margs\u001b[49m\u001b[43m,\u001b[49m\u001b[43m \u001b[49m\u001b[38;5;241;43m*\u001b[39;49m\u001b[38;5;241;43m*\u001b[39;49m\u001b[43mkwargs\u001b[49m\u001b[43m)\u001b[49m\n",
      "\u001b[1;31mFileNotFoundError\u001b[0m: [Errno 2] No such file or directory: 'payal'"
     ]
    }
   ],
   "source": [
    "\n",
    "file_name=input('Enter your file')\n",
    "file=open(file_name,'r')\n",
    "content=file.read()\n",
    "content"
   ]
  },
  {
   "cell_type": "code",
   "execution_count": null,
   "id": "64b0f64a-3e88-4aaa-83c8-fddedfe0eddc",
   "metadata": {},
   "outputs": [],
   "source": []
  }
 ],
 "metadata": {
  "kernelspec": {
   "display_name": "Python 3 (ipykernel)",
   "language": "python",
   "name": "python3"
  },
  "language_info": {
   "codemirror_mode": {
    "name": "ipython",
    "version": 3
   },
   "file_extension": ".py",
   "mimetype": "text/x-python",
   "name": "python",
   "nbconvert_exporter": "python",
   "pygments_lexer": "ipython3",
   "version": "3.11.4"
  }
 },
 "nbformat": 4,
 "nbformat_minor": 5
}
