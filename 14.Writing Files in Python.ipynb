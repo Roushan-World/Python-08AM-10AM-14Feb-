{
 "cells": [
  {
   "cell_type": "markdown",
   "id": "7681bc00-1b9a-41a5-8153-f625384ce1fb",
   "metadata": {},
   "source": [
    "# 14 Writing files in Python\n",
    "\n",
    " * __To Write to a text file in Python, you follows these steps:__\n",
    " * __First, Open the text file for writing(appending) using open() functions.__\n",
    " * __Second, write to the text file using the write() or writelines() method.__\n",
    " * __Third, close the file using close() method.__\n",
    "\n",
    " * __Characters__----------------------> __Function__\n",
    " * __W__:------------------------------> __Open the file for writing only. File pointer placed at beginning of the file.__\n",
    " * __r__:------------------------------> __Open the file for reading only. Starts reading from beginning of the file This is default value.__\n",
    " * __rb__:-----------------------------> __Open the file for reading only. Starts reading from the beginning of the file.__\n",
    " * __r+__:-----------------------------> __Open the file for reading and Writing.File pointer places at beginning of the file.__\n",
    " \n",
    " * __W+__:-----------------------------> __Same as W but allows to read from the file.__\n",
    " * __Wb__:-----------------------------> __Same as W but opens in binary mode.__\n",
    " * __Wb+__:----------------------------> __Same as Wb but also allows to read from the file.__\n",
    " * __a__:------------------------------> __Open a file for appending. Starts writing at the end of the file. Creates a new file if file does not exist.__\n",
    " * __ab__:-----------------------------> __Same as a but in binary formate. Creates a new file if file does not exist.__\n",
    " * __a+__:-----------------------------> __Same as a but also open for reading.__\n",
    " * __ab+__:----------------------------> __Same as  ab but also open for reading.__   |"
   ]
  },
  {
   "cell_type": "code",
   "execution_count": 1,
   "id": "ab941539-484b-4dfc-b76b-228a25936961",
   "metadata": {},
   "outputs": [],
   "source": [
    "# Writing files using write() functiion\n",
    "\n",
    "fname='payal.txt'\n",
    "\n",
    "with open(fname,'w') as f:\n",
    "    f.write('My Name is Payal Chavan.\\n')\n",
    "    f.write('My Height is 5ft0inc.\\n')\n",
    "    f.write('My Weight is 45 kg.')"
   ]
  },
  {
   "cell_type": "code",
   "execution_count": 4,
   "id": "28361d8c-8925-48ec-accb-fa836bcc5992",
   "metadata": {},
   "outputs": [
    {
     "name": "stdout",
     "output_type": "stream",
     "text": [
      "My Name is Payal Chavan.\n",
      "My Height is 5ft0inc.\n",
      "My Weight is 45 kg.\n"
     ]
    }
   ],
   "source": [
    "x='payal.txt'\n",
    "with open(x,'r') as f:\n",
    "    file=f.read()\n",
    "    print(file)"
   ]
  },
  {
   "cell_type": "code",
   "execution_count": null,
   "id": "8c460c49-9e61-4e5f-aa35-03bbe290e82a",
   "metadata": {},
   "outputs": [],
   "source": []
  }
 ],
 "metadata": {
  "kernelspec": {
   "display_name": "Python 3 (ipykernel)",
   "language": "python",
   "name": "python3"
  },
  "language_info": {
   "codemirror_mode": {
    "name": "ipython",
    "version": 3
   },
   "file_extension": ".py",
   "mimetype": "text/x-python",
   "name": "python",
   "nbconvert_exporter": "python",
   "pygments_lexer": "ipython3",
   "version": "3.11.4"
  }
 },
 "nbformat": 4,
 "nbformat_minor": 5
}
