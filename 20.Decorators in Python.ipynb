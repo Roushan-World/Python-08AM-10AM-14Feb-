{
 "cells": [
  {
   "cell_type": "markdown",
   "id": "31612bc9-e82a-400f-8e27-18ec38f37b20",
   "metadata": {},
   "source": [
    "# 20. Decorators in Python\n",
    "\n",
    " * __Decorators provide a simple syntax for calling higher-order functions.__\n",
    " * __By definition, a decorator is a function that takes another function and extends the behavior of the the latter functions without explicitly modifying it.__\n",
    " * __A decorator in Python is a function that takes another function as its argument, and returns yet another functions.__\n",
    " * __Decorators can be extremely useful as they allow the extension of an existing function, without any modifications to the original function sources code.__\n",
    " * __In fact, there are two types of decorators in Python including class decorators and function decorators.__\n",
    " * __In applications, decorators are majorly used in creating middle layer in the backed, it performs task like token authentication, validation, image compression and many more.__"
   ]
  },
  {
   "cell_type": "code",
   "execution_count": 1,
   "id": "0ccbc0e3-cb8a-4944-b8a9-d936857e1043",
   "metadata": {},
   "outputs": [],
   "source": [
    "# import libraries\n",
    "\n",
    "import decorator\n",
    "from decorator import *\n"
   ]
  },
  {
   "cell_type": "code",
   "execution_count": 3,
   "id": "0cc75e06-20ef-42f9-acbf-659871dc112d",
   "metadata": {},
   "outputs": [
    {
     "name": "stdout",
     "output_type": "stream",
     "text": [
      "Python is a programming language.\n",
      "Hello,Python\n"
     ]
    }
   ],
   "source": [
    "def mytext(text):\n",
    "    print(text)\n",
    "\n",
    "mytext('Python is a programming language.')\n",
    "new_text=mytext\n",
    "new_text('Hello,Python')"
   ]
  },
  {
   "cell_type": "code",
   "execution_count": 4,
   "id": "5ec8eb53-b503-4ac1-8bc7-abb3e1a3075c",
   "metadata": {},
   "outputs": [
    {
     "data": {
      "text/plain": [
       "100"
      ]
     },
     "execution_count": 4,
     "metadata": {},
     "output_type": "execute_result"
    }
   ],
   "source": [
    "def multiplication(num):\n",
    "    return num*num\n",
    "\n",
    "mult=multiplication\n",
    "mult(10)"
   ]
  },
  {
   "cell_type": "code",
   "execution_count": 5,
   "id": "8a0b90ab-a337-4bf6-b02b-4da6f5d57f29",
   "metadata": {},
   "outputs": [
    {
     "name": "stdout",
     "output_type": "stream",
     "text": [
      "Python is a programming language.\n",
      "Hello Python\n",
      "Hello world\n"
     ]
    }
   ],
   "source": [
    "# Define a function\n",
    "\n",
    "'''\n",
    "In the following function, it is nonsignificant how the child functions are announced.\n",
    "The implemenation of the child function does influence on the output.\n",
    "These child functions are topically linked with the function mytext(), therefore they can not be called individually.\n",
    "'''\n",
    "\n",
    "def mytext():\n",
    "    print('Python is a programming language.')\n",
    "    def new_text():\n",
    "        print('Hello Python')\n",
    "    def message():\n",
    "        print('Hello world')\n",
    "\n",
    "    new_text()\n",
    "    message()\n",
    "mytext()"
   ]
  },
  {
   "cell_type": "code",
   "execution_count": 6,
   "id": "e90c30cc-0e33-42bc-b48c-0e7ecec807b7",
   "metadata": {},
   "outputs": [
    {
     "name": "stdout",
     "output_type": "stream",
     "text": [
      "Python is a programming language.\n"
     ]
    }
   ],
   "source": [
    "# Define a function\n",
    "'''\n",
    "In the following example, the function text() is nested into the funtion message(). \n",
    "It will return each time when the function text() is called.\n",
    "'''\n",
    "def message():\n",
    "    def text():\n",
    "        print('Python is a programming language.')\n",
    "    return text\n",
    "\n",
    "\n",
    "new_message=message()\n",
    "new_message()"
   ]
  },
  {
   "cell_type": "code",
   "execution_count": 8,
   "id": "33b9dd7d-3a91-47c5-8f1f-ae45a854f6a3",
   "metadata": {},
   "outputs": [
    {
     "data": {
      "text/plain": [
       "9.8596"
      ]
     },
     "execution_count": 8,
     "metadata": {},
     "output_type": "execute_result"
    }
   ],
   "source": [
    "def funtion(num):\n",
    "    def mult(num):\n",
    "        return num*num\n",
    "\n",
    "    output=mult(num)\n",
    "    return output\n",
    "mult(3.14)"
   ]
  },
  {
   "cell_type": "code",
   "execution_count": 9,
   "id": "1767ba53-b608-4688-851b-bcfb2dd2b85d",
   "metadata": {},
   "outputs": [
    {
     "name": "stdout",
     "output_type": "stream",
     "text": [
      "Python is the most popular programming language.\n"
     ]
    }
   ],
   "source": [
    "def msg(text):\n",
    "    'Hello world'\n",
    "    def mail():\n",
    "        'Hi,Python'\n",
    "        print(text)\n",
    "    mail()\n",
    "\n",
    "msg('Python is the most popular programming language.')"
   ]
  },
  {
   "cell_type": "code",
   "execution_count": 16,
   "id": "26325768-f393-4438-a4bf-2fb79ccd54b3",
   "metadata": {},
   "outputs": [
    {
     "name": "stdout",
     "output_type": "stream",
     "text": [
      "8.53452\n",
      "0.5152866242038217\n"
     ]
    }
   ],
   "source": [
    "# Define a function\n",
    "\n",
    "'''\n",
    "In this functin, the mult() and divide() funciton as argument in operator() function are passed.\n",
    "'''\n",
    "def mult(x):\n",
    "    return x*3.14\n",
    "def divide(x):\n",
    "    return x/3.14\n",
    "def operator(function,x):\n",
    "    number=function(x)\n",
    "    return number\n",
    "\n",
    "print(operator(mult,2.718))\n",
    "print(operator(divide,1.618))"
   ]
  },
  {
   "cell_type": "code",
   "execution_count": 19,
   "id": "2007199e-401a-4b98-89fa-6db49e3fa38a",
   "metadata": {},
   "outputs": [
    {
     "data": {
      "text/plain": [
       "5.859874482048838"
      ]
     },
     "execution_count": 19,
     "metadata": {},
     "output_type": "execute_result"
    }
   ],
   "source": [
    "def addition(num):\n",
    "    return num+math.pi\n",
    "\n",
    "def called_function(func):\n",
    "    added_num=math.e\n",
    "    return func(added_num)\n",
    "\n",
    "\n",
    "called_function(addition)"
   ]
  },
  {
   "cell_type": "code",
   "execution_count": 18,
   "id": "48a734d9-0532-46ba-a556-37727ac0297c",
   "metadata": {},
   "outputs": [],
   "source": [
    "import math\n",
    "from math import *"
   ]
  },
  {
   "cell_type": "code",
   "execution_count": 20,
   "id": "721360ee-cab2-40ed-aec0-23acaf77f002",
   "metadata": {},
   "outputs": [
    {
     "data": {
      "text/plain": [
       "2.718281828459045"
      ]
     },
     "execution_count": 20,
     "metadata": {},
     "output_type": "execute_result"
    }
   ],
   "source": [
    "math.e"
   ]
  },
  {
   "cell_type": "code",
   "execution_count": 21,
   "id": "c0b9f030-4d2e-47b2-bc85-400837357c9e",
   "metadata": {},
   "outputs": [
    {
     "data": {
      "text/plain": [
       "3.141592653589793"
      ]
     },
     "execution_count": 21,
     "metadata": {},
     "output_type": "execute_result"
    }
   ],
   "source": [
    "math.pi"
   ]
  },
  {
   "cell_type": "code",
   "execution_count": 22,
   "id": "5adfe5a6-f97f-46f6-b163-9bce2d670c8a",
   "metadata": {},
   "outputs": [
    {
     "data": {
      "text/plain": [
       "5.859874482048838"
      ]
     },
     "execution_count": 22,
     "metadata": {},
     "output_type": "execute_result"
    }
   ],
   "source": [
    "math.pi+math.e"
   ]
  },
  {
   "cell_type": "code",
   "execution_count": 24,
   "id": "d046423d-7d06-48ce-b980-2c6074eb3f8a",
   "metadata": {},
   "outputs": [
    {
     "name": "stdout",
     "output_type": "stream",
     "text": [
      "2.5217283965692467e+117\n",
      "2.5217283965692467e+117\n"
     ]
    }
   ],
   "source": [
    "def decorator_one(function):\n",
    "    def inner():\n",
    "        num=function()\n",
    "        return num*(num**num)\n",
    "    return inner\n",
    "\n",
    "\n",
    "def decorator_two(function):\n",
    "    def inner():\n",
    "        num=function()\n",
    "        return (num**num)/num\n",
    "    return inner\n",
    "\n",
    "\n",
    "@decorator_one\n",
    "@decorator_two\n",
    "\n",
    "def number():\n",
    "    return 4\n",
    "\n",
    "print(number())\n",
    "\n",
    "# The above decorator returns the following code\n",
    "x=pow(4,4)/4\n",
    "print(x*(x**x))"
   ]
  },
  {
   "cell_type": "markdown",
   "id": "87c12d64-5184-4d20-8e8f-01feea5a9df4",
   "metadata": {},
   "source": [
    "# function reverting other functions"
   ]
  },
  {
   "cell_type": "code",
   "execution_count": 27,
   "id": "da447c42-1b51-4949-9fcc-5c753cb04748",
   "metadata": {},
   "outputs": [
    {
     "name": "stdout",
     "output_type": "stream",
     "text": [
      "Python is a programming language.\n"
     ]
    }
   ],
   "source": [
    "def msg_function():\n",
    "    def text():\n",
    "        return \"Python is a programming language.\"\n",
    "    return text\n",
    "\n",
    "msg=msg_function()\n",
    "print(msg())"
   ]
  },
  {
   "cell_type": "markdown",
   "id": "e7ee2e5a-f938-4757-a82b-bd72e4570709",
   "metadata": {},
   "source": [
    "# Docstring function\n"
   ]
  },
  {
   "cell_type": "code",
   "execution_count": 28,
   "id": "32ad7a02-3b6c-416c-b95e-6c890df30b55",
   "metadata": {},
   "outputs": [
    {
     "name": "stdout",
     "output_type": "stream",
     "text": [
      "5.859874482048838\n"
     ]
    }
   ],
   "source": [
    "\"\"\"\n",
    "In the following example, the function outer_addition that is some voluminous decorated.\n",
    "\"\"\"\n",
    "def addition(a,b):\n",
    "    print(a+b)\n",
    "def outer_addition(func):\n",
    "    def inner(a,b):\n",
    "        if a<b:\n",
    "            a,b=b,a\n",
    "        return func(a,b)\n",
    "    return inner\n",
    "\n",
    "\n",
    "result=outer_addition(addition)\n",
    "result(math.pi,math.e)"
   ]
  },
  {
   "cell_type": "code",
   "execution_count": 29,
   "id": "ce100551-39d8-4461-95bc-f7c1e09ef601",
   "metadata": {},
   "outputs": [
    {
     "name": "stdout",
     "output_type": "stream",
     "text": [
      "5.859874482048838\n"
     ]
    }
   ],
   "source": [
    "\"\"\"\n",
    "Rather than above function, Python ensures to employ decorator in easy way with the symbol @ called \"pie\" \n",
    "\"\"\"\n",
    "\n",
    "def outer_addition(function):\n",
    "    def inner(a,b):\n",
    "        if a<b:\n",
    "            a,b=b,a\n",
    "        return function(a,b)\n",
    "    return inner\n",
    "\n",
    "@outer_addition\n",
    "def addition(a,b):\n",
    "    print(a+b)\n",
    "\n",
    "result=outer_addition(addition)  # syntax of decorator.\n",
    "result(math.pi,math.e)"
   ]
  },
  {
   "cell_type": "code",
   "execution_count": 31,
   "id": "efacc4a7-ee22-4fa1-b50b-f98b4757bc87",
   "metadata": {},
   "outputs": [
    {
     "name": "stdout",
     "output_type": "stream",
     "text": [
      "PYTHON IS THE MOST POPULAR PROGRAMMING LANGUAGE.\n",
      "PYTHON IS THE MOST POPULAR PROGRAMMING LANGUAGE.\n"
     ]
    }
   ],
   "source": [
    "def decorator_text_uppercase(func):\n",
    "    def wrapper():\n",
    "        function=func()\n",
    "        text_uppercase=function.upper()\n",
    "        return text_uppercase\n",
    "    return wrapper\n",
    "\n",
    "\n",
    "# Using a function\n",
    "\n",
    "def text():\n",
    "    return 'Python is the most popular programming language.'\n",
    "decorated_result=decorator_text_uppercase(text)\n",
    "print(decorated_result())\n",
    "\n",
    "\n",
    "# using a decorator\n",
    "@decorator_text_uppercase\n",
    "def text():\n",
    "    return 'Python is the most popular programming language.'\n",
    "print(text())"
   ]
  },
  {
   "cell_type": "markdown",
   "id": "f2358975-0e27-40f7-a6e5-7dabefb5db42",
   "metadata": {},
   "source": [
    "# Reprocessing decorator\n",
    "\n",
    " * __The decorator can be reused by recalling that decorator function.__"
   ]
  },
  {
   "cell_type": "code",
   "execution_count": 32,
   "id": "566410e2-0886-4d6c-b7d2-6dea38228e29",
   "metadata": {},
   "outputs": [
    {
     "name": "stdout",
     "output_type": "stream",
     "text": [
      "Python is a programming language\n",
      "Python is a programming language\n"
     ]
    }
   ],
   "source": [
    "def do_twice(function):\n",
    "    def wrapper_do_twice():\n",
    "        function()\n",
    "        function()\n",
    "    return wrapper_do_twice\n",
    "\n",
    "\n",
    "\n",
    "@do_twice\n",
    "\n",
    "def text():\n",
    "    print('Python is a programming language')\n",
    "text()"
   ]
  },
  {
   "cell_type": "code",
   "execution_count": null,
   "id": "5ab583cd-e97c-4fd6-9900-fbf40db17f08",
   "metadata": {},
   "outputs": [],
   "source": []
  }
 ],
 "metadata": {
  "kernelspec": {
   "display_name": "Python 3 (ipykernel)",
   "language": "python",
   "name": "python3"
  },
  "language_info": {
   "codemirror_mode": {
    "name": "ipython",
    "version": 3
   },
   "file_extension": ".py",
   "mimetype": "text/x-python",
   "name": "python",
   "nbconvert_exporter": "python",
   "pygments_lexer": "ipython3",
   "version": "3.12.2"
  }
 },
 "nbformat": 4,
 "nbformat_minor": 5
}
