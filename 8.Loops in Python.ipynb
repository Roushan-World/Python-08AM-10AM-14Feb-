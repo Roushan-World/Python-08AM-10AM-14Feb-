{
 "cells": [
  {
   "cell_type": "markdown",
   "id": "b5233c89-1655-4b9f-a514-35edaafd56c9",
   "metadata": {},
   "source": [
    "# 8. Loops in Python\n",
    "\n",
    " * __A for loops is used for iterating over a sequence (that is either a list, a tuple, a dictionary, a set or a string).__\n",
    " * __This is less like the for keyword in other programming language, and works more like an iterators method as found in other object-oriented programming language.__\n",
    " * __With the for loop we can execute a set of statements, once for each item in a list, tuple, set etc.__\n",
    " * __The for loop does not require an indexing variable to set beforehead.__\n",
    " * __With the while loop we can execute a set of statements as long as a condition is True.__\n",
    " * __Note: remember to increment i, or else the loop will continue forever.__\n",
    " * __The while loop requires relevant variables to be ready, we need to exceed to define an indexing variable, i, which set to 1.__\n",
    "\n",
    "# range() function\n",
    "\n",
    " * __It is helpful to think of the range object as an ordered list.__\n",
    " * __To loop through a set of code a specifed number of times, we can use the range() function.__\n",
    " * __The range() function returns a sequence of numbers, starting from 0 by default, and increment by 1(by default), and ends at a specifed number.__"
   ]
  },
  {
   "cell_type": "code",
   "execution_count": 1,
   "id": "88c2c7dc-6f81-4db5-a0a9-992aa3a414e0",
   "metadata": {},
   "outputs": [
    {
     "data": {
      "text/plain": [
       "range(0, 10)"
      ]
     },
     "execution_count": 1,
     "metadata": {},
     "output_type": "execute_result"
    }
   ],
   "source": [
    "range(10)"
   ]
  },
  {
   "cell_type": "code",
   "execution_count": 2,
   "id": "ccf3bd48-7898-4b36-bf3c-a182092ee99e",
   "metadata": {},
   "outputs": [
    {
     "data": {
      "text/plain": [
       "range(0, 100)"
      ]
     },
     "execution_count": 2,
     "metadata": {},
     "output_type": "execute_result"
    }
   ],
   "source": [
    "range(100)"
   ]
  },
  {
   "cell_type": "code",
   "execution_count": 4,
   "id": "d0914758-ce56-433f-872a-47066c3a11f5",
   "metadata": {},
   "outputs": [
    {
     "name": "stdout",
     "output_type": "stream",
     "text": [
      "2005\n",
      "2006\n",
      "2007\n",
      "2008\n",
      "2009\n",
      "2010\n",
      "Finally printed else statement\n"
     ]
    }
   ],
   "source": [
    "x=[2005,2006,2007,2008,2009,2010]\n",
    "\n",
    "for i in x:\n",
    "    print(i)\n",
    "else:\n",
    "    print('Finally printed else statement')"
   ]
  },
  {
   "cell_type": "code",
   "execution_count": 5,
   "id": "336a232e-8349-41ac-bc1b-418094b322fd",
   "metadata": {},
   "outputs": [
    {
     "name": "stdout",
     "output_type": "stream",
     "text": [
      "0\n",
      "1\n",
      "2\n",
      "3\n",
      "4\n",
      "5\n",
      "6\n",
      "7\n",
      "8\n",
      "9\n"
     ]
    }
   ],
   "source": [
    "for i in range(10):\n",
    "    print(i)\n",
    "    "
   ]
  },
  {
   "cell_type": "code",
   "execution_count": 6,
   "id": "ae6c0774-19d5-4869-8bd7-1330a8cd4393",
   "metadata": {},
   "outputs": [
    {
     "name": "stdout",
     "output_type": "stream",
     "text": [
      "0\n",
      "1\n",
      "2\n",
      "3\n",
      "4\n",
      "5\n",
      "6\n",
      "7\n",
      "8\n",
      "9\n",
      "10\n"
     ]
    }
   ],
   "source": [
    "for x in range(11):\n",
    "    print(x)"
   ]
  },
  {
   "cell_type": "code",
   "execution_count": 7,
   "id": "5521317c-8fe0-4553-91db-0babfe929867",
   "metadata": {},
   "outputs": [
    {
     "name": "stdout",
     "output_type": "stream",
     "text": [
      "10\n",
      "11\n",
      "12\n",
      "13\n",
      "14\n",
      "15\n",
      "16\n",
      "17\n",
      "18\n",
      "19\n",
      "20\n"
     ]
    }
   ],
   "source": [
    "for x in range(10,21):\n",
    "    print(x)"
   ]
  },
  {
   "cell_type": "code",
   "execution_count": 10,
   "id": "ebe84ff5-100f-42ca-b87a-23add15da6ff",
   "metadata": {},
   "outputs": [
    {
     "name": "stdout",
     "output_type": "stream",
     "text": [
      "0 2005\n",
      "1 2006\n",
      "2 2007\n",
      "3 2008\n",
      "4 2009\n",
      "5 2010\n"
     ]
    }
   ],
   "source": [
    "x=[2005,2006,2007,2008,2009,2010]\n",
    "\n",
    "for i in range(len(x)):\n",
    "    print(i,x[i])"
   ]
  },
  {
   "cell_type": "code",
   "execution_count": 15,
   "id": "e1e9ab7c-1711-4572-9417-140e3e998684",
   "metadata": {},
   "outputs": [
    {
     "name": "stdout",
     "output_type": "stream",
     "text": [
      "2005 2006 2007 2008 2009 2010 "
     ]
    }
   ],
   "source": [
    "for x1 in x:\n",
    "    print(x1,end=' ')"
   ]
  },
  {
   "cell_type": "code",
   "execution_count": 16,
   "id": "996ded9a-5b5e-4190-96c1-96e729964c9c",
   "metadata": {},
   "outputs": [
    {
     "name": "stdout",
     "output_type": "stream",
     "text": [
      "2005,2006,2007,2008,2009,2010,"
     ]
    }
   ],
   "source": [
    "for x1 in x:\n",
    "    print(x1,end=',')"
   ]
  },
  {
   "cell_type": "code",
   "execution_count": 20,
   "id": "627cbadb-c39a-4f8d-ad69-42726b2200e6",
   "metadata": {},
   "outputs": [
    {
     "name": "stdout",
     "output_type": "stream",
     "text": [
      "2\n",
      "4\n",
      "6\n",
      "8\n",
      "10\n",
      "12\n",
      "14\n",
      "16\n",
      "18\n",
      "20\n"
     ]
    }
   ],
   "source": [
    "for i in range(1,21):\n",
    "    if i%2==0:\n",
    "        print(i)"
   ]
  },
  {
   "cell_type": "code",
   "execution_count": 24,
   "id": "f8ff588f-f0a0-4199-9d5a-62fb9709e967",
   "metadata": {},
   "outputs": [
    {
     "name": "stdout",
     "output_type": "stream",
     "text": [
      "0\n",
      "2\n",
      "4\n",
      "6\n",
      "8\n",
      "10\n",
      "12\n",
      "14\n",
      "16\n",
      "18\n",
      "20\n"
     ]
    }
   ],
   "source": [
    "for i in range(0,21,2):\n",
    "    print(i)"
   ]
  },
  {
   "cell_type": "code",
   "execution_count": 28,
   "id": "131d9cdd-ff56-41f9-9528-ce4c3cf3fa7c",
   "metadata": {},
   "outputs": [
    {
     "name": "stdout",
     "output_type": "stream",
     "text": [
      "0\n",
      "3\n",
      "6\n",
      "9\n",
      "12\n",
      "15\n",
      "18\n"
     ]
    }
   ],
   "source": [
    "for i in range(0,21,3):\n",
    "    print(i)"
   ]
  },
  {
   "cell_type": "code",
   "execution_count": 30,
   "id": "b607f3b0-7aef-45b7-bfdf-9c6fc90cae8c",
   "metadata": {},
   "outputs": [
    {
     "name": "stdout",
     "output_type": "stream",
     "text": [
      "0 Python\n",
      "1 c++\n",
      "2 c\n",
      "3 java\n",
      "4 Kotlin\n",
      "5 Flutter\n",
      "6 Django\n",
      "7 HTML\n",
      "8 CSS\n",
      "9 JavaScript\n",
      "10 AWS\n"
     ]
    }
   ],
   "source": [
    "languages=['Python','c++','c','java',\"Kotlin\",\"Flutter\",\"Django\",\"HTML\",\"CSS\",\"JavaScript\",\"AWS\"]\n",
    "\n",
    "for i in range(len(languages)):\n",
    "    print(i,languages[i])"
   ]
  },
  {
   "cell_type": "code",
   "execution_count": 32,
   "id": "00e113eb-fbe5-4800-b534-32ff0a0b5a93",
   "metadata": {},
   "outputs": [
    {
     "name": "stdout",
     "output_type": "stream",
     "text": [
      "0 Python\n",
      "1 c++\n",
      "2 c\n",
      "3 java\n",
      "4 Kotlin\n",
      "5 Flutter\n",
      "6 Django\n",
      "7 HTML\n",
      "8 CSS\n",
      "9 JavaScript\n",
      "10 AWS\n"
     ]
    }
   ],
   "source": [
    "languages=['Python','c++','c','java',\"Kotlin\",\"Flutter\",\"Django\",\"HTML\",\"CSS\",\"JavaScript\",\"AWS\"]\n",
    "# enumerate\n",
    "\n",
    "for index, data in enumerate(languages):\n",
    "    print(index,data)"
   ]
  },
  {
   "cell_type": "code",
   "execution_count": 34,
   "id": "d31043e8-ea99-4eff-97ca-e3db04fae435",
   "metadata": {},
   "outputs": [
    {
     "name": "stdout",
     "output_type": "stream",
     "text": [
      "12 X 1 = 12\n",
      "12 X 2 = 24\n",
      "12 X 3 = 36\n",
      "12 X 4 = 48\n",
      "12 X 5 = 60\n",
      "12 X 6 = 72\n",
      "12 X 7 = 84\n",
      "12 X 8 = 96\n",
      "12 X 9 = 108\n",
      "12 X 10 = 120\n"
     ]
    }
   ],
   "source": [
    "# How to print table using for loop # 12x1=12, 12x2=24, 12x3=36,..................12x10=120\n",
    "x=12\n",
    "\n",
    "for i in range(1,11):\n",
    "    print(x,'X',i,'=',x*i)"
   ]
  },
  {
   "cell_type": "code",
   "execution_count": 35,
   "id": "6853491d-1dba-4c76-8808-562d6d34bbbc",
   "metadata": {},
   "outputs": [
    {
     "name": "stdin",
     "output_type": "stream",
     "text": [
      "Enter your number: 13\n"
     ]
    },
    {
     "name": "stdout",
     "output_type": "stream",
     "text": [
      "13x1=13\n",
      "13x2=26\n",
      "13x3=39\n",
      "13x4=52\n",
      "13x5=65\n",
      "13x6=78\n",
      "13x7=91\n",
      "13x8=104\n",
      "13x9=117\n",
      "13x10=130\n"
     ]
    }
   ],
   "source": [
    "x1=int(input('Enter your number:'))\n",
    "\n",
    "for i in range(1,11):\n",
    "    print('%dx%d=%d'%(x1,i,x1*i))"
   ]
  },
  {
   "cell_type": "code",
   "execution_count": 36,
   "id": "67e44629-8736-4a5b-8c2b-72751bbb62c5",
   "metadata": {},
   "outputs": [
    {
     "name": "stdin",
     "output_type": "stream",
     "text": [
      "Enter first value: 12\n",
      "Enter second value: 13\n"
     ]
    },
    {
     "name": "stdout",
     "output_type": "stream",
     "text": [
      "12X10=120 13X10=130\n",
      "12X10=120 13X10=130\n",
      "12X10=120 13X10=130\n",
      "12X10=120 13X10=130\n",
      "12X10=120 13X10=130\n",
      "12X10=120 13X10=130\n",
      "12X10=120 13X10=130\n",
      "12X10=120 13X10=130\n",
      "12X10=120 13X10=130\n",
      "12X10=120 13X10=130\n"
     ]
    }
   ],
   "source": [
    "x2=int(input(\"Enter first value:\"))\n",
    "x3=int(input(\"Enter second value:\"))\n",
    "\n",
    "for x in range(1,11):\n",
    "    print(\"%dX%d=%d\"%(x2,i,x2*i),\"%dX%d=%d\"%(x3,i,x3*i),)"
   ]
  },
  {
   "cell_type": "code",
   "execution_count": 45,
   "id": "2df78e53-b8ad-40b8-a18d-63803e336dce",
   "metadata": {},
   "outputs": [
    {
     "name": "stdout",
     "output_type": "stream",
     "text": [
      "The sum of the list are: 1765\n"
     ]
    }
   ],
   "source": [
    "list1=[10,20,30,40,50,60,70,80,90,100,110,120,130,405,450]\n",
    "\n",
    "# find the total sum of the elements.\n",
    "\n",
    "sum1=0\n",
    "\n",
    "for i in list1:\n",
    "    sum1+=i\n",
    "\n",
    "else:\n",
    "    print(\"The sum of the list are:\",sum1)\n",
    "#print(sum1)\n"
   ]
  },
  {
   "cell_type": "markdown",
   "id": "4cb66fda-09ef-414e-817d-2eb61d115ef3",
   "metadata": {},
   "source": [
    "# Break in for loop\n"
   ]
  },
  {
   "cell_type": "code",
   "execution_count": 48,
   "id": "170cd193-1d83-4f1f-9b97-7460d85769e6",
   "metadata": {},
   "outputs": [
    {
     "name": "stdout",
     "output_type": "stream",
     "text": [
      "10\n",
      "11\n",
      "12\n",
      "13\n",
      "14\n"
     ]
    }
   ],
   "source": [
    "for i in range(10,20+1):\n",
    "    if i==15:\n",
    "        break\n",
    "    print(i)"
   ]
  },
  {
   "cell_type": "code",
   "execution_count": 49,
   "id": "821b9bb0-7dbe-42c7-ac87-a3f39d29229c",
   "metadata": {},
   "outputs": [
    {
     "name": "stdout",
     "output_type": "stream",
     "text": [
      "10\n",
      "20\n",
      "30\n",
      "40\n",
      "50\n",
      "60\n"
     ]
    }
   ],
   "source": [
    "list1=[10,20,30,40,50,60,70,80,90,100,110,120,130,405,450]\n",
    "\n",
    "\n",
    "for i in list1:\n",
    "    if i==70:\n",
    "        break\n",
    "    print(i)"
   ]
  },
  {
   "cell_type": "code",
   "execution_count": 51,
   "id": "92d1fd0f-69e6-4df2-9e69-62132a6c0f11",
   "metadata": {},
   "outputs": [
    {
     "name": "stdout",
     "output_type": "stream",
     "text": [
      "Python\n",
      "c++\n",
      "c\n",
      "java\n"
     ]
    }
   ],
   "source": [
    "languages=['Python','c++','c','java',\"Kotlin\",\"Flutter\",\"Django\",\"HTML\",\"CSS\",\"JavaScript\",\"AWS\"]\n",
    "\n",
    "for i in languages:\n",
    "    if i == \"Kotlin\":\n",
    "        break\n",
    "    print(i)\n",
    "    "
   ]
  },
  {
   "cell_type": "markdown",
   "id": "33065b8c-ad49-4288-a25a-75c721aefbda",
   "metadata": {},
   "source": [
    "# Continue in for loop"
   ]
  },
  {
   "cell_type": "code",
   "execution_count": 53,
   "id": "9bc1fe81-204f-4ce0-8d2d-43ccc086488f",
   "metadata": {},
   "outputs": [
    {
     "name": "stdout",
     "output_type": "stream",
     "text": [
      "10\n",
      "11\n",
      "12\n",
      "13\n",
      "14\n",
      "16\n",
      "17\n",
      "18\n",
      "19\n",
      "20\n"
     ]
    }
   ],
   "source": [
    "for i in range(10,21):\n",
    "    if i==15:\n",
    "        continue\n",
    "    print(i)"
   ]
  },
  {
   "cell_type": "code",
   "execution_count": 57,
   "id": "e721162a-d304-4d74-b855-7b8404cc9739",
   "metadata": {},
   "outputs": [
    {
     "name": "stdout",
     "output_type": "stream",
     "text": [
      "Python\n",
      "c++\n",
      "c\n",
      "java\n",
      "Kotlin\n",
      "Flutter\n",
      "HTML\n",
      "CSS\n",
      "JavaScript\n",
      "AWS\n"
     ]
    }
   ],
   "source": [
    "languages=['Python','c++','c','java',\"Kotlin\",\"Flutter\",\"Django\",\"HTML\",\"CSS\",\"JavaScript\",\"AWS\"]\n",
    "\n",
    "for i in languages:\n",
    "    \n",
    "\n",
    "    if i==\"Django\":\n",
    "        continue\n",
    "    print(i)"
   ]
  },
  {
   "cell_type": "markdown",
   "id": "298c60e2-c881-4090-99c6-488b15e61ea3",
   "metadata": {},
   "source": [
    "# for-else in loop"
   ]
  },
  {
   "cell_type": "code",
   "execution_count": 2,
   "id": "29e9986a-5217-47c8-a1b7-fe8e0875dcac",
   "metadata": {},
   "outputs": [
    {
     "name": "stdout",
     "output_type": "stream",
     "text": [
      "10\n",
      "12\n",
      "14\n",
      "16\n",
      "18\n",
      "20\n"
     ]
    }
   ],
   "source": [
    "for i in range(10,21,2):\n",
    "    print(i)"
   ]
  },
  {
   "cell_type": "code",
   "execution_count": 5,
   "id": "dfb3df20-4fcd-4b52-81e9-440dde538836",
   "metadata": {},
   "outputs": [
    {
     "name": "stdout",
     "output_type": "stream",
     "text": [
      "10\n",
      "12\n",
      "14\n",
      "16\n",
      "18\n",
      "20\n",
      "These are numbers from 10 to 20 of even numbers.\n"
     ]
    }
   ],
   "source": [
    "for i in range(10,21):\n",
    "    if i%2==0:\n",
    "        print(i)\n",
    "else:\n",
    "    print(\"These are numbers from 10 to 20 of even numbers.\")"
   ]
  },
  {
   "cell_type": "code",
   "execution_count": 14,
   "id": "4d8805d8-b67a-4938-9860-d45d5423de45",
   "metadata": {},
   "outputs": [
    {
     "name": "stdout",
     "output_type": "stream",
     "text": [
      "10 11 12 13 14 15 16 17 18 19 20 These are numbers from 10 to 20.\n"
     ]
    }
   ],
   "source": [
    "for i in range(10,21):\n",
    "    print(i,end=' ')\n",
    "else:\n",
    "    print(\"These are numbers from 10 to 20.\")"
   ]
  },
  {
   "cell_type": "code",
   "execution_count": 19,
   "id": "174fa2aa-dfa1-4f37-bf44-ed602e4e23f4",
   "metadata": {},
   "outputs": [
    {
     "name": "stdout",
     "output_type": "stream",
     "text": [
      "330\n",
      "Average of these numbers are: 41.25\n"
     ]
    }
   ],
   "source": [
    "x_list=[10,20,30,50,40,50,60,70]\n",
    "\n",
    "sum1=0\n",
    "\n",
    "for i in x_list:\n",
    "    sum1+=i\n",
    "print(sum1)\n",
    "print(\"Average of these numbers are:\",sum1/len(x_list))"
   ]
  },
  {
   "cell_type": "markdown",
   "id": "e95a2317-8a25-4406-9e49-2f434797c912",
   "metadata": {},
   "source": [
    "# While loop"
   ]
  },
  {
   "cell_type": "code",
   "execution_count": 20,
   "id": "989b90a9-3210-46cc-88cc-940730294f13",
   "metadata": {},
   "outputs": [
    {
     "name": "stdout",
     "output_type": "stream",
     "text": [
      "23\n",
      "24\n",
      "25\n",
      "26\n",
      "27\n",
      "28\n",
      "29\n",
      "30\n",
      "31\n"
     ]
    }
   ],
   "source": [
    "i=22\n",
    "\n",
    "while i<=30:\n",
    "    i+=1\n",
    "    print(i)"
   ]
  },
  {
   "cell_type": "code",
   "execution_count": 21,
   "id": "3c0cf03c-9067-4fda-912d-7abcadcb3633",
   "metadata": {},
   "outputs": [
    {
     "name": "stdout",
     "output_type": "stream",
     "text": [
      "21\n",
      "20\n",
      "19\n",
      "18\n",
      "17\n",
      "16\n"
     ]
    }
   ],
   "source": [
    "i=22\n",
    "\n",
    "while i>=17:\n",
    "    i-=1\n",
    "    print(i)"
   ]
  },
  {
   "cell_type": "code",
   "execution_count": 30,
   "id": "787a0d1b-8e02-478a-9503-250ff94638b2",
   "metadata": {},
   "outputs": [
    {
     "name": "stdout",
     "output_type": "stream",
     "text": [
      "['kiwi']\n"
     ]
    }
   ],
   "source": [
    "fruits=[\"banana\",'apple','carrot','kiwi','cherry','pineapple',\"Guava\",]\n",
    "\n",
    "index=3\n",
    "new_list=[]\n",
    "\n",
    "while fruits[index]==\"kiwi\":\n",
    "    new_list.append(fruits[index])\n",
    "    index+=1\n",
    "print(new_list)"
   ]
  },
  {
   "cell_type": "code",
   "execution_count": 34,
   "id": "10669819-32b8-4de7-894f-fd65c7287cf8",
   "metadata": {},
   "outputs": [
    {
     "name": "stdin",
     "output_type": "stream",
     "text": [
      "Enter any value 13\n",
      "Enter any value 14\n"
     ]
    },
    {
     "name": "stdout",
     "output_type": "stream",
     "text": [
      "13X1=13 14X1=14\n",
      "13X2=26 14X2=28\n",
      "13X3=39 14X3=42\n",
      "13X4=52 14X4=56\n",
      "13X5=65 14X5=70\n",
      "13X6=78 14X6=84\n",
      "13X7=91 14X7=98\n",
      "13X8=104 14X8=112\n",
      "13X9=117 14X9=126\n",
      "13X10=130 14X10=140\n"
     ]
    }
   ],
   "source": [
    "# How to print table using while loop\n",
    "\n",
    "table=int(input('Enter any value'))\n",
    "table2=int(input('Enter any value'))\n",
    "i=1\n",
    "\n",
    "while i<=10:\n",
    "    print(\"%dX%d=%d\"%(table,i,table*i),\"%dX%d=%d\"%(table2,i,table2*i))\n",
    "    i+=1\n",
    "    "
   ]
  },
  {
   "cell_type": "code",
   "execution_count": 42,
   "id": "5c87f795-1e3b-49da-b692-4ee00eb26995",
   "metadata": {},
   "outputs": [
    {
     "name": "stdout",
     "output_type": "stream",
     "text": [
      "sum of the number from 1 to 10 is: 55\n"
     ]
    }
   ],
   "source": [
    "# find the sum of the number from 1 to 10.\n",
    "\n",
    "i=1\n",
    "sum1=0\n",
    "while i<=10:\n",
    "    #print(i)\n",
    "    sum1+=i\n",
    "    i+=1\n",
    "\n",
    "print(\"sum of the number from 1 to 10 is:\",sum1)\n",
    "    "
   ]
  },
  {
   "cell_type": "code",
   "execution_count": 52,
   "id": "f46ea169-d02e-4b06-9e30-9465a609ac5c",
   "metadata": {},
   "outputs": [
    {
     "name": "stdout",
     "output_type": "stream",
     "text": [
      "Sum of these number are: 220\n"
     ]
    }
   ],
   "source": [
    "# find the sum of the even number from 10 to 30\n",
    "\n",
    "i=10\n",
    "sum2=0\n",
    "while i<=30:\n",
    "    if i%2==0:\n",
    "        sum2+=i\n",
    "    i+=1\n",
    "print(\"Sum of these number are:\",sum2)"
   ]
  },
  {
   "cell_type": "code",
   "execution_count": null,
   "id": "bb719413-c38e-41fd-be67-116aaff0743c",
   "metadata": {},
   "outputs": [],
   "source": [
    "# find the odd number from 50 to 100"
   ]
  },
  {
   "cell_type": "markdown",
   "id": "e23c6bf0-b99f-461f-af69-b27aa0a97427",
   "metadata": {},
   "source": [
    "# While-else"
   ]
  },
  {
   "cell_type": "code",
   "execution_count": 56,
   "id": "f7ef140b-753c-493f-8a63-2f16a28c40b2",
   "metadata": {},
   "outputs": [
    {
     "name": "stdout",
     "output_type": "stream",
     "text": [
      "sum of the odd numbers from 50 to 100 is: 1875\n"
     ]
    }
   ],
   "source": [
    "i=50\n",
    "sum5=0\n",
    "while i<=100:\n",
    "    if i%2!=0:\n",
    "        sum5+=i\n",
    "    #print(i)\n",
    "    i+=1\n",
    "else:\n",
    "    print('sum of the odd numbers from 50 to 100 is:',sum5)"
   ]
  },
  {
   "cell_type": "code",
   "execution_count": 57,
   "id": "5daed340-b3fa-4480-9654-542b2a02a5b0",
   "metadata": {},
   "outputs": [],
   "source": [
    "# how to print sum of even numbers from user input function\n",
    "# how to print sum of odd numbers from user input function"
   ]
  },
  {
   "cell_type": "code",
   "execution_count": 70,
   "id": "20972e27-4106-4463-be90-78e4dbca7cad",
   "metadata": {},
   "outputs": [
    {
     "name": "stdin",
     "output_type": "stream",
     "text": [
      "Enter any value: 40\n"
     ]
    },
    {
     "name": "stdout",
     "output_type": "stream",
     "text": [
      "Sum of these even numbers are: 420\n"
     ]
    }
   ],
   "source": [
    "# how to print sum of even numbers from user input function\n",
    "user=int(input(\"Enter any value:\"))\n",
    "i=0\n",
    "sum_1=0\n",
    "while i<=user:\n",
    "    if i%2==0:\n",
    "        #print(i)\n",
    "        sum_1+=i\n",
    "    #print(i)\n",
    "    i+=1\n",
    "else:\n",
    "    print(\"Sum of these even numbers are:\",sum_1)"
   ]
  },
  {
   "cell_type": "code",
   "execution_count": 74,
   "id": "06be584b-75cc-48a6-b216-eb19f5f39c44",
   "metadata": {},
   "outputs": [
    {
     "name": "stdin",
     "output_type": "stream",
     "text": [
      "Enter any value: 100\n"
     ]
    },
    {
     "name": "stdout",
     "output_type": "stream",
     "text": [
      "Sum of these odd numbers are: 2500\n"
     ]
    }
   ],
   "source": [
    "# odd numbers\n",
    "user=int(input(\"Enter any value:\"))\n",
    "i=0\n",
    "sum_2=0\n",
    "while i<=user:\n",
    "    if i%2!=0:\n",
    "        #print(i)\n",
    "        sum_2+=i\n",
    "    #print(i)\n",
    "    i+=1\n",
    "else:\n",
    "    print(\"Sum of these odd numbers are:\",sum_2)"
   ]
  },
  {
   "cell_type": "code",
   "execution_count": 101,
   "id": "f41e7089-9943-4399-83fe-bd7524b6030c",
   "metadata": {},
   "outputs": [
    {
     "name": "stdin",
     "output_type": "stream",
     "text": [
      "Enter any number: 14\n"
     ]
    },
    {
     "name": "stdout",
     "output_type": "stream",
     "text": [
      "1X1=1\n",
      "2X2=4\n",
      "3X3=9\n",
      "4X4=16\n",
      "5X5=25\n",
      "6X6=36\n",
      "7X7=49\n",
      "8X8=64\n",
      "9X9=81\n",
      "10X10=100\n",
      "11X11=121\n",
      "12X12=144\n",
      "13X13=169\n",
      "14X14=196\n"
     ]
    }
   ],
   "source": [
    "# Write a program to find the square of user input number:\n",
    "user_1=int(input('Enter any number:'))\n",
    "square_num=0\n",
    "i=1\n",
    "while i<=user_1:\n",
    "    print(\"%dX%d=%d\"%(i,i,i*i))\n",
    "    #if i>=0:\n",
    "        #square_num=i**2\n",
    "    #print(i)\n",
    "    #else:\n",
    "        #print('Enter positive number only')\n",
    "    i+=1"
   ]
  },
  {
   "cell_type": "code",
   "execution_count": null,
   "id": "81c991ea-7f32-4f64-a3c6-d3734c9ac7a3",
   "metadata": {},
   "outputs": [],
   "source": []
  }
 ],
 "metadata": {
  "kernelspec": {
   "display_name": "Python 3 (ipykernel)",
   "language": "python",
   "name": "python3"
  },
  "language_info": {
   "codemirror_mode": {
    "name": "ipython",
    "version": 3
   },
   "file_extension": ".py",
   "mimetype": "text/x-python",
   "name": "python",
   "nbconvert_exporter": "python",
   "pygments_lexer": "ipython3",
   "version": "3.11.4"
  }
 },
 "nbformat": 4,
 "nbformat_minor": 5
}
