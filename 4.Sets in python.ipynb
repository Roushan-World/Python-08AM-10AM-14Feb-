{
 "cells": [
  {
   "cell_type": "markdown",
   "id": "fc599713-ad9f-467e-8de7-38f398e51ca3",
   "metadata": {},
   "source": [
    "# 4. Sets in python\n",
    "\n",
    " * __Sets are the 4th build-in data types in Python to store collection of data including list, tuple and dictionary.__\n",
    " * __Sets are unordered, but you can add or remove items in the sets.__\n",
    " * __Sets element are unique, Duplicate element are not allowed in the sets.__\n",
    " * __A set itself may be modified, but the elements contained in the set must be immutable type.__\n",
    " * __Sets are used to store multiple items in a single variable.__\n",
    " * __You can denote a set with a pair of curly brackets {}.__"
   ]
  },
  {
   "cell_type": "code",
   "execution_count": 1,
   "id": "179319b9-524a-4253-b721-6b039eddcc35",
   "metadata": {},
   "outputs": [
    {
     "name": "stdout",
     "output_type": "stream",
     "text": [
      "{}\n",
      "<class 'dict'>\n"
     ]
    }
   ],
   "source": [
    "# Create an empty set.\n",
    "\n",
    "x={}\n",
    "print(x)\n",
    "print(type(x))"
   ]
  },
  {
   "cell_type": "code",
   "execution_count": 2,
   "id": "98eb6b07-87e6-4fd7-95fd-b40921b08327",
   "metadata": {},
   "outputs": [
    {
     "name": "stdout",
     "output_type": "stream",
     "text": [
      "set()\n",
      "<class 'set'>\n"
     ]
    }
   ],
   "source": [
    "x1=set()\n",
    "print(x1)\n",
    "print(type(x1))"
   ]
  },
  {
   "cell_type": "code",
   "execution_count": 3,
   "id": "ec39d21d-330f-47c3-9aba-2d3308b56a18",
   "metadata": {},
   "outputs": [
    {
     "data": {
      "text/plain": [
       "{2.718, 3.14, False, 'Hello world', True}"
      ]
     },
     "execution_count": 3,
     "metadata": {},
     "output_type": "execute_result"
    }
   ],
   "source": [
    "set1={'Hello world',3.14,2.718,True,False,'Hello world',3.14,2.718,True,False,}\n",
    "set1"
   ]
  },
  {
   "cell_type": "code",
   "execution_count": 15,
   "id": "0a8d0acc-268b-4ba6-9aa1-33d04800c4a5",
   "metadata": {},
   "outputs": [
    {
     "name": "stdout",
     "output_type": "stream",
     "text": [
      "['hello world', 3.14, 2.718, True, False, 'hello world', False, True]\n"
     ]
    }
   ],
   "source": [
    "# list\n",
    "\n",
    "x=['hello world',3.14,2.718,True,False,'hello world',False,True]\n",
    "print(x)"
   ]
  },
  {
   "cell_type": "code",
   "execution_count": 16,
   "id": "25e78065-e7ee-46ba-abd8-dec9e3bb7d96",
   "metadata": {},
   "outputs": [
    {
     "data": {
      "text/plain": [
       "{2.718, 3.14, False, True, 'hello world'}"
      ]
     },
     "execution_count": 16,
     "metadata": {},
     "output_type": "execute_result"
    }
   ],
   "source": [
    "# how to convert list into set.\n",
    "\n",
    "set2=set(x)\n",
    "set2"
   ]
  },
  {
   "cell_type": "markdown",
   "id": "73096b4e-485a-4fa5-837a-3603b6147bc6",
   "metadata": {},
   "source": [
    "# Set operations"
   ]
  },
  {
   "cell_type": "code",
   "execution_count": 17,
   "id": "ca46a4b6-fa9b-4525-8d50-a99b232739b8",
   "metadata": {},
   "outputs": [
    {
     "data": {
      "text/plain": [
       "{2.718, 3.14, False, True, 'hello world'}"
      ]
     },
     "execution_count": 17,
     "metadata": {},
     "output_type": "execute_result"
    }
   ],
   "source": [
    "set3=set(['hello world',3.14,2.718,True,False,'hello world',False,True])\n",
    "set3"
   ]
  },
  {
   "cell_type": "code",
   "execution_count": 18,
   "id": "893fb949-aa1f-4297-b5ab-671d2b02b970",
   "metadata": {},
   "outputs": [
    {
     "data": {
      "text/plain": [
       "{2.718, 3.14, False, 'Payal', True, 'hello world'}"
      ]
     },
     "execution_count": 18,
     "metadata": {},
     "output_type": "execute_result"
    }
   ],
   "source": [
    "# add()\n",
    "\n",
    "set3.add('Payal')\n",
    "set3"
   ]
  },
  {
   "cell_type": "code",
   "execution_count": 20,
   "id": "ea022d1f-c3be-4c4a-94f8-6063619b3956",
   "metadata": {},
   "outputs": [
    {
     "data": {
      "text/plain": [
       "{2.718, 3.14, False, 'Payal', True, 'hello world', 'payal'}"
      ]
     },
     "execution_count": 20,
     "metadata": {},
     "output_type": "execute_result"
    }
   ],
   "source": [
    "set3.add('payal')\n",
    "set3"
   ]
  },
  {
   "cell_type": "code",
   "execution_count": 23,
   "id": "9d6d4bc7-7215-4993-8101-a2fe76fb1319",
   "metadata": {},
   "outputs": [
    {
     "name": "stdout",
     "output_type": "stream",
     "text": [
      "{6, 7, 8, 9, 10}\n",
      "{8, 9, 12, 14}\n"
     ]
    },
    {
     "data": {
      "text/plain": [
       "{6, 7, 8, 9, 10, 12, 14}"
      ]
     },
     "execution_count": 23,
     "metadata": {},
     "output_type": "execute_result"
    }
   ],
   "source": [
    "x_set={6,7,8,9,10}\n",
    "print(x_set)\n",
    "\n",
    "y_set={8,9,12,14}\n",
    "print(y_set)\n",
    "\n",
    "x_set.update(y_set)\n",
    "x_set"
   ]
  },
  {
   "cell_type": "code",
   "execution_count": 24,
   "id": "9b0b23ba-996b-4562-bd79-47226f19eae6",
   "metadata": {},
   "outputs": [
    {
     "data": {
      "text/plain": [
       "{2.718, 3.14, False, 'Payal', True, 'hello world', 'payal'}"
      ]
     },
     "execution_count": 24,
     "metadata": {},
     "output_type": "execute_result"
    }
   ],
   "source": [
    "set3"
   ]
  },
  {
   "cell_type": "code",
   "execution_count": 26,
   "id": "d9086580-835d-4756-9bea-3b72ec248b29",
   "metadata": {},
   "outputs": [
    {
     "data": {
      "text/plain": [
       "{2.718, 3.14, False, 'Payal', True, 'hello world'}"
      ]
     },
     "execution_count": 26,
     "metadata": {},
     "output_type": "execute_result"
    }
   ],
   "source": [
    "# how to remove elemnts in sets\n",
    "\n",
    "set3.remove('payal')\n",
    "set3"
   ]
  },
  {
   "cell_type": "code",
   "execution_count": 28,
   "id": "83ebe424-7012-4b26-88cc-0dd8357c9dd4",
   "metadata": {},
   "outputs": [
    {
     "data": {
      "text/plain": [
       "{2.718, 3.14, False, True, 'hello world'}"
      ]
     },
     "execution_count": 28,
     "metadata": {},
     "output_type": "execute_result"
    }
   ],
   "source": [
    "set3.remove('Payal')\n",
    "set3"
   ]
  },
  {
   "cell_type": "code",
   "execution_count": 30,
   "id": "728f71c3-5c42-48ff-b00e-e72e2679f507",
   "metadata": {},
   "outputs": [
    {
     "ename": "KeyError",
     "evalue": "'payal'",
     "output_type": "error",
     "traceback": [
      "\u001b[1;31m---------------------------------------------------------------------------\u001b[0m",
      "\u001b[1;31mKeyError\u001b[0m                                  Traceback (most recent call last)",
      "Cell \u001b[1;32mIn[30], line 1\u001b[0m\n\u001b[1;32m----> 1\u001b[0m \u001b[43mset3\u001b[49m\u001b[38;5;241;43m.\u001b[39;49m\u001b[43mremove\u001b[49m\u001b[43m(\u001b[49m\u001b[38;5;124;43m'\u001b[39;49m\u001b[38;5;124;43mpayal\u001b[39;49m\u001b[38;5;124;43m'\u001b[39;49m\u001b[43m)\u001b[49m\n",
      "\u001b[1;31mKeyError\u001b[0m: 'payal'"
     ]
    }
   ],
   "source": [
    "set3.remove('payal')"
   ]
  },
  {
   "cell_type": "code",
   "execution_count": 34,
   "id": "3b6542ff-398f-4dcd-868e-0f69a7e75ede",
   "metadata": {},
   "outputs": [],
   "source": [
    "# discard()\n",
    "\n",
    "set3.discard('True')\n"
   ]
  },
  {
   "cell_type": "code",
   "execution_count": 35,
   "id": "81b2a3ce-d237-4146-bc85-23aa03964331",
   "metadata": {},
   "outputs": [
    {
     "data": {
      "text/plain": [
       "{2.718, 3.14, False, True, 'hello world'}"
      ]
     },
     "execution_count": 35,
     "metadata": {},
     "output_type": "execute_result"
    }
   ],
   "source": [
    "set3"
   ]
  },
  {
   "cell_type": "code",
   "execution_count": 36,
   "id": "e3e73b8f-c363-4dda-a1fe-9510850db0f0",
   "metadata": {},
   "outputs": [],
   "source": [
    "set3.discard(2.718)"
   ]
  },
  {
   "cell_type": "code",
   "execution_count": 37,
   "id": "d070011d-86ce-433a-99e8-870689470caf",
   "metadata": {},
   "outputs": [
    {
     "data": {
      "text/plain": [
       "{3.14, False, True, 'hello world'}"
      ]
     },
     "execution_count": 37,
     "metadata": {},
     "output_type": "execute_result"
    }
   ],
   "source": [
    "set3"
   ]
  },
  {
   "cell_type": "code",
   "execution_count": 38,
   "id": "8a8a5e6e-6dbc-4efb-9199-ddba609a4a23",
   "metadata": {},
   "outputs": [],
   "source": [
    "set3.discard(2.718)"
   ]
  },
  {
   "cell_type": "code",
   "execution_count": 39,
   "id": "b641b30a-ca44-46b2-ae77-f9bd7814d331",
   "metadata": {},
   "outputs": [
    {
     "data": {
      "text/plain": [
       "{3.14, False, True, 'hello world'}"
      ]
     },
     "execution_count": 39,
     "metadata": {},
     "output_type": "execute_result"
    }
   ],
   "source": [
    "set3"
   ]
  },
  {
   "cell_type": "code",
   "execution_count": 40,
   "id": "b706d33a-828f-485d-ae7a-82e5fc013ac3",
   "metadata": {},
   "outputs": [
    {
     "data": {
      "text/plain": [
       "{3.14, False, True, 'hello world'}"
      ]
     },
     "execution_count": 40,
     "metadata": {},
     "output_type": "execute_result"
    }
   ],
   "source": [
    "# To verify the element in the set use in or not in\n",
    "\n",
    "set3"
   ]
  },
  {
   "cell_type": "code",
   "execution_count": 41,
   "id": "1c4713e5-565a-41c7-9a67-e1377d15fffb",
   "metadata": {},
   "outputs": [
    {
     "data": {
      "text/plain": [
       "False"
      ]
     },
     "execution_count": 41,
     "metadata": {},
     "output_type": "execute_result"
    }
   ],
   "source": [
    "'payal' in set3"
   ]
  },
  {
   "cell_type": "code",
   "execution_count": 42,
   "id": "667e5ace-0f6a-4673-beaf-0c4d0385a36f",
   "metadata": {},
   "outputs": [
    {
     "data": {
      "text/plain": [
       "True"
      ]
     },
     "execution_count": 42,
     "metadata": {},
     "output_type": "execute_result"
    }
   ],
   "source": [
    "3.14 in set3"
   ]
  },
  {
   "cell_type": "code",
   "execution_count": 43,
   "id": "a308d0dd-5ffe-4269-8ca0-5ecc8d248a59",
   "metadata": {},
   "outputs": [
    {
     "data": {
      "text/plain": [
       "True"
      ]
     },
     "execution_count": 43,
     "metadata": {},
     "output_type": "execute_result"
    }
   ],
   "source": [
    "'payal' not in set3"
   ]
  },
  {
   "cell_type": "code",
   "execution_count": 44,
   "id": "a81fd940-425d-44ed-a6c6-53c2e94e6df5",
   "metadata": {},
   "outputs": [
    {
     "data": {
      "text/plain": [
       "{10, 20, 3.14, False, 'Hello world', 'Python', True}"
      ]
     },
     "execution_count": 44,
     "metadata": {},
     "output_type": "execute_result"
    }
   ],
   "source": [
    "set1={'Hello world',True,False,3.14}\n",
    "set2=set(['Hello world',True,False, 10,20,'Python'])\n",
    "\n",
    "# union\n",
    "\n",
    "set3=set1.union(set2)\n",
    "set3"
   ]
  },
  {
   "cell_type": "code",
   "execution_count": 45,
   "id": "3e5104a3-9c2d-4b2e-8fc8-639e3f2c6d48",
   "metadata": {},
   "outputs": [
    {
     "name": "stdout",
     "output_type": "stream",
     "text": [
      "{False, True, 'Hello world'}\n"
     ]
    }
   ],
   "source": [
    "# Intersection\n",
    "\n",
    "set4=set1.intersection(set2)\n",
    "print(set4)"
   ]
  },
  {
   "cell_type": "code",
   "execution_count": 48,
   "id": "af6617cc-5267-4e5d-9e4c-d0c29a13680c",
   "metadata": {},
   "outputs": [
    {
     "data": {
      "text/plain": [
       "{False, 'Hello world', True}"
      ]
     },
     "execution_count": 48,
     "metadata": {},
     "output_type": "execute_result"
    }
   ],
   "source": [
    "set1&set2"
   ]
  },
  {
   "cell_type": "code",
   "execution_count": 52,
   "id": "d6a57e45-3ccc-47e3-9468-42e378a77b2b",
   "metadata": {},
   "outputs": [
    {
     "name": "stdout",
     "output_type": "stream",
     "text": [
      "{False, True, 3.14, 'Hello world'} {False, True, 10, 'Hello world', 'Python', 20}\n",
      "{3.14}\n",
      "{10, 'Python', 20}\n"
     ]
    }
   ],
   "source": [
    "# Differrence # A-B, B-A\n",
    "\n",
    "print(set1,set2)\n",
    "\n",
    "print(set1-set2)\n",
    "print(set2-set1)"
   ]
  },
  {
   "cell_type": "code",
   "execution_count": 54,
   "id": "94007baa-7213-468d-9c05-c9a7fdde3cef",
   "metadata": {},
   "outputs": [
    {
     "data": {
      "text/plain": [
       "{3.14}"
      ]
     },
     "execution_count": 54,
     "metadata": {},
     "output_type": "execute_result"
    }
   ],
   "source": [
    "# difference\n",
    "\n",
    "set1.difference(set2)\n"
   ]
  },
  {
   "cell_type": "code",
   "execution_count": 55,
   "id": "2b52fbd7-3e79-4f79-b9bc-cd4aee3ce73a",
   "metadata": {},
   "outputs": [
    {
     "data": {
      "text/plain": [
       "{10, 20, 'Python'}"
      ]
     },
     "execution_count": 55,
     "metadata": {},
     "output_type": "execute_result"
    }
   ],
   "source": [
    "set2.difference(set1)"
   ]
  },
  {
   "cell_type": "code",
   "execution_count": 56,
   "id": "ef478319-bf9b-4c80-880e-2deb2be23153",
   "metadata": {},
   "outputs": [
    {
     "data": {
      "text/plain": [
       "{10, 20, 3.14, 'Python'}"
      ]
     },
     "execution_count": 56,
     "metadata": {},
     "output_type": "execute_result"
    }
   ],
   "source": [
    "# Symmetric difference\n",
    "\n",
    "set1.symmetric_difference(set2)"
   ]
  },
  {
   "cell_type": "code",
   "execution_count": 65,
   "id": "8140e7f0-937c-4f83-9cb1-78c7ab8f84c3",
   "metadata": {},
   "outputs": [
    {
     "name": "stdout",
     "output_type": "stream",
     "text": [
      "Minimum number of the list: 10\n",
      "Minimum number of the set: 10\n",
      "Maximum number of the list: 70\n",
      "Maximum number of the set: 70\n",
      "Sum of the list: 360\n",
      "Sum of the set: 280\n",
      "Total elements in the list: 12\n",
      "Total elements int the set: 7\n"
     ]
    }
   ],
   "source": [
    "# aggrigate function()\n",
    "\n",
    "nlis=[10,20,20,20,30,10,40,50,60,70,20,10]  # list\n",
    "set2={10,20,20,20,30,10,40,50,60,70,20,10}  # set\n",
    "\n",
    "print(\"Minimum number of the list:\",min(nlis))\n",
    "print(\"Minimum number of the set:\",min(set2))\n",
    "print(\"Maximum number of the list:\",max(nlis))\n",
    "print(\"Maximum number of the set:\",max(set2))\n",
    "print(\"Sum of the list:\",sum(nlis))\n",
    "print(\"Sum of the set:\",sum(set2))\n",
    "print('Total elements in the list:',len(nlis))\n",
    "print('Total elements int the set:',len(set2))"
   ]
  },
  {
   "cell_type": "code",
   "execution_count": 66,
   "id": "708c1f92-5bc0-4643-b8ca-7ded7bb04b72",
   "metadata": {},
   "outputs": [
    {
     "data": {
      "text/plain": [
       "{10, 20, 30, 40, 50, 60, 70}"
      ]
     },
     "execution_count": 66,
     "metadata": {},
     "output_type": "execute_result"
    }
   ],
   "source": [
    "set2"
   ]
  },
  {
   "cell_type": "code",
   "execution_count": 67,
   "id": "f975760d-84b9-4269-9e8a-125ec9639ea5",
   "metadata": {},
   "outputs": [
    {
     "ename": "TypeError",
     "evalue": "'set' object is not subscriptable",
     "output_type": "error",
     "traceback": [
      "\u001b[1;31m---------------------------------------------------------------------------\u001b[0m",
      "\u001b[1;31mTypeError\u001b[0m                                 Traceback (most recent call last)",
      "Cell \u001b[1;32mIn[67], line 1\u001b[0m\n\u001b[1;32m----> 1\u001b[0m \u001b[43mset2\u001b[49m\u001b[43m[\u001b[49m\u001b[38;5;241;43m0\u001b[39;49m\u001b[43m]\u001b[49m\n",
      "\u001b[1;31mTypeError\u001b[0m: 'set' object is not subscriptable"
     ]
    }
   ],
   "source": [
    "set2[0]"
   ]
  },
  {
   "cell_type": "code",
   "execution_count": 69,
   "id": "9edac0e3-32c6-4658-92cc-931e4d13adde",
   "metadata": {},
   "outputs": [
    {
     "data": {
      "text/plain": [
       "{100, 45, 90, 'Hello world'}"
      ]
     },
     "execution_count": 69,
     "metadata": {},
     "output_type": "execute_result"
    }
   ],
   "source": [
    "# Copy of the set   # Deepcopy and swallow copy\n",
    "\n",
    "original_set={'Hello world',45,100,90,45}\n",
    "original_set"
   ]
  },
  {
   "cell_type": "code",
   "execution_count": 70,
   "id": "78796bab-4e3a-40f2-9d8d-57bf8ee7b76b",
   "metadata": {},
   "outputs": [
    {
     "name": "stdout",
     "output_type": "stream",
     "text": [
      "{'Hello world', 90, 100, 45}\n",
      "{'Hello world', 90, 100, 45}\n"
     ]
    }
   ],
   "source": [
    "# Deep copy\n",
    "copy_set=original_set\n",
    "print(original_set)\n",
    "print(copy_set)"
   ]
  },
  {
   "cell_type": "code",
   "execution_count": 71,
   "id": "0d5b990d-a7d7-4bb3-93e1-3cb89ae190ce",
   "metadata": {},
   "outputs": [
    {
     "name": "stdout",
     "output_type": "stream",
     "text": [
      "{100, 'Hello world', 'payal', 45, 90}\n"
     ]
    }
   ],
   "source": [
    "original_set.add('payal')\n",
    "print(original_set)"
   ]
  },
  {
   "cell_type": "code",
   "execution_count": 72,
   "id": "6cd65854-10d9-4599-9e1f-8b413dce9abf",
   "metadata": {},
   "outputs": [
    {
     "name": "stdout",
     "output_type": "stream",
     "text": [
      "{100, 'Hello world', 'payal', 45, 90}\n"
     ]
    }
   ],
   "source": [
    "print(copy_set)"
   ]
  },
  {
   "cell_type": "code",
   "execution_count": 73,
   "id": "268d0748-9b48-4d9d-81ba-c951b2922177",
   "metadata": {},
   "outputs": [
    {
     "data": {
      "text/plain": [
       "{100, 45, 90, 'Hello world', 'payal'}"
      ]
     },
     "execution_count": 73,
     "metadata": {},
     "output_type": "execute_result"
    }
   ],
   "source": [
    "# Swallow copy\n",
    "\n",
    "original_set"
   ]
  },
  {
   "cell_type": "code",
   "execution_count": 74,
   "id": "bb46c219-7e5c-460d-a625-7f426f27bcb4",
   "metadata": {},
   "outputs": [
    {
     "name": "stdout",
     "output_type": "stream",
     "text": [
      "{100, 'Hello world', 'payal', 45, 90}\n",
      "{100, 'payal', 90, 'Hello world', 45}\n"
     ]
    }
   ],
   "source": [
    "swallow_copy_set=original_set.copy()\n",
    "print(original_set)\n",
    "print(swallow_copy_set)"
   ]
  },
  {
   "cell_type": "code",
   "execution_count": 75,
   "id": "84d3511c-baaa-4e2d-963d-6e0f1cb77d62",
   "metadata": {},
   "outputs": [
    {
     "name": "stdout",
     "output_type": "stream",
     "text": [
      "{100, 'Hello world', 'payal', 45, 'Python', 90}\n"
     ]
    }
   ],
   "source": [
    "original_set.add('Python')\n",
    "print(original_set)"
   ]
  },
  {
   "cell_type": "code",
   "execution_count": 76,
   "id": "ee1863e7-50f0-4ab3-91a3-f50cb3f624d9",
   "metadata": {},
   "outputs": [
    {
     "name": "stdout",
     "output_type": "stream",
     "text": [
      "{100, 'payal', 90, 'Hello world', 45}\n"
     ]
    }
   ],
   "source": [
    "print(swallow_copy_set)"
   ]
  },
  {
   "cell_type": "code",
   "execution_count": 77,
   "id": "a65a2ed4-3369-42e1-8a37-f576e771ffcf",
   "metadata": {},
   "outputs": [
    {
     "data": {
      "text/plain": [
       "{1, 2, 3, 4, 5, 6}"
      ]
     },
     "execution_count": 77,
     "metadata": {},
     "output_type": "execute_result"
    }
   ],
   "source": [
    "set={1,2,3,4,5,6}\n",
    "set"
   ]
  },
  {
   "cell_type": "code",
   "execution_count": 78,
   "id": "4d048e25-1bb8-491a-a73f-a3e48b937c8a",
   "metadata": {},
   "outputs": [],
   "source": [
    "# clear\n",
    "\n",
    "set.clear()"
   ]
  },
  {
   "cell_type": "code",
   "execution_count": 79,
   "id": "9dd00ad9-f2d2-460e-91c9-ee8015a956eb",
   "metadata": {},
   "outputs": [
    {
     "data": {
      "text/plain": [
       "set()"
      ]
     },
     "execution_count": 79,
     "metadata": {},
     "output_type": "execute_result"
    }
   ],
   "source": [
    "set"
   ]
  },
  {
   "cell_type": "code",
   "execution_count": 80,
   "id": "726a9f6d-6225-46e1-b379-00939d6dabc4",
   "metadata": {},
   "outputs": [
    {
     "data": {
      "text/plain": [
       "{0, 1, 2, 3, 4, 5, 6, 7}"
      ]
     },
     "execution_count": 80,
     "metadata": {},
     "output_type": "execute_result"
    }
   ],
   "source": [
    "# pop() function\n",
    "\n",
    "x_set={0,1,2,3,4,5,6,7}\n",
    "x_set\n"
   ]
  },
  {
   "cell_type": "code",
   "execution_count": 81,
   "id": "789300df-8b8e-449d-a2a3-51fddb9de328",
   "metadata": {},
   "outputs": [
    {
     "data": {
      "text/plain": [
       "0"
      ]
     },
     "execution_count": 81,
     "metadata": {},
     "output_type": "execute_result"
    }
   ],
   "source": [
    "x_set.pop()"
   ]
  },
  {
   "cell_type": "code",
   "execution_count": 84,
   "id": "da82e1f2-fbea-4218-a7e5-ead32d3b6240",
   "metadata": {},
   "outputs": [
    {
     "data": {
      "text/plain": [
       "{3, 4, 5, 6, 7}"
      ]
     },
     "execution_count": 84,
     "metadata": {},
     "output_type": "execute_result"
    }
   ],
   "source": [
    "x_set.pop()\n",
    "x_set"
   ]
  },
  {
   "cell_type": "code",
   "execution_count": null,
   "id": "74ab3472-ee9e-49ff-b31c-52fda5b6a9f7",
   "metadata": {},
   "outputs": [],
   "source": []
  }
 ],
 "metadata": {
  "kernelspec": {
   "display_name": "Python 3 (ipykernel)",
   "language": "python",
   "name": "python3"
  },
  "language_info": {
   "codemirror_mode": {
    "name": "ipython",
    "version": 3
   },
   "file_extension": ".py",
   "mimetype": "text/x-python",
   "name": "python",
   "nbconvert_exporter": "python",
   "pygments_lexer": "ipython3",
   "version": "3.11.4"
  }
 },
 "nbformat": 4,
 "nbformat_minor": 5
}
