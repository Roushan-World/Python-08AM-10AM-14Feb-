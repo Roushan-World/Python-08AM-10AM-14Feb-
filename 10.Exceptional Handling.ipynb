{
 "cells": [
  {
   "cell_type": "markdown",
   "id": "6b9cf8c0-6f51-478b-a8e9-a0d4791eb522",
   "metadata": {},
   "source": [
    "# 10. Exceptional Handling in Python\n",
    "\n",
    " * __An Exception is an even, which occurs during the execution of a program that disrupts the normal flow of the program's instructions.__\n",
    " * __In general, when a Python scripts encounters a situation that it cannot cope with, it raises an exception.__\n",
    " * __An Exception is a Python object that represent an error.__\n",
    " * __when a Python Scripts raises an exception, it must either handle the exception immediately otherwise it terminates and quits.__\n",
    " * __If you have some suspicious code that may raises an exception, you can defend your program by placing the suspicious code in try:block.__\n",
    " * __After the try:block, include except: statement, followed by a block of code which handles the problem as elegantly as possible.__\n",
    "# Common exceptions\n",
    " * __ZeroDivisonError__\n",
    " * __NameError__\n",
    " * __ValueError__\n",
    " * __IOError__\n",
    " * __EOFError__\n",
    " * __IdentationError__ "
   ]
  },
  {
   "cell_type": "code",
   "execution_count": 1,
   "id": "60715a5a-c6ae-4276-a608-db9a2866b942",
   "metadata": {},
   "outputs": [
    {
     "ename": "ZeroDivisionError",
     "evalue": "division by zero",
     "output_type": "error",
     "traceback": [
      "\u001b[1;31m---------------------------------------------------------------------------\u001b[0m",
      "\u001b[1;31mZeroDivisionError\u001b[0m                         Traceback (most recent call last)",
      "Cell \u001b[1;32mIn[1], line 1\u001b[0m\n\u001b[1;32m----> 1\u001b[0m \u001b[38;5;241;43m1\u001b[39;49m\u001b[38;5;241;43m/\u001b[39;49m\u001b[38;5;241;43m0\u001b[39;49m\n",
      "\u001b[1;31mZeroDivisionError\u001b[0m: division by zero"
     ]
    }
   ],
   "source": [
    "1/0"
   ]
  },
  {
   "cell_type": "code",
   "execution_count": 2,
   "id": "c2e65940-316b-4e37-a14d-c131ac48586d",
   "metadata": {},
   "outputs": [
    {
     "name": "stdin",
     "output_type": "stream",
     "text": [
      "Enter first number: 12\n",
      "Enter second number: 0\n"
     ]
    },
    {
     "name": "stdout",
     "output_type": "stream",
     "text": [
      "You can't divide any value by 0.\n"
     ]
    }
   ],
   "source": [
    "x=int(input(\"Enter first number:\"))\n",
    "y=int(input(\"Enter second number:\"))\n",
    "\n",
    "try:\n",
    "    z=x/y\n",
    "    print(z)\n",
    "except ZeroDivisionError:\n",
    "    print(\"You can't divide any value by 0.\")\n"
   ]
  },
  {
   "cell_type": "code",
   "execution_count": 3,
   "id": "2c5b5c75-6fe5-45a7-a0e9-13235bdf16f4",
   "metadata": {},
   "outputs": [
    {
     "ename": "ZeroDivisionError",
     "evalue": "division by zero",
     "output_type": "error",
     "traceback": [
      "\u001b[1;31m---------------------------------------------------------------------------\u001b[0m",
      "\u001b[1;31mZeroDivisionError\u001b[0m                         Traceback (most recent call last)",
      "Cell \u001b[1;32mIn[3], line 1\u001b[0m\n\u001b[1;32m----> 1\u001b[0m \u001b[38;5;241;43m12\u001b[39;49m\u001b[38;5;241;43m/\u001b[39;49m\u001b[38;5;241;43m0\u001b[39;49m\n",
      "\u001b[1;31mZeroDivisionError\u001b[0m: division by zero"
     ]
    }
   ],
   "source": [
    "12/0"
   ]
  },
  {
   "cell_type": "code",
   "execution_count": 1,
   "id": "f785a48c-1df5-4b18-8b48-f96ae5978e0b",
   "metadata": {},
   "outputs": [],
   "source": [
    "# wap a program to find the mean of any value. x=[45,42,52,48]"
   ]
  },
  {
   "cell_type": "code",
   "execution_count": 4,
   "id": "8c4f67f1-038e-422a-9bbc-125bd6c38979",
   "metadata": {},
   "outputs": [
    {
     "ename": "ZeroDivisionError",
     "evalue": "division by zero",
     "output_type": "error",
     "traceback": [
      "\u001b[1;31m---------------------------------------------------------------------------\u001b[0m",
      "\u001b[1;31mZeroDivisionError\u001b[0m                         Traceback (most recent call last)",
      "Cell \u001b[1;32mIn[4], line 4\u001b[0m\n\u001b[0;32m      1\u001b[0m \u001b[38;5;66;03m# ZeroDivisionError\u001b[39;00m\n\u001b[0;32m      3\u001b[0m x\u001b[38;5;241m=\u001b[39m[\u001b[38;5;241m10\u001b[39m,\u001b[38;5;241m20\u001b[39m,\u001b[38;5;241m30\u001b[39m,\u001b[38;5;241m40\u001b[39m,\u001b[38;5;241m50\u001b[39m]\n\u001b[1;32m----> 4\u001b[0m \u001b[38;5;28;43msum\u001b[39;49m\u001b[43m(\u001b[49m\u001b[43mx\u001b[49m\u001b[43m)\u001b[49m\u001b[38;5;241;43m/\u001b[39;49m\u001b[38;5;241;43m0\u001b[39;49m\n",
      "\u001b[1;31mZeroDivisionError\u001b[0m: division by zero"
     ]
    }
   ],
   "source": [
    "# ZeroDivisionError\n",
    "\n",
    "x=[10,20,30,40,50]\n",
    "sum(x)/0"
   ]
  },
  {
   "cell_type": "code",
   "execution_count": 25,
   "id": "97a34695-7696-411e-94d4-dc671498023d",
   "metadata": {},
   "outputs": [
    {
     "name": "stdin",
     "output_type": "stream",
     "text": [
      "Enter your range:  4\n",
      "Enter 1 number: 45\n",
      "Enter 2 number: 45\n",
      "Enter 3 number: 45\n",
      "Enter 4 number: 45\n",
      "Enter any number for division: 78\n"
     ]
    },
    {
     "name": "stdout",
     "output_type": "stream",
     "text": [
      "Your Product is: 2.3076923076923075\n"
     ]
    }
   ],
   "source": [
    "# Write a program to take list from user and take 5 inputs after than display ZeroDivisonError.\n",
    "list=[]\n",
    "\n",
    "def division(x):\n",
    "    try:\n",
    "        y1=int(input('Enter your range: '))\n",
    "        for i in range(1,y1+1):\n",
    "            input1=int(input(f\"Enter {i} number:\"))\n",
    "            list.append(input1)\n",
    "        y=int(input('Enter any number for division:'))\n",
    "        z=sum(list)/y\n",
    "        print('Your Product is:',z)\n",
    "            \n",
    "    except ZeroDivisionError:\n",
    "    \n",
    "        print(\"You can't divide sum of list by 0.\")\n",
    "\n",
    "\n",
    "division('payal')"
   ]
  },
  {
   "cell_type": "code",
   "execution_count": 34,
   "id": "366c657b-73a9-4733-98c2-be2104b365d1",
   "metadata": {},
   "outputs": [
    {
     "name": "stdin",
     "output_type": "stream",
     "text": [
      "Enter your range: 50\n",
      "Enter any number for division: 25\n"
     ]
    },
    {
     "name": "stdout",
     "output_type": "stream",
     "text": [
      "Your Generated list is: [2, 4, 6, 8, 10, 12, 14, 16, 18, 20, 22, 24, 26, 28, 30, 32, 34, 36, 38, 40, 42, 44, 46, 48, 50] \n",
      "Your Total Sum of list is: 650 \n",
      "Your product of list is: 26.0\n"
     ]
    }
   ],
   "source": [
    "# find the sum of even number if user take range is 10- [2,4,6,8,10]= 30 using def and exception handing. and divide the list by any user input.\n",
    "\n",
    "list2=[]\n",
    "def even_no(s1):\n",
    "    try:\n",
    "        y2=int(input('Enter your range:'))\n",
    "        for i in range(1,y2+1):\n",
    "            if i%2==0:\n",
    "                list2.append(i)\n",
    "        y3=int(input('Enter any number for division:'))\n",
    "        sum2=sum(list2)\n",
    "        print(\"Your Generated list is:\",list2,\"\\nYour Total Sum of list is:\",sum2,\"\\nYour product of list is:\",sum2/y3)\n",
    "    except ZeroDivisionError:\n",
    "    \n",
    "        print(\"You can't divide sum of list by 0.\")\n",
    "\n",
    "even_no('cat')\n",
    "\n",
    "\n",
    "# second method user can choose division method [Y/N],if y then open box for division number, \n",
    "# and if user insert N then only display sum of the even number list."
   ]
  },
  {
   "cell_type": "code",
   "execution_count": null,
   "id": "17bc2427-4ec5-4b6e-8a21-722cef895518",
   "metadata": {},
   "outputs": [],
   "source": [
    "# Write a program to find the divisiblity rule take two input from user. if user takes less than 0 then division not perform."
   ]
  },
  {
   "cell_type": "code",
   "execution_count": 21,
   "id": "831e5072-a758-4d75-afa4-c15350eac663",
   "metadata": {},
   "outputs": [
    {
     "name": "stdin",
     "output_type": "stream",
     "text": [
      "Enter any number: fafa\n"
     ]
    },
    {
     "name": "stdout",
     "output_type": "stream",
     "text": [
      "Enter only Integer Value.\n"
     ]
    }
   ],
   "source": [
    "# Write a program to find the sum of even number take a range from user 10=[2,4,6,8,10]=30 display from exception handling.\n",
    "\n",
    "# ValueError: Enter only integer value not string.\n",
    "try:\n",
    "    def func1():\n",
    "        user1=int(input('Enter any number:'))\n",
    "        i=0\n",
    "        list_even=[]\n",
    "        sum1=0\n",
    "        while i<=user1:\n",
    "            if i%2==0:\n",
    "                list_even.append(i)\n",
    "                sum1+=i\n",
    "            i+=1\n",
    "        print('Even numbers list:',list_even,'\\nSum of the even numebrs list is:',sum1)\n",
    "    \n",
    "    func1()\n",
    "except ValueError:\n",
    "    print('Enter only Integer Value.')"
   ]
  },
  {
   "cell_type": "code",
   "execution_count": null,
   "id": "a3f34c56-929c-4f63-966e-277392b224c2",
   "metadata": {},
   "outputs": [],
   "source": []
  }
 ],
 "metadata": {
  "kernelspec": {
   "display_name": "Python 3 (ipykernel)",
   "language": "python",
   "name": "python3"
  },
  "language_info": {
   "codemirror_mode": {
    "name": "ipython",
    "version": 3
   },
   "file_extension": ".py",
   "mimetype": "text/x-python",
   "name": "python",
   "nbconvert_exporter": "python",
   "pygments_lexer": "ipython3",
   "version": "3.11.4"
  }
 },
 "nbformat": 4,
 "nbformat_minor": 5
}
