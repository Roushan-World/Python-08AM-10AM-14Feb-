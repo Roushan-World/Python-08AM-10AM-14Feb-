{
 "cells": [
  {
   "cell_type": "markdown",
   "id": "32ec1de0-5b8f-447d-81fb-775d0e4b4f02",
   "metadata": {},
   "source": [
    "# 16. Arrays in Python\n",
    "\n",
    " * __Array is a container which can hold a fix number of items and these items should be of the same type.__\n",
    " * __Most of the data structures make use of arrays to implement their algorithms.__\n",
    " * __Lists can be used to form arrays.__\n",
    " * __Following are the important terms to understand the concept of Array.__\n",
    "    * __Element: Each item stored in an array is called an element.__\n",
    "    * __Index: Each location of an element in an array has a numerical index, which is used to identify the element.__\n",
    "    * __Array index begin with 0.__\n",
    "    * __Each elemenent in the array can be accessed with it's index number.__\n",
    "    * __The length of the array describes the capacity to store the elements.__\n",
    "    * __Basic array operations are Transverse, Insertion, Deletion, Search, and Update.__\n",
    "\n",
    "# Creating an array\n",
    " * __You should import the module name 'array' as follows:__\n",
    "    * __import array or from array import (*)__\n",
    "    * __(*) means that it covers all featurs of the array.__"
   ]
  },
  {
   "cell_type": "markdown",
   "id": "ec7cef73-1c5e-43f5-ba7e-0494d088de2d",
   "metadata": {},
   "source": [
    "# Type code\n",
    "\n",
    " * __Arrays represent basic values and behave very much like lists, except the type of objects stored in them is constrained.__\n",
    " * __The type is specified at object creation time by using a type code, which is a singel character.__\n",
    " * __The following type codes are defined:__\n",
    "\n",
    " * __Type Code | C Type | Python Type | Minimum size in bytes__\n",
    "\n",
    " * __'b' | Signed char | int|1 __\n",
    " * __'B' | Unsigned char| int|1__\n",
    " * __'u' | Py_UNICODE| Unicode character| 2__\n",
    " * __'h' | signed short| int |2 __\n",
    " * __'H' | Unsigned short | int|2__\n",
    " * __'i' | signed int | int |2__\n",
    " * __'I' | unsigned int | int |2__\n",
    " * __'l' | signed long | int |4__\n",
    " * __'L' | unsigned long | int |4 __\n",
    " * __'q' | singned long long | int |8__\n",
    " * __'Q' | unsigned long long | int |8__\n",
    " * __'f' | float | float |4__\n",
    " * __'d' | double| float |8__"
   ]
  },
  {
   "cell_type": "code",
   "execution_count": 2,
   "id": "e41d66a2-9443-48f6-85b9-b8d910d17bd5",
   "metadata": {},
   "outputs": [],
   "source": [
    "import array as arr"
   ]
  },
  {
   "cell_type": "code",
   "execution_count": 3,
   "id": "c264a84a-dc3e-4e6c-9c46-0489360339ec",
   "metadata": {},
   "outputs": [
    {
     "data": {
      "text/plain": [
       "array('d', [0.577, 1.618, 3.147, 10.0, 37.0, 40.0])"
      ]
     },
     "execution_count": 3,
     "metadata": {},
     "output_type": "execute_result"
    }
   ],
   "source": [
    "special_nums=arr.array('d',[0.577,1.618,3.147,10,37,40])\n",
    "special_nums"
   ]
  },
  {
   "cell_type": "code",
   "execution_count": 4,
   "id": "a4713490-884e-43e4-a208-03c0df24c7b1",
   "metadata": {},
   "outputs": [
    {
     "name": "stdout",
     "output_type": "stream",
     "text": [
      "0.577\n",
      "1.618\n",
      "3.147\n",
      "10.0\n",
      "37.0\n",
      "40.0\n"
     ]
    }
   ],
   "source": [
    "for i in special_nums:\n",
    "    print(i)"
   ]
  },
  {
   "cell_type": "markdown",
   "id": "757a2c97-8829-4d2d-bdd5-65acd9a6acf4",
   "metadata": {},
   "source": [
    "# Accessing "
   ]
  },
  {
   "cell_type": "code",
   "execution_count": 5,
   "id": "0f058766-e654-47d3-b9fa-3e3fb32443bf",
   "metadata": {},
   "outputs": [
    {
     "data": {
      "text/plain": [
       "array('d', [0.577, 1.618, 2.718, 3.147, 6.0, 37.0, 1729.0])"
      ]
     },
     "execution_count": 5,
     "metadata": {},
     "output_type": "execute_result"
    }
   ],
   "source": [
    "special_nums=arr.array('d',[0.577,1.618,2.718,3.147,6,37,1729])\n",
    "special_nums"
   ]
  },
  {
   "cell_type": "code",
   "execution_count": 9,
   "id": "10811814-99d0-4bd9-a7fc-fbdaae6c55c5",
   "metadata": {},
   "outputs": [
    {
     "name": "stdout",
     "output_type": "stream",
     "text": [
      "0.577\n",
      "1.618\n",
      "2.718\n",
      "3.147\n",
      "6.0\n",
      "37.0\n",
      "1729.0\n"
     ]
    }
   ],
   "source": [
    "# positive indexing of array\n",
    "print(special_nums[0])\n",
    "print(special_nums[1])\n",
    "print(special_nums[2])\n",
    "print(special_nums[3])\n",
    "print(special_nums[4])\n",
    "print(special_nums[5])\n",
    "print(special_nums[6])"
   ]
  },
  {
   "cell_type": "markdown",
   "id": "9bfb69ea-e370-4eb5-b932-cff5b387693c",
   "metadata": {},
   "source": [
    "# Changing or Updating Array\n",
    "\n"
   ]
  },
  {
   "cell_type": "code",
   "execution_count": 11,
   "id": "57d575b8-7834-413f-86ae-3ee6267bb617",
   "metadata": {},
   "outputs": [
    {
     "data": {
      "text/plain": [
       "array('i', [0, 1, 2, 3, 4, 5, 6, 10, 20, 30, 40])"
      ]
     },
     "execution_count": 11,
     "metadata": {},
     "output_type": "execute_result"
    }
   ],
   "source": [
    "nums=arr.array('i',[0,1,2,3,4,5,6,10,20,30,40])\n",
    "nums"
   ]
  },
  {
   "cell_type": "code",
   "execution_count": 12,
   "id": "d51b3810-9f98-42c3-baf3-5b6bd52de2be",
   "metadata": {},
   "outputs": [
    {
     "name": "stdout",
     "output_type": "stream",
     "text": [
      "array('i', [55, 1, 2, 3, 4, 5, 6, 10, 20, 30, 40])\n"
     ]
    }
   ],
   "source": [
    "# Changing the first element of the array.\n",
    "nums[0]=55\n",
    "print(nums)"
   ]
  },
  {
   "cell_type": "code",
   "execution_count": 13,
   "id": "49d94840-452e-4fb7-af43-339d5004466f",
   "metadata": {},
   "outputs": [
    {
     "name": "stdout",
     "output_type": "stream",
     "text": [
      "array('i', [55, 89, 144, 233, 377, 4, 5, 6, 10, 20, 30, 40])\n"
     ]
    }
   ],
   "source": [
    "# Changing 2nd and 4th elements of the array.\n",
    "nums[1:4]=arr.array('i',[89,144,233,377])\n",
    "print(nums)"
   ]
  },
  {
   "cell_type": "markdown",
   "id": "cac60f44-bd0a-443b-b32f-c7e9ff6ac42b",
   "metadata": {},
   "source": [
    "# Deleting "
   ]
  },
  {
   "cell_type": "code",
   "execution_count": 15,
   "id": "f905c543-78fe-48d5-94da-e88a1bdbc70d",
   "metadata": {},
   "outputs": [
    {
     "name": "stdout",
     "output_type": "stream",
     "text": [
      "array('i', [0, 1, 1, 2, 2, 3, 3, 3, 5, 8, 13, 21, 34])\n",
      "array('i', [1, 1, 2, 2, 3, 3, 3, 5, 8, 13, 21, 34])\n"
     ]
    }
   ],
   "source": [
    "nums=arr.array('i',[0,1,1,2,2,3,3,3,5,8,13,21,34])\n",
    "print(nums)\n",
    "del(nums[0])  # 0 index value deleted.\n",
    "print(nums)"
   ]
  },
  {
   "cell_type": "code",
   "execution_count": 16,
   "id": "35b1d2d9-8a0f-47a3-a155-d583da5520ff",
   "metadata": {},
   "outputs": [
    {
     "name": "stdout",
     "output_type": "stream",
     "text": [
      "array('i', [1, 3, 3, 3, 5, 8, 13, 21, 34])\n"
     ]
    }
   ],
   "source": [
    "# Deleting the 2nd and 4the elements of the array.\n",
    "del(nums[1:4])\n",
    "print(nums)"
   ]
  },
  {
   "cell_type": "code",
   "execution_count": 20,
   "id": "fcce2a5a-d6e1-43c4-bc05-50154108f969",
   "metadata": {},
   "outputs": [
    {
     "name": "stdout",
     "output_type": "stream",
     "text": [
      "array('i', [0, 1, 1, 2, 2, 3, 3, 3, 5, 8, 13, 21, 34])\n"
     ]
    }
   ],
   "source": [
    "nums=arr.array('i',[0,1,1,2,2,3,3,3,5,8,13,21,34])\n",
    "print(nums)"
   ]
  },
  {
   "cell_type": "code",
   "execution_count": 22,
   "id": "43f4b369-2be0-432e-b6c1-fbb505d5ed4a",
   "metadata": {},
   "outputs": [
    {
     "name": "stdout",
     "output_type": "stream",
     "text": [
      "array('d', [0.577, 1.618, 2.718, 3.14, 6.0, 37.0, 1729.0, 1.0, 1.0, 2.0, 3.0, 5.0, 8.0, 13.0, 21.0, 34.0])\n"
     ]
    }
   ],
   "source": [
    "# Concatenation\n",
    "\n",
    "special_nums=arr.array('d',[0.577,1.618,2.718,3.14,6,37,1729])\n",
    "fibonacci_nums=arr.array('d',[1,1,2,3,5,8,13,21,34])\n",
    "special_fibonacci_nums=arr.array('d')\n",
    "special_fibonacci_nums=special_nums+fibonacci_nums\n",
    "print(special_fibonacci_nums)"
   ]
  },
  {
   "cell_type": "code",
   "execution_count": 3,
   "id": "76c425ba-2592-49a1-bb71-cfd2763f73df",
   "metadata": {},
   "outputs": [
    {
     "name": "stdout",
     "output_type": "stream",
     "text": [
      "array('i', [0, 1, 1, 2, 2, 3, 3, 3, 5, 8, 13, 21, 34])\n",
      "13\n"
     ]
    }
   ],
   "source": [
    "nums=arr.array('i',[0,1,1,2,2,3,3,3,5,8,13,21,34])\n",
    "print(nums)\n",
    "print(len(nums))"
   ]
  },
  {
   "cell_type": "markdown",
   "id": "81a273ce-5d03-41b9-8305-13c212831cd0",
   "metadata": {},
   "source": [
    "# Creating an ID arrays"
   ]
  },
  {
   "cell_type": "code",
   "execution_count": 4,
   "id": "91450953-7a62-4c27-90f1-e5bb5a6ed357",
   "metadata": {},
   "outputs": [
    {
     "name": "stdout",
     "output_type": "stream",
     "text": [
      "[1, 1, 1, 1, 1, 1, 1, 1, 1, 1]\n"
     ]
    }
   ],
   "source": [
    "mult=10\n",
    "\n",
    "one_array=[1]*mult\n",
    "print(one_array)"
   ]
  },
  {
   "cell_type": "code",
   "execution_count": 6,
   "id": "7568cf63-5762-40a2-8d3e-6f590f1ac07e",
   "metadata": {},
   "outputs": [
    {
     "name": "stdout",
     "output_type": "stream",
     "text": [
      "[0, 1, 2, 3, 4, 5, 6, 7, 8, 9]\n"
     ]
    }
   ],
   "source": [
    "mult=10\n",
    "nums_array=[i for i in range(mult)]\n",
    "print(nums_array)"
   ]
  },
  {
   "cell_type": "code",
   "execution_count": null,
   "id": "b517d06e-e108-4bb2-a7d8-6046fd26f476",
   "metadata": {},
   "outputs": [],
   "source": []
  }
 ],
 "metadata": {
  "kernelspec": {
   "display_name": "Python 3 (ipykernel)",
   "language": "python",
   "name": "python3"
  },
  "language_info": {
   "codemirror_mode": {
    "name": "ipython",
    "version": 3
   },
   "file_extension": ".py",
   "mimetype": "text/x-python",
   "name": "python",
   "nbconvert_exporter": "python",
   "pygments_lexer": "ipython3",
   "version": "3.12.2"
  }
 },
 "nbformat": 4,
 "nbformat_minor": 5
}
