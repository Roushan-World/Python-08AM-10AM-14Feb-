{
 "cells": [
  {
   "cell_type": "markdown",
   "id": "3233b1aa-8013-4732-805b-d93b6e245a36",
   "metadata": {},
   "source": [
    "# 21. Generators in Python\n",
    "\n",
    " * __Python generator are the functions that return the transversal object and a simple way of creaitng iterators.__\n",
    " * __It transverses the entire items at once.__\n",
    " * __The generator can also be an expression in which syntax is similar to the list comprehension in Python.__\n",
    " * __There is a lot of complexity in creating iteration in Python, it is required to implement iter() and next() method to keep track of internal states.__\n",
    " * __It is a lenghty process to create iterators.__\n",
    " * __That is why the generator plays a significant role in simplifying this process.__\n",
    " * __If there is no value found in iteration, it raises StopIteration exception.__\n",
    " * __It is quite simple to create a generator in Python.__\n",
    " * __It is similar to the normal function defined by the def keyword and employs a yield keyword instead of return.__\n",
    " * __if the body of any function incldues a yield statement, it automatically becomes a generator functions.__\n",
    " * __The yield keyword is responsible to control the flow of the generator functions.__\n",
    " * __It pauses the function execution by saving all states and yielded to the caller.__\n",
    " * __Later it resumes execution when a successive function is called.__\n",
    " * __The return keyword returns a value and terminates the whole function and only one return statement can be employed in the function.__"
   ]
  }
 ],
 "metadata": {
  "kernelspec": {
   "display_name": "Python 3 (ipykernel)",
   "language": "python",
   "name": "python3"
  },
  "language_info": {
   "codemirror_mode": {
    "name": "ipython",
    "version": 3
   },
   "file_extension": ".py",
   "mimetype": "text/x-python",
   "name": "python",
   "nbconvert_exporter": "python",
   "pygments_lexer": "ipython3",
   "version": "3.12.2"
  }
 },
 "nbformat": 4,
 "nbformat_minor": 5
}
